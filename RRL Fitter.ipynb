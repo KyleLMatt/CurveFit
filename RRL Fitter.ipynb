{
 "cells": [
  {
   "cell_type": "code",
   "execution_count": 1,
   "metadata": {
    "ExecuteTime": {
     "end_time": "2021-08-31T21:27:20.745542Z",
     "start_time": "2021-08-31T21:27:18.212968Z"
    },
    "scrolled": true
   },
   "outputs": [
    {
     "name": "stderr",
     "output_type": "stream",
     "text": [
      "C:\\Users\\kylem\\Anaconda3\\lib\\site-packages\\numpy\\_distributor_init.py:32: UserWarning: loaded more than 1 DLL from .libs:\n",
      "C:\\Users\\kylem\\Anaconda3\\lib\\site-packages\\numpy\\.libs\\libopenblas.GK7GX5KEQ4F6UYO3P26ULGBQYHGQO7J4.gfortran-win_amd64.dll\n",
      "C:\\Users\\kylem\\Anaconda3\\lib\\site-packages\\numpy\\.libs\\libopenblas.IPBC74C7KURV7CB2PKT5Z5FNR3SIBV4J.gfortran-win_amd64.dll\n",
      "  stacklevel=1)\n"
     ]
    }
   ],
   "source": [
    "import numpy as np\n",
    "import matplotlib.pyplot as plt\n",
    "%matplotlib inline\n",
    "from scipy.optimize import curve_fit\n",
    "from scipy.interpolate import interp1d\n",
    "import os\n",
    "from dl import queryClient as qc\n",
    "from astropy.table import Table, vstack\n",
    "import utils\n",
    "from collections import Counter"
   ]
  },
  {
   "cell_type": "code",
   "execution_count": 2,
   "metadata": {
    "ExecuteTime": {
     "end_time": "2021-08-31T21:27:20.761383Z",
     "start_time": "2021-08-31T21:27:20.745542Z"
    }
   },
   "outputs": [],
   "source": [
    "import pdb"
   ]
  },
  {
   "cell_type": "code",
   "execution_count": null,
   "metadata": {
    "ExecuteTime": {
     "end_time": "2021-08-25T19:20:08.674863Z",
     "start_time": "2021-08-25T19:20:08.666849Z"
    }
   },
   "outputs": [],
   "source": []
  },
  {
   "cell_type": "code",
   "execution_count": 3,
   "metadata": {
    "ExecuteTime": {
     "end_time": "2021-08-31T21:27:20.777047Z",
     "start_time": "2021-08-31T21:27:20.764375Z"
    }
   },
   "outputs": [],
   "source": [
    "pltdir = 'results/plots'\n",
    "if not os.path.exists(pltdir):\n",
    "    os.makedirs(pltdir)"
   ]
  },
  {
   "cell_type": "code",
   "execution_count": 4,
   "metadata": {
    "ExecuteTime": {
     "end_time": "2021-08-31T21:27:20.793003Z",
     "start_time": "2021-08-31T21:27:20.780037Z"
    }
   },
   "outputs": [
    {
     "data": {
      "text/plain": [
       "'D:\\\\msu\\\\RRLProject\\\\TempletFit'"
      ]
     },
     "execution_count": 4,
     "metadata": {},
     "output_type": "execute_result"
    }
   ],
   "source": [
    "os.getcwd()"
   ]
  },
  {
   "cell_type": "code",
   "execution_count": 5,
   "metadata": {
    "ExecuteTime": {
     "end_time": "2021-08-31T21:27:20.824917Z",
     "start_time": "2021-08-31T21:27:20.797988Z"
    }
   },
   "outputs": [],
   "source": [
    "gldrrab = np.loadtxt('goldsample/golden_RRab.txt',delimiter=',',dtype=str)\n",
    "gldall  = np.loadtxt('goldsample/all_gold_sample.txt',dtype=str)\n",
    "gldelse = np.array(list(set(gldall) - set(gldrrab)))"
   ]
  },
  {
   "cell_type": "code",
   "execution_count": null,
   "metadata": {},
   "outputs": [],
   "source": []
  },
  {
   "cell_type": "code",
   "execution_count": 6,
   "metadata": {
    "ExecuteTime": {
     "end_time": "2021-08-31T21:28:37.907086Z",
     "start_time": "2021-08-31T21:27:20.827909Z"
    }
   },
   "outputs": [],
   "source": [
    "import RRLfit\n",
    "tmps = Table.read('templates/layden_templates.fits',format='fits')['PH','RRA1','RRA2','RRA3','RRB1','RRB2','RRB3','RRC']\n",
    "rrlfitter = RRLfit.RRLfitter(tmps,['u','g','r','i','z','Y','VR'],[1.4457, 1.4660, 1., 0.7833, 0.7467, 0.6696, 1.0507])\n",
    "crvdat = RRLfit.get_data('93142_19513')#gldrrab[55])\n",
    "plist = RRLfit.get_periods(crvdat['mjd'],crvdat['mag'],crvdat['err'],crvdat['fltr'],objname='93142_19513')"
   ]
  },
  {
   "cell_type": "code",
   "execution_count": null,
   "metadata": {},
   "outputs": [],
   "source": []
  },
  {
   "cell_type": "code",
   "execution_count": null,
   "metadata": {},
   "outputs": [],
   "source": []
  },
  {
   "cell_type": "code",
   "execution_count": null,
   "metadata": {
    "ExecuteTime": {
     "start_time": "2021-08-31T21:31:03.194Z"
    }
   },
   "outputs": [
    {
     "name": "stdout",
     "output_type": "stream",
     "text": [
      "Get data\n",
      "Get Periods\n",
      "periods: [0.60527109 0.60626122 1.53992624 3.02633984 0.37666    0.37704804\n",
      " 1.54645332 3.07997359 0.60429039 0.7533055 ]\n",
      "First Fit\n",
      "Initial Parameters:\n",
      "t0: 56316.306785536\n",
      "r amp: 0.6618695474888712\n",
      "y offset: [16.683939 15.50688  15.666178 15.742703 15.764775 15.724058  0.      ]\n",
      "Results: \n",
      "t0: 56316.226891370134\n",
      "r amp: 0.6618696433771508\n",
      "y offset: [16.6839389  15.50688962 15.66617588 15.74269915 15.76476718 15.72405436\n",
      "  0.        ]\n",
      "Period: 0.6052710862759998\n",
      "Best Template: RRA2\n",
      "Chi Square: 230798.13504351745\n",
      "Outlier Rejection\n",
      "Second Fit\n"
     ]
    }
   ],
   "source": [
    "RRLfit.fit_plot(rrlfitter,'93142_19513',verbose=True)"
   ]
  },
  {
   "cell_type": "code",
   "execution_count": null,
   "metadata": {
    "ExecuteTime": {
     "start_time": "2021-08-31T21:31:05.843Z"
    }
   },
   "outputs": [],
   "source": [
    "t0       = 56316.243641\n",
    "ramp     = 0.660332\n",
    "yoffsets = np.array([16.67849976,15.56568743,15.66792606,15.72239278,15.68721446,15.6437937,0.])\n",
    "amplist  = (ramp * rrlfitter.ampratio)[crvdat['fltr']]\n",
    "yofflist = yoffsets[crvdat['fltr']]\n",
    "plt.scatter((crvdat['mjd']-t0)/p%1,(crvdat['mag']-yofflist)/amplist,c=crvdat['fltr'],s=10)\n",
    "plt.plot(tmps['PH'],tmps['RRB1'],c='r')\n",
    "plt.title('Template Fitter Normalized')"
   ]
  },
  {
   "cell_type": "markdown",
   "metadata": {},
   "source": [
    "- - -"
   ]
  },
  {
   "cell_type": "code",
   "execution_count": null,
   "metadata": {},
   "outputs": [],
   "source": []
  },
  {
   "cell_type": "code",
   "execution_count": null,
   "metadata": {
    "ExecuteTime": {
     "start_time": "2021-08-31T21:31:06.873Z"
    },
    "scrolled": true
   },
   "outputs": [],
   "source": [
    "import selftemplate\n",
    "starid = '93142_19513'\n",
    "cat = selftemplate.get_data(starid)\n",
    "period = 0.60527109\n",
    "bands,pars2,template,chisq = selftemplate.selftemplate(cat,period,verbose=True)\n",
    "\n",
    "nbands = len(bands)\n",
    "t0 = pars2[1]\n",
    "amp = pars2[2:2+nbands]\n",
    "mnmag = pars2[-nbands:]\n",
    "ph = (cat['mjd'] - pars2[1]) / period %1\n",
    "# sclmag = np.zeros(len(cat),float)\n",
    "# for i,b in enumerate(bands):\n",
    "#     ind, = np.where(cat['fltr']==b)\n",
    "#     sclmag[ind] = (cat['mag'][ind]-mnmag[i])/amp[i]"
   ]
  },
  {
   "cell_type": "code",
   "execution_count": null,
   "metadata": {
    "ExecuteTime": {
     "start_time": "2021-08-31T21:31:07.193Z"
    }
   },
   "outputs": [],
   "source": [
    "normags = selftemplate.scaledmags(cat,template,pars2)"
   ]
  },
  {
   "cell_type": "code",
   "execution_count": null,
   "metadata": {
    "ExecuteTime": {
     "start_time": "2021-08-31T21:31:07.492Z"
    }
   },
   "outputs": [],
   "source": [
    "plt.scatter(ph,normags,c=cat['fltr'],s=10)\n",
    "plt.plot(template['phase'],template['flux'],c='r')"
   ]
  },
  {
   "cell_type": "markdown",
   "metadata": {},
   "source": [
    "----"
   ]
  },
  {
   "cell_type": "code",
   "execution_count": null,
   "metadata": {
    "ExecuteTime": {
     "start_time": "2021-08-31T21:31:08.281Z"
    }
   },
   "outputs": [],
   "source": [
    "plt.plot(template['phase'],template['flux'],c='green')\n",
    "plt.plot(tmps['PH'],tmps['RRB1'],c='orange')"
   ]
  },
  {
   "cell_type": "code",
   "execution_count": null,
   "metadata": {},
   "outputs": [],
   "source": []
  },
  {
   "cell_type": "code",
   "execution_count": null,
   "metadata": {},
   "outputs": [],
   "source": []
  }
 ],
 "metadata": {
  "kernelspec": {
   "display_name": "Python 3",
   "language": "python",
   "name": "python3"
  },
  "language_info": {
   "codemirror_mode": {
    "name": "ipython",
    "version": 3
   },
   "file_extension": ".py",
   "mimetype": "text/x-python",
   "name": "python",
   "nbconvert_exporter": "python",
   "pygments_lexer": "ipython3",
   "version": "3.7.4"
  }
 },
 "nbformat": 4,
 "nbformat_minor": 2
}
