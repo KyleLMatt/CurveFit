{
 "cells": [
  {
   "cell_type": "code",
   "execution_count": 1,
   "metadata": {
    "ExecuteTime": {
     "end_time": "2021-08-24T20:36:53.203888Z",
     "start_time": "2021-08-24T20:36:50.576088Z"
    },
    "scrolled": true
   },
   "outputs": [
    {
     "name": "stderr",
     "output_type": "stream",
     "text": [
      "C:\\Users\\kylem\\Anaconda3\\lib\\site-packages\\numpy\\_distributor_init.py:32: UserWarning: loaded more than 1 DLL from .libs:\n",
      "C:\\Users\\kylem\\Anaconda3\\lib\\site-packages\\numpy\\.libs\\libopenblas.GK7GX5KEQ4F6UYO3P26ULGBQYHGQO7J4.gfortran-win_amd64.dll\n",
      "C:\\Users\\kylem\\Anaconda3\\lib\\site-packages\\numpy\\.libs\\libopenblas.IPBC74C7KURV7CB2PKT5Z5FNR3SIBV4J.gfortran-win_amd64.dll\n",
      "  stacklevel=1)\n"
     ]
    }
   ],
   "source": [
    "import numpy as np\n",
    "import matplotlib.pyplot as plt\n",
    "%matplotlib inline\n",
    "from scipy.optimize import curve_fit\n",
    "from scipy.interpolate import interp1d\n",
    "import os\n",
    "from dl import queryClient as qc\n",
    "from astropy.table import Table, vstack\n",
    "import utils"
   ]
  },
  {
   "cell_type": "code",
   "execution_count": 2,
   "metadata": {
    "ExecuteTime": {
     "end_time": "2021-08-24T20:36:53.218962Z",
     "start_time": "2021-08-24T20:36:53.205997Z"
    }
   },
   "outputs": [],
   "source": [
    "from collections import Counter"
   ]
  },
  {
   "cell_type": "code",
   "execution_count": 3,
   "metadata": {
    "ExecuteTime": {
     "end_time": "2021-08-24T20:36:53.234319Z",
     "start_time": "2021-08-24T20:36:53.222952Z"
    }
   },
   "outputs": [],
   "source": [
    "pltdir = 'results/plots'\n",
    "if not os.path.exists(pltdir):\n",
    "    os.makedirs(pltdir)"
   ]
  },
  {
   "cell_type": "code",
   "execution_count": 4,
   "metadata": {
    "ExecuteTime": {
     "end_time": "2021-08-24T20:36:53.266187Z",
     "start_time": "2021-08-24T20:36:53.237264Z"
    }
   },
   "outputs": [
    {
     "data": {
      "text/plain": [
       "'D:\\\\msu\\\\DavidNidever\\\\TempletFit'"
      ]
     },
     "execution_count": 4,
     "metadata": {},
     "output_type": "execute_result"
    }
   ],
   "source": [
    "os.getcwd()"
   ]
  },
  {
   "cell_type": "code",
   "execution_count": 5,
   "metadata": {
    "ExecuteTime": {
     "end_time": "2021-08-24T20:36:53.314059Z",
     "start_time": "2021-08-24T20:36:53.268182Z"
    }
   },
   "outputs": [],
   "source": [
    "gldrrab = np.loadtxt('goldsample/golden_RRab.txt',delimiter=',',dtype=str)\n",
    "gldall  = np.loadtxt('goldsample/all_gold_sample.txt',dtype=str)\n",
    "gldelse = np.array(list(set(gldall) - set(gldrrab)))"
   ]
  },
  {
   "cell_type": "code",
   "execution_count": null,
   "metadata": {},
   "outputs": [],
   "source": []
  },
  {
   "cell_type": "code",
   "execution_count": null,
   "metadata": {},
   "outputs": [],
   "source": []
  },
  {
   "cell_type": "code",
   "execution_count": 6,
   "metadata": {
    "ExecuteTime": {
     "end_time": "2021-08-24T20:36:53.612329Z",
     "start_time": "2021-08-24T20:36:53.317051Z"
    },
    "code_folding": [
     3,
     56
    ]
   },
   "outputs": [],
   "source": [
    "import psearch_py3\n",
    "from scipy.signal import find_peaks, peak_prominences\n",
    "\n",
    "def get_data(objname, bands = ['u','g','r','i','z','Y','VR']):\n",
    "    \"\"\"Query the object by name, extract light curves, \n",
    "       error, filters and top N estimated periods.\"\"\"\n",
    "    df=qc.query(sql=\"\"\"SELECT meas.* FROM nsc_dr2.meas\n",
    "                     WHERE objectid='{:s}'\"\"\".format(objname),\n",
    "              fmt='pandas')\n",
    "    \n",
    "    selbnds = [i for i, val in enumerate(df['filter']) if val in bands]\n",
    "    selfwhm = np.where(df['fwhm'] <= 4.0)[0]\n",
    "    sel = [x for x in selbnds if x in selfwhm]\n",
    "\n",
    "    crvdat           = Table([df['mjd'][sel]],names=['mjd'])\n",
    "    crvdat['mag']    = df['mag_auto'][sel]\n",
    "    crvdat['err']    = df['magerr_auto'][sel]\n",
    "    crvdat['fltr']   = -1\n",
    "    for i in range(len(crvdat)):\n",
    "        crvdat['fltr'][i] = bands.index(df['filter'][sel[i]])\n",
    "    crvdat.sort(['fltr','mjd'])\n",
    "    \n",
    "    return crvdat\n",
    "\n",
    "def get_periods(mjd,mag,err,fltr,objname='',N = 5,pmin=.2,bands=['u','g','r','i','z','Y','VR']):\n",
    "    \n",
    "    # The filter information here uses indices determined from the order they\n",
    "    # appear in bands. To run psearch we want to reassign these indices to remove\n",
    "    # any unused bands. For example, if only 'g', 'r' and 'z' are used, indices\n",
    "    # should be 0,1,2 and not 1,2,4.\n",
    "    cnt  = Counter(fltr)\n",
    "    \n",
    "    mult = np.where(np.array(list(cnt.values()))>1)[0]\n",
    "    sel  = np.in1d(fltr, mult)\n",
    "    \n",
    "    fltinds = list(set(fltr))\n",
    "    replace = {fltinds[i]:i for i in range(len(fltinds))}\n",
    "    newinds = np.array([replace.get(n,n) for n in fltr],dtype=np.float64)\n",
    "    fltrnms = (np.array(bands))[list(set(fltr[sel]))]\n",
    "    \n",
    "    dphi = 0.02\n",
    "    plist, psiarray, thresh = \\\n",
    "            psearch_py3.psearch_py( mjd[sel], mag[sel], err[sel], \n",
    "                                   newinds[sel], fltrnms, pmin, dphi )\n",
    "    \n",
    "    psi = psiarray.sum(0)\n",
    "    \n",
    "    pkinds = find_peaks(psi,distance=len(plist)/2000)[0]\n",
    "    prom   = peak_prominences(psi,pkinds)[0]\n",
    "    inds0  = pkinds[np.argsort(-prom)[:10*N]]\n",
    "    inds   = inds0[np.argsort(-psi[inds0])[:N]]\n",
    "    \n",
    "    plot_periodogram(plist,psi,inds,objname)\n",
    "    \n",
    "    return plist[inds]\n",
    "\n",
    "def plot_periodogram(prds,psi,inds,objname='',outdir='results/plots'):\n",
    "   \n",
    "    fig, ax = plt.subplots(figsize=(10,7))\n",
    "        \n",
    "    ax.plot(prds,psi,lw=0.1)\n",
    "    ax.scatter(prds[inds[1:]],psi[inds[1:]],c='k',s=10)\n",
    "    ax.scatter(prds[inds[0]],psi[inds[0]],c='r',s=12)\n",
    "    \n",
    "    ax.set_xlabel('log period (days)',fontsize=18)\n",
    "    ax.set_ylabel('psi',fontsize=18)\n",
    "    ax.set_title('{} Periodogram'.format(objname),fontsize=20)\n",
    "    ax.set_xscale('log')\n",
    "    ax.text(0.7,0.9,'best period = {:.3f} days'.format(prds[inds[0]]),transform=ax.transAxes,color='r')\n",
    "    \n",
    "#     fig.savefig(outdir+'\\\\{}_periodogram.png'.format(objname))\n",
    "    \n",
    "    # create zoomed in copy\n",
    "    ax.set_title('{} Periodogram Zoomed In'.format(objname),fontsize=20)\n",
    "    minp = min(prds[inds])\n",
    "    maxp = max(prds[inds])\n",
    "    ax.set_xlim(minp*.67,maxp*1.33)\n",
    "    fig.savefig(outdir+'\\\\{}_periodogram_zoomedin.png'.format(objname))\n",
    "    \n",
    "    plt.close(fig)\n",
    "    return"
   ]
  },
  {
   "cell_type": "code",
   "execution_count": 7,
   "metadata": {
    "ExecuteTime": {
     "end_time": "2021-08-24T20:36:53.628219Z",
     "start_time": "2021-08-24T20:36:53.613260Z"
    },
    "code_folding": [
     0
    ]
   },
   "outputs": [],
   "source": [
    "def get_data_pix(pix, bands=['u','g','r','i','z','Y','VR']):\n",
    "    res=qc.query(sql=\"\"\"SELECT meas.mjd,mag_auto,magerr_auto,objectid,filter,meas.fwhm\n",
    "                    FROM nsc_dr2.meas JOIN nsc_dr2.object ON meas.objectid=object.id \n",
    "                    WHERE pix={:d} and variable10sig=1 and ndet>=30\"\"\".format(pix),\n",
    "                 fmt='table')\n",
    "    \n",
    "    selbnds = [i for i, val in enumerate(res['filter']) if val in bands]\n",
    "    selfwhm = np.where(res['fwhm'] <= 8.0)[0]\n",
    "    sel = [x for x in selbnds if x in selfwhm]\n",
    "    \n",
    "    res['fltr']   = -1\n",
    "    for i in sel:\n",
    "        res['fltr'][i] = bands.index(res['filter'][i])\n",
    "    \n",
    "    res.rename_column('mag_auto', 'mag')\n",
    "    res.rename_column('magerr_auto', 'err')\n",
    "    res.sort(['objectid','fltr','mjd'])\n",
    "    \n",
    "    return res[res['fltr']>=0]"
   ]
  },
  {
   "cell_type": "code",
   "execution_count": null,
   "metadata": {},
   "outputs": [],
   "source": []
  },
  {
   "cell_type": "code",
   "execution_count": 8,
   "metadata": {
    "ExecuteTime": {
     "end_time": "2021-08-24T20:37:06.806658Z",
     "start_time": "2021-08-24T20:36:53.632209Z"
    }
   },
   "outputs": [
    {
     "data": {
      "text/plain": [
       "array([0.57757254, 0.36538759, 0.26694456, 0.36475376, 3.48602152])"
      ]
     },
     "execution_count": 8,
     "metadata": {},
     "output_type": "execute_result"
    }
   ],
   "source": [
    "data = get_data_pix(100047)\n",
    "objlist = list(set(data['objectid']))\n",
    "i = 9\n",
    "sel = data['objectid'] == objlist[i]\n",
    "datasel = data[sel]\n",
    "get_periods(datasel['mjd'],datasel['mag'],datasel['err'],datasel['fltr'],objname=objlist[i])"
   ]
  },
  {
   "cell_type": "code",
   "execution_count": null,
   "metadata": {},
   "outputs": [],
   "source": []
  },
  {
   "cell_type": "code",
   "execution_count": null,
   "metadata": {},
   "outputs": [],
   "source": []
  },
  {
   "cell_type": "code",
   "execution_count": 9,
   "metadata": {
    "ExecuteTime": {
     "end_time": "2021-08-24T20:37:06.901487Z",
     "start_time": "2021-08-24T20:37:06.808613Z"
    },
    "code_folding": [
     1,
     12,
     26
    ]
   },
   "outputs": [],
   "source": [
    "class RRLfitter:\n",
    "    def __init__ (self, tmps, fltnames= ['u','g','r','i','z','Y','VR'], ampratio=[1.81480451,1.46104910,1.0,0.79662171,0.74671563,0.718746,1.050782]):\n",
    "        # constants\n",
    "        self.tmps     = tmps # Table containing templates\n",
    "        self.fltnames = fltnames # list of names of usable filters\n",
    "        self.Nflts    = len(fltnames) # number of usable filters\n",
    "        self.ampratio = np.array(ampratio)\n",
    "        # model variables\n",
    "        self.fltinds  = [] # list of filter index values (0:'u', 1:'g', etc.)\n",
    "        self.tmpind   = 1 # index of template currently being used 1,2,...,N\n",
    "        self.period   = 1\n",
    "        \n",
    "    def model(self, t, *args):\n",
    "        \"\"\"modify the template using peak-to-peak amplitude and yoffset\n",
    "        input times t should be epoch folded, phase shift to match template\"\"\"\n",
    "        t0 = args[0]\n",
    "        amplist = (args[1] * self.ampratio)[self.fltinds]\n",
    "        yofflist = np.array(args[2:])[self.fltinds]\n",
    "        \n",
    "        ph = (t - t0) / self.period %1\n",
    "        template = interp1d(self.tmps.columns[0],self.tmps.columns[self.tmpind])(ph)\n",
    "        \n",
    "        mag = template * amplist + yofflist\n",
    "        \n",
    "        return mag\n",
    "\n",
    "    def tmpfit(self,mjd,mag,err,fltinds,plist,initpars=None):\n",
    "        self.fltinds = fltinds\n",
    "        if isinstance(plist, (int,float)):\n",
    "            plist = [plist]\n",
    "        \n",
    "        \n",
    "        if initpars is None:\n",
    "            initpars = np.zeros( 2 + self.Nflts )\n",
    "            initpars[0]  = min(mjd)\n",
    "            initpars[2:] = np.median(mag)\n",
    "            ampest = []\n",
    "            for f in set(fltinds):\n",
    "                ampest.append( (max(mag[fltinds==f])-min(mag[fltinds==f]))/self.ampratio[f] )\n",
    "            initpars[1]  = np.mean(ampest)\n",
    "\n",
    "        bounds = ( np.zeros(2+self.Nflts), np.zeros(2+self.Nflts))\n",
    "        bounds[0][0] =  0.0\n",
    "        bounds[1][0] = np.inf\n",
    "        bounds[0][1] =  0.0\n",
    "        bounds[1][1] = 50.0\n",
    "        bounds[0][2:]=-50.0\n",
    "        bounds[1][2:]= 50.0\n",
    "\n",
    "        for i in set(range(self.Nflts))-set(self.fltinds):\n",
    "            initpars[2+i]  =   0\n",
    "            bounds[0][2+i] = -10**-6\n",
    "            bounds[1][2+i] =  10**-6\n",
    "        \n",
    "        minx2    = 2**99\n",
    "        bestpars = np.zeros( 2 + self.Nflts )\n",
    "        besttmp  =-1\n",
    "        besterr  = 0\n",
    "        bestprd  = 0\n",
    "        for p in plist:\n",
    "            self.period = p\n",
    "            \n",
    "            for n in range(1,len(self.tmps.columns)):\n",
    "                self.tmpind = n\n",
    "                \n",
    "                try:\n",
    "                    pars, cov = curve_fit(self.model, mjd, mag, \n",
    "                                          bounds=bounds, sigma=err,\n",
    "                                          p0=initpars, maxfev=5000)\n",
    "                except RuntimeError:\n",
    "                    continue\n",
    "                x2 = sum((self.model(mjd,*pars)-mag)**2/err**2)\n",
    "                if x2 < minx2:\n",
    "                    minx2 = x2\n",
    "                    bestpars = pars\n",
    "                    besterr = np.sqrt(np.diag(cov))\n",
    "                    bestprd = p\n",
    "                    besttmp = n\n",
    "                    \n",
    "        self.period = bestprd\n",
    "        self.tmpind = besttmp\n",
    "        \n",
    "        return bestpars, bestprd, besterr, besttmp, minx2\n",
    "\n",
    "    def fit_plot(self,objname,N=10):\n",
    "        crvdat = get_data(objname,bands=self.fltnames)\n",
    "        \n",
    "        plist  = get_periods(crvdat['mjd'],crvdat['mag'],crvdat['err'],crvdat['fltr'],\n",
    "                             objname=objname,bands=self.fltnames,N=10)\n",
    "\n",
    "        # Fit curve\n",
    "        pars,p,err,tmpind,chi2 = self.tmpfit(crvdat['mjd'],crvdat['mag'],crvdat['err'],crvdat['fltr'],plist)\n",
    "        \n",
    "        # Reject outliers, select inliers\n",
    "        resid   = np.array(abs(crvdat['mag']-self.model(crvdat['mjd'],*pars)))\n",
    "        crvdat['inlier'] = resid<utils.mad(resid)*5\n",
    "        \n",
    "        # Fit with inliers only\n",
    "        pars,p,err,tmpind,chi2 = self.tmpfit(crvdat['mjd'][crvdat['inlier']],crvdat['mag'][crvdat['inlier']],\n",
    "                                             crvdat['err'][crvdat['inlier']],crvdat['fltr'][crvdat['inlier']],plist,pars)\n",
    "        \n",
    "        redchi2 = chi2/(sum(crvdat['inlier'])-len(set(crvdat['fltr'][crvdat['inlier']]))-2)\n",
    "        \n",
    "        # get the filters with inlier data (incase it's different from all data)\n",
    "        inlierflts = set(crvdat['fltr'][crvdat['inlier']])\n",
    "        # Add phase to crvdat and sort\n",
    "        crvdat['ph'] = ph = (crvdat['mjd'] - pars[0]) / p %1\n",
    "        crvdat.sort(['fltr','ph'])\n",
    "        self.fltinds = crvdat['fltr']\n",
    "        \n",
    "        # Plot\n",
    "        colors  = ['#1f77b4','#2ca02c','#d62728','#9467bd','#8c564b','y','k']\n",
    "        nf      = len(inlierflts) # Number of filters with inliers\n",
    "        fig, ax = plt.subplots(nf, figsize=(12,4*(nf**.75+1)), sharex=True)\n",
    "        if nf == 1:\n",
    "            ax  = [ax]\n",
    "        \n",
    "        for i,f in enumerate(inlierflts):\n",
    "            sel = crvdat['fltr'] == f\n",
    "            ax[i].scatter(crvdat['ph'][sel],crvdat['mag'][sel],c=colors[f])\n",
    "            ax[i].scatter(crvdat['ph'][sel]+1,crvdat['mag'][sel],c=colors[f])\n",
    "            tmpmag = np.tile(self.tmps.columns[tmpind]*pars[1]*self.ampratio[f]+pars[2:][f],2)\n",
    "            tmpph  = np.tile(self.tmps['PH'],2)+([0]*len(self.tmps['PH'])+[1]*len(self.tmps['PH']))\n",
    "            ax[i].plot(tmpph,tmpmag,c='k')\n",
    "            ax[i].invert_yaxis()\n",
    "            ax[i].set_ylabel(self.fltnames[f], fontsize=20)\n",
    "        \n",
    "        ax[-1].set_xlabel('Phase', fontsize=20)\n",
    "        ax[0].set_title(\"Object: {}    Period: {:.3f} d    Type: {}\".format(\n",
    "                                            objname,p,self.tmps.colnames[tmpind]), fontsize=22)\n",
    "        fig.savefig('results/plots/{}_plot.png'.format(objname))\n",
    "        plt.close(fig)\n",
    "        \n",
    "        # save parameters and results\n",
    "        res = Table([[objname]],names=['name'])\n",
    "        res['period'] = p\n",
    "        res['t0']     = pars[0]\n",
    "        res['r amp']  = pars[1]\n",
    "        for i in range(2,len(pars)):\n",
    "            f = self.fltnames[i-2]\n",
    "            res['{} mag'.format(f)] = pars[i]\n",
    "        res['chi2']   = chi2\n",
    "        res['redchi2']= redchi2\n",
    "        res['template']= self.tmps.colnames[tmpind]\n",
    "        res['t0 err']     = err[0]\n",
    "        res['amp err']  = err[1]\n",
    "        for i in range(2,len(err)):\n",
    "            f = self.fltnames[i-2]\n",
    "            res['{} mag err'.format(f)] = err[i]\n",
    "        res['Ndat']      = len(crvdat)\n",
    "        res['N inliers'] = sum(crvdat['inlier'])\n",
    "        for i in range(len(self.fltnames)):\n",
    "            f = self.fltnames[i]\n",
    "            res['N {}'.format(f)] = sum(crvdat['fltr'][crvdat['inlier']]==i)\n",
    "        res.write('results/{}_res.fits'.format(objname),format='fits',overwrite=True)\n",
    "        \n",
    "        return\n",
    "        \n",
    "tmps = Table.read('templates/layden_templates.fits',format='fits')['PH','RRA1','RRA2','RRA3','RRB1','RRB2','RRB3','RRC']\n",
    "fitter  = RRLfitter(tmps,['u','g','r','i','z','Y','VR'],[1.8148,1.4610,1.0,0.7966,0.7467,0.7187,1.0507])"
   ]
  },
  {
   "cell_type": "code",
   "execution_count": 50,
   "metadata": {
    "ExecuteTime": {
     "end_time": "2021-08-24T21:47:39.908718Z",
     "start_time": "2021-08-24T21:42:41.343627Z"
    }
   },
   "outputs": [],
   "source": [
    "fitter.fit_plot('97486_430')"
   ]
  },
  {
   "cell_type": "code",
   "execution_count": null,
   "metadata": {},
   "outputs": [],
   "source": []
  },
  {
   "cell_type": "code",
   "execution_count": 10,
   "metadata": {
    "ExecuteTime": {
     "end_time": "2021-08-24T20:37:06.932377Z",
     "start_time": "2021-08-24T20:37:06.903455Z"
    },
    "code_folding": [
     0
    ]
   },
   "outputs": [],
   "source": [
    "def fit_plot_pix(pix):\n",
    "    alldat = get_data_pix(pix,bands=fitter.fltnames)\n",
    "    \n",
    "    objs = set(alldat['objectid'])\n",
    "    \n",
    "    for objname in objs:\n",
    "        print(objname)\n",
    "        selobj = alldat['objectid'] == objname\n",
    "        crvdat = alldat[selobj]\n",
    "        \n",
    "        plist  = get_periods(crvdat['mjd'],crvdat['mag'],crvdat['err'],crvdat['fltr'],\n",
    "                             objname=objname,bands=fitter.fltnames,N=10)\n",
    "\n",
    "        # Fit curve\n",
    "        pars,p,err,tmpind,chi2 = fitter.tmpfit(crvdat['mjd'],crvdat['mag'],crvdat['err'],crvdat['fltr'],plist)\n",
    "\n",
    "        # Reject outliers, select inliers\n",
    "        resid   = np.array(abs(crvdat['mag']-fitter.model(crvdat['mjd'],*pars)))\n",
    "        crvdat['inlier'] = resid<utils.mad(resid)*5\n",
    "\n",
    "        # Fit with inliers only\n",
    "        pars,p,err,tmpind,chi2 = fitter.tmpfit(crvdat['mjd'][crvdat['inlier']],crvdat['mag'][crvdat['inlier']],\n",
    "                                             crvdat['err'][crvdat['inlier']],crvdat['fltr'][crvdat['inlier']],plist,pars)\n",
    "\n",
    "        redchi2 = chi2/(sum(crvdat['inlier'])-len(set(crvdat['fltr'][crvdat['inlier']]))-2)\n",
    "\n",
    "        # get the filters with inlier data (incase it's different from all data)\n",
    "        inlierflts = set(crvdat['fltr'][crvdat['inlier']])\n",
    "        # Add phase to crvdat and sort\n",
    "        crvdat['ph'] = ph = (crvdat['mjd'] - pars[0]) / p %1\n",
    "        crvdat.sort(['fltr','ph'])\n",
    "        fitter.fltinds = crvdat['fltr']\n",
    "\n",
    "        # Plot\n",
    "        colors  = ['#1f77b4','#2ca02c','#d62728','#9467bd','#8c564b','y','k']\n",
    "        nf      = len(inlierflts) # Number of filters with inliers\n",
    "        fig, ax = plt.subplots(nf, figsize=(12,4*(nf**.75+1)), sharex=True)\n",
    "        if nf == 1:\n",
    "            ax  = [ax]\n",
    "\n",
    "        for i,f in enumerate(inlierflts):\n",
    "            sel = crvdat['fltr'] == f\n",
    "            ax[i].scatter(crvdat['ph'][sel],crvdat['mag'][sel],c=colors[f])\n",
    "            ax[i].scatter(crvdat['ph'][sel]+1,crvdat['mag'][sel],c=colors[f])\n",
    "            tmpmag = np.tile(fitter.tmps.columns[tmpind]*pars[1]*fitter.ampratio[f]+pars[2:][f],2)\n",
    "            tmpph  = np.tile(fitter.tmps['PH'],2)+([0]*len(fitter.tmps['PH'])+[1]*len(fitter.tmps['PH']))\n",
    "            ax[i].plot(tmpph,tmpmag,c='k')\n",
    "            ax[i].invert_yaxis()\n",
    "            ax[i].set_ylabel(fitter.fltnames[f], fontsize=20)\n",
    "\n",
    "        ax[-1].set_xlabel('Phase', fontsize=20)\n",
    "        ax[0].set_title(\"Object: {}    Period: {:.3f} d    Type: {}\".format(\n",
    "                                            objname,p,fitter.tmps.colnames[tmpind]), fontsize=22)\n",
    "        fig.savefig('results/plots/{}_plot.png'.format(objname))\n",
    "        plt.close(fig)\n",
    "\n",
    "        # save parameters and results\n",
    "        res = Table([[objname]],names=['name'])\n",
    "        res['period']    = p\n",
    "        res['t0']        = pars[0]\n",
    "        res['r amp']     = pars[1]\n",
    "        for i in range(2,len(pars)):\n",
    "            f = fitter.fltnames[i-2]\n",
    "            res['{} mag'.format(f)] = pars[i]\n",
    "        res['chi2']      = chi2\n",
    "        res['redchi2']   = redchi2\n",
    "        res['template']  = fitter.tmps.colnames[tmpind]\n",
    "        res['t0 err']    = err[0]\n",
    "        res['amp err']   = err[1]\n",
    "        for i in range(2,len(err)):\n",
    "            f = fitter.fltnames[i-2]\n",
    "            res['{} mag err'.format(f)] = err[i]\n",
    "        res['Ndat']      = len(crvdat)\n",
    "        res['N inliers'] = sum(crvdat['inlier'])\n",
    "        for i in range(len(fitter.fltnames)):\n",
    "            f = fitter.fltnames[i]\n",
    "            res['N {}'.format(f)] = sum(crvdat['fltr'][crvdat['inlier']]==i)\n",
    "        res.write('results/{}_res.fits'.format(objname),format='fits',overwrite=True)\n",
    "\n",
    "    return"
   ]
  },
  {
   "cell_type": "code",
   "execution_count": null,
   "metadata": {},
   "outputs": [],
   "source": []
  },
  {
   "cell_type": "code",
   "execution_count": 11,
   "metadata": {
    "ExecuteTime": {
     "end_time": "2021-08-24T20:37:42.429325Z",
     "start_time": "2021-08-24T20:37:06.935369Z"
    }
   },
   "outputs": [
    {
     "name": "stdout",
     "output_type": "stream",
     "text": [
      "196000_1748\n",
      "196000_1577\n",
      "196000_222\n",
      "196000_835\n"
     ]
    }
   ],
   "source": [
    "fit_plot_pix(196000)"
   ]
  },
  {
   "cell_type": "code",
   "execution_count": null,
   "metadata": {},
   "outputs": [],
   "source": []
  },
  {
   "cell_type": "code",
   "execution_count": null,
   "metadata": {},
   "outputs": [],
   "source": []
  },
  {
   "cell_type": "code",
   "execution_count": 12,
   "metadata": {
    "ExecuteTime": {
     "end_time": "2021-08-24T20:37:42.444575Z",
     "start_time": "2021-08-24T20:37:42.431610Z"
    },
    "scrolled": true
   },
   "outputs": [],
   "source": [
    "fails = []\n",
    "# for nm in gldrrab[:0]:\n",
    "#     try:\n",
    "#         print(nm)\n",
    "#         print('* * * * * * * * * * *')\n",
    "#         fitter.fit_plot(nm)\n",
    "#     except:\n",
    "#         print('failed on {}'.format(nm))\n",
    "#         print('+ + + + + + + + + + +')\n",
    "#         fails.append(nm)\n",
    "#         continue"
   ]
  },
  {
   "cell_type": "code",
   "execution_count": 13,
   "metadata": {
    "ExecuteTime": {
     "end_time": "2021-08-24T20:37:42.475068Z",
     "start_time": "2021-08-24T20:37:42.446569Z"
    }
   },
   "outputs": [
    {
     "data": {
      "text/plain": [
       "[]"
      ]
     },
     "execution_count": 13,
     "metadata": {},
     "output_type": "execute_result"
    }
   ],
   "source": [
    "fails"
   ]
  },
  {
   "cell_type": "markdown",
   "metadata": {},
   "source": [
    "['107453_1174',\n",
    " '124971_10347',\n",
    " '147091_47354',\n",
    " '148119_78165',\n",
    " '148623_30790',\n",
    " '148630_76049',\n",
    " '148631_115031',\n",
    " '148631_24329',\n",
    " '148631_95231',\n",
    " '149142_91743',\n",
    " '149144_103050',\n",
    " '149144_46718',\n",
    " '149144_94834',\n",
    " '150167_1560',\n",
    " '150167_9176',\n",
    " '150168_1381',\n",
    " '150168_18639',\n",
    " '188977_12448',\n",
    " '188977_16385',\n",
    " '188977_3062',\n",
    " '188978_7752']"
   ]
  },
  {
   "cell_type": "code",
   "execution_count": null,
   "metadata": {},
   "outputs": [],
   "source": []
  },
  {
   "cell_type": "code",
   "execution_count": null,
   "metadata": {},
   "outputs": [],
   "source": []
  },
  {
   "cell_type": "markdown",
   "metadata": {
    "ExecuteTime": {
     "end_time": "2021-08-03T14:34:51.712016Z",
     "start_time": "2021-08-03T14:34:51.698617Z"
    }
   },
   "source": [
    "- - -"
   ]
  },
  {
   "cell_type": "code",
   "execution_count": null,
   "metadata": {},
   "outputs": [],
   "source": []
  },
  {
   "cell_type": "code",
   "execution_count": null,
   "metadata": {},
   "outputs": [],
   "source": []
  },
  {
   "cell_type": "code",
   "execution_count": null,
   "metadata": {},
   "outputs": [],
   "source": []
  },
  {
   "cell_type": "code",
   "execution_count": 14,
   "metadata": {
    "ExecuteTime": {
     "end_time": "2021-08-24T20:37:42.490987Z",
     "start_time": "2021-08-24T20:37:42.477024Z"
    }
   },
   "outputs": [],
   "source": [
    "objs = []\n",
    "# for nm in gldrrab:\n",
    "#     df=qc.query(sql=\"\"\"SELECT meas.* \n",
    "#                  FROM nsc_dr2.meas\n",
    "#                  WHERE objectid='{:s}'\"\"\".format(nm),\n",
    "#           fmt='pandas')\n",
    "#     ct = collections.Counter(df['filter'])\n",
    "#     if ct['Y'] < 40:\n",
    "#         continue\n",
    "#     if ct['VR'] < 40:\n",
    "#         continue\n",
    "#     print('')\n",
    "#     print(nm)\n",
    "#     objs.append(nm)\n",
    "#     print(ct)"
   ]
  },
  {
   "cell_type": "code",
   "execution_count": null,
   "metadata": {},
   "outputs": [],
   "source": []
  },
  {
   "cell_type": "code",
   "execution_count": 15,
   "metadata": {
    "ExecuteTime": {
     "end_time": "2021-08-24T20:37:42.521957Z",
     "start_time": "2021-08-24T20:37:42.493980Z"
    },
    "scrolled": true
   },
   "outputs": [],
   "source": [
    "from scipy.optimize import minimize\n",
    "ratiolist = []\n",
    "for nm in objs:\n",
    "    print(nm)\n",
    "    crvdat,plist = get_data(nm,N=3,bands=['u','g','r','i','z','Y','VR'])\n",
    "    print(plist)\n",
    "    def ratios(*pars):\n",
    "        pars = pars[0]\n",
    "        fittY.ampratio = np.array([1.81480451,1.46104910,1.0,0.79662171,0.74671563,pars[0],pars[1]])\n",
    "        pars, p0, err, tmpind, x2 = fittY.tmpfit(crvdat['mjd'],crvdat['mag'],crvdat['err'],crvdat['fltr'],plist[0])\n",
    "        return x2\n",
    "    \n",
    "    minres = minimize(ratios,[[1.,1.]],bounds = [(.1,2),(.1,2)]).x\n",
    "    \n",
    "    fittY.ampratio = np.array([1.81480451,1.46104910,1.0,0.79662171,0.74671563,minres[0],minres[1]])\n",
    "    print(fittY.ampratio)\n",
    "    ratiolist.append(fittY.ampratio)\n",
    "    fittY.fit_plot(nm,crvdat,plist)"
   ]
  },
  {
   "cell_type": "code",
   "execution_count": 16,
   "metadata": {
    "ExecuteTime": {
     "end_time": "2021-08-24T20:37:42.537864Z",
     "start_time": "2021-08-24T20:37:42.526892Z"
    }
   },
   "outputs": [],
   "source": [
    "ratioarray = np.array(ratiolist)"
   ]
  },
  {
   "cell_type": "code",
   "execution_count": 17,
   "metadata": {
    "ExecuteTime": {
     "end_time": "2021-08-24T20:37:42.569844Z",
     "start_time": "2021-08-24T20:37:42.541851Z"
    }
   },
   "outputs": [
    {
     "data": {
      "text/plain": [
       "[]"
      ]
     },
     "execution_count": 17,
     "metadata": {},
     "output_type": "execute_result"
    }
   ],
   "source": [
    "objs"
   ]
  },
  {
   "cell_type": "code",
   "execution_count": null,
   "metadata": {},
   "outputs": [],
   "source": []
  },
  {
   "cell_type": "code",
   "execution_count": null,
   "metadata": {},
   "outputs": [],
   "source": []
  },
  {
   "cell_type": "code",
   "execution_count": null,
   "metadata": {},
   "outputs": [],
   "source": []
  },
  {
   "cell_type": "code",
   "execution_count": null,
   "metadata": {},
   "outputs": [],
   "source": []
  },
  {
   "cell_type": "code",
   "execution_count": 19,
   "metadata": {
    "ExecuteTime": {
     "end_time": "2021-08-24T20:38:08.140004Z",
     "start_time": "2021-08-24T20:38:08.123010Z"
    }
   },
   "outputs": [],
   "source": [
    "from astropy.table import Table, Column, vstack\n",
    "from glob import glob\n",
    "# rows = []\n",
    "# nms  = []\n",
    "# for path in glob('results/res7/*.fits'):\n",
    "#     rows.append(Table.read(path))\n",
    "#     nms.append(path[13:-9])\n",
    "# rrlres = vstack(rows)\n",
    "# rrlres['name'] = Column(nms)\n",
    "# rrlres.write('rrlres.fits',format='fits',overwrite=True)\n",
    "# rrlres.sort('redchi2')"
   ]
  },
  {
   "cell_type": "code",
   "execution_count": 24,
   "metadata": {
    "ExecuteTime": {
     "end_time": "2021-08-24T20:57:58.903926Z",
     "start_time": "2021-08-24T20:57:58.849031Z"
    },
    "scrolled": true
   },
   "outputs": [
    {
     "data": {
      "text/html": [
       "<i>Table length=574</i>\n",
       "<table id=\"table1866356584392\" class=\"table-striped table-bordered table-condensed\">\n",
       "<thead><tr><th>name</th><th>period</th><th>t0</th><th>r amp</th><th>u mag</th><th>g mag</th><th>r mag</th><th>i mag</th><th>z mag</th><th>Y mag</th><th>VR mag</th><th>chi2</th><th>redchi2</th><th>template</th><th>t0 err</th><th>amp err</th><th>u mag err</th><th>g mag err</th><th>r mag err</th><th>i mag err</th><th>z mag err</th><th>Y mag err</th><th>VR mag err</th><th>Ndat</th><th>N inliers</th><th>N u</th><th>N g</th><th>N r</th><th>N i</th><th>N z</th><th>N Y</th><th>N VR</th></tr></thead>\n",
       "<thead><tr><th>bytes13</th><th>float64</th><th>float64</th><th>float64</th><th>float64</th><th>float64</th><th>float64</th><th>float64</th><th>float64</th><th>float64</th><th>float64</th><th>float64</th><th>float64</th><th>bytes5</th><th>float64</th><th>float64</th><th>float64</th><th>float64</th><th>float64</th><th>float64</th><th>float64</th><th>float64</th><th>float64</th><th>int32</th><th>int32</th><th>int32</th><th>int32</th><th>int32</th><th>int32</th><th>int32</th><th>int32</th><th>int32</th></tr></thead>\n",
       "<tr><td>190529_7302</td><td>0.4571362393048764</td><td>57081.07180144338</td><td>0.8010809964760937</td><td>-1.7339998864810695e-17</td><td>15.216524988265911</td><td>15.283975411175444</td><td>0.0</td><td>0.0</td><td>0.0</td><td>0.0</td><td>15.82547705692911</td><td>2.2607824367041585</td><td>RRA2</td><td>0.0005538077407356206</td><td>0.0557799490679122</td><td>1.3798174825245658e-17</td><td>0.0720461899649508</td><td>0.04077148328135636</td><td>0.0</td><td>0.0</td><td>0.0</td><td>0.0</td><td>11</td><td>11</td><td>0</td><td>2</td><td>9</td><td>0</td><td>0</td><td>0</td><td>0</td></tr>\n",
       "<tr><td>147606_91069</td><td>0.5925040219947078</td><td>56521.357293741494</td><td>0.5749527979427688</td><td>0.0</td><td>18.043054768947677</td><td>17.925214874471294</td><td>17.81523423155646</td><td>0.0</td><td>0.0</td><td>0.0</td><td>432.6899235860861</td><td>2.6065658047354585</td><td>RRB1</td><td>0.0006696612146872268</td><td>0.004926268727887342</td><td>2.1205069693817753e-17</td><td>0.003982670730053196</td><td>0.0030003056147854157</td><td>0.009542881705153345</td><td>0.0</td><td>0.0</td><td>0.0</td><td>175</td><td>171</td><td>0</td><td>83</td><td>85</td><td>3</td><td>0</td><td>0</td><td>0</td></tr>\n",
       "<tr><td>147603_46584</td><td>0.4817943736899384</td><td>56448.21782669492</td><td>0.8806319867944428</td><td>18.679383620043517</td><td>17.769299506081044</td><td>17.78674872655439</td><td>17.74360932629493</td><td>17.691675960556797</td><td>17.6240041550375</td><td>17.71771262403183</td><td>901.502206282231</td><td>2.731824867521912</td><td>RRA1</td><td>0.0019314949135487633</td><td>0.011832866686818223</td><td>0.03330096563511863</td><td>0.01791914666839101</td><td>0.012416344980272017</td><td>0.010488083478098884</td><td>0.009890815573531345</td><td>0.02184176994425821</td><td>0.013174776623671093</td><td>362</td><td>339</td><td>5</td><td>113</td><td>127</td><td>38</td><td>39</td><td>4</td><td>13</td></tr>\n",
       "<tr><td>150679_79443</td><td>0.5581025678496574</td><td>56520.76756945642</td><td>0.5405144956694408</td><td>0.0</td><td>17.7824652114543</td><td>17.694528696783028</td><td>17.618886896542616</td><td>0.0</td><td>0.0</td><td>0.0</td><td>435.3646635094222</td><td>2.7554725538571025</td><td>RRA2</td><td>0.003347375228493094</td><td>0.008883987812647086</td><td>2.5232295102252212e-18</td><td>0.012885433470101813</td><td>0.008847373743594586</td><td>0.009574222776446895</td><td>0.0</td><td>0.0</td><td>0.0</td><td>175</td><td>163</td><td>0</td><td>78</td><td>81</td><td>4</td><td>0</td><td>0</td><td>0</td></tr>\n",
       "<tr><td>102849_2399</td><td>0.6491950192948136</td><td>57040.461986056434</td><td>0.2180335791573411</td><td>0.0</td><td>18.18407757869641</td><td>18.12064402447169</td><td>0.0</td><td>0.0</td><td>0.0</td><td>0.0</td><td>3112.7460743076467</td><td>2.7842093687903815</td><td>CEPH1</td><td>0.000315732012913657</td><td>0.001010197119659201</td><td>2.892252771167951e-18</td><td>0.0009874371878329355</td><td>0.007500099731834669</td><td>0.0</td><td>0.0</td><td>0.0</td><td>0.0</td><td>1132</td><td>1122</td><td>0</td><td>1120</td><td>2</td><td>0</td><td>0</td><td>0</td><td>0</td></tr>\n",
       "<tr><td>149656_24078</td><td>0.5378294615061243</td><td>56520.86429573676</td><td>0.7589093973156356</td><td>0.0</td><td>17.44263614610695</td><td>17.487006204844537</td><td>0.0</td><td>0.0</td><td>0.0</td><td>0.0</td><td>462.20136050189683</td><td>2.8183009786701025</td><td>RRA1</td><td>0.0011170143802050302</td><td>0.0063165179317332225</td><td>0.0</td><td>0.008206465726225624</td><td>0.0054025463049765235</td><td>0.0</td><td>0.0</td><td>0.0</td><td>0.0</td><td>172</td><td>168</td><td>0</td><td>82</td><td>86</td><td>0</td><td>0</td><td>0</td><td>0</td></tr>\n",
       "<tr><td>150168_75458</td><td>0.5936743182640866</td><td>56521.20747745048</td><td>0.550483796259212</td><td>0.0</td><td>17.678396108845472</td><td>17.619730516841617</td><td>0.0</td><td>0.0</td><td>0.0</td><td>0.0</td><td>472.2508134961373</td><td>2.9332348664356354</td><td>RRB3</td><td>0.0005780410837672872</td><td>0.0047127929415942136</td><td>5.90827276284173e-18</td><td>0.004434993405327886</td><td>0.0035392886535685025</td><td>0.0</td><td>0.0</td><td>0.0</td><td>0.0</td><td>171</td><td>165</td><td>0</td><td>83</td><td>82</td><td>0</td><td>0</td><td>0</td><td>0</td></tr>\n",
       "<tr><td>148119_49215</td><td>0.6247358488858737</td><td>56309.519432916415</td><td>0.4308654191061588</td><td>0.0</td><td>18.049095784951852</td><td>17.89339644095465</td><td>17.76788892207396</td><td>0.0</td><td>0.0</td><td>0.0</td><td>500.7099769054488</td><td>2.9982633347631666</td><td>RRB3</td><td>0.0007938180624983878</td><td>0.005195816734962046</td><td>1.610068304466828e-18</td><td>0.004446050105276834</td><td>0.003336347672707554</td><td>0.0074763753963726295</td><td>0.0</td><td>0.0</td><td>0.0</td><td>177</td><td>172</td><td>0</td><td>86</td><td>82</td><td>4</td><td>0</td><td>0</td><td>0</td></tr>\n",
       "<tr><td>150167_37094</td><td>0.5328271907585349</td><td>56520.88021794042</td><td>0.4098292641144637</td><td>0.0</td><td>18.319216317700892</td><td>18.13863430060849</td><td>18.051250975588975</td><td>0.0</td><td>0.0</td><td>0.0</td><td>500.921625001566</td><td>3.035888636373127</td><td>RRB1</td><td>0.0061041454845473676</td><td>0.014904404177284029</td><td>3.4635697085791113e-18</td><td>0.020068243274792244</td><td>0.01365270806156413</td><td>0.015009293489875699</td><td>0.0</td><td>0.0</td><td>0.0</td><td>177</td><td>170</td><td>0</td><td>81</td><td>86</td><td>3</td><td>0</td><td>0</td><td>0</td></tr>\n",
       "<tr><td>191906_22689</td><td>0.545802337892094</td><td>56235.011905999425</td><td>0.7635329451883474</td><td>19.631310830000594</td><td>19.089149775004035</td><td>19.151470991809447</td><td>19.238297517775642</td><td>19.266552560700966</td><td>0.0</td><td>0.0</td><td>1207.7970180356983</td><td>3.1453047344679645</td><td>RRA1</td><td>0.00027186520302057316</td><td>0.005493051223174959</td><td>0.038925785268888624</td><td>0.010019449796378898</td><td>0.002999046247455222</td><td>0.010818282269314984</td><td>0.004339028555148718</td><td>0.0</td><td>0.0</td><td>431</td><td>391</td><td>9</td><td>23</td><td>179</td><td>26</td><td>154</td><td>0</td><td>0</td></tr>\n",
       "<tr><td>...</td><td>...</td><td>...</td><td>...</td><td>...</td><td>...</td><td>...</td><td>...</td><td>...</td><td>...</td><td>...</td><td>...</td><td>...</td><td>...</td><td>...</td><td>...</td><td>...</td><td>...</td><td>...</td><td>...</td><td>...</td><td>...</td><td>...</td><td>...</td><td>...</td><td>...</td><td>...</td><td>...</td><td>...</td><td>...</td><td>...</td><td>...</td></tr>\n",
       "<tr><td>147603_147590</td><td>0.5313344093877216</td><td>56448.4409525424</td><td>0.7281898104768978</td><td>0.0</td><td>14.925333877228498</td><td>14.91120680170828</td><td>14.847094836206422</td><td>14.803331309328767</td><td>0.0</td><td>0.0</td><td>102363.90199202717</td><td>383.3854007192029</td><td>RRA2</td><td>0.0005701392278199906</td><td>0.01749258380978084</td><td>1.8138959223382188e-17</td><td>0.02187955195086539</td><td>0.014869915989520758</td><td>0.013011825086749206</td><td>0.012229156098361726</td><td>0.0</td><td>0.0</td><td>284</td><td>273</td><td>0</td><td>105</td><td>116</td><td>27</td><td>25</td><td>0</td><td>0</td></tr>\n",
       "<tr><td>145540_150128</td><td>0.5053083848286676</td><td>56423.54474939419</td><td>1.0732673907595638</td><td>0.0</td><td>15.340449295293732</td><td>15.271496696431953</td><td>15.122765841138117</td><td>14.972282083538571</td><td>14.730698852402826</td><td>0.0</td><td>175152.08156917797</td><td>414.0711148207517</td><td>RRA3</td><td>0.0014820494187950466</td><td>0.037117367738719015</td><td>2.111174539990764e-17</td><td>0.03987609256752957</td><td>0.0317849983166337</td><td>0.0320214912403598</td><td>0.031963088005787</td><td>0.09317893618463453</td><td>0.0</td><td>440</td><td>430</td><td>0</td><td>93</td><td>126</td><td>99</td><td>97</td><td>15</td><td>0</td></tr>\n",
       "<tr><td>147598_19976</td><td>0.4654725023510068</td><td>56520.850001212406</td><td>0.8373657175205503</td><td>0.0</td><td>14.27352262819953</td><td>14.35301045393067</td><td>14.35775986478912</td><td>14.531021300084397</td><td>14.40794841946352</td><td>0.0</td><td>118908.92589398526</td><td>477.54588712443876</td><td>RRA1</td><td>0.0003799837108111191</td><td>0.010862447892889888</td><td>1.1656357903201972e-17</td><td>0.013119691596323573</td><td>0.011930545309766446</td><td>0.013096477548439343</td><td>0.01894413794507779</td><td>0.026963762930195558</td><td>0.0</td><td>272</td><td>256</td><td>0</td><td>142</td><td>72</td><td>30</td><td>5</td><td>7</td><td>0</td></tr>\n",
       "<tr><td>147598_58967</td><td>0.5384731431118325</td><td>56520.9850858336</td><td>1.1648193278103984</td><td>0.0</td><td>17.179125823570608</td><td>17.404879537547583</td><td>17.27731284151399</td><td>18.139000056149623</td><td>18.074289608163703</td><td>0.0</td><td>197375.65158098284</td><td>543.7345773580795</td><td>RRA3</td><td>0.0016086831964202827</td><td>0.03154350919672894</td><td>1.0048044323875188e-15</td><td>0.034225035611812935</td><td>0.026448808160225473</td><td>0.0326966232288792</td><td>0.14695822327266225</td><td>0.21193556028423316</td><td>0.0</td><td>381</td><td>370</td><td>0</td><td>148</td><td>159</td><td>56</td><td>3</td><td>4</td><td>0</td></tr>\n",
       "<tr><td>148117_130624</td><td>0.5309848001212152</td><td>56448.39780906817</td><td>1.0544361989487183</td><td>15.432108831976322</td><td>14.52833338588045</td><td>14.72021479166417</td><td>14.746248455408008</td><td>14.571759667089188</td><td>14.66642662186596</td><td>0.0</td><td>80020.50896160255</td><td>551.8655790455348</td><td>RRA1</td><td>0.000809292718102228</td><td>0.012009375594089681</td><td>0.2436246458629412</td><td>0.012662845065666348</td><td>0.012817241320275398</td><td>0.03016152875032216</td><td>0.031572342431478675</td><td>0.0384042254049878</td><td>0.0</td><td>163</td><td>153</td><td>1</td><td>88</td><td>54</td><td>4</td><td>3</td><td>3</td><td>0</td></tr>\n",
       "<tr><td>167382_4637</td><td>0.5174301280107789</td><td>56332.14103870048</td><td>0.9839057085693838</td><td>14.293945723296032</td><td>13.86380404165067</td><td>13.841870657309872</td><td>13.80325791601548</td><td>13.745024480729937</td><td>13.70700297792429</td><td>0.0</td><td>232446.58885704717</td><td>552.12966474358</td><td>RRB1</td><td>0.0004444645982350036</td><td>0.012566408757888002</td><td>0.092087546701874</td><td>0.010061966212271218</td><td>0.007292332117987427</td><td>0.007450566437425352</td><td>0.008875162183197123</td><td>0.01589233659495765</td><td>0.0</td><td>463</td><td>429</td><td>18</td><td>97</td><td>87</td><td>105</td><td>83</td><td>39</td><td>0</td></tr>\n",
       "<tr><td>149145_11002</td><td>2.054441275190211</td><td>56519.636513637255</td><td>0.9152850054655225</td><td>0.0</td><td>15.122561817161897</td><td>15.23866044280354</td><td>15.252055575852907</td><td>0.0</td><td>0.0</td><td>0.0</td><td>71154.83071767987</td><td>569.238645741439</td><td>RRB2</td><td>0.03782970170594204</td><td>0.07963511222665204</td><td>4.520895497646031e-18</td><td>0.11578027846246156</td><td>0.07944780889762944</td><td>0.06885396256172313</td><td>0.0</td><td>0.0</td><td>0.0</td><td>133</td><td>130</td><td>0</td><td>63</td><td>62</td><td>5</td><td>0</td><td>0</td><td>0</td></tr>\n",
       "<tr><td>131628_2306</td><td>1.0284697405444605</td><td>56710.25672247569</td><td>0.5753374413767901</td><td>17.81643426528439</td><td>16.760120347590615</td><td>16.69453849535288</td><td>16.64594511022096</td><td>16.67021657191179</td><td>16.178019343094356</td><td>16.77681260385863</td><td>60474.96354260558</td><td>671.9440393622842</td><td>SIN</td><td>0.012713065922519062</td><td>0.042777300238576677</td><td>0.09331366746412027</td><td>0.057661692239953974</td><td>0.026899778756526715</td><td>0.030893478668038453</td><td>0.023263284507882606</td><td>0.06136534598388114</td><td>0.0394255899472676</td><td>109</td><td>99</td><td>11</td><td>15</td><td>34</td><td>9</td><td>11</td><td>7</td><td>12</td></tr>\n",
       "<tr><td>147088_65520</td><td>0.7642497430934844</td><td>56520.80061772134</td><td>0.6593583167788724</td><td>0.0</td><td>14.70024472387326</td><td>14.712113265356054</td><td>14.62677080833011</td><td>14.648918791123544</td><td>0.0</td><td>0.0</td><td>219553.2685684777</td><td>896.1357900754192</td><td>RRA1</td><td>0.0010686668933626944</td><td>0.01217071479501443</td><td>1.9232318885776536e-16</td><td>0.012234705830268726</td><td>0.01086103667722867</td><td>0.01333884704723267</td><td>0.03951552777245892</td><td>0.0</td><td>0.0</td><td>253</td><td>251</td><td>0</td><td>132</td><td>77</td><td>38</td><td>4</td><td>0</td><td>0</td></tr>\n",
       "<tr><td>148631_93071</td><td>0.3421787319113445</td><td>56520.86181678608</td><td>0.7739016825505319</td><td>0.0</td><td>14.723992489074046</td><td>14.721184759064803</td><td>0.0</td><td>0.0</td><td>0.0</td><td>0.0</td><td>112348.53595749025</td><td>1059.8918486555685</td><td>RRA1</td><td>0.002598671108212232</td><td>0.039834336631102876</td><td>8.28306267272115e-18</td><td>0.04962926055919626</td><td>0.03942309008077173</td><td>0.0</td><td>0.0</td><td>0.0</td><td>0.0</td><td>111</td><td>110</td><td>0</td><td>90</td><td>20</td><td>0</td><td>0</td><td>0</td><td>0</td></tr>\n",
       "</table>"
      ],
      "text/plain": [
       "<Table length=574>\n",
       "     name           period               t0         ...  N z   N Y   N VR\n",
       "   bytes13         float64            float64       ... int32 int32 int32\n",
       "------------- ------------------ ------------------ ... ----- ----- -----\n",
       "  190529_7302 0.4571362393048764  57081.07180144338 ...     0     0     0\n",
       " 147606_91069 0.5925040219947078 56521.357293741494 ...     0     0     0\n",
       " 147603_46584 0.4817943736899384  56448.21782669492 ...    39     4    13\n",
       " 150679_79443 0.5581025678496574  56520.76756945642 ...     0     0     0\n",
       "  102849_2399 0.6491950192948136 57040.461986056434 ...     0     0     0\n",
       " 149656_24078 0.5378294615061243  56520.86429573676 ...     0     0     0\n",
       " 150168_75458 0.5936743182640866  56521.20747745048 ...     0     0     0\n",
       " 148119_49215 0.6247358488858737 56309.519432916415 ...     0     0     0\n",
       " 150167_37094 0.5328271907585349  56520.88021794042 ...     0     0     0\n",
       " 191906_22689  0.545802337892094 56235.011905999425 ...   154     0     0\n",
       "          ...                ...                ... ...   ...   ...   ...\n",
       "147603_147590 0.5313344093877216   56448.4409525424 ...    25     0     0\n",
       "145540_150128 0.5053083848286676  56423.54474939419 ...    97    15     0\n",
       " 147598_19976 0.4654725023510068 56520.850001212406 ...     5     7     0\n",
       " 147598_58967 0.5384731431118325   56520.9850858336 ...     3     4     0\n",
       "148117_130624 0.5309848001212152  56448.39780906817 ...     3     3     0\n",
       "  167382_4637 0.5174301280107789  56332.14103870048 ...    83    39     0\n",
       " 149145_11002  2.054441275190211 56519.636513637255 ...     0     0     0\n",
       "  131628_2306 1.0284697405444605  56710.25672247569 ...    11     7    12\n",
       " 147088_65520 0.7642497430934844  56520.80061772134 ...     4     0     0\n",
       " 148631_93071 0.3421787319113445  56520.86181678608 ...     0     0     0"
      ]
     },
     "execution_count": 24,
     "metadata": {},
     "output_type": "execute_result"
    }
   ],
   "source": [
    "rrlres = Table.read('rrlres7.fits')\n",
    "rrlres"
   ]
  },
  {
   "cell_type": "code",
   "execution_count": 36,
   "metadata": {
    "ExecuteTime": {
     "end_time": "2021-08-24T21:28:11.129402Z",
     "start_time": "2021-08-24T21:28:11.118430Z"
    }
   },
   "outputs": [],
   "source": []
  },
  {
   "cell_type": "code",
   "execution_count": 48,
   "metadata": {
    "ExecuteTime": {
     "end_time": "2021-08-24T21:29:46.772137Z",
     "start_time": "2021-08-24T21:29:46.565726Z"
    }
   },
   "outputs": [
    {
     "data": {
      "text/plain": [
       "(0.0, 1.5)"
      ]
     },
     "execution_count": 48,
     "metadata": {},
     "output_type": "execute_result"
    },
    {
     "data": {
      "image/png": "[encoded data removed]",
      "text/plain": [
       "<Figure size 432x288 with 1 Axes>"
      ]
     },
     "metadata": {
      "needs_background": "light"
     },
     "output_type": "display_data"
    }
   ],
   "source": [
    "plt.scatter(rrlres['period'],rrlres['r amp'])\n",
    "plt.xlim(0,1)\n",
    "plt.ylim(0,1.5)"
   ]
  },
  {
   "cell_type": "code",
   "execution_count": null,
   "metadata": {},
   "outputs": [],
   "source": []
  },
  {
   "cell_type": "code",
   "execution_count": null,
   "metadata": {},
   "outputs": [],
   "source": []
  },
  {
   "cell_type": "code",
   "execution_count": null,
   "metadata": {},
   "outputs": [],
   "source": []
  },
  {
   "cell_type": "code",
   "execution_count": null,
   "metadata": {},
   "outputs": [],
   "source": []
  },
  {
   "cell_type": "code",
   "execution_count": 22,
   "metadata": {
    "ExecuteTime": {
     "end_time": "2021-08-24T20:38:10.025787Z",
     "start_time": "2021-08-24T20:38:09.997859Z"
    }
   },
   "outputs": [
    {
     "data": {
      "text/html": [
       "<i>Table length=9</i>\n",
       "<table id=\"table1866300035976\" class=\"table-striped table-bordered table-condensed\">\n",
       "<thead><tr><th>name</th><th>period</th><th>t0</th><th>r amp</th><th>u mag</th><th>g mag</th><th>r mag</th><th>i mag</th><th>z mag</th><th>Y mag</th><th>VR mag</th><th>chi2</th><th>redchi2</th><th>template</th><th>t0 err</th><th>amp err</th><th>u mag err</th><th>g mag err</th><th>r mag err</th><th>i mag err</th><th>z mag err</th><th>Y mag err</th><th>VR mag err</th><th>Ndat</th><th>N inliers</th><th>N u</th><th>N g</th><th>N r</th><th>N i</th><th>N z</th><th>N Y</th><th>N VR</th></tr></thead>\n",
       "<thead><tr><th>bytes13</th><th>float64</th><th>float64</th><th>float64</th><th>float64</th><th>float64</th><th>float64</th><th>float64</th><th>float64</th><th>float64</th><th>float64</th><th>float64</th><th>float64</th><th>bytes5</th><th>float64</th><th>float64</th><th>float64</th><th>float64</th><th>float64</th><th>float64</th><th>float64</th><th>float64</th><th>float64</th><th>int32</th><th>int32</th><th>int32</th><th>int32</th><th>int32</th><th>int32</th><th>int32</th><th>int32</th><th>int32</th></tr></thead>\n",
       "<tr><td>171546_6785</td><td>0.6372249863442095</td><td>56289.16390299379</td><td>0.2993625642118835</td><td>18.10479098778419</td><td>16.98983297537951</td><td>16.787469241762775</td><td>16.678724234475087</td><td>16.63937262944539</td><td>16.613004120625433</td><td>16.75882708631142</td><td>8023.771668251242</td><td>7.7674459518405055</td><td>CEPH1</td><td>0.0006011421327264704</td><td>0.0019686676076522166</td><td>0.005629564112864447</td><td>0.0019228970523596253</td><td>0.0015307800916554556</td><td>0.0013189154933032944</td><td>0.0015083196842338863</td><td>0.00293626960860175</td><td>0.002328706816094336</td><td>1091</td><td>1042</td><td>334</td><td>148</td><td>178</td><td>113</td><td>132</td><td>88</td><td>49</td></tr>\n",
       "<tr><td>172435_13102</td><td>0.506603196865706</td><td>56314.286917177014</td><td>0.9389608492368667</td><td>16.59001070042093</td><td>15.714254471457927</td><td>15.778146958784564</td><td>15.7452846683167</td><td>15.712269340259635</td><td>15.701433136156224</td><td>15.707436806744587</td><td>34061.50787610491</td><td>46.53211458484277</td><td>RRA1</td><td>0.000153314256735398</td><td>0.004219406151395039</td><td>0.017393367670861852</td><td>0.004699912359221891</td><td>0.003411419318298699</td><td>0.002975787864418354</td><td>0.002742300119288309</td><td>0.004711327323317108</td><td>0.0034539799352197205</td><td>755</td><td>741</td><td>83</td><td>113</td><td>141</td><td>112</td><td>118</td><td>89</td><td>85</td></tr>\n",
       "<tr><td>144522_34451</td><td>0.45338990768432536</td><td>56417.431178843675</td><td>0.9216942118749547</td><td>16.76377953895283</td><td>15.65753994477351</td><td>15.55796629917714</td><td>15.477325554028235</td><td>15.34298209680495</td><td>15.317884307297149</td><td>15.47449544876522</td><td>55324.95146350132</td><td>67.4694530042699</td><td>RRA2</td><td>0.00029908526755876213</td><td>0.0058363930488664565</td><td>0.17652668929848245</td><td>0.009616457261731357</td><td>0.004399490116443477</td><td>0.011159938751825402</td><td>0.003347629924448376</td><td>0.012818227119759853</td><td>0.006201989646658229</td><td>830</td><td>829</td><td>6</td><td>37</td><td>248</td><td>32</td><td>387</td><td>31</td><td>88</td></tr>\n",
       "<tr><td>146570_154526</td><td>0.44234823019389446</td><td>56449.33003153448</td><td>0.9427130153582807</td><td>16.524157460152235</td><td>15.43557349295794</td><td>15.37536601308362</td><td>15.285915081843727</td><td>15.189658393039354</td><td>15.090620937039086</td><td>15.292342022572495</td><td>69256.47179566744</td><td>77.29516941480742</td><td>RRA3</td><td>0.00023259667436147796</td><td>0.005733861648294853</td><td>0.12339953038914758</td><td>0.009393155550715123</td><td>0.004615908844388857</td><td>0.007935555292435803</td><td>0.0035988942215964843</td><td>0.009894035326532321</td><td>0.006320917162398555</td><td>911</td><td>905</td><td>3</td><td>43</td><td>266</td><td>49</td><td>409</td><td>43</td><td>92</td></tr>\n",
       "<tr><td>145034_183044</td><td>0.551990757907491</td><td>56417.44134047155</td><td>0.7497809661736851</td><td>17.335211786076655</td><td>16.123940864218657</td><td>15.943655314626538</td><td>15.793583971682786</td><td>15.685946684778612</td><td>15.548488280114057</td><td>15.872711009200188</td><td>44251.9220862554</td><td>96.61991721889825</td><td>RRA2</td><td>0.0006104655868612524</td><td>0.008353844171583427</td><td>0.22584579603813243</td><td>0.010950390681865445</td><td>0.005763627928232958</td><td>0.01481371842663809</td><td>0.006570669108932107</td><td>0.018029654278036846</td><td>0.010625128024991983</td><td>479</td><td>467</td><td>4</td><td>43</td><td>227</td><td>32</td><td>97</td><td>31</td><td>33</td></tr>\n",
       "<tr><td>146059_197514</td><td>0.5787014640563571</td><td>56449.631703073755</td><td>0.4938061902957353</td><td>17.46879518798571</td><td>16.28250326463109</td><td>15.930289371256688</td><td>15.713377869300588</td><td>15.588469528988377</td><td>15.540761645933285</td><td>15.868785554730879</td><td>173317.02700003574</td><td>162.13005332089406</td><td>RRB3</td><td>0.0008846672311970901</td><td>0.006431112254164838</td><td>0.15507520092405283</td><td>0.009517031336897104</td><td>0.005201871411187378</td><td>0.01308961205302673</td><td>0.0039465852912128185</td><td>0.014324622601548724</td><td>0.006354132967260918</td><td>1080</td><td>1078</td><td>2</td><td>55</td><td>305</td><td>45</td><td>495</td><td>42</td><td>134</td></tr>\n",
       "<tr><td>145034_148549</td><td>0.5450706822314094</td><td>56411.66458732385</td><td>0.7802946363632562</td><td>16.969149066269022</td><td>15.497506643148899</td><td>15.252672284185854</td><td>15.116406047796241</td><td>14.972755770324246</td><td>14.962870546267075</td><td>15.134906332654943</td><td>116473.86724302842</td><td>184.00294983100855</td><td>RRB1</td><td>0.0007792184417894122</td><td>0.011957100066514004</td><td>0.29631904309309537</td><td>0.015635413476236024</td><td>0.009421195242241871</td><td>0.016899898503072105</td><td>0.007332306061307617</td><td>0.016911435023061586</td><td>0.013066905369617722</td><td>645</td><td>642</td><td>4</td><td>40</td><td>223</td><td>36</td><td>260</td><td>35</td><td>44</td></tr>\n",
       "<tr><td>145546_164189</td><td>0.5188631583610767</td><td>56448.71136695112</td><td>0.9884584295238273</td><td>17.36117781939307</td><td>16.242437081514474</td><td>16.100498576076777</td><td>16.031652890758117</td><td>15.928614736303452</td><td>15.886732266971404</td><td>16.026635813724255</td><td>389034.7751940572</td><td>325.00816641107536</td><td>RRA2</td><td>0.0005405163492595679</td><td>0.011101866062753336</td><td>0.2271651094622677</td><td>0.021407506831585963</td><td>0.008079124271039542</td><td>0.019401858343900884</td><td>0.005953760187822794</td><td>0.029034650653808985</td><td>0.008868991234236177</td><td>1240</td><td>1206</td><td>4</td><td>43</td><td>295</td><td>52</td><td>553</td><td>46</td><td>213</td></tr>\n",
       "<tr><td>146058_100281</td><td>0.47571073577901485</td><td>56449.38252540119</td><td>1.0340404648175645</td><td>16.524903290647035</td><td>15.336502403905635</td><td>15.271603074105045</td><td>15.229801415908067</td><td>15.117824429184637</td><td>15.036406273245323</td><td>15.120255336859982</td><td>259682.43412863603</td><td>350.4486290534899</td><td>RRA2</td><td>0.0004890823066469803</td><td>0.012841246730679878</td><td>0.1670350604763304</td><td>0.021305876980093584</td><td>0.009692120991829771</td><td>0.0178401822138959</td><td>0.007440911446071595</td><td>0.02095358371691608</td><td>0.014326275664894543</td><td>755</td><td>750</td><td>5</td><td>44</td><td>226</td><td>45</td><td>334</td><td>41</td><td>55</td></tr>\n",
       "</table>"
      ],
      "text/plain": [
       "<Table length=9>\n",
       "     name            period               t0         ...  N z   N Y   N VR\n",
       "   bytes13          float64            float64       ... int32 int32 int32\n",
       "------------- ------------------- ------------------ ... ----- ----- -----\n",
       "  171546_6785  0.6372249863442095  56289.16390299379 ...   132    88    49\n",
       " 172435_13102   0.506603196865706 56314.286917177014 ...   118    89    85\n",
       " 144522_34451 0.45338990768432536 56417.431178843675 ...   387    31    88\n",
       "146570_154526 0.44234823019389446  56449.33003153448 ...   409    43    92\n",
       "145034_183044   0.551990757907491  56417.44134047155 ...    97    31    33\n",
       "146059_197514  0.5787014640563571 56449.631703073755 ...   495    42   134\n",
       "145034_148549  0.5450706822314094  56411.66458732385 ...   260    35    44\n",
       "145546_164189  0.5188631583610767  56448.71136695112 ...   553    46   213\n",
       "146058_100281 0.47571073577901485  56449.38252540119 ...   334    41    55"
      ]
     },
     "execution_count": 22,
     "metadata": {},
     "output_type": "execute_result"
    }
   ],
   "source": [
    "selVR = rrlres['N VR'] > 30\n",
    "rrlres[selVR]"
   ]
  },
  {
   "cell_type": "code",
   "execution_count": 23,
   "metadata": {
    "ExecuteTime": {
     "end_time": "2021-08-24T20:38:25.852719Z",
     "start_time": "2021-08-24T20:38:25.829742Z"
    }
   },
   "outputs": [
    {
     "data": {
      "text/html": [
       "<i>Table length=42</i>\n",
       "<table id=\"table1866356548424\" class=\"table-striped table-bordered table-condensed\">\n",
       "<thead><tr><th>name</th><th>period</th><th>t0</th><th>r amp</th><th>u mag</th><th>g mag</th><th>r mag</th><th>i mag</th><th>z mag</th><th>Y mag</th><th>VR mag</th><th>chi2</th><th>redchi2</th><th>template</th><th>t0 err</th><th>amp err</th><th>u mag err</th><th>g mag err</th><th>r mag err</th><th>i mag err</th><th>z mag err</th><th>Y mag err</th><th>VR mag err</th><th>Ndat</th><th>N inliers</th><th>N u</th><th>N g</th><th>N r</th><th>N i</th><th>N z</th><th>N Y</th><th>N VR</th></tr></thead>\n",
       "<thead><tr><th>bytes13</th><th>float64</th><th>float64</th><th>float64</th><th>float64</th><th>float64</th><th>float64</th><th>float64</th><th>float64</th><th>float64</th><th>float64</th><th>float64</th><th>float64</th><th>bytes5</th><th>float64</th><th>float64</th><th>float64</th><th>float64</th><th>float64</th><th>float64</th><th>float64</th><th>float64</th><th>float64</th><th>int32</th><th>int32</th><th>int32</th><th>int32</th><th>int32</th><th>int32</th><th>int32</th><th>int32</th><th>int32</th></tr></thead>\n",
       "<tr><td>167969_743</td><td>0.6284231805550854</td><td>56395.22514318941</td><td>0.36995472681585284</td><td>18.120305619294534</td><td>17.173231162196636</td><td>17.058189637925405</td><td>16.880101126875505</td><td>16.774970759530255</td><td>16.747211136356277</td><td>0.0</td><td>2014.2277372518404</td><td>3.6958307105538357</td><td>RRB3</td><td>0.0010165141902089049</td><td>0.004714365890273633</td><td>0.020643462884785514</td><td>0.005248907367096022</td><td>0.003808448463067855</td><td>0.0034205115334395566</td><td>0.003261450127952429</td><td>0.006606932445609199</td><td>0.0</td><td>565</td><td>553</td><td>26</td><td>108</td><td>114</td><td>126</td><td>109</td><td>70</td><td>0</td></tr>\n",
       "<tr><td>183725_30240</td><td>0.5993244402254501</td><td>56264.0741584424</td><td>0.5581856283945048</td><td>0.0</td><td>18.77359982970623</td><td>18.738988038974636</td><td>18.704584308012134</td><td>18.684516015100375</td><td>18.664223804317118</td><td>0.0</td><td>7092.42875516294</td><td>6.188855807297505</td><td>RRB3</td><td>0.0005390280988514128</td><td>0.004634514305699345</td><td>2.078400026850269e-17</td><td>0.0055933114698745205</td><td>0.003916609470360888</td><td>0.004815899845468936</td><td>0.0032597669115522004</td><td>0.009031368528505236</td><td>0.0</td><td>1179</td><td>1153</td><td>0</td><td>732</td><td>199</td><td>48</td><td>134</td><td>40</td><td>0</td></tr>\n",
       "<tr><td>167488_938</td><td>0.6542959517002741</td><td>56395.34686208798</td><td>0.723225790745535</td><td>18.033905269348686</td><td>17.546241677094272</td><td>17.58681986810332</td><td>17.577335356269472</td><td>17.607610696712527</td><td>17.707171631053992</td><td>0.0</td><td>3051.300553350809</td><td>6.3968565059765385</td><td>RRB1</td><td>0.001013360290412898</td><td>0.012768890330060817</td><td>0.05898116956178241</td><td>0.013583025572289187</td><td>0.010054621340558382</td><td>0.008485670780760395</td><td>0.00913863681797605</td><td>0.02064875332867857</td><td>0.0</td><td>502</td><td>485</td><td>10</td><td>99</td><td>105</td><td>113</td><td>101</td><td>57</td><td>0</td></tr>\n",
       "<tr><td>138265_816</td><td>0.45421586886076387</td><td>56415.96432556783</td><td>0.9487406626733285</td><td>19.71693831664214</td><td>18.894844919384525</td><td>19.059601753436127</td><td>19.12496500413199</td><td>19.037393406630418</td><td>18.905285152126893</td><td>18.942822837823897</td><td>1187.3596422200785</td><td>6.94362363871391</td><td>RRA1</td><td>0.000737821254073059</td><td>0.012691103422512682</td><td>0.07264180639185873</td><td>0.01839536878782683</td><td>0.009499891583134744</td><td>0.009175946208471161</td><td>0.013708886475099309</td><td>0.027017478269486188</td><td>0.0155033209045955</td><td>187</td><td>180</td><td>8</td><td>18</td><td>23</td><td>35</td><td>37</td><td>51</td><td>8</td></tr>\n",
       "<tr><td>171546_6785</td><td>0.6372249863442095</td><td>56289.16390299379</td><td>0.2993625642118835</td><td>18.10479098778419</td><td>16.98983297537951</td><td>16.787469241762775</td><td>16.678724234475087</td><td>16.63937262944539</td><td>16.613004120625433</td><td>16.75882708631142</td><td>8023.771668251242</td><td>7.7674459518405055</td><td>CEPH1</td><td>0.0006011421327264704</td><td>0.0019686676076522166</td><td>0.005629564112864447</td><td>0.0019228970523596253</td><td>0.0015307800916554556</td><td>0.0013189154933032944</td><td>0.0015083196842338863</td><td>0.00293626960860175</td><td>0.002328706816094336</td><td>1091</td><td>1042</td><td>334</td><td>148</td><td>178</td><td>113</td><td>132</td><td>88</td><td>49</td></tr>\n",
       "<tr><td>167863_26731</td><td>0.6623726460766448</td><td>56331.83531891725</td><td>0.6878393373017335</td><td>17.56152858467085</td><td>16.604802867769823</td><td>16.448253179911504</td><td>16.31343989575225</td><td>16.218568963845055</td><td>16.194926941204283</td><td>0.0</td><td>2320.139822477093</td><td>8.286213651703903</td><td>RRA2</td><td>0.0010173514370733485</td><td>0.007158460360426955</td><td>0.05688419082534318</td><td>0.0077739835893222186</td><td>0.005687878657551614</td><td>0.005900403202416644</td><td>0.00650087826764472</td><td>0.011568659631487982</td><td>0.0</td><td>297</td><td>288</td><td>12</td><td>59</td><td>69</td><td>62</td><td>51</td><td>35</td><td>0</td></tr>\n",
       "<tr><td>167864_28471</td><td>0.5101346141820886</td><td>56332.18310489512</td><td>0.8129693765836417</td><td>17.103332694581553</td><td>16.588849497875103</td><td>16.596652922249746</td><td>16.576676164292447</td><td>16.522487335347197</td><td>16.43422762975144</td><td>0.0</td><td>4286.271845069113</td><td>11.873329210717763</td><td>RRA3</td><td>0.0006411377137240782</td><td>0.010428737297792225</td><td>0.08714569385087104</td><td>0.010794239285327481</td><td>0.007298624866295443</td><td>0.008072616054774315</td><td>0.009156354164426568</td><td>0.01539487422979446</td><td>0.0</td><td>388</td><td>369</td><td>3</td><td>79</td><td>74</td><td>86</td><td>75</td><td>52</td><td>0</td></tr>\n",
       "<tr><td>100047_2267</td><td>0.6221807486335239</td><td>56513.34072455316</td><td>0.533098911383821</td><td>0.0</td><td>17.25899290077619</td><td>17.24973794907744</td><td>17.25171997828623</td><td>17.235351095279217</td><td>17.19691110478433</td><td>0.0</td><td>15535.103358555012</td><td>12.967532018827223</td><td>RRB1</td><td>0.0003926240074182534</td><td>0.003728044642727811</td><td>4.0684316720778576e-18</td><td>0.003674810320180048</td><td>0.0028688263237526337</td><td>0.0026780045587562556</td><td>0.0033722848467393606</td><td>0.006463593093220465</td><td>0.0</td><td>1285</td><td>1205</td><td>0</td><td>253</td><td>256</td><td>266</td><td>234</td><td>196</td><td>0</td></tr>\n",
       "<tr><td>166896_20803</td><td>0.566159739005946</td><td>56342.824263778966</td><td>0.579333952219641</td><td>17.133818782160215</td><td>16.043714150121325</td><td>15.90897357328958</td><td>15.798547632096568</td><td>15.748228656795337</td><td>15.675449210380442</td><td>0.0</td><td>2728.1139566006495</td><td>13.990327982567434</td><td>RRB3</td><td>0.0007391437621681546</td><td>0.007309243471102298</td><td>0.06099398183320984</td><td>0.007921276298884498</td><td>0.005542713054916241</td><td>0.005010048992510682</td><td>0.006043373948441629</td><td>0.010053305071840437</td><td>0.0</td><td>211</td><td>203</td><td>7</td><td>38</td><td>39</td><td>42</td><td>43</td><td>34</td><td>0</td></tr>\n",
       "<tr><td>167808_20102</td><td>0.5481582382657139</td><td>56300.61018095642</td><td>0.9608404311916774</td><td>17.986997677639017</td><td>17.420579683050693</td><td>17.365656827946758</td><td>17.32739369819477</td><td>17.360918522274627</td><td>17.48944877061153</td><td>0.0</td><td>4918.874672878761</td><td>14.467278449643414</td><td>RRA1</td><td>0.0010791932499051712</td><td>0.016899593912279808</td><td>0.18914358153001853</td><td>0.017782982614916572</td><td>0.01337408577823571</td><td>0.012590554155572463</td><td>0.013458859306291026</td><td>0.03356608017955138</td><td>0.0</td><td>367</td><td>348</td><td>3</td><td>73</td><td>85</td><td>79</td><td>74</td><td>34</td><td>0</td></tr>\n",
       "<tr><td>...</td><td>...</td><td>...</td><td>...</td><td>...</td><td>...</td><td>...</td><td>...</td><td>...</td><td>...</td><td>...</td><td>...</td><td>...</td><td>...</td><td>...</td><td>...</td><td>...</td><td>...</td><td>...</td><td>...</td><td>...</td><td>...</td><td>...</td><td>...</td><td>...</td><td>...</td><td>...</td><td>...</td><td>...</td><td>...</td><td>...</td><td>...</td></tr>\n",
       "<tr><td>77516_8215</td><td>0.569341161776215</td><td>57968.150991851006</td><td>0.6401484294194941</td><td>14.680282065140666</td><td>13.736266795390973</td><td>13.717159683311884</td><td>13.710829025619343</td><td>13.698094433446581</td><td>13.626857433759525</td><td>0.0</td><td>25616.9259662581</td><td>128.0846298312905</td><td>RRB1</td><td>0.0010146756624176058</td><td>0.010804445087198333</td><td>0.02808910111547413</td><td>0.015865103590244612</td><td>0.01243865609105076</td><td>0.009666364923525144</td><td>0.007243086055896802</td><td>0.006270772824841836</td><td>0.0</td><td>217</td><td>208</td><td>19</td><td>28</td><td>33</td><td>44</td><td>47</td><td>37</td><td>0</td></tr>\n",
       "<tr><td>146570_110995</td><td>0.5295218755208049</td><td>56449.37869673954</td><td>0.8508869728187599</td><td>16.613256495198492</td><td>15.205095277281528</td><td>15.125867584431822</td><td>14.997106876336895</td><td>14.887148750548999</td><td>14.79536078545788</td><td>15.036512574643798</td><td>84474.25007165434</td><td>146.4025131224512</td><td>RRB1</td><td>0.00047572956108375274</td><td>0.009222907023855849</td><td>0.19247897394200722</td><td>0.01873608663491357</td><td>0.007014220766955079</td><td>0.01292279124694573</td><td>0.005313957512883237</td><td>0.013772687365958637</td><td>0.012061275775573225</td><td>590</td><td>586</td><td>1</td><td>29</td><td>208</td><td>39</td><td>243</td><td>38</td><td>28</td></tr>\n",
       "<tr><td>146059_197514</td><td>0.5787014640563571</td><td>56449.631703073755</td><td>0.4938061902957353</td><td>17.46879518798571</td><td>16.28250326463109</td><td>15.930289371256688</td><td>15.713377869300588</td><td>15.588469528988377</td><td>15.540761645933285</td><td>15.868785554730879</td><td>173317.02700003574</td><td>162.13005332089406</td><td>RRB3</td><td>0.0008846672311970901</td><td>0.006431112254164838</td><td>0.15507520092405283</td><td>0.009517031336897104</td><td>0.005201871411187378</td><td>0.01308961205302673</td><td>0.0039465852912128185</td><td>0.014324622601548724</td><td>0.006354132967260918</td><td>1080</td><td>1078</td><td>2</td><td>55</td><td>305</td><td>45</td><td>495</td><td>42</td><td>134</td></tr>\n",
       "<tr><td>168813_24809</td><td>0.35927621373497454</td><td>56331.58130076738</td><td>0.28086666040494596</td><td>16.97981554579939</td><td>15.899630550465933</td><td>15.880575097913951</td><td>15.832853782449579</td><td>15.807769119975692</td><td>15.767446745197848</td><td>0.0</td><td>74702.28343129628</td><td>163.46232698314284</td><td>RRB2</td><td>0.0033396832214229216</td><td>0.019969489210349602</td><td>0.05890361143867611</td><td>0.02498942956171679</td><td>0.016573300738379752</td><td>0.015601933295962128</td><td>0.017157544039644503</td><td>0.028055875984612663</td><td>0.0</td><td>472</td><td>465</td><td>28</td><td>98</td><td>97</td><td>101</td><td>87</td><td>54</td><td>0</td></tr>\n",
       "<tr><td>145034_148549</td><td>0.5450706822314094</td><td>56411.66458732385</td><td>0.7802946363632562</td><td>16.969149066269022</td><td>15.497506643148899</td><td>15.252672284185854</td><td>15.116406047796241</td><td>14.972755770324246</td><td>14.962870546267075</td><td>15.134906332654943</td><td>116473.86724302842</td><td>184.00294983100855</td><td>RRB1</td><td>0.0007792184417894122</td><td>0.011957100066514004</td><td>0.29631904309309537</td><td>0.015635413476236024</td><td>0.009421195242241871</td><td>0.016899898503072105</td><td>0.007332306061307617</td><td>0.016911435023061586</td><td>0.013066905369617722</td><td>645</td><td>642</td><td>4</td><td>40</td><td>223</td><td>36</td><td>260</td><td>35</td><td>44</td></tr>\n",
       "<tr><td>167649_163</td><td>0.5668330150394827</td><td>56286.6373596399</td><td>0.33603178664359007</td><td>13.95241900660563</td><td>12.880352281528676</td><td>12.786582847902533</td><td>12.768425656586698</td><td>12.77796876303083</td><td>12.774264128869147</td><td>0.0</td><td>46817.55622447775</td><td>222.9407439260845</td><td>CEPH1</td><td>0.0008528442658836612</td><td>0.005710550591522921</td><td>0.12551375828637368</td><td>0.004924056484442459</td><td>0.004394099600672743</td><td>0.003409909931985504</td><td>0.0036756733656071595</td><td>0.007778865831293446</td><td>0.0</td><td>230</td><td>218</td><td>3</td><td>36</td><td>40</td><td>43</td><td>46</td><td>50</td><td>0</td></tr>\n",
       "<tr><td>145546_164189</td><td>0.5188631583610767</td><td>56448.71136695112</td><td>0.9884584295238273</td><td>17.36117781939307</td><td>16.242437081514474</td><td>16.100498576076777</td><td>16.031652890758117</td><td>15.928614736303452</td><td>15.886732266971404</td><td>16.026635813724255</td><td>389034.7751940572</td><td>325.00816641107536</td><td>RRA2</td><td>0.0005405163492595679</td><td>0.011101866062753336</td><td>0.2271651094622677</td><td>0.021407506831585963</td><td>0.008079124271039542</td><td>0.019401858343900884</td><td>0.005953760187822794</td><td>0.029034650653808985</td><td>0.008868991234236177</td><td>1240</td><td>1206</td><td>4</td><td>43</td><td>295</td><td>52</td><td>553</td><td>46</td><td>213</td></tr>\n",
       "<tr><td>146058_100281</td><td>0.47571073577901485</td><td>56449.38252540119</td><td>1.0340404648175645</td><td>16.524903290647035</td><td>15.336502403905635</td><td>15.271603074105045</td><td>15.229801415908067</td><td>15.117824429184637</td><td>15.036406273245323</td><td>15.120255336859982</td><td>259682.43412863603</td><td>350.4486290534899</td><td>RRA2</td><td>0.0004890823066469803</td><td>0.012841246730679878</td><td>0.1670350604763304</td><td>0.021305876980093584</td><td>0.009692120991829771</td><td>0.0178401822138959</td><td>0.007440911446071595</td><td>0.02095358371691608</td><td>0.014326275664894543</td><td>755</td><td>750</td><td>5</td><td>44</td><td>226</td><td>45</td><td>334</td><td>41</td><td>55</td></tr>\n",
       "<tr><td>100555_10583</td><td>0.5456973340886601</td><td>56547.05083529886</td><td>0.4463977298953261</td><td>15.758559605790097</td><td>14.587327389824772</td><td>14.476770482770855</td><td>14.471341858620075</td><td>14.49102565770612</td><td>14.438526856592388</td><td>0.0</td><td>96599.57882510126</td><td>351.27119572764093</td><td>RRB1</td><td>0.0018010952818135523</td><td>0.01572178311752848</td><td>0.029079462531857534</td><td>0.01720670597505693</td><td>0.014962197066158263</td><td>0.013391648662881584</td><td>0.009675125968062996</td><td>0.0073522042709169835</td><td>0.0</td><td>293</td><td>283</td><td>27</td><td>41</td><td>45</td><td>56</td><td>58</td><td>56</td><td>0</td></tr>\n",
       "<tr><td>167382_4637</td><td>0.5174301280107789</td><td>56332.14103870048</td><td>0.9839057085693838</td><td>14.293945723296032</td><td>13.86380404165067</td><td>13.841870657309872</td><td>13.80325791601548</td><td>13.745024480729937</td><td>13.70700297792429</td><td>0.0</td><td>232446.58885704717</td><td>552.12966474358</td><td>RRB1</td><td>0.0004444645982350036</td><td>0.012566408757888002</td><td>0.092087546701874</td><td>0.010061966212271218</td><td>0.007292332117987427</td><td>0.007450566437425352</td><td>0.008875162183197123</td><td>0.01589233659495765</td><td>0.0</td><td>463</td><td>429</td><td>18</td><td>97</td><td>87</td><td>105</td><td>83</td><td>39</td><td>0</td></tr>\n",
       "</table>"
      ],
      "text/plain": [
       "<Table length=42>\n",
       "     name            period               t0         ...  N z   N Y   N VR\n",
       "   bytes13          float64            float64       ... int32 int32 int32\n",
       "------------- ------------------- ------------------ ... ----- ----- -----\n",
       "   167969_743  0.6284231805550854  56395.22514318941 ...   109    70     0\n",
       " 183725_30240  0.5993244402254501   56264.0741584424 ...   134    40     0\n",
       "   167488_938  0.6542959517002741  56395.34686208798 ...   101    57     0\n",
       "   138265_816 0.45421586886076387  56415.96432556783 ...    37    51     8\n",
       "  171546_6785  0.6372249863442095  56289.16390299379 ...   132    88    49\n",
       " 167863_26731  0.6623726460766448  56331.83531891725 ...    51    35     0\n",
       " 167864_28471  0.5101346141820886  56332.18310489512 ...    75    52     0\n",
       "  100047_2267  0.6221807486335239  56513.34072455316 ...   234   196     0\n",
       " 166896_20803   0.566159739005946 56342.824263778966 ...    43    34     0\n",
       " 167808_20102  0.5481582382657139  56300.61018095642 ...    74    34     0\n",
       "          ...                 ...                ... ...   ...   ...   ...\n",
       "   77516_8215   0.569341161776215 57968.150991851006 ...    47    37     0\n",
       "146570_110995  0.5295218755208049  56449.37869673954 ...   243    38    28\n",
       "146059_197514  0.5787014640563571 56449.631703073755 ...   495    42   134\n",
       " 168813_24809 0.35927621373497454  56331.58130076738 ...    87    54     0\n",
       "145034_148549  0.5450706822314094  56411.66458732385 ...   260    35    44\n",
       "   167649_163  0.5668330150394827   56286.6373596399 ...    46    50     0\n",
       "145546_164189  0.5188631583610767  56448.71136695112 ...   553    46   213\n",
       "146058_100281 0.47571073577901485  56449.38252540119 ...   334    41    55\n",
       " 100555_10583  0.5456973340886601  56547.05083529886 ...    58    56     0\n",
       "  167382_4637  0.5174301280107789  56332.14103870048 ...    83    39     0"
      ]
     },
     "execution_count": 23,
     "metadata": {},
     "output_type": "execute_result"
    }
   ],
   "source": [
    "selVR = rrlres['N Y'] > 30\n",
    "rrlres[selVR]"
   ]
  },
  {
   "cell_type": "code",
   "execution_count": null,
   "metadata": {},
   "outputs": [],
   "source": []
  }
 ],
 "metadata": {
  "kernelspec": {
   "display_name": "Python 3",
   "language": "python",
   "name": "python3"
  },
  "language_info": {
   "codemirror_mode": {
    "name": "ipython",
    "version": 3
   },
   "file_extension": ".py",
   "mimetype": "text/x-python",
   "name": "python",
   "nbconvert_exporter": "python",
   "pygments_lexer": "ipython3",
   "version": "3.7.4"
  }
 },
 "nbformat": 4,
 "nbformat_minor": 2
}
