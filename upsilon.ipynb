{
 "cells": [
  {
   "cell_type": "code",
   "execution_count": 1,
   "metadata": {
    "ExecuteTime": {
     "end_time": "2021-07-27T15:46:43.148760Z",
     "start_time": "2021-07-27T15:46:43.138828Z"
    }
   },
   "outputs": [],
   "source": [
    "import warnings\n",
    "warnings.filterwarnings('ignore')"
   ]
  },
  {
   "cell_type": "code",
   "execution_count": 2,
   "metadata": {
    "ExecuteTime": {
     "end_time": "2021-07-27T15:46:46.040500Z",
     "start_time": "2021-07-27T15:46:43.150756Z"
    }
   },
   "outputs": [
    {
     "name": "stdout",
     "output_type": "stream",
     "text": [
      "-------------------------------\n",
      "* WARNING: No pyFFTW detected *\n",
      "-------------------------------\n"
     ]
    }
   ],
   "source": [
    "import numpy as np\n",
    "from glob import glob\n",
    "import upsilon\n",
    "import matplotlib.pyplot as plt\n",
    "from scipy.interpolate import interp1d\n",
    "import scipy.interpolate as interpolate\n",
    "from scipy.optimize import curve_fit, least_squares\n",
    "from statistics import mean, median\n",
    "import pandas as pd\n",
    "from dl import queryClient as qc\n",
    "import collections\n",
    "from astropy import stats\n",
    "from astropy.table import Table\n",
    "import os\n",
    "import utils"
   ]
  },
  {
   "cell_type": "code",
   "execution_count": 3,
   "metadata": {
    "ExecuteTime": {
     "end_time": "2021-07-27T15:46:46.383943Z",
     "start_time": "2021-07-27T15:46:46.042495Z"
    }
   },
   "outputs": [],
   "source": [
    "if not os.path.exists('results2/plots'):\n",
    "    os.makedirs('results2/plots')"
   ]
  },
  {
   "cell_type": "code",
   "execution_count": null,
   "metadata": {},
   "outputs": [],
   "source": []
  },
  {
   "cell_type": "code",
   "execution_count": 4,
   "metadata": {
    "ExecuteTime": {
     "end_time": "2021-07-27T15:46:46.414903Z",
     "start_time": "2021-07-27T15:46:46.385940Z"
    },
    "code_folding": [
     0,
     29
    ]
   },
   "outputs": [],
   "source": [
    "def get_data(objname):\n",
    "    df=qc.query(sql=\"\"\"SELECT meas.* \n",
    "                     FROM nsc_dr2.meas\n",
    "                     WHERE objectid='{:s}'\"\"\".format(objname),\n",
    "              fmt='pandas',\n",
    "              profile='db01')\n",
    "    order = ['u','g','r','i','z']\n",
    "    best_periods = []\n",
    "    crv=[]\n",
    "    fltrs=[]\n",
    "    for f in order:\n",
    "        selfltr = (df['filter'] == f)\n",
    "        selfwhm = (df['fwhm'] <= 4.0)\n",
    "        sel = selfltr & selfwhm\n",
    "        t = df['mjd'][sel].values\n",
    "        y = df['mag_auto'][sel].values\n",
    "        dy = df['magerr_auto'][sel].values\n",
    "        if len(t) < 25:\n",
    "            continue\n",
    "\n",
    "        best_periods.append(get_ls_period(t,y,objname=objname,f=f))\n",
    "        crvi = np.vstack((t,y,dy)).T\n",
    "        crv.append(crvi[np.argsort(crvi[:,0])])\n",
    "        fltrs.append(f)\n",
    "    period = 0\n",
    "    for p in best_periods:\n",
    "        period += p/len(best_periods)\n",
    "    return crv, period, fltrs\n",
    "        \n",
    "def get_ls_period(t,y,min_freq=1./1.,max_freq=1./0.1,objname='_',f=''):\n",
    "    \"\"\"Use Lomb-Scargle periodogram to get an estimate on period\"\"\"\n",
    "    \n",
    "    ls = stats.LombScargle(t, y)\n",
    "    frequency, power = ls.autopower(minimum_frequency=min_freq,maximum_frequency=max_freq)\n",
    "    period = 1./frequency # period is the inverse of frequency\n",
    "    \n",
    "    best_period = period[np.argmax(power)]\n",
    "    \n",
    "#     plot_periodogram(period,power,best_period,objname=objname,f=f)\n",
    "    return best_period"
   ]
  },
  {
   "cell_type": "code",
   "execution_count": 5,
   "metadata": {
    "ExecuteTime": {
     "end_time": "2021-07-27T15:46:46.445778Z",
     "start_time": "2021-07-27T15:46:46.416856Z"
    }
   },
   "outputs": [],
   "source": [
    "gldorig = np.loadtxt('goldsample\\golden_original.txt',delimiter=',',dtype=str)\n",
    "gldrrab = np.loadtxt('goldsample\\golden_RRab.txt',delimiter=',',dtype=str)\n",
    "gldall  = np.union1d(gldorig,gldrrab)\n",
    "gldelse = list(set(gldall) - set(gldrrab))"
   ]
  },
  {
   "cell_type": "code",
   "execution_count": 1,
   "metadata": {
    "ExecuteTime": {
     "end_time": "2021-08-03T14:45:00.716341Z",
     "start_time": "2021-08-03T14:45:00.705718Z"
    },
    "scrolled": true
   },
   "outputs": [],
   "source": [
    "# t = Table.read('p_amp.fits')\n",
    "# # t['period'] = -99.99\n",
    "# t['type']   = '          '\n",
    "# t['utyp']   = '          '\n",
    "# t['uprob']  = -99.99\n",
    "# t['uflag']  = -1\n",
    "# t['undat']  = 0\n",
    "# t['gtyp']   = '          '\n",
    "# t['gprob']  = -99.99\n",
    "# t['gflag']  = -1\n",
    "# t['gndat']  = 0\n",
    "# t['rtyp']   = '          '\n",
    "# t['rprob']  = -99.99\n",
    "# t['rflag']  = -1\n",
    "# t['rndat']  = 0\n",
    "# t['ityp']   = '          '\n",
    "# t['iprob']  = -99.99\n",
    "# t['iflag']  = -1\n",
    "# t['indat']  = 0\n",
    "# t['ztyp']   = '          '\n",
    "# t['zprob']  = -99.99\n",
    "# t['zflag']  = -1\n",
    "# t['zndat']  = 0"
   ]
  },
  {
   "cell_type": "code",
   "execution_count": null,
   "metadata": {},
   "outputs": [],
   "source": []
  },
  {
   "cell_type": "code",
   "execution_count": null,
   "metadata": {
    "ExecuteTime": {
     "end_time": "2021-07-27T15:46:46.496643Z",
     "start_time": "2021-07-27T15:46:43.165Z"
    },
    "code_folding": [
     1,
     36
    ],
    "scrolled": true
   },
   "outputs": [],
   "source": [
    "# t = Table.read(\"rrl_res_raw.fits\",format='fits')\n",
    "# newones = set(gldall)-set(gldrrab)\n",
    "# for n,name in enumerate(gldall):\n",
    "#     crv,p_est,fltrs = get_data(name)\n",
    "#     periods = []\n",
    "#     for i,f in enumerate(fltrs):\n",
    "    \n",
    "#         rf_model = upsilon.load_rf_model()\n",
    "#         efeat = upsilon.ExtractFeatures(crv[i][:,0],crv[i][:,1],crv[i][:,2])\n",
    "#         efeat.run()\n",
    "#         feats = efeat.get_features()\n",
    "#         rf_model = upsilon.load_rf_model()\n",
    "#         label, probability, flag = upsilon.predict(rf_model, feats)\n",
    "                \n",
    "#         x = fdict[fltrs[i]]\n",
    "#         t[n]['{}typ'.format(f)] = label\n",
    "#         t[n]['{}prob'.format(f)] = probability\n",
    "#         t[n]['{}flag'.format(f)] = flag\n",
    "#         t[n]['{}ndat'.format(f)] = len(crv[i])\n",
    "#         periods.append(feats['period'])\n",
    "\n",
    "#     t[n]['period'] = np.mean(periods)\n",
    "#     uprob = t[n]['uprob']\n",
    "#     utyp  = t[n]['utyp']\n",
    "#     gprob = t[n]['gprob']\n",
    "#     gtyp  = t[n]['gtyp']\n",
    "#     rprob = t[n]['rprob']\n",
    "#     rtyp  = t[n]['rtyp']\n",
    "#     iprob = t[n]['iprob']\n",
    "#     ityp  = t[n]['ityp']\n",
    "#     zprob = t[n]['zprob']\n",
    "#     ztyp  = t[n]['ztyp']\n",
    "    \n",
    "#     m = np.argmax(np.array([[uprob,gprob,rprob,iprob,zprob]]))\n",
    "#     maxtyp = [utyp,gtyp,rtyp,ityp,ztyp][m]\n",
    "    \n",
    "#     t[n]['type'] = maxtyp\n",
    "\n",
    "# import os\n",
    "\n",
    "# if os.path.exists(\"rrl_res.fits\"):\n",
    "#     os.remove(\"rrl_res.fits\")\n",
    "# t.write(\"rrl_res.fits\",format='fits')"
   ]
  },
  {
   "cell_type": "code",
   "execution_count": null,
   "metadata": {
    "ExecuteTime": {
     "end_time": "2021-07-27T15:46:46.498638Z",
     "start_time": "2021-07-27T15:46:43.173Z"
    }
   },
   "outputs": [],
   "source": [
    "t"
   ]
  },
  {
   "cell_type": "code",
   "execution_count": null,
   "metadata": {
    "ExecuteTime": {
     "end_time": "2021-07-27T15:46:46.499635Z",
     "start_time": "2021-07-27T15:46:43.176Z"
    }
   },
   "outputs": [],
   "source": [
    "collections.Counter(t['type'])"
   ]
  },
  {
   "cell_type": "code",
   "execution_count": null,
   "metadata": {},
   "outputs": [],
   "source": []
  },
  {
   "cell_type": "code",
   "execution_count": null,
   "metadata": {
    "ExecuteTime": {
     "end_time": "2021-07-27T15:46:46.501629Z",
     "start_time": "2021-07-27T15:46:43.182Z"
    },
    "code_folding": []
   },
   "outputs": [],
   "source": [
    "# import csv\n",
    "# parampaths = glob('results2/*param.csv')\n",
    "# nms     = []\n",
    "# params  = []\n",
    "# pars    = []\n",
    "# periods = []\n",
    "# for path in parampaths:\n",
    "#     param = []\n",
    "#     fpars = []\n",
    "#     with open(path, newline='') as csvfile:\n",
    "#         csvreader = csv.reader(csvfile, delimiter=',')\n",
    "#         b     = True\n",
    "#         first = True\n",
    "#         for row in csvreader:\n",
    "#             if row[0] == '---':break\n",
    "#             if first:\n",
    "#                 periods.append(float(row[2][2:]))\n",
    "#                 first = False\n",
    "#                 continue\n",
    "#             if b:\n",
    "#                 param.append(row)\n",
    "#             else:\n",
    "#                 fpars.append(row)\n",
    "#             b = not b\n",
    "#     param = np.array(param)\n",
    "#     fpars = np.array(fpars)\n",
    "#     nms.append(path[9:-10])\n",
    "#     params.append(param)\n",
    "#     pars.append(fpars)\n",
    "# nms = np.array(nms)\n",
    "# pdict = {nms[i]:periods[i] for i in range(len(nms))}"
   ]
  },
  {
   "cell_type": "code",
   "execution_count": null,
   "metadata": {
    "ExecuteTime": {
     "end_time": "2021-07-27T15:46:46.503625Z",
     "start_time": "2021-07-27T15:46:43.185Z"
    }
   },
   "outputs": [],
   "source": [
    "amps  = []\n",
    "namps = []\n",
    "for i in range(len(pars)):\n",
    "    famps = []\n",
    "    for j in range(len(pars[i])):\n",
    "        famps.append(float(pars[i][j,1][4:]))\n",
    "    amps.append(np.array(famps))\n",
    "    \n",
    "    namps.append(amps[-1]/np.mean(amps[-1]))"
   ]
  },
  {
   "cell_type": "code",
   "execution_count": null,
   "metadata": {},
   "outputs": [],
   "source": []
  },
  {
   "cell_type": "code",
   "execution_count": null,
   "metadata": {
    "ExecuteTime": {
     "end_time": "2021-07-27T15:46:46.505619Z",
     "start_time": "2021-07-27T15:46:43.191Z"
    }
   },
   "outputs": [],
   "source": [
    "def"
   ]
  },
  {
   "cell_type": "code",
   "execution_count": null,
   "metadata": {
    "ExecuteTime": {
     "end_time": "2021-06-22T23:01:01.918514Z",
     "start_time": "2021-06-22T23:01:01.674264Z"
    }
   },
   "outputs": [],
   "source": []
  },
  {
   "cell_type": "code",
   "execution_count": null,
   "metadata": {},
   "outputs": [],
   "source": []
  },
  {
   "cell_type": "code",
   "execution_count": null,
   "metadata": {},
   "outputs": [],
   "source": []
  },
  {
   "cell_type": "code",
   "execution_count": null,
   "metadata": {
    "ExecuteTime": {
     "end_time": "2021-07-27T15:46:46.507614Z",
     "start_time": "2021-07-27T15:46:43.197Z"
    },
    "code_folding": [],
    "scrolled": true
   },
   "outputs": [],
   "source": [
    "figall, axall = plt.subplots()\n",
    "figu, axu = plt.subplots()\n",
    "figg, axg = plt.subplots()\n",
    "figr, axr = plt.subplots()\n",
    "figi, axi = plt.subplots()\n",
    "figz, axz = plt.subplots()\n",
    "for i in range(len(ceph_names)):\n",
    "    p = pdict[ceph_names[i]]\n",
    "    for fltr, crv in crvd[ceph_names[i]].items():\n",
    "        axall.scatter(crv[:,0]/p,crv[:,1]/max(crv[:,1]),s=1)\n",
    "        if fltr == 'u':\n",
    "            axu.scatter(crv[:,0]/p,crv[:,1]/max(crv[:,1]),s=1)\n",
    "        if fltr == 'g':\n",
    "            axg.scatter(crv[:,0]/p,crv[:,1]/max(crv[:,1]),s=1)\n",
    "        if fltr == 'r':\n",
    "            axr.scatter(crv[:,0]/p,crv[:,1]/max(crv[:,1]),s=1)\n",
    "        if fltr == 'i':\n",
    "            axi.scatter(crv[:,0]/p,crv[:,1]/max(crv[:,1]),s=1)\n",
    "        if fltr == 'z':\n",
    "            axz.scatter(crv[:,0]/p,crv[:,1]/max(crv[:,1]),s=1)"
   ]
  },
  {
   "cell_type": "code",
   "execution_count": null,
   "metadata": {
    "ExecuteTime": {
     "end_time": "2021-07-27T15:46:46.509608Z",
     "start_time": "2021-07-27T15:46:43.201Z"
    }
   },
   "outputs": [],
   "source": [
    "coeffs = np.polyfit(crv[:,0],crv[:,1],1)\n",
    "coeffs"
   ]
  },
  {
   "cell_type": "code",
   "execution_count": null,
   "metadata": {
    "ExecuteTime": {
     "end_time": "2021-07-27T15:46:46.511603Z",
     "start_time": "2021-07-27T15:46:43.204Z"
    }
   },
   "outputs": [],
   "source": [
    "x = np.arange(len(coeffs))\n",
    "y = np.array([np.sum(np.array([coeffs[i]*(j**i) for i in range(len(coeffs))])) for j in x])"
   ]
  },
  {
   "cell_type": "code",
   "execution_count": null,
   "metadata": {
    "ExecuteTime": {
     "end_time": "2021-07-27T15:46:46.512600Z",
     "start_time": "2021-07-27T15:46:43.206Z"
    }
   },
   "outputs": [],
   "source": [
    "ceph_inds = []\n",
    "for i,name in enumerate(t['id']):\n",
    "    if name in ceph_names:\n",
    "        ceph_inds.append(i)"
   ]
  },
  {
   "cell_type": "code",
   "execution_count": null,
   "metadata": {
    "ExecuteTime": {
     "end_time": "2021-07-27T15:46:46.514595Z",
     "start_time": "2021-07-27T15:46:43.208Z"
    }
   },
   "outputs": [],
   "source": [
    "t[ceph_inds]"
   ]
  },
  {
   "cell_type": "code",
   "execution_count": null,
   "metadata": {},
   "outputs": [],
   "source": []
  },
  {
   "cell_type": "code",
   "execution_count": null,
   "metadata": {
    "ExecuteTime": {
     "end_time": "2021-07-27T15:46:46.516589Z",
     "start_time": "2021-07-27T15:46:43.211Z"
    }
   },
   "outputs": [],
   "source": [
    "for i in range(len(ceph_names)):\n",
    "    if ceph_names[i] in ['189344_10414','190269_170897','191137_70691','191515_128100','151560_15723','192287_129783']:\n",
    "        print(i)"
   ]
  },
  {
   "cell_type": "code",
   "execution_count": null,
   "metadata": {
    "ExecuteTime": {
     "end_time": "2021-07-27T15:46:46.518585Z",
     "start_time": "2021-07-27T15:46:43.213Z"
    }
   },
   "outputs": [],
   "source": [
    "phshft = np.zeros(36)\n",
    "phshft[0]  += .02\n",
    "phshft[11] += .025\n",
    "phshft[23] += .025\n",
    "phshft[25] += .035\n",
    "phshft[28] += .02\n",
    "phshft[32] -= .02\n",
    "\n",
    "amp = np.ones(36)\n",
    "amp[0]  = 1.05\n",
    "amp[9]  = 0.95\n",
    "amp[19] = 1.08\n",
    "amp[20] = 1.05\n",
    "amp[12] = 1.25\n",
    "amp[22] = 1.7\n",
    "\n",
    "yoffset = np.zeros(36)\n",
    "yoffset[14] = -.175"
   ]
  },
  {
   "cell_type": "code",
   "execution_count": null,
   "metadata": {
    "ExecuteTime": {
     "end_time": "2021-07-27T15:46:46.520580Z",
     "start_time": "2021-07-27T15:46:43.215Z"
    },
    "scrolled": true
   },
   "outputs": [],
   "source": [
    "fig, ax = plt.subplots(36,figsize=(15,150))\n",
    "count = 0\n",
    "tt = []\n",
    "yy = []\n",
    "plist = []\n",
    "for i in range(36):\n",
    "    p = pdict[ceph_names[i]]\n",
    "    plist.append(p)\n",
    "    \n",
    "    if 'g' in crvd[ceph_names[i]].keys():\n",
    "        crv = crvd[ceph_names[i]]['g']\n",
    "        tt.append((crv[:,0]/p+phshft[i])%1)\n",
    "        yy.append(crv[:,1]/max(crv[:,1]))\n",
    "        count = count + 1\n",
    "        ax[i].scatter((crv[:,0]/p+phshft[i])%1,amp[i]*crv[:,1]/max(crv[:,1]),label=i,s=20)\n",
    "        ax[i].set_ylim(-.1,1.1)\n",
    "    \n",
    "    \n",
    "    for j in [25,26,28,29,32]:\n",
    "        pj = pdict[ceph_names[j]]\n",
    "        crvj = crvd[ceph_names[j]]['g']\n",
    "        ax[i].scatter((crvj[:,0]/pj+phshft[j])%1,amp[j]*crvj[:,1]/max(crvj[:,1]),label=j,s=2)\n",
    "\n",
    "    ax[i].legend()"
   ]
  },
  {
   "cell_type": "markdown",
   "metadata": {},
   "source": [
    "[35] no g<br>\n",
    "[34,15,26,28,31],[9?,18?,23?,25?,29?]<br>\n",
    "[33,9,10,11,19,27,28],[2?,4?,23?,29?]<br>\n",
    "[32,29],[13?,17?,18?,28?,30?],[~5,~6,~7]<br>\n",
    "[31,9,,10,26,34],[28?]<br>\n",
    "[30,15,25,26,32],[2?,7?,17?,18?]<br>\n",
    "[29,0,15,25,26,28],[6?,7?,17?,18?,32?,34?,30?]<br>\n",
    "[28,19,26,29,31],[7?,15?,25?,34?]<br>\n",
    "[27,19],[1?,4?,11?]<br>\n",
    "[26,18,28,29,32],[13?,17?,25?]\n",
    "[25,15],[0?,14?,17?,18?,26?,28?,29?]<br>\n",
    "[24] no g<br>\n",
    "[23] Left side is off<br>\n",
    "[22,5,20],[1?,6?,7?,13?]<br>\n",
    "[21] Bad<br>\n",
    "[20,5,22],[13?]<br>\n",
    "[19,2,9,10],[11?,33?]<br>\n",
    "[18,9,13,17,26,29],[6?,7?,15?,22,25?,28?]<br>\n",
    "[17,13,18,22,26,32],[5?,6?,20?,25?,28?,29?,30?]<br>\n",
    "[16,4,11,12],[27?]<br>\n",
    "[15,0,7,25,26,28,29,30,32],[14?,18?,31?,34?]<br>\n",
    "[14,0],[25?,28?,29?]<br>\n",
    "[13,1,5,6,17,18,20,22,25,26,29,32],[7?,28?,30?,31?]<br>\n",
    "[12,2,16,9,19,33],[4?,8?,10?,11?]<br>\n",
    "[11,9,10,19,33],[2?,4?,16?,23?,27?]<br>\n",
    "[10,2,9,11,19,22,31],[13?]<br>\n",
    "[9,2,11,19,22,23,26,28,29,33,34]<br>\n",
    "[8] Bad<br>\n",
    "[7,0,6,15,22,29]<br>\n",
    "[6,0,7,13,28],[20?,22?]<br>\n",
    "[5,1,6,13,20,27],[22?]<br>\n",
    "[4,9,10,11,12,16,19,27,33]<br>\n",
    "[3]<br>\n",
    "[2,4,9,10,11,19],[23?]<br>\n",
    "[1,5,20,27]<br>\n",
    "[0,6,7,14,25,28,29,32]<br>\n",
    "RRLab?   t [17,18]<br>\n",
    "irr [3,21,8]<br>"
   ]
  },
  {
   "cell_type": "markdown",
   "metadata": {},
   "source": [
    "[17,13,18,22,26,32]<br>\n",
    "13: good on right side, bad in middle, maybe RRL ab?<br>\n",
    "17: Looks like RRL ab<br>\n",
    "22: Messy, hard to tell amplitude due to outlier"
   ]
  },
  {
   "cell_type": "code",
   "execution_count": null,
   "metadata": {
    "ExecuteTime": {
     "end_time": "2021-05-11T21:32:45.181127Z",
     "start_time": "2021-05-11T21:32:44.931747Z"
    }
   },
   "outputs": [],
   "source": []
  },
  {
   "cell_type": "code",
   "execution_count": null,
   "metadata": {},
   "outputs": [],
   "source": []
  },
  {
   "cell_type": "code",
   "execution_count": null,
   "metadata": {
    "ExecuteTime": {
     "end_time": "2021-07-27T15:46:46.522574Z",
     "start_time": "2021-07-27T15:46:43.219Z"
    },
    "scrolled": false
   },
   "outputs": [],
   "source": [
    "fig, ax = plt.subplots(2,figsize=(10,7))\n",
    "for i in [25,26,28,29,32]:\n",
    "    if 'g' in crvd[ceph_names[i]].keys():\n",
    "        crv = crvd[ceph_names[i]]['g']\n",
    "        p = pdict[ceph_names[i]]\n",
    "        tt.append((crv[:,0]/p+phshft[i])%1)\n",
    "        yy.append(crv[:,1]/max(crv[:,1]))\n",
    "        size=5\n",
    "        ax[0].scatter((crv[:,0]/p+phshft[i])%1,amp[i]*crv[:,1]/max(crv[:,1])+yoffset[i],label=i,s=size)\n",
    "        ax[1].scatter((crv[:,0]/p+phshft[i])%1,amp[i]*crv[:,1]/max(crv[:,1])+yoffset[i],label=i,s=2,c='black')\n",
    "\n",
    "for j in []:\n",
    "    if 'g' in crvd[ceph_names[j]].keys():\n",
    "        crv = crvd[ceph_names[j]]['g']\n",
    "        p = pdict[ceph_names[j]]\n",
    "        tt.append((crv[:,0]/p+phshft[j])%1)\n",
    "        yy.append(crv[:,1]/max(crv[:,1]))\n",
    "        ax[1].scatter((crv[:,0]/p+phshft[j])%1,amp[j]*crv[:,1]/max(crv[:,1])+yoffset[j],label=j,s=30)\n",
    "\n",
    "ax[0].set_ylim(-.1,1.1)\n",
    "ax[0].legend()\n",
    "ax[1].set_ylim(-.1,1.1)\n",
    "ax[1].legend()"
   ]
  },
  {
   "cell_type": "code",
   "execution_count": null,
   "metadata": {
    "ExecuteTime": {
     "end_time": "2021-07-27T15:46:46.523571Z",
     "start_time": "2021-07-27T15:46:43.221Z"
    },
    "scrolled": false
   },
   "outputs": [],
   "source": [
    "fig, ax = plt.subplots(2,figsize=(10,7))\n",
    "for i in [2,9,10,19]:#[2,9,10,11,19]:\n",
    "    if 'g' in crvd[ceph_names[i]].keys():\n",
    "        crv = crvd[ceph_names[i]]['g']\n",
    "        p = pdict[ceph_names[i]]\n",
    "        tt.append((crv[:,0]/p+phshft[i])%1)\n",
    "        yy.append(crv[:,1]/max(crv[:,1]))\n",
    "        size=5\n",
    "        ax[0].scatter((crv[:,0]/p+phshft[i])%1,amp[i]*crv[:,1]/max(crv[:,1])+yoffset[i],label=i,s=size)\n",
    "        ax[1].scatter((crv[:,0]/p+phshft[i])%1,amp[i]*crv[:,1]/max(crv[:,1])+yoffset[i],label=i,s=2,c='black')\n",
    "\n",
    "for j in [11]:\n",
    "    if 'g' in crvd[ceph_names[j]].keys():\n",
    "        crv = crvd[ceph_names[j]]['g']\n",
    "        p = pdict[ceph_names[j]]\n",
    "        tt.append((crv[:,0]/p+phshft[j])%1)\n",
    "        yy.append(crv[:,1]/max(crv[:,1]))\n",
    "        ax[1].scatter((crv[:,0]/p+phshft[j])%1,amp[j]*crv[:,1]/max(crv[:,1])+yoffset[j],label=j,s=5)\n",
    "\n",
    "ax[0].set_ylim(-.1,1.1)\n",
    "ax[0].legend()\n",
    "ax[1].set_ylim(-.1,1.1)\n",
    "ax[1].legend()"
   ]
  },
  {
   "cell_type": "code",
   "execution_count": null,
   "metadata": {
    "ExecuteTime": {
     "end_time": "2021-07-27T15:46:46.525566Z",
     "start_time": "2021-07-27T15:46:43.223Z"
    }
   },
   "outputs": [],
   "source": [
    "for i in [25,26,28,29,32]:\n",
    "    crv = crvd[ceph_names[i]]['g']\n",
    "    print(\"{:2}: {:.3f}, {:.4f}\".format(i,plist[i],max(crv[:,1])-min(crv[:,1])))"
   ]
  },
  {
   "cell_type": "code",
   "execution_count": null,
   "metadata": {
    "ExecuteTime": {
     "end_time": "2021-07-27T15:46:46.527560Z",
     "start_time": "2021-07-27T15:46:43.225Z"
    }
   },
   "outputs": [],
   "source": [
    "for j in [0,15,31,34]:\n",
    "    crv = crvd[ceph_names[j]]['g']\n",
    "    print(\"{:2}: {:.3f}, {:.4f}\".format(j,plist[j],max(crv[:,1])-min(crv[:,1])))"
   ]
  },
  {
   "cell_type": "code",
   "execution_count": null,
   "metadata": {
    "ExecuteTime": {
     "end_time": "2021-07-27T15:46:46.529556Z",
     "start_time": "2021-07-27T15:46:43.229Z"
    }
   },
   "outputs": [],
   "source": [
    "ceph_names[34]"
   ]
  },
  {
   "cell_type": "code",
   "execution_count": null,
   "metadata": {},
   "outputs": [],
   "source": []
  },
  {
   "cell_type": "code",
   "execution_count": null,
   "metadata": {
    "ExecuteTime": {
     "end_time": "2021-07-27T15:46:46.552496Z",
     "start_time": "2021-07-27T15:46:43.233Z"
    }
   },
   "outputs": [],
   "source": [
    "crv = crvd[ceph_names[15]]['g']\n",
    "plt.scatter(crv[:,0],crv[:,1])"
   ]
  },
  {
   "cell_type": "code",
   "execution_count": null,
   "metadata": {},
   "outputs": [],
   "source": []
  },
  {
   "cell_type": "code",
   "execution_count": null,
   "metadata": {
    "ExecuteTime": {
     "end_time": "2021-07-27T15:46:46.554488Z",
     "start_time": "2021-07-27T15:46:43.237Z"
    }
   },
   "outputs": [],
   "source": [
    "mcrv = np.vstack((tt,yy)).T\n",
    "crv1 = mcrv[mcrv[:,0].argsort()]\n",
    "#bspline fit\n",
    "t,c,k = interpolate.splrep(crv1[:,0],crv1[:,1],s=5,k=5)\n",
    "spline = interpolate.BSpline(t,c,k)\n",
    "plt.scatter(crv1[:,0],crv1[:,1],s=3)\n",
    "plt.plot(crv1[:,0],spline(crv1[:,0]),c='k')"
   ]
  },
  {
   "cell_type": "markdown",
   "metadata": {},
   "source": [
    "scipy.interpolate.LSQUnivariateSpline"
   ]
  },
  {
   "cell_type": "markdown",
   "metadata": {},
   "source": [
    "#10 has good coverage but too wide\n",
    "#12 and #13 #14 #15 #5 #17\n",
    "\n",
    "short:\n",
    "#3, #16\n",
    "\n",
    "bad period?\n",
    "#18 #6"
   ]
  },
  {
   "cell_type": "code",
   "execution_count": null,
   "metadata": {
    "ExecuteTime": {
     "end_time": "2021-07-27T15:46:46.556483Z",
     "start_time": "2021-07-27T15:46:43.240Z"
    }
   },
   "outputs": [],
   "source": [
    "# figall, axall = plt.subplots()\n",
    "figg, axg = plt.subplots()\n",
    "# figr, axr = plt.subplots()\n",
    "# figi, axi = plt.subplots()\n",
    "# figz, axz = plt.subplots()\n",
    "count = 0\n",
    "phshft = np.zeros(20)\n",
    "for i in [4,9,10,11,12,16,19,27,33]:\n",
    "    p = pdict[ceph_names2[i]]\n",
    "    print((i,p))\n",
    "    for fltr, crv in crvd[ceph_names2[i]].items():\n",
    "        m = int(len(crv)*0)\n",
    "        n = int(len(crv)*1)\n",
    "#         axall.scatter(crv[m:n,0]/p,crv[m:n,1]/max(crv[:,1]))\n",
    "        if fltr == 'g':\n",
    "            count = count + 1\n",
    "            axg.scatter(crv[m:n,0]/p+phshft[i],crv[m:n,1]/max(crv[:,1]),label=i,s=5)\n",
    "axg.legend()\n",
    "#         if fltr == 'r':\n",
    "#             axr.scatter(crv[m:n,0]/p,crv[m:n,1]/max(crv[:,1]))\n",
    "#         if fltr == 'i':\n",
    "#             axi.scatter(crv[m:n,0]/p,crv[m:n,1]/max(crv[:,1]))\n",
    "#         if fltr == 'z':\n",
    "#             axz.scatter(crv[m:n,0]/p,crv[m:n,1]/max(crv[:,1]))\n",
    "#             coeffs = np.polyfit(crv[m:n,0],crv[m:n,1],2)\n",
    "#             y = np.array([np.sum(np.array([coeffs[i]*(j**i) for i in range(len(coeffs))])) for j in crv[m:n,0]])\n",
    "#             #axz.plot(y,crv[m:n,0])"
   ]
  },
  {
   "cell_type": "code",
   "execution_count": null,
   "metadata": {
    "ExecuteTime": {
     "end_time": "2021-07-27T15:46:46.558478Z",
     "start_time": "2021-07-27T15:46:43.244Z"
    }
   },
   "outputs": [],
   "source": [
    "mcrv = np.vstack((t2,y2)).T\n",
    "crv1 = mcrv[mcrv[:,0].argsort()]\n",
    "#bspline fit\n",
    "t,c,k = interpolate.splrep(crv1[:,0],crv1[:,1],s=1.1,k=5)\n",
    "spline = interpolate.BSpline(t,c,k)\n",
    "plt.scatter(crv1[:,0],crv1[:,1],s=3)\n",
    "plt.plot(crv1[:,0],spline(crv1[:,0]),c='k')"
   ]
  },
  {
   "cell_type": "code",
   "execution_count": null,
   "metadata": {},
   "outputs": [],
   "source": []
  },
  {
   "cell_type": "code",
   "execution_count": null,
   "metadata": {},
   "outputs": [],
   "source": []
  },
  {
   "cell_type": "code",
   "execution_count": null,
   "metadata": {},
   "outputs": [],
   "source": []
  },
  {
   "cell_type": "code",
   "execution_count": null,
   "metadata": {
    "ExecuteTime": {
     "end_time": "2021-07-27T15:46:46.559474Z",
     "start_time": "2021-07-27T15:46:43.251Z"
    }
   },
   "outputs": [],
   "source": [
    "figall, axall = plt.subplots()\n",
    "figu, axu = plt.subplots()\n",
    "figg, axg = plt.subplots()\n",
    "figr, axr = plt.subplots()\n",
    "figi, axi = plt.subplots()\n",
    "figz, axz = plt.subplots()\n",
    "for i in range(len(ceph_names)):\n",
    "    p = pdict[ceph_names[i]]\n",
    "    fig1, ax1 = plt.subplots()\n",
    "    for fltr, crv in crvd[ceph_names[i]].items():\n",
    "        axall.scatter(crv[:,0]/p,crv[:,1]/max(crv[:,1]))\n",
    "        ax1.scatter(crv[:,0]/p,crv[:,1]/max(crv[:,1]),c=cf[fltr],label=fltr)\n",
    "        if fltr == 'u':\n",
    "            axu.scatter(crv[:,0]/p,crv[:,1]/max(crv[:,1]))\n",
    "        if fltr == 'g':\n",
    "            axg.scatter(crv[:,0]/p,crv[:,1]/max(crv[:,1]))\n",
    "        if fltr == 'r':\n",
    "            axr.scatter(crv[:,0]/p,crv[:,1]/max(crv[:,1]))\n",
    "        if fltr == 'i':\n",
    "            axi.scatter(crv[:,0]/p,crv[:,1]/max(crv[:,1]))\n",
    "        if fltr == 'z':\n",
    "            axz.scatter(crv[:,0]/p,crv[:,1]/max(crv[:,1]))\n",
    "    ax1.set_title('{} - Phased Normalized'.format(ceph_names[i]))\n",
    "    ax1.legend()\n",
    "    fig1.savefig('overplot/{}_phased_norm.pdf'.format(ceph_names[i]))\n",
    "    plt.close(fig1)\n",
    "axu.set_title('u - Phased Normalized')\n",
    "figu.savefig('overplot/u_phased_norm.pdf')\n",
    "plt.close(figu)\n",
    "axg.set_title('g - Phased Normalized')\n",
    "figg.savefig('overplot/g_phased_norm.pdf')\n",
    "plt.close(figg)\n",
    "axr.set_title('r - Phased Normalized')\n",
    "figr.savefig('overplot/r_phased_norm.pdf')\n",
    "plt.close(figr)\n",
    "axi.set_title('i - Phased Normalized')\n",
    "figi.savefig('overplot/i_phased_norm.pdf')\n",
    "plt.close(figi)\n",
    "axz.set_title('z - Phased Normalized')\n",
    "figz.savefig('overplot/z_phased_norm.pdf')\n",
    "plt.close(figz)\n",
    "axall.set_title('All - Phased Normalized')\n",
    "figall.savefig('overplot/all_phased_norm.pdf')\n",
    "plt.close(figall)"
   ]
  },
  {
   "cell_type": "code",
   "execution_count": null,
   "metadata": {},
   "outputs": [],
   "source": []
  },
  {
   "cell_type": "code",
   "execution_count": null,
   "metadata": {},
   "outputs": [],
   "source": []
  },
  {
   "cell_type": "code",
   "execution_count": null,
   "metadata": {},
   "outputs": [],
   "source": []
  }
 ],
 "metadata": {
  "kernelspec": {
   "display_name": "Python 3",
   "language": "python",
   "name": "python3"
  },
  "language_info": {
   "codemirror_mode": {
    "name": "ipython",
    "version": 3
   },
   "file_extension": ".py",
   "mimetype": "text/x-python",
   "name": "python",
   "nbconvert_exporter": "python",
   "pygments_lexer": "ipython3",
   "version": "3.7.4"
  }
 },
 "nbformat": 4,
 "nbformat_minor": 2
}
