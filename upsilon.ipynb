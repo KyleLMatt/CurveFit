{
 "cells": [
  {
   "cell_type": "code",
   "execution_count": 3,
   "metadata": {
    "ExecuteTime": {
     "end_time": "2021-06-28T00:42:34.397408Z",
     "start_time": "2021-06-28T00:42:34.385480Z"
    }
   },
   "outputs": [],
   "source": [
    "import warnings\n",
    "warnings.filterwarnings('ignore')"
   ]
  },
  {
   "cell_type": "code",
   "execution_count": 4,
   "metadata": {
    "ExecuteTime": {
     "end_time": "2021-06-28T00:42:35.012574Z",
     "start_time": "2021-06-28T00:42:34.993662Z"
    }
   },
   "outputs": [],
   "source": [
    "import numpy as np\n",
    "from glob import glob\n",
    "import upsilon\n",
    "import matplotlib.pyplot as plt\n",
    "from scipy.interpolate import interp1d\n",
    "import scipy.interpolate as interpolate\n",
    "from scipy.optimize import curve_fit, least_squares\n",
    "from statistics import mean, median\n",
    "import pandas as pd\n",
    "from dl import queryClient as qc\n",
    "import collections\n",
    "from astropy import stats\n",
    "from astropy.table import Table\n",
    "import os\n",
    "import utils"
   ]
  },
  {
   "cell_type": "code",
   "execution_count": 3,
   "metadata": {
    "ExecuteTime": {
     "end_time": "2021-06-02T20:33:42.678262Z",
     "start_time": "2021-06-02T20:33:42.632384Z"
    }
   },
   "outputs": [],
   "source": [
    "if not os.path.exists('results2/plots'):\n",
    "    os.makedirs('results2/plots')"
   ]
  },
  {
   "cell_type": "code",
   "execution_count": null,
   "metadata": {},
   "outputs": [],
   "source": []
  },
  {
   "cell_type": "code",
   "execution_count": 29,
   "metadata": {
    "ExecuteTime": {
     "end_time": "2021-06-28T03:47:40.881102Z",
     "start_time": "2021-06-28T03:47:40.855172Z"
    },
    "code_folding": [
     0,
     29
    ]
   },
   "outputs": [],
   "source": [
    "def get_data(objname):\n",
    "    df=qc.query(sql=\"\"\"SELECT meas.* \n",
    "                     FROM nsc_dr2.meas\n",
    "                     WHERE objectid='{:s}'\"\"\".format(objname),\n",
    "              fmt='pandas',\n",
    "              profile='db01')\n",
    "    order = ['u','g','r','i','z']\n",
    "    best_periods = []\n",
    "    crv=[]\n",
    "    fltrs=[]\n",
    "    for f in order:\n",
    "        selfltr = (df['filter'] == f)\n",
    "        selfwhm = (df['fwhm'] <= 4.0)\n",
    "        sel = selfltr & selfwhm\n",
    "        t = df['mjd'][sel].values\n",
    "        y = df['mag_auto'][sel].values\n",
    "        dy = df['magerr_auto'][sel].values\n",
    "        if len(t) < 25:\n",
    "            continue\n",
    "\n",
    "        best_periods.append(get_ls_period(t,y,objname=objname,f=f))\n",
    "        crvi = np.vstack((t,y,dy)).T\n",
    "        crv.append(crvi[np.argsort(crvi[:,0])])\n",
    "        fltrs.append(f)\n",
    "    period = 0\n",
    "    for p in best_periods:\n",
    "        period += p/len(best_periods)\n",
    "    return crv, period, fltrs\n",
    "        \n",
    "def get_ls_period(t,y,min_freq=1./1.,max_freq=1./0.1,objname='_',f=''):\n",
    "    \"\"\"Use Lomb-Scargle periodogram to get an estimate on period\"\"\"\n",
    "    \n",
    "    ls = stats.LombScargle(t, y)\n",
    "    frequency, power = ls.autopower(minimum_frequency=min_freq,maximum_frequency=max_freq)\n",
    "    period = 1./frequency # period is the inverse of frequency\n",
    "    \n",
    "    best_period = period[np.argmax(power)]\n",
    "    \n",
    "#     plot_periodogram(period,power,best_period,objname=objname,f=f)\n",
    "    return best_period"
   ]
  },
  {
   "cell_type": "code",
   "execution_count": 5,
   "metadata": {
    "ExecuteTime": {
     "end_time": "2021-06-02T20:33:42.741100Z",
     "start_time": "2021-06-02T20:33:42.719152Z"
    }
   },
   "outputs": [],
   "source": [
    "interesting = []\n",
    "for obj in glob('interesting/*'):\n",
    "    interesting.append(obj[12:-15])"
   ]
  },
  {
   "cell_type": "code",
   "execution_count": 6,
   "metadata": {
    "ExecuteTime": {
     "end_time": "2021-06-02T20:33:42.802928Z",
     "start_time": "2021-06-02T20:33:42.750071Z"
    },
    "scrolled": true
   },
   "outputs": [],
   "source": [
    "t=Table([interesting],names=['id'])\n",
    "t['period'] = -99.99\n",
    "t['type']   = '          '\n",
    "t['utyp']   = '          '\n",
    "t['uprob']  = -99.99\n",
    "t['uflag']  = -1\n",
    "t['undat']  = 0\n",
    "t['gtyp']   = '          '\n",
    "t['gprob']  = -99.99\n",
    "t['gflag']  = -1\n",
    "t['gndat']  = 0\n",
    "t['rtyp']   = '          '\n",
    "t['rprob']  = -99.99\n",
    "t['rflag']  = -1\n",
    "t['rndat']  = 0\n",
    "t['ityp']   = '          '\n",
    "t['iprob']  = -99.99\n",
    "t['iflag']  = -1\n",
    "t['indat']  = 0\n",
    "t['ztyp']   = '          '\n",
    "t['zprob']  = -99.99\n",
    "t['zflag']  = -1\n",
    "t['zndat']  = 0"
   ]
  },
  {
   "cell_type": "code",
   "execution_count": null,
   "metadata": {
    "ExecuteTime": {
     "end_time": "2021-04-07T08:17:26.969842Z",
     "start_time": "2021-04-07T08:17:26.866117Z"
    }
   },
   "outputs": [],
   "source": []
  },
  {
   "cell_type": "code",
   "execution_count": 28,
   "metadata": {
    "ExecuteTime": {
     "end_time": "2021-06-02T20:56:41.167792Z",
     "start_time": "2021-06-02T20:56:41.126902Z"
    },
    "code_folding": [
     1,
     36
    ],
    "scrolled": true
   },
   "outputs": [
    {
     "data": {
      "text/html": [
       "<i>Table length=1295</i>\n",
       "<table id=\"table2533920603720\" class=\"table-striped table-bordered table-condensed\">\n",
       "<thead><tr><th>id</th><th>period</th><th>type</th><th>utyp</th><th>uprob</th><th>uflag</th><th>undat</th><th>gtyp</th><th>gprob</th><th>gflag</th><th>gndat</th><th>rtyp</th><th>rprob</th><th>rflag</th><th>rndat</th><th>ityp</th><th>iprob</th><th>iflag</th><th>indat</th><th>ztyp</th><th>zprob</th><th>zflag</th><th>zndat</th></tr></thead>\n",
       "<thead><tr><th>bytes13</th><th>float64</th><th>bytes10</th><th>bytes10</th><th>float64</th><th>int32</th><th>int32</th><th>bytes10</th><th>float64</th><th>int32</th><th>int32</th><th>bytes10</th><th>float64</th><th>int32</th><th>int32</th><th>bytes10</th><th>float64</th><th>int32</th><th>int32</th><th>bytes10</th><th>float64</th><th>int32</th><th>int32</th></tr></thead>\n",
       "<tr><td>100047_2267</td><td>-99.99</td><td>RRL_ab</td><td>RRL_ab</td><td>0.86</td><td>1</td><td>70</td><td>RRL_ab</td><td>0.95</td><td>0</td><td>258</td><td>RRL_ab</td><td>0.96</td><td>0</td><td>256</td><td>RRL_ab</td><td>0.97</td><td>0</td><td>267</td><td>RRL_ab</td><td>1.0</td><td>0</td><td>235</td></tr>\n",
       "<tr><td>100413_6560</td><td>-99.99</td><td>EB_ED</td><td>DSCT</td><td>0.3</td><td>1</td><td>48</td><td>EB_ED</td><td>0.48</td><td>1</td><td>31</td><td>EB_ED</td><td>0.47</td><td>1</td><td>35</td><td></td><td>-99.99</td><td>-1</td><td>0</td><td></td><td>-99.99</td><td>-1</td><td>0</td></tr>\n",
       "<tr><td>100826_1474</td><td>-99.99</td><td>CEPH_Other</td><td></td><td>-99.99</td><td>-1</td><td>0</td><td>CEPH_Other</td><td>0.42</td><td>1</td><td>83</td><td></td><td>-99.99</td><td>-1</td><td>0</td><td></td><td>-99.99</td><td>-1</td><td>0</td><td></td><td>-99.99</td><td>-1</td><td>0</td></tr>\n",
       "<tr><td>100828_28520</td><td>-99.99</td><td>RRL_ab</td><td></td><td>-99.99</td><td>-1</td><td>0</td><td>RRL_ab</td><td>0.8</td><td>1</td><td>91</td><td></td><td>-99.99</td><td>-1</td><td>0</td><td></td><td>-99.99</td><td>-1</td><td>0</td><td></td><td>-99.99</td><td>-1</td><td>0</td></tr>\n",
       "<tr><td>101068_6327</td><td>-99.99</td><td>EB_EC</td><td>EB_EC</td><td>0.69</td><td>1</td><td>32</td><td>EB_EC</td><td>0.64</td><td>1</td><td>40</td><td>EB_EC</td><td>0.63</td><td>1</td><td>49</td><td>EB_EC</td><td>0.43</td><td>1</td><td>54</td><td>EB_EC</td><td>0.58</td><td>1</td><td>57</td></tr>\n",
       "<tr><td>101313_10442</td><td>-99.99</td><td>EB_EC</td><td></td><td>-99.99</td><td>-1</td><td>0</td><td>EB_EC</td><td>0.85</td><td>1</td><td>1137</td><td></td><td>-99.99</td><td>-1</td><td>0</td><td></td><td>-99.99</td><td>-1</td><td>0</td><td></td><td>-99.99</td><td>-1</td><td>0</td></tr>\n",
       "<tr><td>101825_934</td><td>-99.99</td><td>RRL_ab</td><td></td><td>-99.99</td><td>-1</td><td>0</td><td>RRL_ab</td><td>0.52</td><td>1</td><td>1130</td><td></td><td>-99.99</td><td>-1</td><td>0</td><td></td><td>-99.99</td><td>-1</td><td>0</td><td></td><td>-99.99</td><td>-1</td><td>0</td></tr>\n",
       "<tr><td>102337_12820</td><td>-99.99</td><td>EB_EC</td><td></td><td>-99.99</td><td>-1</td><td>0</td><td>EB_EC</td><td>0.86</td><td>1</td><td>1141</td><td></td><td>-99.99</td><td>-1</td><td>0</td><td></td><td>-99.99</td><td>-1</td><td>0</td><td></td><td>-99.99</td><td>-1</td><td>0</td></tr>\n",
       "<tr><td>102338_5844</td><td>-99.99</td><td>DSCT</td><td></td><td>-99.99</td><td>-1</td><td>0</td><td>DSCT</td><td>0.35</td><td>1</td><td>378</td><td></td><td>-99.99</td><td>-1</td><td>0</td><td></td><td>-99.99</td><td>-1</td><td>0</td><td></td><td>-99.99</td><td>-1</td><td>0</td></tr>\n",
       "<tr><td>102731_1034</td><td>-99.99</td><td>EB_EC</td><td></td><td>-99.99</td><td>-1</td><td>0</td><td></td><td>-99.99</td><td>-1</td><td>0</td><td></td><td>-99.99</td><td>-1</td><td>0</td><td>EB_EC</td><td>0.27</td><td>0</td><td>148</td><td></td><td>-99.99</td><td>-1</td><td>0</td></tr>\n",
       "<tr><td>...</td><td>...</td><td>...</td><td>...</td><td>...</td><td>...</td><td>...</td><td>...</td><td>...</td><td>...</td><td>...</td><td>...</td><td>...</td><td>...</td><td>...</td><td>...</td><td>...</td><td>...</td><td>...</td><td>...</td><td>...</td><td>...</td><td>...</td></tr>\n",
       "<tr><td>98387_1666</td><td>-99.99</td><td>DSCT</td><td></td><td>-99.99</td><td>-1</td><td>0</td><td>DSCT</td><td>0.54</td><td>1</td><td>42</td><td>EB_EC</td><td>0.24</td><td>1</td><td>38</td><td></td><td>-99.99</td><td>-1</td><td>0</td><td></td><td>-99.99</td><td>-1</td><td>0</td></tr>\n",
       "<tr><td>98403_9102</td><td>-99.99</td><td>DSCT</td><td>DSCT</td><td>0.37</td><td>1</td><td>25</td><td>DSCT</td><td>0.38</td><td>1</td><td>32</td><td>EB_EC</td><td>0.38</td><td>1</td><td>35</td><td></td><td>-99.99</td><td>-1</td><td>0</td><td>DSCT</td><td>0.51</td><td>1</td><td>27</td></tr>\n",
       "<tr><td>98585_1192</td><td>-99.99</td><td>EB_EC</td><td></td><td>-99.99</td><td>-1</td><td>0</td><td></td><td>-99.99</td><td>-1</td><td>0</td><td></td><td>-99.99</td><td>-1</td><td>0</td><td>DSCT</td><td>0.37</td><td>1</td><td>27</td><td>EB_EC</td><td>0.56</td><td>1</td><td>28</td></tr>\n",
       "<tr><td>98622_14081</td><td>-99.99</td><td>RRL_c</td><td></td><td>-99.99</td><td>-1</td><td>0</td><td>RRL_c</td><td>0.58</td><td>0</td><td>117</td><td></td><td>-99.99</td><td>-1</td><td>0</td><td></td><td>-99.99</td><td>-1</td><td>0</td><td></td><td>-99.99</td><td>-1</td><td>0</td></tr>\n",
       "<tr><td>98836_661</td><td>-99.99</td><td>RRL_ab</td><td></td><td>-99.99</td><td>-1</td><td>0</td><td>RRL_ab</td><td>0.94</td><td>1</td><td>182</td><td></td><td>-99.99</td><td>-1</td><td>0</td><td></td><td>-99.99</td><td>-1</td><td>0</td><td></td><td>-99.99</td><td>-1</td><td>0</td></tr>\n",
       "<tr><td>99385_29495</td><td>-99.99</td><td>EB_EC</td><td>EB_ESD</td><td>0.31</td><td>0</td><td>80</td><td>DSCT</td><td>0.37</td><td>0</td><td>168</td><td>EB_ESD</td><td>0.37</td><td>0</td><td>170</td><td>DSCT</td><td>0.24</td><td>0</td><td>169</td><td>EB_EC</td><td>0.43</td><td>0</td><td>146</td></tr>\n",
       "<tr><td>99530_929</td><td>-99.99</td><td>RRL_ab</td><td>RRL_d</td><td>0.33</td><td>1</td><td>30</td><td>RRL_ab</td><td>0.66</td><td>1</td><td>44</td><td>RRL_ab</td><td>0.67</td><td>1</td><td>48</td><td>RRL_ab</td><td>0.46</td><td>1</td><td>56</td><td>RRL_ab</td><td>0.59</td><td>1</td><td>64</td></tr>\n",
       "<tr><td>99770_15284</td><td>-99.99</td><td>EB_EC</td><td>EB_EC</td><td>0.51</td><td>1</td><td>67</td><td>EB_EC</td><td>0.52</td><td>0</td><td>234</td><td>EB_EC</td><td>0.52</td><td>0</td><td>224</td><td>EB_EC</td><td>0.52</td><td>0</td><td>212</td><td>EB_EC</td><td>0.57</td><td>0</td><td>210</td></tr>\n",
       "<tr><td>99796_35</td><td>-99.99</td><td>RRL_ab</td><td>RRL_ab</td><td>0.68</td><td>1</td><td>38</td><td>RRL_ab</td><td>0.71</td><td>0</td><td>124</td><td>RRL_ab</td><td>0.72</td><td>0</td><td>127</td><td>RRL_ab</td><td>0.91</td><td>0</td><td>127</td><td>RRL_ab</td><td>0.89</td><td>0</td><td>120</td></tr>\n",
       "<tr><td>99850_3275</td><td>-99.99</td><td>EB_EC</td><td>DSCT</td><td>0.3</td><td>1</td><td>66</td><td>DSCT</td><td>0.33</td><td>0</td><td>240</td><td>EB_EC</td><td>0.48</td><td>0</td><td>258</td><td>EB_EC</td><td>0.57</td><td>0</td><td>217</td><td>EB_EC</td><td>0.61</td><td>0</td><td>190</td></tr>\n",
       "</table>"
      ],
      "text/plain": [
       "<Table length=1295>\n",
       "     id       period    type      utyp   uprob  ...   ztyp   zprob  zflag zndat\n",
       "  bytes13    float64  bytes10   bytes10 float64 ... bytes10 float64 int32 int32\n",
       "------------ ------- ---------- ------- ------- ... ------- ------- ----- -----\n",
       " 100047_2267  -99.99     RRL_ab  RRL_ab    0.86 ...  RRL_ab     1.0     0   235\n",
       " 100413_6560  -99.99      EB_ED    DSCT     0.3 ...          -99.99    -1     0\n",
       " 100826_1474  -99.99 CEPH_Other          -99.99 ...          -99.99    -1     0\n",
       "100828_28520  -99.99     RRL_ab          -99.99 ...          -99.99    -1     0\n",
       " 101068_6327  -99.99      EB_EC   EB_EC    0.69 ...   EB_EC    0.58     1    57\n",
       "101313_10442  -99.99      EB_EC          -99.99 ...          -99.99    -1     0\n",
       "  101825_934  -99.99     RRL_ab          -99.99 ...          -99.99    -1     0\n",
       "102337_12820  -99.99      EB_EC          -99.99 ...          -99.99    -1     0\n",
       " 102338_5844  -99.99       DSCT          -99.99 ...          -99.99    -1     0\n",
       " 102731_1034  -99.99      EB_EC          -99.99 ...          -99.99    -1     0\n",
       "         ...     ...        ...     ...     ... ...     ...     ...   ...   ...\n",
       "  98387_1666  -99.99       DSCT          -99.99 ...          -99.99    -1     0\n",
       "  98403_9102  -99.99       DSCT    DSCT    0.37 ...    DSCT    0.51     1    27\n",
       "  98585_1192  -99.99      EB_EC          -99.99 ...   EB_EC    0.56     1    28\n",
       " 98622_14081  -99.99      RRL_c          -99.99 ...          -99.99    -1     0\n",
       "   98836_661  -99.99     RRL_ab          -99.99 ...          -99.99    -1     0\n",
       " 99385_29495  -99.99      EB_EC  EB_ESD    0.31 ...   EB_EC    0.43     0   146\n",
       "   99530_929  -99.99     RRL_ab   RRL_d    0.33 ...  RRL_ab    0.59     1    64\n",
       " 99770_15284  -99.99      EB_EC   EB_EC    0.51 ...   EB_EC    0.57     0   210\n",
       "    99796_35  -99.99     RRL_ab  RRL_ab    0.68 ...  RRL_ab    0.89     0   120\n",
       "  99850_3275  -99.99      EB_EC    DSCT     0.3 ...   EB_EC    0.61     0   190"
      ]
     },
     "metadata": {},
     "output_type": "display_data"
    }
   ],
   "source": [
    "fdict = {'u':0,'g':4,'r':8,'i':12,'z':16}\n",
    "\n",
    "t = Table.read(\"rrl_res_raw.fits\",format='fits')\n",
    "display(t)\n",
    "\n",
    "# for n in range(len(interesting)):\n",
    "#     crv,p_est,fltrs = get_data(interesting[n])\n",
    "#     for i in range(len(fltrs)):\n",
    "    \n",
    "#         rf_model = upsilon.load_rf_model()\n",
    "#         efeat = upsilon.ExtractFeatures(crv[i][:,0],crv[i][:,1],crv[i][:,2])\n",
    "#         efeat.run()\n",
    "#         feats = efeat.get_features()\n",
    "#         rf_model = upsilon.load_rf_model()\n",
    "#         label, probability, flag = upsilon.predict(rf_model, feats)\n",
    "                \n",
    "#         x = fdict[fltrs[i]]\n",
    "#         t[n][t.colnames[3+x]] = label\n",
    "#         t[n][t.colnames[4+x]] = probability\n",
    "#         t[n][t.colnames[5+x]] = flag\n",
    "#         t[n][t.colnames[6+x]] = len(crv[i])\n",
    "\n",
    "#     uprob = t[n]['uprob']\n",
    "#     utyp  = t[n]['utyp']\n",
    "#     gprob = t[n]['gprob']\n",
    "#     gtyp  = t[n]['gtyp']\n",
    "#     rprob = t[n]['rprob']\n",
    "#     rtyp  = t[n]['rtyp']\n",
    "#     iprob = t[n]['iprob']\n",
    "#     ityp  = t[n]['ityp']\n",
    "#     zprob = t[n]['zprob']\n",
    "#     ztyp  = t[n]['ztyp']\n",
    "    \n",
    "#     m = np.argmax(np.array([[uprob,gprob,rprob,iprob,zprob]]))\n",
    "#     maxtyp = [utyp,gtyp,rtyp,ityp,ztyp][m]\n",
    "    \n",
    "#     t[n]['type'] = maxtyp\n",
    "\n",
    "# import os\n",
    "\n",
    "# if os.path.exists(\"rrl_res.fits\"):\n",
    "#     os.remove(\"rrl_res.fits\")\n",
    "# t.write(\"rrl_res.fits\",format='fits')"
   ]
  },
  {
   "cell_type": "code",
   "execution_count": 9,
   "metadata": {
    "ExecuteTime": {
     "end_time": "2021-06-02T20:33:43.022343Z",
     "start_time": "2021-06-02T20:33:42.963500Z"
    }
   },
   "outputs": [],
   "source": [
    "tcf = Table.read(\"rrl_res_crvfit.fits\",format='fits')\n",
    "nomatch = np.argwhere(t['type']!=tcf['type'])"
   ]
  },
  {
   "cell_type": "code",
   "execution_count": 10,
   "metadata": {
    "ExecuteTime": {
     "end_time": "2021-06-02T20:33:43.052261Z",
     "start_time": "2021-06-02T20:33:43.027327Z"
    }
   },
   "outputs": [
    {
     "data": {
      "text/plain": [
       "Counter({'RRL_ab': 604,\n",
       "         'EB_ED': 18,\n",
       "         'CEPH_Other': 42,\n",
       "         'EB_EC': 231,\n",
       "         'DSCT': 86,\n",
       "         'RRL_c': 121,\n",
       "         'T2CEPH': 48,\n",
       "         'NonVar': 4,\n",
       "         'EB_ESD': 59,\n",
       "         'CEPH_F': 39,\n",
       "         'LPV_Mira_A': 1,\n",
       "         'CEPH_1O': 36,\n",
       "         'RRL_d': 1,\n",
       "         'RRL_e': 4,\n",
       "         'LPV_SRV_AG': 1})"
      ]
     },
     "execution_count": 10,
     "metadata": {},
     "output_type": "execute_result"
    }
   ],
   "source": [
    "collections.Counter(t['type'])"
   ]
  },
  {
   "cell_type": "code",
   "execution_count": 11,
   "metadata": {
    "ExecuteTime": {
     "end_time": "2021-06-02T20:33:43.083178Z",
     "start_time": "2021-06-02T20:33:43.055255Z"
    }
   },
   "outputs": [],
   "source": [
    "ceph_names = []\n",
    "for i in range(len(t)):\n",
    "    if t[i]['type'] == 'CEPH_1O':\n",
    "        ceph_names.append(t[i]['id'])"
   ]
  },
  {
   "cell_type": "code",
   "execution_count": 12,
   "metadata": {
    "ExecuteTime": {
     "end_time": "2021-06-02T20:35:12.474585Z",
     "start_time": "2021-06-02T20:33:43.092157Z"
    }
   },
   "outputs": [],
   "source": [
    "datpaths = glob('results2/*data.csv')\n",
    "crvd = {}\n",
    "for path in datpaths:\n",
    "    if path[9:-11] not in crvd.keys():\n",
    "        crvd[path[9:-11]] = {}\n",
    "    crvd[path[9:-11]][path[-10:-9]] = np.genfromtxt(path,delimiter=',')"
   ]
  },
  {
   "cell_type": "code",
   "execution_count": 13,
   "metadata": {
    "ExecuteTime": {
     "end_time": "2021-06-02T20:35:12.490103Z",
     "start_time": "2021-06-02T20:35:12.474585Z"
    }
   },
   "outputs": [],
   "source": [
    "g = crvd[ceph_names[0]]['g']\n",
    "r = crvd[ceph_names[0]]['r']"
   ]
  },
  {
   "cell_type": "code",
   "execution_count": 14,
   "metadata": {
    "ExecuteTime": {
     "end_time": "2021-06-02T20:35:12.513844Z",
     "start_time": "2021-06-02T20:35:12.492097Z"
    }
   },
   "outputs": [],
   "source": [
    "cf = {'u':u'#1f77b4','g':u'#2ca02c','r':u'#d62728','i':u'#9467bd','z':u'#8c564b'}"
   ]
  },
  {
   "cell_type": "code",
   "execution_count": 15,
   "metadata": {
    "ExecuteTime": {
     "end_time": "2021-06-02T20:35:29.290733Z",
     "start_time": "2021-06-02T20:35:12.513844Z"
    },
    "code_folding": []
   },
   "outputs": [],
   "source": [
    "import csv\n",
    "parampaths = glob('results2/*param.csv')\n",
    "nms     = []\n",
    "params  = []\n",
    "pars    = []\n",
    "periods = []\n",
    "for path in parampaths:\n",
    "    param = []\n",
    "    fpars = []\n",
    "    with open(path, newline='') as csvfile:\n",
    "        csvreader = csv.reader(csvfile, delimiter=',')\n",
    "        b     = True\n",
    "        first = True\n",
    "        for row in csvreader:\n",
    "            if row[0] == '---':break\n",
    "            if first:\n",
    "                periods.append(float(row[2][2:]))\n",
    "                first = False\n",
    "                continue\n",
    "            if b:\n",
    "                param.append(row)\n",
    "            else:\n",
    "                fpars.append(row)\n",
    "            b = not b\n",
    "    param = np.array(param)\n",
    "    fpars = np.array(fpars)\n",
    "    nms.append(path[9:-10])\n",
    "    params.append(param)\n",
    "    pars.append(fpars)\n",
    "nms = np.array(nms)\n",
    "pdict = {nms[i]:periods[i] for i in range(len(nms))}"
   ]
  },
  {
   "cell_type": "code",
   "execution_count": 16,
   "metadata": {
    "ExecuteTime": {
     "end_time": "2021-06-02T20:35:29.338564Z",
     "start_time": "2021-06-02T20:35:29.292688Z"
    }
   },
   "outputs": [],
   "source": [
    "amps  = []\n",
    "namps = []\n",
    "for i in range(len(pars)):\n",
    "    famps = []\n",
    "    for j in range(len(pars[i])):\n",
    "        famps.append(float(pars[i][j,1][4:]))\n",
    "    amps.append(np.array(famps))\n",
    "    \n",
    "    namps.append(amps[-1]/np.mean(amps[-1]))"
   ]
  },
  {
   "cell_type": "code",
   "execution_count": 17,
   "metadata": {
    "ExecuteTime": {
     "end_time": "2021-06-02T20:35:29.417353Z",
     "start_time": "2021-06-02T20:35:29.340559Z"
    }
   },
   "outputs": [],
   "source": [
    "difamp  = []\n",
    "sameamp = []\n",
    "for i in range(len(namps)):\n",
    "    if len(namps[i]) == 1:\n",
    "        continue\n",
    "    if np.std(namps[i]) > 0.1:\n",
    "        difamp.append(i)\n",
    "    else:\n",
    "        sameamp.append(i)"
   ]
  },
  {
   "cell_type": "code",
   "execution_count": 18,
   "metadata": {
    "ExecuteTime": {
     "end_time": "2021-06-02T20:35:29.432313Z",
     "start_time": "2021-06-02T20:35:29.419349Z"
    }
   },
   "outputs": [],
   "source": [
    "difamp  = nms[difamp]\n",
    "sameamp = nms[sameamp]"
   ]
  },
  {
   "cell_type": "code",
   "execution_count": 27,
   "metadata": {
    "ExecuteTime": {
     "end_time": "2021-06-02T20:53:59.495595Z",
     "start_time": "2021-06-02T20:53:59.482591Z"
    }
   },
   "outputs": [],
   "source": [
    "np.savetxt('difamp.txt',difamp,fmt='%s')\n",
    "np.savetxt('sameamp.txt',sameamp,fmt='%s')"
   ]
  },
  {
   "cell_type": "code",
   "execution_count": 19,
   "metadata": {
    "ExecuteTime": {
     "end_time": "2021-06-02T20:43:27.401428Z",
     "start_time": "2021-06-02T20:35:29.434308Z"
    }
   },
   "outputs": [],
   "source": [
    "# import shutil\n",
    "# for i in range(len(difamp)):\n",
    "#     path = glob('results\\{}*curve.png'.format(difamp[i]))[0]\n",
    "#     shutil.copy(path,'results\\dif amp')"
   ]
  },
  {
   "cell_type": "code",
   "execution_count": 20,
   "metadata": {
    "ExecuteTime": {
     "end_time": "2021-06-02T20:45:09.109055Z",
     "start_time": "2021-06-02T20:43:27.401428Z"
    }
   },
   "outputs": [],
   "source": [
    "# import shutil\n",
    "# for i in range(len(sameamp)):\n",
    "#     path = glob('results\\{}*curve.png'.format(sameamp[i]))[0]\n",
    "#     shutil.copy(path,'results\\same amp')"
   ]
  },
  {
   "cell_type": "code",
   "execution_count": 26,
   "metadata": {
    "ExecuteTime": {
     "end_time": "2021-06-22T17:31:09.560643Z",
     "start_time": "2021-06-22T17:31:00.250337Z"
    }
   },
   "outputs": [],
   "source": [
    "crv,p_est,fltrs = get_data(gldrrab[0])\n",
    "rf_model = upsilon.load_rf_model()\n",
    "i=0\n",
    "efeat = upsilon.ExtractFeatures(crv[i][:,0],crv[i][:,1],crv[i][:,2])\n",
    "efeat.run()\n",
    "feats = efeat.get_features()\n",
    "rf_model = upsilon.load_rf_model()\n",
    "label, probability, flag = upsilon.predict(rf_model, feats)"
   ]
  },
  {
   "cell_type": "code",
   "execution_count": null,
   "metadata": {},
   "outputs": [],
   "source": []
  },
  {
   "cell_type": "code",
   "execution_count": null,
   "metadata": {},
   "outputs": [],
   "source": [
    "t=Table([gldrrab],names=['id'])\n",
    "t['period'] = -99.99\n",
    "t['type']   = '          '\n",
    "t['utyp']   = '          '\n",
    "t['uprob']  = -99.99\n",
    "t['uflag']  = -1\n",
    "t['undat']  = 0\n",
    "t['uprd']   = -99.99\n",
    "t['gtyp']   = '          '\n",
    "t['gprob']  = -99.99\n",
    "t['gflag']  = -1\n",
    "t['gndat']  = 0\n",
    "t['gprd']   = -99.99\n",
    "t['rtyp']   = '          '\n",
    "t['rprob']  = -99.99\n",
    "t['rflag']  = -1\n",
    "t['rndat']  = 0\n",
    "t['rprd']   = -99.99\n",
    "t['ityp']   = '          '\n",
    "t['iprob']  = -99.99\n",
    "t['iflag']  = -1\n",
    "t['indat']  = 0\n",
    "t['iprd']   = -99.99\n",
    "t['ztyp']   = '          '\n",
    "t['zprob']  = -99.99\n",
    "t['zflag']  = -1\n",
    "t['zndat']  = 0\n",
    "t['zprd']   = -99.99"
   ]
  },
  {
   "cell_type": "code",
   "execution_count": 72,
   "metadata": {
    "ExecuteTime": {
     "end_time": "2021-06-23T05:41:42.338195Z",
     "start_time": "2021-06-23T01:59:02.063609Z"
    }
   },
   "outputs": [],
   "source": [
    "fdict = {'u':0,'g':5,'r':10,'i':15,'z':20}\n",
    "for n in range(0):#len(gldrrab)):\n",
    "    crv,p_est,fltrs = get_data(gldrrab[n])\n",
    "    periods = []\n",
    "    for i in range(len(fltrs)):\n",
    "    \n",
    "        rf_model = upsilon.load_rf_model()\n",
    "        efeat = upsilon.ExtractFeatures(crv[i][:,0],crv[i][:,1],crv[i][:,2])\n",
    "        efeat.run()\n",
    "        feats = efeat.get_features()\n",
    "        rf_model = upsilon.load_rf_model()\n",
    "        label, probability, flag = upsilon.predict(rf_model, feats)\n",
    "                \n",
    "        x = fdict[fltrs[i]]\n",
    "        t[n][t.colnames[3+x]] = label\n",
    "        t[n][t.colnames[4+x]] = probability\n",
    "        t[n][t.colnames[5+x]] = flag\n",
    "        t[n][t.colnames[6+x]] = len(crv[i])\n",
    "        t[n][t.colnames[7+x]] = feats['period']\n",
    "        periods.append(feats['period'])\n",
    "\n",
    "    t[n]['period'] = (np.mean(periods))\n",
    "    \n",
    "    uprob = t[n]['uprob']\n",
    "    utyp  = t[n]['utyp']\n",
    "    gprob = t[n]['gprob']\n",
    "    gtyp  = t[n]['gtyp']\n",
    "    rprob = t[n]['rprob']\n",
    "    rtyp  = t[n]['rtyp']\n",
    "    iprob = t[n]['iprob']\n",
    "    ityp  = t[n]['ityp']\n",
    "    zprob = t[n]['zprob']\n",
    "    ztyp  = t[n]['ztyp']\n",
    "    \n",
    "    m = np.argmax(np.array([[uprob,gprob,rprob,iprob,zprob]]))\n",
    "    maxtyp = [utyp,gtyp,rtyp,ityp,ztyp][m]\n",
    "    \n",
    "    t[n]['type'] = maxtyp"
   ]
  },
  {
   "cell_type": "code",
   "execution_count": null,
   "metadata": {},
   "outputs": [],
   "source": []
  },
  {
   "cell_type": "code",
   "execution_count": 73,
   "metadata": {
    "ExecuteTime": {
     "end_time": "2021-06-23T05:41:42.369441Z",
     "start_time": "2021-06-23T05:41:42.338195Z"
    }
   },
   "outputs": [
    {
     "data": {
      "text/html": [
       "<i>Table length=595</i>\n",
       "<table id=\"table2456951582600\" class=\"table-striped table-bordered table-condensed\">\n",
       "<thead><tr><th>id</th><th>period</th><th>type</th><th>utyp</th><th>uprob</th><th>uflag</th><th>undat</th><th>uprd</th><th>gtyp</th><th>gprob</th><th>gflag</th><th>gndat</th><th>gprd</th><th>rtyp</th><th>rprob</th><th>rflag</th><th>rndat</th><th>rprd</th><th>ityp</th><th>iprob</th><th>iflag</th><th>indat</th><th>iprd</th><th>ztyp</th><th>zprob</th><th>zflag</th><th>zndat</th><th>zprd</th></tr></thead>\n",
       "<thead><tr><th>str13</th><th>float64</th><th>str10</th><th>str10</th><th>float64</th><th>int32</th><th>int32</th><th>float64</th><th>str10</th><th>float64</th><th>int32</th><th>int32</th><th>float64</th><th>str10</th><th>float64</th><th>int32</th><th>int32</th><th>float64</th><th>str10</th><th>float64</th><th>int32</th><th>int32</th><th>float64</th><th>str10</th><th>float64</th><th>int32</th><th>int32</th><th>float64</th></tr></thead>\n",
       "<tr><td>100047_2267</td><td>0.6221811344492266</td><td>RRL_ab</td><td>RRL_ab</td><td>0.86</td><td>1</td><td>70</td><td>0.6221598132668498</td><td>RRL_ab</td><td>0.95</td><td>0</td><td>258</td><td>0.6221890096889295</td><td>RRL_ab</td><td>0.96</td><td>0</td><td>256</td><td>0.6221758132967702</td><td>RRL_ab</td><td>0.97</td><td>0</td><td>267</td><td>0.6221889586416363</td><td>RRL_ab</td><td>1.0</td><td>0</td><td>235</td><td>0.6221920773519475</td></tr>\n",
       "<tr><td>100555_10583</td><td>27.998177478696128</td><td>EB_ED</td><td>EB_ED</td><td>0.84</td><td>1</td><td>32</td><td>0.26383448636087176</td><td>EB_ED</td><td>0.6</td><td>1</td><td>43</td><td>0.3650679692453242</td><td>EB_ED</td><td>0.65</td><td>1</td><td>46</td><td>0.3650522258993856</td><td>EB_ED</td><td>0.6</td><td>1</td><td>56</td><td>0.3714944024749053</td><td>EB_ED</td><td>0.4</td><td>1</td><td>60</td><td>138.62543830950017</td></tr>\n",
       "<tr><td>100828_28520</td><td>0.6283259392486608</td><td>RRL_ab</td><td></td><td>-99.99</td><td>-1</td><td>0</td><td>-99.99</td><td>RRL_ab</td><td>0.8</td><td>1</td><td>91</td><td>0.6283259392486608</td><td></td><td>-99.99</td><td>-1</td><td>0</td><td>-99.99</td><td></td><td>-99.99</td><td>-1</td><td>0</td><td>-99.99</td><td></td><td>-99.99</td><td>-1</td><td>0</td><td>-99.99</td></tr>\n",
       "<tr><td>101825_934</td><td>0.6442550532084984</td><td>RRL_ab</td><td></td><td>-99.99</td><td>-1</td><td>0</td><td>-99.99</td><td>RRL_ab</td><td>0.52</td><td>1</td><td>1130</td><td>0.6442550532084984</td><td></td><td>-99.99</td><td>-1</td><td>0</td><td>-99.99</td><td></td><td>-99.99</td><td>-1</td><td>0</td><td>-99.99</td><td></td><td>-99.99</td><td>-1</td><td>0</td><td>-99.99</td></tr>\n",
       "<tr><td>102849_2399</td><td>0.6488362241200318</td><td>RRL_ab</td><td></td><td>-99.99</td><td>-1</td><td>0</td><td>-99.99</td><td>RRL_ab</td><td>0.69</td><td>1</td><td>1129</td><td>0.6488362241200318</td><td></td><td>-99.99</td><td>-1</td><td>0</td><td>-99.99</td><td></td><td>-99.99</td><td>-1</td><td>0</td><td>-99.99</td><td></td><td>-99.99</td><td>-1</td><td>0</td><td>-99.99</td></tr>\n",
       "<tr><td>102924_1422</td><td>1.7620586722694107</td><td>T2CEPH</td><td></td><td>-99.99</td><td>-1</td><td>0</td><td>-99.99</td><td>DSCT</td><td>0.33</td><td>1</td><td>296</td><td>0.19415561818921295</td><td></td><td>-99.99</td><td>-1</td><td>0</td><td>-99.99</td><td>T2CEPH</td><td>0.51</td><td>1</td><td>30</td><td>3.3299617263496084</td><td></td><td>-99.99</td><td>-1</td><td>0</td><td>-99.99</td></tr>\n",
       "<tr><td>105919_7718</td><td>1.2853866776261773</td><td>T2CEPH</td><td></td><td>-99.99</td><td>-1</td><td>0</td><td>-99.99</td><td>T2CEPH</td><td>0.56</td><td>1</td><td>595</td><td>1.2853866776261773</td><td></td><td>-99.99</td><td>-1</td><td>0</td><td>-99.99</td><td></td><td>-99.99</td><td>-1</td><td>0</td><td>-99.99</td><td></td><td>-99.99</td><td>-1</td><td>0</td><td>-99.99</td></tr>\n",
       "<tr><td>106429_89</td><td>0.622850487439848</td><td>RRL_ab</td><td></td><td>-99.99</td><td>-1</td><td>0</td><td>-99.99</td><td>RRL_ab</td><td>0.89</td><td>1</td><td>590</td><td>0.622850487439848</td><td></td><td>-99.99</td><td>-1</td><td>0</td><td>-99.99</td><td></td><td>-99.99</td><td>-1</td><td>0</td><td>-99.99</td><td></td><td>-99.99</td><td>-1</td><td>0</td><td>-99.99</td></tr>\n",
       "<tr><td>106432_8993</td><td>0.6359748424018525</td><td>RRL_ab</td><td></td><td>-99.99</td><td>-1</td><td>0</td><td>-99.99</td><td>RRL_ab</td><td>0.96</td><td>1</td><td>1017</td><td>0.6359748424018525</td><td></td><td>-99.99</td><td>-1</td><td>0</td><td>-99.99</td><td></td><td>-99.99</td><td>-1</td><td>0</td><td>-99.99</td><td></td><td>-99.99</td><td>-1</td><td>0</td><td>-99.99</td></tr>\n",
       "<tr><td>107453_1174</td><td>0.548078420090605</td><td>RRL_ab</td><td></td><td>-99.99</td><td>-1</td><td>0</td><td>-99.99</td><td>RRL_ab</td><td>0.73</td><td>1</td><td>562</td><td>0.548078420090605</td><td></td><td>-99.99</td><td>-1</td><td>0</td><td>-99.99</td><td></td><td>-99.99</td><td>-1</td><td>0</td><td>-99.99</td><td></td><td>-99.99</td><td>-1</td><td>0</td><td>-99.99</td></tr>\n",
       "<tr><td>...</td><td>...</td><td>...</td><td>...</td><td>...</td><td>...</td><td>...</td><td>...</td><td>...</td><td>...</td><td>...</td><td>...</td><td>...</td><td>...</td><td>...</td><td>...</td><td>...</td><td>...</td><td>...</td><td>...</td><td>...</td><td>...</td><td>...</td><td>...</td><td>...</td><td>...</td><td>...</td><td>...</td></tr>\n",
       "<tr><td>77515_2568</td><td>0.4657400909668213</td><td>RRL_ab</td><td></td><td>-99.99</td><td>-1</td><td>0</td><td>-99.99</td><td>RRL_ab</td><td>0.71</td><td>1</td><td>36</td><td>0.6652394837155793</td><td>RRL_ab</td><td>0.69</td><td>1</td><td>43</td><td>0.39605243519087324</td><td>RRL_ab</td><td>0.63</td><td>1</td><td>46</td><td>0.40082643896376363</td><td>RRL_ab</td><td>0.66</td><td>1</td><td>46</td><td>0.40084200599706893</td></tr>\n",
       "<tr><td>77515_6115</td><td>0.5854317921771679</td><td>RRL_ab</td><td>RRL_ab</td><td>0.76</td><td>1</td><td>28</td><td>0.6377816550260536</td><td>RRL_ab</td><td>0.8</td><td>1</td><td>40</td><td>0.6289937574751968</td><td>RRL_ab</td><td>0.5</td><td>1</td><td>40</td><td>0.3883622301108868</td><td>RRL_ab</td><td>0.62</td><td>1</td><td>45</td><td>0.6374102859741339</td><td>RRL_ab</td><td>0.51</td><td>1</td><td>48</td><td>0.6346110322995684</td></tr>\n",
       "<tr><td>77516_8215</td><td>0.9221251830957092</td><td>CEPH_Other</td><td></td><td>-99.99</td><td>-1</td><td>0</td><td>-99.99</td><td>CEPH_Other</td><td>0.58</td><td>1</td><td>31</td><td>1.7850224115689959</td><td>RRL_ab</td><td>0.41</td><td>1</td><td>35</td><td>0.6374834773756023</td><td>CEPH_1O</td><td>0.31</td><td>1</td><td>44</td><td>0.6329974455327745</td><td>CEPH_Other</td><td>0.35</td><td>1</td><td>47</td><td>0.6329973979054642</td></tr>\n",
       "<tr><td>93142_19513</td><td>0.5482259355823946</td><td>RRL_ab</td><td></td><td>-99.99</td><td>-1</td><td>0</td><td>-99.99</td><td>RRL_ab</td><td>0.74</td><td>1</td><td>289</td><td>0.6052944314975607</td><td>RRL_ab</td><td>0.36</td><td>1</td><td>79</td><td>0.3770534373773615</td><td>RRL_ab</td><td>0.58</td><td>1</td><td>62</td><td>0.6052679679293401</td><td>RRL_ab</td><td>0.77</td><td>1</td><td>63</td><td>0.6052879055253162</td></tr>\n",
       "<tr><td>93766_1276</td><td>0.46487875704488824</td><td>EB_ESD</td><td>RRL_d</td><td>0.4</td><td>1</td><td>43</td><td>0.36785632453421696</td><td>RRL_ab</td><td>0.57</td><td>1</td><td>52</td><td>0.8261311679905192</td><td>CEPH_Other</td><td>0.55</td><td>1</td><td>78</td><td>0.37232881413078167</td><td>EB_ESD</td><td>0.62</td><td>1</td><td>44</td><td>0.3800891068556626</td><td>EB_ESD</td><td>0.32</td><td>1</td><td>46</td><td>0.37798837171326055</td></tr>\n",
       "<tr><td>96825_89</td><td>0.49826042072153937</td><td>RRL_ab</td><td>RRL_ab</td><td>0.91</td><td>1</td><td>78</td><td>0.4982813905546581</td><td>RRL_ab</td><td>0.86</td><td>1</td><td>188</td><td>0.49826879571892807</td><td>RRL_ab</td><td>0.93</td><td>1</td><td>203</td><td>0.4982392340654815</td><td>RRL_ab</td><td>0.94</td><td>1</td><td>209</td><td>0.4982738056377092</td><td>RRL_ab</td><td>0.79</td><td>1</td><td>170</td><td>0.4982388776309201</td></tr>\n",
       "<tr><td>97486_430</td><td>0.5370378132882117</td><td>RRL_ab</td><td>RRL_ab</td><td>0.92</td><td>0</td><td>99</td><td>0.5370447417042874</td><td>RRL_ab</td><td>0.92</td><td>0</td><td>275</td><td>0.5370386136550254</td><td>RRL_ab</td><td>0.92</td><td>0</td><td>276</td><td>0.5370359651614227</td><td>RRL_ab</td><td>0.9</td><td>0</td><td>290</td><td>0.5370385695938684</td><td>RRL_ab</td><td>0.96</td><td>0</td><td>255</td><td>0.5370311763264546</td></tr>\n",
       "<tr><td>97768_2913</td><td>0.8864309475599406</td><td>RRL_ab</td><td>CEPH_F</td><td>0.54</td><td>1</td><td>45</td><td>1.8434027074891122</td><td>RRL_ab</td><td>0.78</td><td>0</td><td>118</td><td>0.6471890408951925</td><td>RRL_ab</td><td>0.81</td><td>1</td><td>98</td><td>0.6471890238030085</td><td>RRL_ab</td><td>0.73</td><td>0</td><td>100</td><td>0.6471843761063172</td><td>RRL_ab</td><td>0.95</td><td>1</td><td>82</td><td>0.647189589506072</td></tr>\n",
       "<tr><td>98251_225</td><td>0.6183231946541341</td><td>RRL_ab</td><td>RRL_ab</td><td>0.6</td><td>1</td><td>43</td><td>0.6183184399912854</td><td>RRL_ab</td><td>0.93</td><td>0</td><td>148</td><td>0.6183183200401258</td><td>RRL_ab</td><td>0.82</td><td>0</td><td>146</td><td>0.6183190011502534</td><td>RRL_ab</td><td>0.85</td><td>0</td><td>129</td><td>0.6183181326541951</td><td>RRL_ab</td><td>0.95</td><td>0</td><td>139</td><td>0.6183420794348109</td></tr>\n",
       "<tr><td>99796_35</td><td>0.561374004276587</td><td>RRL_ab</td><td>RRL_ab</td><td>0.68</td><td>1</td><td>38</td><td>0.5613649825813875</td><td>RRL_ab</td><td>0.71</td><td>0</td><td>124</td><td>0.5613864089016752</td><td>RRL_ab</td><td>0.72</td><td>0</td><td>127</td><td>0.561388455734522</td><td>RRL_ab</td><td>0.91</td><td>0</td><td>127</td><td>0.561356628397588</td><td>RRL_ab</td><td>0.89</td><td>0</td><td>120</td><td>0.5613735457677621</td></tr>\n",
       "</table>"
      ],
      "text/plain": [
       "<Table length=595>\n",
       "     id             period          type    ... zflag zndat         zprd       \n",
       "   str13           float64         str10    ... int32 int32       float64      \n",
       "------------ ------------------- ---------- ... ----- ----- -------------------\n",
       " 100047_2267  0.6221811344492266     RRL_ab ...     0   235  0.6221920773519475\n",
       "100555_10583  27.998177478696128      EB_ED ...     1    60  138.62543830950017\n",
       "100828_28520  0.6283259392486608     RRL_ab ...    -1     0              -99.99\n",
       "  101825_934  0.6442550532084984     RRL_ab ...    -1     0              -99.99\n",
       " 102849_2399  0.6488362241200318     RRL_ab ...    -1     0              -99.99\n",
       " 102924_1422  1.7620586722694107     T2CEPH ...    -1     0              -99.99\n",
       " 105919_7718  1.2853866776261773     T2CEPH ...    -1     0              -99.99\n",
       "   106429_89   0.622850487439848     RRL_ab ...    -1     0              -99.99\n",
       " 106432_8993  0.6359748424018525     RRL_ab ...    -1     0              -99.99\n",
       " 107453_1174   0.548078420090605     RRL_ab ...    -1     0              -99.99\n",
       "         ...                 ...        ... ...   ...   ...                 ...\n",
       "  77515_2568  0.4657400909668213     RRL_ab ...     1    46 0.40084200599706893\n",
       "  77515_6115  0.5854317921771679     RRL_ab ...     1    48  0.6346110322995684\n",
       "  77516_8215  0.9221251830957092 CEPH_Other ...     1    47  0.6329973979054642\n",
       " 93142_19513  0.5482259355823946     RRL_ab ...     1    63  0.6052879055253162\n",
       "  93766_1276 0.46487875704488824     EB_ESD ...     1    46 0.37798837171326055\n",
       "    96825_89 0.49826042072153937     RRL_ab ...     1   170  0.4982388776309201\n",
       "   97486_430  0.5370378132882117     RRL_ab ...     0   255  0.5370311763264546\n",
       "  97768_2913  0.8864309475599406     RRL_ab ...     1    82   0.647189589506072\n",
       "   98251_225  0.6183231946541341     RRL_ab ...     0   139  0.6183420794348109\n",
       "    99796_35   0.561374004276587     RRL_ab ...     0   120  0.5613735457677621"
      ]
     },
     "execution_count": 73,
     "metadata": {},
     "output_type": "execute_result"
    }
   ],
   "source": [
    "t"
   ]
  },
  {
   "cell_type": "code",
   "execution_count": 74,
   "metadata": {
    "ExecuteTime": {
     "end_time": "2021-06-23T05:41:42.438437Z",
     "start_time": "2021-06-23T05:41:42.369441Z"
    }
   },
   "outputs": [],
   "source": [
    "import os\n",
    "if os.path.exists(\"res.fits\"):\n",
    "    os.remove(\"res.fits\")\n",
    "t.write(\"res.fits\",format='fits')"
   ]
  },
  {
   "cell_type": "code",
   "execution_count": 78,
   "metadata": {
    "ExecuteTime": {
     "end_time": "2021-06-23T14:53:23.975461Z",
     "start_time": "2021-06-23T14:53:23.961496Z"
    }
   },
   "outputs": [
    {
     "data": {
      "text/plain": [
       "Counter({'RRL_ab': 446,\n",
       "         'EB_ED': 10,\n",
       "         'T2CEPH': 33,\n",
       "         'EB_EC': 17,\n",
       "         'DSCT': 16,\n",
       "         'CEPH_F': 18,\n",
       "         'CEPH_Other': 17,\n",
       "         'RRL_c': 15,\n",
       "         'CEPH_1O': 5,\n",
       "         'RRL_d': 2,\n",
       "         'EB_ESD': 16})"
      ]
     },
     "execution_count": 78,
     "metadata": {},
     "output_type": "execute_result"
    }
   ],
   "source": [
    "collections.Counter(t['type'])"
   ]
  },
  {
   "cell_type": "code",
   "execution_count": 79,
   "metadata": {
    "ExecuteTime": {
     "end_time": "2021-06-23T14:54:43.220910Z",
     "start_time": "2021-06-23T14:54:43.215925Z"
    }
   },
   "outputs": [
    {
     "data": {
      "text/plain": [
       "0.7495798319327731"
      ]
     },
     "execution_count": 79,
     "metadata": {},
     "output_type": "execute_result"
    }
   ],
   "source": [
    "446/595"
   ]
  },
  {
   "cell_type": "code",
   "execution_count": null,
   "metadata": {},
   "outputs": [],
   "source": [
    "def"
   ]
  },
  {
   "cell_type": "code",
   "execution_count": null,
   "metadata": {},
   "outputs": [],
   "source": []
  },
  {
   "cell_type": "code",
   "execution_count": null,
   "metadata": {},
   "outputs": [],
   "source": []
  },
  {
   "cell_type": "code",
   "execution_count": 33,
   "metadata": {
    "ExecuteTime": {
     "end_time": "2021-06-28T03:50:31.714081Z",
     "start_time": "2021-06-28T03:50:31.683165Z"
    }
   },
   "outputs": [],
   "source": [
    "gldorig = np.loadtxt('goldsample\\golden_original.txt',delimiter=',',dtype=str)\n",
    "gldrrab = np.loadtxt('goldsample\\golden_RRab.txt',delimiter=',',dtype=str)\n",
    "gldall  = np.union1d(gldorig,gldrrab)\n",
    "gldelse = list(set(gldall) - set(gldrrab))"
   ]
  },
  {
   "cell_type": "code",
   "execution_count": 34,
   "metadata": {
    "ExecuteTime": {
     "end_time": "2021-06-28T03:50:32.149374Z",
     "start_time": "2021-06-28T03:50:32.127390Z"
    }
   },
   "outputs": [],
   "source": [
    "from astropy.table import Table\n",
    "ampt=Table([gldelse],names=['id'])\n",
    "ampt['uamp'] = -99.99\n",
    "ampt['gamp'] = -99.99\n",
    "ampt['ramp'] = -99.99\n",
    "ampt['iamp'] = -99.99\n",
    "ampt['zamp'] = -99.99"
   ]
  },
  {
   "cell_type": "code",
   "execution_count": 35,
   "metadata": {
    "ExecuteTime": {
     "end_time": "2021-06-28T04:05:23.969380Z",
     "start_time": "2021-06-28T03:50:33.352827Z"
    },
    "code_folding": []
   },
   "outputs": [],
   "source": [
    "import csv\n",
    "fdict = {'u':1,'g':2,'r':3,'i':4,'z':5}\n",
    "for i,name in enumerate(gldelse):\n",
    "    with open('results\\{}_parameters.csv'.format(name), newline='') as csvfile:\n",
    "        b,c,f = get_data(name)\n",
    "        reader = csv.reader(csvfile, delimiter=',')\n",
    "        first = True\n",
    "        amps = []\n",
    "        for row in reader:\n",
    "            if first:\n",
    "                first = False\n",
    "                continue\n",
    "            if row == ['---']:\n",
    "                continue\n",
    "            amps.append(float(row[1]))\n",
    "        for j in range(len(f)):\n",
    "            n = fdict[f[j]]\n",
    "            ampt[i][n] = amps[j]\n",
    "\n",
    "ampt.write(\"amp_else.fits\",format='fits')"
   ]
  },
  {
   "cell_type": "code",
   "execution_count": 36,
   "metadata": {
    "ExecuteTime": {
     "end_time": "2021-06-28T04:11:02.278858Z",
     "start_time": "2021-06-28T04:11:02.262904Z"
    }
   },
   "outputs": [
    {
     "data": {
      "text/html": [
       "<i>Table length=772</i>\n",
       "<table id=\"table1905650308040\" class=\"table-striped table-bordered table-condensed\">\n",
       "<thead><tr><th>id</th><th>uamp</th><th>gamp</th><th>ramp</th><th>iamp</th><th>zamp</th></tr></thead>\n",
       "<thead><tr><th>str13</th><th>float64</th><th>float64</th><th>float64</th><th>float64</th><th>float64</th></tr></thead>\n",
       "<tr><td>98403_9102</td><td>0.22</td><td>0.235</td><td>0.22</td><td>-99.99</td><td>0.21</td></tr>\n",
       "<tr><td>192288_50605</td><td>-99.99</td><td>0.249</td><td>0.172</td><td>-99.99</td><td>-99.99</td></tr>\n",
       "<tr><td>192287_129783</td><td>-99.99</td><td>0.268</td><td>0.167</td><td>-99.99</td><td>-99.99</td></tr>\n",
       "<tr><td>167810_9877</td><td>-99.99</td><td>0.182</td><td>0.194</td><td>0.166</td><td>0.161</td></tr>\n",
       "<tr><td>148116_39710</td><td>-99.99</td><td>0.514</td><td>0.4</td><td>0.215</td><td>0.242</td></tr>\n",
       "<tr><td>150148_127174</td><td>-99.99</td><td>0.449</td><td>0.261</td><td>-99.99</td><td>-99.99</td></tr>\n",
       "<tr><td>147561_59808</td><td>-99.99</td><td>0.086</td><td>0.056</td><td>0.077</td><td>0.076</td></tr>\n",
       "<tr><td>147600_137355</td><td>-99.99</td><td>0.289</td><td>0.186</td><td>0.145</td><td>-99.99</td></tr>\n",
       "<tr><td>149654_45283</td><td>-99.99</td><td>0.078</td><td>0.078</td><td>-99.99</td><td>-99.99</td></tr>\n",
       "<tr><td>148629_113226</td><td>-99.99</td><td>0.348</td><td>0.247</td><td>-99.99</td><td>-99.99</td></tr>\n",
       "<tr><td>...</td><td>...</td><td>...</td><td>...</td><td>...</td><td>...</td></tr>\n",
       "<tr><td>192291_102173</td><td>-99.99</td><td>0.628</td><td>0.403</td><td>-99.99</td><td>-99.99</td></tr>\n",
       "<tr><td>149636_212246</td><td>-99.99</td><td>0.263</td><td>0.181</td><td>0.154</td><td>0.139</td></tr>\n",
       "<tr><td>148075_111866</td><td>-99.99</td><td>0.23</td><td>0.153</td><td>0.117</td><td>0.112</td></tr>\n",
       "<tr><td>148111_3031</td><td>-99.99</td><td>0.142</td><td>0.138</td><td>0.139</td><td>-99.99</td></tr>\n",
       "<tr><td>193274_9980</td><td>-99.99</td><td>-99.99</td><td>-99.99</td><td>-99.99</td><td>0.118</td></tr>\n",
       "<tr><td>192034_41105</td><td>-99.99</td><td>0.278</td><td>-99.99</td><td>-99.99</td><td>-99.99</td></tr>\n",
       "<tr><td>148630_43998</td><td>-99.99</td><td>0.555</td><td>0.382</td><td>-99.99</td><td>-99.99</td></tr>\n",
       "<tr><td>146539_171874</td><td>-99.99</td><td>0.261</td><td>0.176</td><td>0.133</td><td>0.13</td></tr>\n",
       "<tr><td>147092_57810</td><td>-99.99</td><td>0.368</td><td>0.112</td><td>0.098</td><td>0.143</td></tr>\n",
       "<tr><td>180700_2453</td><td>0.149</td><td>0.117</td><td>0.106</td><td>0.1</td><td>-99.99</td></tr>\n",
       "</table>"
      ],
      "text/plain": [
       "<Table length=772>\n",
       "      id        uamp    gamp    ramp    iamp    zamp \n",
       "    str13     float64 float64 float64 float64 float64\n",
       "------------- ------- ------- ------- ------- -------\n",
       "   98403_9102    0.22   0.235    0.22  -99.99    0.21\n",
       " 192288_50605  -99.99   0.249   0.172  -99.99  -99.99\n",
       "192287_129783  -99.99   0.268   0.167  -99.99  -99.99\n",
       "  167810_9877  -99.99   0.182   0.194   0.166   0.161\n",
       " 148116_39710  -99.99   0.514     0.4   0.215   0.242\n",
       "150148_127174  -99.99   0.449   0.261  -99.99  -99.99\n",
       " 147561_59808  -99.99   0.086   0.056   0.077   0.076\n",
       "147600_137355  -99.99   0.289   0.186   0.145  -99.99\n",
       " 149654_45283  -99.99   0.078   0.078  -99.99  -99.99\n",
       "148629_113226  -99.99   0.348   0.247  -99.99  -99.99\n",
       "          ...     ...     ...     ...     ...     ...\n",
       "192291_102173  -99.99   0.628   0.403  -99.99  -99.99\n",
       "149636_212246  -99.99   0.263   0.181   0.154   0.139\n",
       "148075_111866  -99.99    0.23   0.153   0.117   0.112\n",
       "  148111_3031  -99.99   0.142   0.138   0.139  -99.99\n",
       "  193274_9980  -99.99  -99.99  -99.99  -99.99   0.118\n",
       " 192034_41105  -99.99   0.278  -99.99  -99.99  -99.99\n",
       " 148630_43998  -99.99   0.555   0.382  -99.99  -99.99\n",
       "146539_171874  -99.99   0.261   0.176   0.133    0.13\n",
       " 147092_57810  -99.99   0.368   0.112   0.098   0.143\n",
       "  180700_2453   0.149   0.117   0.106     0.1  -99.99"
      ]
     },
     "execution_count": 36,
     "metadata": {},
     "output_type": "execute_result"
    }
   ],
   "source": [
    "ampt"
   ]
  },
  {
   "cell_type": "code",
   "execution_count": 21,
   "metadata": {
    "ExecuteTime": {
     "end_time": "2021-06-02T20:45:09.124103Z",
     "start_time": "2021-06-02T20:45:09.109055Z"
    }
   },
   "outputs": [
    {
     "ename": "SyntaxError",
     "evalue": "invalid syntax (<ipython-input-21-7b18d017f89f>, line 1)",
     "output_type": "error",
     "traceback": [
      "\u001b[1;36m  File \u001b[1;32m\"<ipython-input-21-7b18d017f89f>\"\u001b[1;36m, line \u001b[1;32m1\u001b[0m\n\u001b[1;33m    def\u001b[0m\n\u001b[1;37m       ^\u001b[0m\n\u001b[1;31mSyntaxError\u001b[0m\u001b[1;31m:\u001b[0m invalid syntax\n"
     ]
    }
   ],
   "source": [
    "def"
   ]
  },
  {
   "cell_type": "code",
   "execution_count": 86,
   "metadata": {
    "ExecuteTime": {
     "end_time": "2021-06-22T23:01:01.918514Z",
     "start_time": "2021-06-22T23:01:01.674264Z"
    }
   },
   "outputs": [],
   "source": []
  },
  {
   "cell_type": "code",
   "execution_count": null,
   "metadata": {},
   "outputs": [],
   "source": []
  },
  {
   "cell_type": "code",
   "execution_count": null,
   "metadata": {},
   "outputs": [],
   "source": []
  },
  {
   "cell_type": "code",
   "execution_count": null,
   "metadata": {
    "ExecuteTime": {
     "end_time": "2021-06-02T20:45:09.129087Z",
     "start_time": "2021-06-02T20:33:36.620Z"
    },
    "code_folding": [
     6
    ],
    "scrolled": true
   },
   "outputs": [],
   "source": [
    "figall, axall = plt.subplots()\n",
    "figu, axu = plt.subplots()\n",
    "figg, axg = plt.subplots()\n",
    "figr, axr = plt.subplots()\n",
    "figi, axi = plt.subplots()\n",
    "figz, axz = plt.subplots()\n",
    "for i in range(len(ceph_names)):\n",
    "    p = pdict[ceph_names[i]]\n",
    "    for fltr, crv in crvd[ceph_names[i]].items():\n",
    "        axall.scatter(crv[:,0]/p,crv[:,1]/max(crv[:,1]),s=1)\n",
    "        if fltr == 'u':\n",
    "            axu.scatter(crv[:,0]/p,crv[:,1]/max(crv[:,1]),s=1)\n",
    "        if fltr == 'g':\n",
    "            axg.scatter(crv[:,0]/p,crv[:,1]/max(crv[:,1]),s=1)\n",
    "        if fltr == 'r':\n",
    "            axr.scatter(crv[:,0]/p,crv[:,1]/max(crv[:,1]),s=1)\n",
    "        if fltr == 'i':\n",
    "            axi.scatter(crv[:,0]/p,crv[:,1]/max(crv[:,1]),s=1)\n",
    "        if fltr == 'z':\n",
    "            axz.scatter(crv[:,0]/p,crv[:,1]/max(crv[:,1]),s=1)"
   ]
  },
  {
   "cell_type": "code",
   "execution_count": null,
   "metadata": {
    "ExecuteTime": {
     "end_time": "2021-06-02T20:45:09.139061Z",
     "start_time": "2021-06-02T20:33:36.622Z"
    },
    "scrolled": true
   },
   "outputs": [],
   "source": [
    "shortlist = []\n",
    "for name, p in pdict.items():\n",
    "    if name in ceph_names:\n",
    "        shortlist.append(name)"
   ]
  },
  {
   "cell_type": "code",
   "execution_count": null,
   "metadata": {},
   "outputs": [],
   "source": []
  },
  {
   "cell_type": "code",
   "execution_count": null,
   "metadata": {
    "ExecuteTime": {
     "end_time": "2021-06-02T20:45:09.144046Z",
     "start_time": "2021-06-02T20:33:36.626Z"
    }
   },
   "outputs": [],
   "source": [
    "coeffs = np.polyfit(crv[:,0],crv[:,1],1)\n",
    "coeffs"
   ]
  },
  {
   "cell_type": "code",
   "execution_count": null,
   "metadata": {
    "ExecuteTime": {
     "end_time": "2021-06-02T20:45:09.147040Z",
     "start_time": "2021-06-02T20:33:36.629Z"
    }
   },
   "outputs": [],
   "source": [
    "x = np.arange(len(coeffs))\n",
    "y = np.array([np.sum(np.array([coeffs[i]*(j**i) for i in range(len(coeffs))])) for j in x])"
   ]
  },
  {
   "cell_type": "code",
   "execution_count": null,
   "metadata": {
    "ExecuteTime": {
     "end_time": "2021-06-02T20:45:09.156016Z",
     "start_time": "2021-06-02T20:33:36.632Z"
    }
   },
   "outputs": [],
   "source": [
    "ceph_inds = []\n",
    "for i,name in enumerate(t['id']):\n",
    "    if name in ceph_names:\n",
    "        ceph_inds.append(i)"
   ]
  },
  {
   "cell_type": "code",
   "execution_count": null,
   "metadata": {
    "ExecuteTime": {
     "end_time": "2021-06-02T20:45:09.158010Z",
     "start_time": "2021-06-02T20:33:36.634Z"
    }
   },
   "outputs": [],
   "source": [
    "t[ceph_inds]"
   ]
  },
  {
   "cell_type": "code",
   "execution_count": null,
   "metadata": {},
   "outputs": [],
   "source": []
  },
  {
   "cell_type": "code",
   "execution_count": null,
   "metadata": {
    "ExecuteTime": {
     "end_time": "2021-06-02T20:45:09.160005Z",
     "start_time": "2021-06-02T20:33:36.643Z"
    }
   },
   "outputs": [],
   "source": [
    "for i in range(len(ceph_names)):\n",
    "    if ceph_names[i] in ['189344_10414','190269_170897','191137_70691','191515_128100','151560_15723','192287_129783']:\n",
    "        print(i)"
   ]
  },
  {
   "cell_type": "code",
   "execution_count": null,
   "metadata": {
    "ExecuteTime": {
     "end_time": "2021-06-02T20:45:09.161002Z",
     "start_time": "2021-06-02T20:33:36.646Z"
    }
   },
   "outputs": [],
   "source": [
    "phshft = np.zeros(36)\n",
    "phshft[0]  += .02\n",
    "phshft[11] += .025\n",
    "phshft[23] += .025\n",
    "phshft[25] += .035\n",
    "phshft[28] += .02\n",
    "phshft[32] -= .02\n",
    "\n",
    "amp = np.ones(36)\n",
    "amp[0]  = 1.05\n",
    "amp[9]  = 0.95\n",
    "amp[19] = 1.08\n",
    "amp[20] = 1.05\n",
    "amp[12] = 1.25\n",
    "amp[22] = 1.7\n",
    "\n",
    "yoffset = np.zeros(36)\n",
    "yoffset[14] = -.175"
   ]
  },
  {
   "cell_type": "code",
   "execution_count": null,
   "metadata": {
    "ExecuteTime": {
     "end_time": "2021-06-02T20:45:09.162996Z",
     "start_time": "2021-06-02T20:33:36.649Z"
    },
    "scrolled": true
   },
   "outputs": [],
   "source": [
    "fig, ax = plt.subplots(36,figsize=(15,150))\n",
    "count = 0\n",
    "tt = []\n",
    "yy = []\n",
    "plist = []\n",
    "for i in range(36):\n",
    "    p = pdict[ceph_names[i]]\n",
    "    plist.append(p)\n",
    "    \n",
    "    if 'g' in crvd[ceph_names[i]].keys():\n",
    "        crv = crvd[ceph_names[i]]['g']\n",
    "        tt.append((crv[:,0]/p+phshft[i])%1)\n",
    "        yy.append(crv[:,1]/max(crv[:,1]))\n",
    "        count = count + 1\n",
    "        ax[i].scatter((crv[:,0]/p+phshft[i])%1,amp[i]*crv[:,1]/max(crv[:,1]),label=i,s=20)\n",
    "        ax[i].set_ylim(-.1,1.1)\n",
    "    \n",
    "    \n",
    "    for j in [25,26,28,29,32]:\n",
    "        pj = pdict[ceph_names[j]]\n",
    "        crvj = crvd[ceph_names[j]]['g']\n",
    "        ax[i].scatter((crvj[:,0]/pj+phshft[j])%1,amp[j]*crvj[:,1]/max(crvj[:,1]),label=j,s=2)\n",
    "\n",
    "    ax[i].legend()"
   ]
  },
  {
   "cell_type": "markdown",
   "metadata": {},
   "source": [
    "[35] no g<br>\n",
    "[34,15,26,28,31],[9?,18?,23?,25?,29?]<br>\n",
    "[33,9,10,11,19,27,28],[2?,4?,23?,29?]<br>\n",
    "[32,29],[13?,17?,18?,28?,30?],[~5,~6,~7]<br>\n",
    "[31,9,,10,26,34],[28?]<br>\n",
    "[30,15,25,26,32],[2?,7?,17?,18?]<br>\n",
    "[29,0,15,25,26,28],[6?,7?,17?,18?,32?,34?,30?]<br>\n",
    "[28,19,26,29,31],[7?,15?,25?,34?]<br>\n",
    "[27,19],[1?,4?,11?]<br>\n",
    "[26,18,28,29,32],[13?,17?,25?]\n",
    "[25,15],[0?,14?,17?,18?,26?,28?,29?]<br>\n",
    "[24] no g<br>\n",
    "[23] Left side is off<br>\n",
    "[22,5,20],[1?,6?,7?,13?]<br>\n",
    "[21] Bad<br>\n",
    "[20,5,22],[13?]<br>\n",
    "[19,2,9,10],[11?,33?]<br>\n",
    "[18,9,13,17,26,29],[6?,7?,15?,22,25?,28?]<br>\n",
    "[17,13,18,22,26,32],[5?,6?,20?,25?,28?,29?,30?]<br>\n",
    "[16,4,11,12],[27?]<br>\n",
    "[15,0,7,25,26,28,29,30,32],[14?,18?,31?,34?]<br>\n",
    "[14,0],[25?,28?,29?]<br>\n",
    "[13,1,5,6,17,18,20,22,25,26,29,32],[7?,28?,30?,31?]<br>\n",
    "[12,2,16,9,19,33],[4?,8?,10?,11?]<br>\n",
    "[11,9,10,19,33],[2?,4?,16?,23?,27?]<br>\n",
    "[10,2,9,11,19,22,31],[13?]<br>\n",
    "[9,2,11,19,22,23,26,28,29,33,34]<br>\n",
    "[8] Bad<br>\n",
    "[7,0,6,15,22,29]<br>\n",
    "[6,0,7,13,28],[20?,22?]<br>\n",
    "[5,1,6,13,20,27],[22?]<br>\n",
    "[4,9,10,11,12,16,19,27,33]<br>\n",
    "[3]<br>\n",
    "[2,4,9,10,11,19],[23?]<br>\n",
    "[1,5,20,27]<br>\n",
    "[0,6,7,14,25,28,29,32]<br>\n",
    "RRLab?   t [17,18]<br>\n",
    "irr [3,21,8]<br>"
   ]
  },
  {
   "cell_type": "markdown",
   "metadata": {},
   "source": [
    "[17,13,18,22,26,32]<br>\n",
    "13: good on right side, bad in middle, maybe RRL ab?<br>\n",
    "17: Looks like RRL ab<br>\n",
    "22: Messy, hard to tell amplitude due to outlier"
   ]
  },
  {
   "cell_type": "code",
   "execution_count": null,
   "metadata": {
    "ExecuteTime": {
     "end_time": "2021-05-11T21:32:45.181127Z",
     "start_time": "2021-05-11T21:32:44.931747Z"
    }
   },
   "outputs": [],
   "source": []
  },
  {
   "cell_type": "code",
   "execution_count": null,
   "metadata": {},
   "outputs": [],
   "source": []
  },
  {
   "cell_type": "code",
   "execution_count": null,
   "metadata": {
    "ExecuteTime": {
     "end_time": "2021-06-02T20:45:09.164990Z",
     "start_time": "2021-06-02T20:33:36.658Z"
    },
    "scrolled": false
   },
   "outputs": [],
   "source": [
    "fig, ax = plt.subplots(2,figsize=(10,7))\n",
    "for i in [25,26,28,29,32]:\n",
    "    if 'g' in crvd[ceph_names[i]].keys():\n",
    "        crv = crvd[ceph_names[i]]['g']\n",
    "        p = pdict[ceph_names[i]]\n",
    "        tt.append((crv[:,0]/p+phshft[i])%1)\n",
    "        yy.append(crv[:,1]/max(crv[:,1]))\n",
    "        size=5\n",
    "        ax[0].scatter((crv[:,0]/p+phshft[i])%1,amp[i]*crv[:,1]/max(crv[:,1])+yoffset[i],label=i,s=size)\n",
    "        ax[1].scatter((crv[:,0]/p+phshft[i])%1,amp[i]*crv[:,1]/max(crv[:,1])+yoffset[i],label=i,s=2,c='black')\n",
    "\n",
    "for j in []:\n",
    "    if 'g' in crvd[ceph_names[j]].keys():\n",
    "        crv = crvd[ceph_names[j]]['g']\n",
    "        p = pdict[ceph_names[j]]\n",
    "        tt.append((crv[:,0]/p+phshft[j])%1)\n",
    "        yy.append(crv[:,1]/max(crv[:,1]))\n",
    "        ax[1].scatter((crv[:,0]/p+phshft[j])%1,amp[j]*crv[:,1]/max(crv[:,1])+yoffset[j],label=j,s=30)\n",
    "\n",
    "ax[0].set_ylim(-.1,1.1)\n",
    "ax[0].legend()\n",
    "ax[1].set_ylim(-.1,1.1)\n",
    "ax[1].legend()"
   ]
  },
  {
   "cell_type": "code",
   "execution_count": null,
   "metadata": {
    "ExecuteTime": {
     "end_time": "2021-06-02T20:45:09.166988Z",
     "start_time": "2021-06-02T20:33:36.661Z"
    },
    "scrolled": false
   },
   "outputs": [],
   "source": [
    "fig, ax = plt.subplots(2,figsize=(10,7))\n",
    "for i in [2,9,10,19]:#[2,9,10,11,19]:\n",
    "    if 'g' in crvd[ceph_names[i]].keys():\n",
    "        crv = crvd[ceph_names[i]]['g']\n",
    "        p = pdict[ceph_names[i]]\n",
    "        tt.append((crv[:,0]/p+phshft[i])%1)\n",
    "        yy.append(crv[:,1]/max(crv[:,1]))\n",
    "        size=5\n",
    "        ax[0].scatter((crv[:,0]/p+phshft[i])%1,amp[i]*crv[:,1]/max(crv[:,1])+yoffset[i],label=i,s=size)\n",
    "        ax[1].scatter((crv[:,0]/p+phshft[i])%1,amp[i]*crv[:,1]/max(crv[:,1])+yoffset[i],label=i,s=2,c='black')\n",
    "\n",
    "for j in [11]:\n",
    "    if 'g' in crvd[ceph_names[j]].keys():\n",
    "        crv = crvd[ceph_names[j]]['g']\n",
    "        p = pdict[ceph_names[j]]\n",
    "        tt.append((crv[:,0]/p+phshft[j])%1)\n",
    "        yy.append(crv[:,1]/max(crv[:,1]))\n",
    "        ax[1].scatter((crv[:,0]/p+phshft[j])%1,amp[j]*crv[:,1]/max(crv[:,1])+yoffset[j],label=j,s=5)\n",
    "\n",
    "ax[0].set_ylim(-.1,1.1)\n",
    "ax[0].legend()\n",
    "ax[1].set_ylim(-.1,1.1)\n",
    "ax[1].legend()"
   ]
  },
  {
   "cell_type": "code",
   "execution_count": null,
   "metadata": {
    "ExecuteTime": {
     "end_time": "2021-06-02T20:45:09.168982Z",
     "start_time": "2021-06-02T20:33:36.664Z"
    }
   },
   "outputs": [],
   "source": [
    "for i in [25,26,28,29,32]:\n",
    "    crv = crvd[ceph_names[i]]['g']\n",
    "    print(\"{:2}: {:.3f}, {:.4f}\".format(i,plist[i],max(crv[:,1])-min(crv[:,1])))"
   ]
  },
  {
   "cell_type": "code",
   "execution_count": null,
   "metadata": {
    "ExecuteTime": {
     "end_time": "2021-06-02T20:45:09.170975Z",
     "start_time": "2021-06-02T20:33:36.666Z"
    }
   },
   "outputs": [],
   "source": [
    "for j in [0,15,31,34]:\n",
    "    crv = crvd[ceph_names[j]]['g']\n",
    "    print(\"{:2}: {:.3f}, {:.4f}\".format(j,plist[j],max(crv[:,1])-min(crv[:,1])))"
   ]
  },
  {
   "cell_type": "code",
   "execution_count": null,
   "metadata": {
    "ExecuteTime": {
     "end_time": "2021-06-02T20:45:09.172970Z",
     "start_time": "2021-06-02T20:33:36.669Z"
    }
   },
   "outputs": [],
   "source": [
    "ceph_names[34]"
   ]
  },
  {
   "cell_type": "code",
   "execution_count": null,
   "metadata": {},
   "outputs": [],
   "source": []
  },
  {
   "cell_type": "code",
   "execution_count": null,
   "metadata": {
    "ExecuteTime": {
     "end_time": "2021-06-02T20:45:09.174964Z",
     "start_time": "2021-06-02T20:33:36.674Z"
    }
   },
   "outputs": [],
   "source": [
    "crv = crvd[ceph_names[15]]['g']\n",
    "plt.scatter(crv[:,0],crv[:,1])"
   ]
  },
  {
   "cell_type": "code",
   "execution_count": null,
   "metadata": {},
   "outputs": [],
   "source": []
  },
  {
   "cell_type": "code",
   "execution_count": null,
   "metadata": {
    "ExecuteTime": {
     "end_time": "2021-06-02T20:45:09.176958Z",
     "start_time": "2021-06-02T20:33:36.681Z"
    }
   },
   "outputs": [],
   "source": [
    "mcrv = np.vstack((tt,yy)).T\n",
    "crv1 = mcrv[mcrv[:,0].argsort()]\n",
    "#bspline fit\n",
    "t,c,k = interpolate.splrep(crv1[:,0],crv1[:,1],s=5,k=5)\n",
    "spline = interpolate.BSpline(t,c,k)\n",
    "plt.scatter(crv1[:,0],crv1[:,1],s=3)\n",
    "plt.plot(crv1[:,0],spline(crv1[:,0]),c='k')"
   ]
  },
  {
   "cell_type": "markdown",
   "metadata": {},
   "source": [
    "scipy.interpolate.LSQUnivariateSpline"
   ]
  },
  {
   "cell_type": "markdown",
   "metadata": {},
   "source": [
    "#10 has good coverage but too wide\n",
    "#12 and #13 #14 #15 #5 #17\n",
    "\n",
    "short:\n",
    "#3, #16\n",
    "\n",
    "bad period?\n",
    "#18 #6"
   ]
  },
  {
   "cell_type": "code",
   "execution_count": null,
   "metadata": {
    "ExecuteTime": {
     "end_time": "2021-06-02T20:45:09.177956Z",
     "start_time": "2021-06-02T20:33:36.687Z"
    }
   },
   "outputs": [],
   "source": [
    "# figall, axall = plt.subplots()\n",
    "figg, axg = plt.subplots()\n",
    "# figr, axr = plt.subplots()\n",
    "# figi, axi = plt.subplots()\n",
    "# figz, axz = plt.subplots()\n",
    "count = 0\n",
    "phshft = np.zeros(20)\n",
    "for i in [4,9,10,11,12,16,19,27,33]:\n",
    "    p = pdict[ceph_names2[i]]\n",
    "    print((i,p))\n",
    "    for fltr, crv in crvd[ceph_names2[i]].items():\n",
    "        m = int(len(crv)*0)\n",
    "        n = int(len(crv)*1)\n",
    "#         axall.scatter(crv[m:n,0]/p,crv[m:n,1]/max(crv[:,1]))\n",
    "        if fltr == 'g':\n",
    "            count = count + 1\n",
    "            axg.scatter(crv[m:n,0]/p+phshft[i],crv[m:n,1]/max(crv[:,1]),label=i,s=5)\n",
    "axg.legend()\n",
    "#         if fltr == 'r':\n",
    "#             axr.scatter(crv[m:n,0]/p,crv[m:n,1]/max(crv[:,1]))\n",
    "#         if fltr == 'i':\n",
    "#             axi.scatter(crv[m:n,0]/p,crv[m:n,1]/max(crv[:,1]))\n",
    "#         if fltr == 'z':\n",
    "#             axz.scatter(crv[m:n,0]/p,crv[m:n,1]/max(crv[:,1]))\n",
    "#             coeffs = np.polyfit(crv[m:n,0],crv[m:n,1],2)\n",
    "#             y = np.array([np.sum(np.array([coeffs[i]*(j**i) for i in range(len(coeffs))])) for j in crv[m:n,0]])\n",
    "#             #axz.plot(y,crv[m:n,0])"
   ]
  },
  {
   "cell_type": "code",
   "execution_count": null,
   "metadata": {
    "ExecuteTime": {
     "end_time": "2021-06-02T20:45:09.180948Z",
     "start_time": "2021-06-02T20:33:36.689Z"
    }
   },
   "outputs": [],
   "source": [
    "mcrv = np.vstack((t2,y2)).T\n",
    "crv1 = mcrv[mcrv[:,0].argsort()]\n",
    "#bspline fit\n",
    "t,c,k = interpolate.splrep(crv1[:,0],crv1[:,1],s=1.1,k=5)\n",
    "spline = interpolate.BSpline(t,c,k)\n",
    "plt.scatter(crv1[:,0],crv1[:,1],s=3)\n",
    "plt.plot(crv1[:,0],spline(crv1[:,0]),c='k')"
   ]
  },
  {
   "cell_type": "code",
   "execution_count": null,
   "metadata": {},
   "outputs": [],
   "source": []
  },
  {
   "cell_type": "code",
   "execution_count": null,
   "metadata": {},
   "outputs": [],
   "source": []
  },
  {
   "cell_type": "code",
   "execution_count": null,
   "metadata": {},
   "outputs": [],
   "source": []
  },
  {
   "cell_type": "code",
   "execution_count": null,
   "metadata": {
    "ExecuteTime": {
     "end_time": "2021-06-02T20:45:09.183946Z",
     "start_time": "2021-06-02T20:33:36.699Z"
    }
   },
   "outputs": [],
   "source": [
    "figall, axall = plt.subplots()\n",
    "figu, axu = plt.subplots()\n",
    "figg, axg = plt.subplots()\n",
    "figr, axr = plt.subplots()\n",
    "figi, axi = plt.subplots()\n",
    "figz, axz = plt.subplots()\n",
    "for i in range(len(ceph_names)):\n",
    "    p = pdict[ceph_names[i]]\n",
    "    fig1, ax1 = plt.subplots()\n",
    "    for fltr, crv in crvd[ceph_names[i]].items():\n",
    "        axall.scatter(crv[:,0]/p,crv[:,1]/max(crv[:,1]))\n",
    "        ax1.scatter(crv[:,0]/p,crv[:,1]/max(crv[:,1]),c=cf[fltr],label=fltr)\n",
    "        if fltr == 'u':\n",
    "            axu.scatter(crv[:,0]/p,crv[:,1]/max(crv[:,1]))\n",
    "        if fltr == 'g':\n",
    "            axg.scatter(crv[:,0]/p,crv[:,1]/max(crv[:,1]))\n",
    "        if fltr == 'r':\n",
    "            axr.scatter(crv[:,0]/p,crv[:,1]/max(crv[:,1]))\n",
    "        if fltr == 'i':\n",
    "            axi.scatter(crv[:,0]/p,crv[:,1]/max(crv[:,1]))\n",
    "        if fltr == 'z':\n",
    "            axz.scatter(crv[:,0]/p,crv[:,1]/max(crv[:,1]))\n",
    "    ax1.set_title('{} - Phased Normalized'.format(ceph_names[i]))\n",
    "    ax1.legend()\n",
    "    fig1.savefig('overplot/{}_phased_norm.pdf'.format(ceph_names[i]))\n",
    "    plt.close(fig1)\n",
    "axu.set_title('u - Phased Normalized')\n",
    "figu.savefig('overplot/u_phased_norm.pdf')\n",
    "plt.close(figu)\n",
    "axg.set_title('g - Phased Normalized')\n",
    "figg.savefig('overplot/g_phased_norm.pdf')\n",
    "plt.close(figg)\n",
    "axr.set_title('r - Phased Normalized')\n",
    "figr.savefig('overplot/r_phased_norm.pdf')\n",
    "plt.close(figr)\n",
    "axi.set_title('i - Phased Normalized')\n",
    "figi.savefig('overplot/i_phased_norm.pdf')\n",
    "plt.close(figi)\n",
    "axz.set_title('z - Phased Normalized')\n",
    "figz.savefig('overplot/z_phased_norm.pdf')\n",
    "plt.close(figz)\n",
    "axall.set_title('All - Phased Normalized')\n",
    "figall.savefig('overplot/all_phased_norm.pdf')\n",
    "plt.close(figall)"
   ]
  },
  {
   "cell_type": "code",
   "execution_count": null,
   "metadata": {},
   "outputs": [],
   "source": []
  },
  {
   "cell_type": "code",
   "execution_count": null,
   "metadata": {},
   "outputs": [],
   "source": []
  },
  {
   "cell_type": "code",
   "execution_count": null,
   "metadata": {},
   "outputs": [],
   "source": []
  }
 ],
 "metadata": {
  "kernelspec": {
   "display_name": "Python 3",
   "language": "python",
   "name": "python3"
  },
  "language_info": {
   "codemirror_mode": {
    "name": "ipython",
    "version": 3
   },
   "file_extension": ".py",
   "mimetype": "text/x-python",
   "name": "python",
   "nbconvert_exporter": "python",
   "pygments_lexer": "ipython3",
   "version": "3.7.4"
  }
 },
 "nbformat": 4,
 "nbformat_minor": 2
}
