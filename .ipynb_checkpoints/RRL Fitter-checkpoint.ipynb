{
 "cells": [
  {
   "cell_type": "code",
   "execution_count": 1,
   "metadata": {
    "ExecuteTime": {
     "end_time": "2021-08-24T03:26:39.490005Z",
     "start_time": "2021-08-24T03:26:36.951490Z"
    },
    "scrolled": true
   },
   "outputs": [
    {
     "name": "stderr",
     "output_type": "stream",
     "text": [
      "C:\\Users\\kylem\\Anaconda3\\lib\\site-packages\\numpy\\_distributor_init.py:32: UserWarning: loaded more than 1 DLL from .libs:\n",
      "C:\\Users\\kylem\\Anaconda3\\lib\\site-packages\\numpy\\.libs\\libopenblas.GK7GX5KEQ4F6UYO3P26ULGBQYHGQO7J4.gfortran-win_amd64.dll\n",
      "C:\\Users\\kylem\\Anaconda3\\lib\\site-packages\\numpy\\.libs\\libopenblas.IPBC74C7KURV7CB2PKT5Z5FNR3SIBV4J.gfortran-win_amd64.dll\n",
      "  stacklevel=1)\n"
     ]
    }
   ],
   "source": [
    "import numpy as np\n",
    "import matplotlib.pyplot as plt\n",
    "%matplotlib inline\n",
    "from scipy.optimize import curve_fit\n",
    "from scipy.interpolate import interp1d\n",
    "import os\n",
    "from dl import queryClient as qc\n",
    "from astropy.table import Table, vstack\n",
    "import utils"
   ]
  },
  {
   "cell_type": "code",
   "execution_count": 2,
   "metadata": {
    "ExecuteTime": {
     "end_time": "2021-08-24T03:26:39.505904Z",
     "start_time": "2021-08-24T03:26:39.491982Z"
    }
   },
   "outputs": [],
   "source": [
    "import collections"
   ]
  },
  {
   "cell_type": "code",
   "execution_count": 3,
   "metadata": {
    "ExecuteTime": {
     "end_time": "2021-08-24T03:26:39.520864Z",
     "start_time": "2021-08-24T03:26:39.507899Z"
    }
   },
   "outputs": [],
   "source": [
    "pltdir = 'results/plots'\n",
    "if not os.path.exists(pltdir):\n",
    "    os.makedirs(pltdir)"
   ]
  },
  {
   "cell_type": "code",
   "execution_count": 4,
   "metadata": {
    "ExecuteTime": {
     "end_time": "2021-08-24T03:26:39.551830Z",
     "start_time": "2021-08-24T03:26:39.523857Z"
    }
   },
   "outputs": [
    {
     "data": {
      "text/plain": [
       "'D:\\\\msu\\\\DavidNidever\\\\TempletFit'"
      ]
     },
     "execution_count": 4,
     "metadata": {},
     "output_type": "execute_result"
    }
   ],
   "source": [
    "os.getcwd()"
   ]
  },
  {
   "cell_type": "code",
   "execution_count": 5,
   "metadata": {
    "ExecuteTime": {
     "end_time": "2021-08-24T03:26:39.583698Z",
     "start_time": "2021-08-24T03:26:39.553777Z"
    }
   },
   "outputs": [],
   "source": [
    "gldrrab = np.loadtxt('goldsample/golden_RRab.txt',delimiter=',',dtype=str)\n",
    "gldall  = np.loadtxt('goldsample/all_gold_sample.txt',dtype=str)\n",
    "gldelse = np.array(list(set(gldall) - set(gldrrab)))"
   ]
  },
  {
   "cell_type": "code",
   "execution_count": null,
   "metadata": {},
   "outputs": [],
   "source": []
  },
  {
   "cell_type": "code",
   "execution_count": null,
   "metadata": {},
   "outputs": [],
   "source": []
  },
  {
   "cell_type": "code",
   "execution_count": 6,
   "metadata": {
    "ExecuteTime": {
     "end_time": "2021-08-24T03:26:40.097322Z",
     "start_time": "2021-08-24T03:26:39.586689Z"
    },
    "code_folding": [
     3,
     27,
     59
    ]
   },
   "outputs": [],
   "source": [
    "import psearch_py3\n",
    "from scipy.signal import find_peaks, peak_prominences\n",
    "\n",
    "def get_data(objname, bands = ['u','g','r','i','z','Y','VR']):\n",
    "    \"\"\"Query the object by name, extract light curves, \n",
    "       error, filters and top N estimated periods.\"\"\"\n",
    "    df=qc.query(sql=\"\"\"SELECT meas.* FROM nsc_dr2.meas\n",
    "                     WHERE objectid='{:s}'\"\"\".format(objname),\n",
    "              fmt='pandas')\n",
    "    \n",
    "    selbnds = [i for i, val in enumerate(df['filter']) if val in bands]\n",
    "    selfwhm = np.where(df['fwhm'] <= 4.0)[0]\n",
    "    sel = [x for x in selbnds if x in selfwhm]\n",
    "\n",
    "    crvdat           = Table([df['mjd'][sel]],names=['mjd'])\n",
    "    crvdat['mag']    = df['mag_auto'][sel]\n",
    "    crvdat['err']    = df['magerr_auto'][sel]\n",
    "    crvdat['fltr']   = -1\n",
    "    for i in range(len(crvdat)):\n",
    "        crvdat['fltr'][i] = bands.index(df['filter'][sel[i]])\n",
    "    crvdat.sort(['fltr','mjd'])\n",
    "    \n",
    "    cnt  = collections.Counter(crvdat['fltr'])\n",
    "    \n",
    "    mult = np.where(np.array(list(cnt.values()))>1)[0]\n",
    "    return crvdat[np.in1d(crvdat['fltr'], mult)]\n",
    "\n",
    "def get_periods(mjd,mag,err,fltr,objname='',N = 5,pmin=.2,bands=['u','g','r','i','z','Y','VR']):\n",
    "    \n",
    "    # The filter information here uses indices determined from the order they\n",
    "    # appear in bands. To run psearch we want to reassign these indices to remove\n",
    "    # any unused bands. For example, if only 'g', 'r' and 'z' are used, indices\n",
    "    # should be 0,1,2 and not 1,2,4.\n",
    "    cnt  = collections.Counter(fltr)\n",
    "    print(cnt)\n",
    "    mult = np.where(np.array(list(cnt.values()))>1)[0]\n",
    "    sel  = np.in1d(fltr, mult)\n",
    "    \n",
    "    fltinds = list(set(fltr))\n",
    "    replace = {fltinds[i]:i for i in range(len(fltinds))}\n",
    "    newinds = np.array([replace.get(n,n) for n in fltr],dtype=np.float64)\n",
    "    fltrnms = (np.array(bands))[list(set(fltr[sel]))]\n",
    "    \n",
    "    dphi = 0.02\n",
    "    plist, psiarray, thresh = \\\n",
    "            psearch_py3.psearch_py( mjd[sel], mag[sel], err[sel], \n",
    "                                   newinds[sel], fltrnms, pmin, dphi )\n",
    "    \n",
    "    psi = psiarray.sum(0)\n",
    "    \n",
    "    pkinds = find_peaks(psi,distance=len(plist)/2000)[0]\n",
    "    prom   = peak_prominences(psi,pkinds)[0]\n",
    "    inds0  = pkinds[np.argsort(-prom)[:10*N]]\n",
    "    inds   = inds0[np.argsort(-psi[inds0])[:N]]\n",
    "    \n",
    "    plot_periodogram(plist,psi,inds,objname)\n",
    "    \n",
    "    return plist[inds]\n",
    "\n",
    "def plot_periodogram(prds,psi,inds,objname='',outdir='results/plots'):\n",
    "   \n",
    "    fig, ax = plt.subplots(figsize=(10,7))\n",
    "        \n",
    "    ax.plot(prds,psi,lw=0.1)\n",
    "    ax.scatter(prds[inds[1:]],psi[inds[1:]],c='k',s=10)\n",
    "    ax.scatter(prds[inds[0]],psi[inds[0]],c='r',s=12)\n",
    "    \n",
    "    ax.set_xlabel('log period (days)',fontsize=18)\n",
    "    ax.set_ylabel('psi',fontsize=18)\n",
    "    ax.set_title('{} Periodogram'.format(objname),fontsize=20)\n",
    "    ax.set_xscale('log')\n",
    "    ax.text(0.7,0.9,'best period = {:.3f} days'.format(prds[inds[0]]),transform=ax.transAxes,color='r')\n",
    "    \n",
    "#     fig.savefig(outdir+'\\\\{}_periodogram.png'.format(objname))\n",
    "    \n",
    "    # create zoomed in copy\n",
    "    ax.set_title('{} Periodogram Zoomed In'.format(objname),fontsize=20)\n",
    "    minp = min(prds[inds])\n",
    "    maxp = max(prds[inds])\n",
    "    ax.set_xlim(minp*.67,maxp*1.33)\n",
    "    fig.savefig(outdir+'\\\\{}_periodogram_zoomedin.png'.format(objname))\n",
    "    \n",
    "    plt.close(fig)\n",
    "    return"
   ]
  },
  {
   "cell_type": "code",
   "execution_count": 7,
   "metadata": {
    "ExecuteTime": {
     "end_time": "2021-08-24T03:26:40.127245Z",
     "start_time": "2021-08-24T03:26:40.100315Z"
    },
    "code_folding": [
     0
    ]
   },
   "outputs": [],
   "source": [
    "def get_data(pix, bands=['u','g','r','i','z','Y','VR']):\n",
    "    res=qc.query(sql=\"\"\"SELECT meas.mjd,mag_auto,magerr_auto,objectid,filter,meas.fwhm\n",
    "                    FROM nsc_dr2.meas JOIN nsc_dr2.object ON meas.objectid=object.id \n",
    "                    WHERE pix={:d} and variable10sig=1 and ndet>=30\"\"\".format(pix),\n",
    "                 fmt='table')\n",
    "    \n",
    "    selbnds = [i for i, val in enumerate(res['filter']) if val in bands]\n",
    "    selfwhm = np.where(res['fwhm'] <= 8.0)[0]\n",
    "    sel = [x for x in selbnds if x in selfwhm]\n",
    "    \n",
    "    res['fltr']   = -1\n",
    "    for i in sel:\n",
    "        res['fltr'][i] = bands.index(res['filter'][i])\n",
    "    \n",
    "    res.rename_column('mag_auto', 'mag')\n",
    "    res.rename_column('magerr_auto', 'err')\n",
    "    res.sort(['objectid','fltr','mjd'])\n",
    "    \n",
    "    return res[res['fltr']>=0]"
   ]
  },
  {
   "cell_type": "code",
   "execution_count": null,
   "metadata": {},
   "outputs": [],
   "source": []
  },
  {
   "cell_type": "code",
   "execution_count": 8,
   "metadata": {
    "ExecuteTime": {
     "end_time": "2021-08-24T03:26:55.198600Z",
     "start_time": "2021-08-24T03:26:40.134227Z"
    }
   },
   "outputs": [
    {
     "name": "stdout",
     "output_type": "stream",
     "text": [
      "Counter({1: 45, 5: 19, 0: 10, 3: 6, 4: 4, 2: 3})\n"
     ]
    },
    {
     "data": {
      "text/plain": [
       "array([1.15377383, 0.4943133 , 0.32268623, 0.32763768, 1.21927927])"
      ]
     },
     "execution_count": 8,
     "metadata": {},
     "output_type": "execute_result"
    }
   ],
   "source": [
    "data = get_data(100047)\n",
    "objlist = list(set(data['objectid']))\n",
    "i = 9\n",
    "sel = data['objectid'] == objlist[i]\n",
    "datasel = data[sel]\n",
    "get_periods(datasel['mjd'],datasel['mag'],datasel['err'],datasel['fltr'],objname=objlist[i])"
   ]
  },
  {
   "cell_type": "code",
   "execution_count": null,
   "metadata": {},
   "outputs": [],
   "source": []
  },
  {
   "cell_type": "code",
   "execution_count": null,
   "metadata": {},
   "outputs": [],
   "source": []
  },
  {
   "cell_type": "code",
   "execution_count": 9,
   "metadata": {
    "ExecuteTime": {
     "end_time": "2021-08-24T03:26:55.276394Z",
     "start_time": "2021-08-24T03:26:55.205581Z"
    },
    "code_folding": [
     1,
     12,
     26,
     84
    ]
   },
   "outputs": [],
   "source": [
    "class RRLfitter:\n",
    "    def __init__ (self, tmps, fltnames= ['u','g','r','i','z','Y','VR'], ampratio=[1.81480451,1.46104910,1.0,0.79662171,0.74671563,0.718746,1.050782]):\n",
    "        # constants\n",
    "        self.tmps     = tmps # Table containing templates\n",
    "        self.fltnames = fltnames # list of names of usable filters\n",
    "        self.Nflts    = len(fltnames) # number of usable filters\n",
    "        self.ampratio = np.array(ampratio)\n",
    "        # model variables\n",
    "        self.fltinds  = [] # list of filter index values (0:'u', 1:'g', etc.)\n",
    "        self.tmpind   = 1 # index of template currently being used 1,2,...,N\n",
    "        self.period   = 1\n",
    "        \n",
    "    def model(self, t, *args):\n",
    "        \"\"\"modify the template using peak-to-peak amplitude and yoffset\n",
    "        input times t should be epoch folded, phase shift to match template\"\"\"\n",
    "        t0 = args[0]\n",
    "        amplist = (args[1] * self.ampratio)[self.fltinds]\n",
    "        yofflist = np.array(args[2:])[self.fltinds]\n",
    "        \n",
    "        ph = (t - t0) / self.period %1\n",
    "        template = interp1d(self.tmps.columns[0],self.tmps.columns[self.tmpind])(ph)\n",
    "        \n",
    "        mag = template * amplist + yofflist\n",
    "        \n",
    "        return mag\n",
    "\n",
    "    def tmpfit(self,mjd,mag,err,fltinds,plist,initpars=None):\n",
    "        self.fltinds = fltinds\n",
    "        if isinstance(plist, (int,float)):\n",
    "            plist = [plist]\n",
    "        \n",
    "        \n",
    "        if initpars is None:\n",
    "            initpars = np.zeros( 2 + self.Nflts )\n",
    "            initpars[0]  = min(mjd)\n",
    "            initpars[2:] = np.median(mag)\n",
    "            ampest = []\n",
    "            for f in set(fltinds):\n",
    "                ampest.append( (max(mag[fltinds==f])-min(mag[fltinds==f]))/self.ampratio[f] )\n",
    "            initpars[1]  = np.mean(ampest)\n",
    "\n",
    "        bounds = ( np.zeros(2+self.Nflts), np.zeros(2+self.Nflts))\n",
    "        bounds[0][0] =  0.0\n",
    "        bounds[1][0] = np.inf\n",
    "        bounds[0][1] =  0.0\n",
    "        bounds[1][1] = 50.0\n",
    "        bounds[0][2:]=-50.0\n",
    "        bounds[1][2:]= 50.0\n",
    "\n",
    "        for i in set(range(self.Nflts))-set(self.fltinds):\n",
    "            initpars[2+i]  =   0\n",
    "            bounds[0][2+i] = -10**-6\n",
    "            bounds[1][2+i] =  10**-6\n",
    "        \n",
    "        minx2    = 2**99\n",
    "        bestpars = np.zeros( 2 + self.Nflts )\n",
    "        besttmp  =-1\n",
    "        besterr  = 0\n",
    "        bestprd  = 0\n",
    "        for p in plist:\n",
    "            self.period = p\n",
    "            \n",
    "            for n in range(1,len(self.tmps.columns)):\n",
    "                self.tmpind = n\n",
    "                \n",
    "                try:\n",
    "                    pars, cov = curve_fit(self.model, mjd, mag, \n",
    "                                          bounds=bounds, sigma=err,\n",
    "                                          p0=initpars, maxfev=5000)\n",
    "                except RuntimeError:\n",
    "                    continue\n",
    "                x2 = sum((self.model(mjd,*pars)-mag)**2/err**2)\n",
    "                if x2 < minx2:\n",
    "                    minx2 = x2\n",
    "                    bestpars = pars\n",
    "                    besterr = np.sqrt(np.diag(cov))\n",
    "                    bestprd = p\n",
    "                    besttmp = n\n",
    "                    \n",
    "        self.period = bestprd\n",
    "        self.tmpind = besttmp\n",
    "        \n",
    "        return bestpars, bestprd, besterr, besttmp, minx2\n",
    "\n",
    "    def fit_plot(self,objname,N=10):\n",
    "        crvdat = get_data(objname,bands=self.fltnames)\n",
    "        \n",
    "        plist  = get_periods(crvdat['mjd'],crvdat['mag'],crvdat['err'],crvdat['fltr'],\n",
    "                             objname=objname,bands=self.fltnames,N=10)\n",
    "\n",
    "        # Fit curve\n",
    "        pars,p,err,tmpind,chi2 = self.tmpfit(crvdat['mjd'],crvdat['mag'],crvdat['err'],crvdat['fltr'],plist)\n",
    "        \n",
    "        # Reject outliers, select inliers\n",
    "        resid   = np.array(abs(crvdat['mag']-self.model(crvdat['mjd'],*pars)))\n",
    "        crvdat['inlier'] = resid<utils.mad(resid)*5\n",
    "        \n",
    "        # Fit with inliers only\n",
    "        pars,p,err,tmpind,chi2 = self.tmpfit(crvdat['mjd'][crvdat['inlier']],crvdat['mag'][crvdat['inlier']],\n",
    "                                             crvdat['err'][crvdat['inlier']],crvdat['fltr'][crvdat['inlier']],plist,pars)\n",
    "        \n",
    "        redchi2 = chi2/(sum(crvdat['inlier'])-len(set(crvdat['fltr'][crvdat['inlier']]))-2)\n",
    "        \n",
    "        # get the filters with inlier data (incase it's different from all data)\n",
    "        inlierflts = set(crvdat['fltr'][crvdat['inlier']])\n",
    "        # Add phase to crvdat and sort\n",
    "        crvdat['ph'] = ph = (crvdat['mjd'] - pars[0]) / p %1\n",
    "        crvdat.sort(['fltr','ph'])\n",
    "        self.fltinds = crvdat['fltr']\n",
    "        \n",
    "        # Plot\n",
    "        colors  = ['#1f77b4','#2ca02c','#d62728','#9467bd','#8c564b','y','k']\n",
    "        nf      = len(inlierflts) # Number of filters with inliers\n",
    "        fig, ax = plt.subplots(nf, figsize=(12,4*(nf**.75+1)), sharex=True)\n",
    "        if nf == 1:\n",
    "            ax  = [ax]\n",
    "        \n",
    "        for i,f in enumerate(inlierflts):\n",
    "            sel = crvdat['fltr'] == f\n",
    "            ax[i].scatter(crvdat['ph'][sel],crvdat['mag'][sel],c=colors[f])\n",
    "            ax[i].scatter(crvdat['ph'][sel]+1,crvdat['mag'][sel],c=colors[f])\n",
    "            tmpmag = np.tile(self.tmps.columns[tmpind]*pars[1]*self.ampratio[f]+pars[2:][f],2)\n",
    "            tmpph  = np.tile(self.tmps['PH'],2)+([0]*len(self.tmps['PH'])+[1]*len(self.tmps['PH']))\n",
    "            ax[i].plot(tmpph,tmpmag,c='k')\n",
    "            ax[i].invert_yaxis()\n",
    "            ax[i].set_ylabel(self.fltnames[f], fontsize=20)\n",
    "        \n",
    "        ax[-1].set_xlabel('Phase', fontsize=20)\n",
    "        ax[0].set_title(\"Object: {}    Period: {:.3f} d    Type: {}\".format(\n",
    "                                            objname,p,self.tmps.colnames[tmpind]), fontsize=22)\n",
    "        fig.savefig('results/plots/{}_plot.png'.format(objname))\n",
    "        plt.close(fig)\n",
    "        \n",
    "        # save parameters and results\n",
    "        res = Table([[objname]],names=['name'])\n",
    "        res['period'] = p\n",
    "        res['t0']     = pars[0]\n",
    "        res['r amp']  = pars[1]\n",
    "        for i in range(2,len(pars)):\n",
    "            f = self.fltnames[i-2]\n",
    "            res['{} mag'.format(f)] = pars[i]\n",
    "        res['chi2']   = chi2\n",
    "        res['redchi2']= redchi2\n",
    "        res['template']= self.tmps.colnames[tmpind]\n",
    "        res['t0 err']     = err[0]\n",
    "        res['amp err']  = err[1]\n",
    "        for i in range(2,len(err)):\n",
    "            f = self.fltnames[i-2]\n",
    "            res['{} mag err'.format(f)] = err[i]\n",
    "        res['Ndat']      = len(crvdat)\n",
    "        res['N inliers'] = sum(crvdat['inlier'])\n",
    "        for i in range(len(self.fltnames)):\n",
    "            f = self.fltnames[i]\n",
    "            res['N {}'.format(f)] = sum(crvdat['fltr'][crvdat['inlier']]==i)\n",
    "        res.write('results/{}_res.fits'.format(objname),format='fits',overwrite=True)\n",
    "        \n",
    "        return\n",
    "        \n",
    "tmps = Table.read('templates/layden_templates.fits',format='fits')\n",
    "fitter  = RRLfitter(tmps,['u','g','r','i','z','Y','VR'],[1.8148,1.4610,1.0,0.7966,0.7467,0.7187,1.0507])"
   ]
  },
  {
   "cell_type": "code",
   "execution_count": 10,
   "metadata": {
    "ExecuteTime": {
     "end_time": "2021-08-24T03:26:55.323264Z",
     "start_time": "2021-08-24T03:26:55.280381Z"
    },
    "code_folding": [
     0
    ]
   },
   "outputs": [],
   "source": [
    "def fit_plot_pix(pix):\n",
    "    alldat = get_data(pix,bands=fitter.fltnames)\n",
    "    \n",
    "    objs = set(alldat['objectid'])\n",
    "    \n",
    "    for objname in objs:\n",
    "        print(objname)\n",
    "        selobj = alldat['objectid'] == objname\n",
    "        crvdat = alldat[selobj]\n",
    "        \n",
    "        plist  = get_periods(crvdat['mjd'],crvdat['mag'],crvdat['err'],crvdat['fltr'],\n",
    "                             objname=objname,bands=fitter.fltnames,N=10)\n",
    "\n",
    "        # Fit curve\n",
    "        pars,p,err,tmpind,chi2 = fitter.tmpfit(crvdat['mjd'],crvdat['mag'],crvdat['err'],crvdat['fltr'],plist)\n",
    "\n",
    "        # Reject outliers, select inliers\n",
    "        resid   = np.array(abs(crvdat['mag']-fitter.model(crvdat['mjd'],*pars)))\n",
    "        crvdat['inlier'] = resid<utils.mad(resid)*5\n",
    "\n",
    "        # Fit with inliers only\n",
    "        pars,p,err,tmpind,chi2 = fitter.tmpfit(crvdat['mjd'][crvdat['inlier']],crvdat['mag'][crvdat['inlier']],\n",
    "                                             crvdat['err'][crvdat['inlier']],crvdat['fltr'][crvdat['inlier']],plist,pars)\n",
    "\n",
    "        redchi2 = chi2/(sum(crvdat['inlier'])-len(set(crvdat['fltr'][crvdat['inlier']]))-2)\n",
    "\n",
    "        # get the filters with inlier data (incase it's different from all data)\n",
    "        inlierflts = set(crvdat['fltr'][crvdat['inlier']])\n",
    "        # Add phase to crvdat and sort\n",
    "        crvdat['ph'] = ph = (crvdat['mjd'] - pars[0]) / p %1\n",
    "        crvdat.sort(['fltr','ph'])\n",
    "        fitter.fltinds = crvdat['fltr']\n",
    "\n",
    "        # Plot\n",
    "        colors  = ['#1f77b4','#2ca02c','#d62728','#9467bd','#8c564b','y','k']\n",
    "        nf      = len(inlierflts) # Number of filters with inliers\n",
    "        fig, ax = plt.subplots(nf, figsize=(12,4*(nf**.75+1)), sharex=True)\n",
    "        if nf == 1:\n",
    "            ax  = [ax]\n",
    "\n",
    "        for i,f in enumerate(inlierflts):\n",
    "            sel = crvdat['fltr'] == f\n",
    "            ax[i].scatter(crvdat['ph'][sel],crvdat['mag'][sel],c=colors[f])\n",
    "            ax[i].scatter(crvdat['ph'][sel]+1,crvdat['mag'][sel],c=colors[f])\n",
    "            tmpmag = np.tile(fitter.tmps.columns[tmpind]*pars[1]*fitter.ampratio[f]+pars[2:][f],2)\n",
    "            tmpph  = np.tile(fitter.tmps['PH'],2)+([0]*len(fitter.tmps['PH'])+[1]*len(fitter.tmps['PH']))\n",
    "            ax[i].plot(tmpph,tmpmag,c='k')\n",
    "            ax[i].invert_yaxis()\n",
    "            ax[i].set_ylabel(fitter.fltnames[f], fontsize=20)\n",
    "\n",
    "        ax[-1].set_xlabel('Phase', fontsize=20)\n",
    "        ax[0].set_title(\"Object: {}    Period: {:.3f} d    Type: {}\".format(\n",
    "                                            objname,p,fitter.tmps.colnames[tmpind]), fontsize=22)\n",
    "        fig.savefig('results/plots/{}_plot.png'.format(objname))\n",
    "        plt.close(fig)\n",
    "\n",
    "        # save parameters and results\n",
    "        res = Table([[objname]],names=['name'])\n",
    "        res['period'] = p\n",
    "        res['t0']     = pars[0]\n",
    "        res['r amp']  = pars[1]\n",
    "        for i in range(2,len(pars)):\n",
    "            f = fitter.fltnames[i-2]\n",
    "            res['{} mag'.format(f)] = pars[i]\n",
    "        res['chi2']   = chi2\n",
    "        res['redchi2']= redchi2\n",
    "        res['template']= fitter.tmps.colnames[tmpind]\n",
    "        res['t0 err']     = err[0]\n",
    "        res['amp err']  = err[1]\n",
    "        for i in range(2,len(err)):\n",
    "            f = fitter.fltnames[i-2]\n",
    "            res['{} mag err'.format(f)] = err[i]\n",
    "        res['Ndat']      = len(crvdat)\n",
    "        res['N inliers'] = sum(crvdat['inlier'])\n",
    "        for i in range(len(fitter.fltnames)):\n",
    "            f = fitter.fltnames[i]\n",
    "            res['N {}'.format(f)] = sum(crvdat['fltr'][crvdat['inlier']]==i)\n",
    "        res.write('results/{}_res.fits'.format(objname),format='fits',overwrite=True)\n",
    "\n",
    "    return"
   ]
  },
  {
   "cell_type": "code",
   "execution_count": 11,
   "metadata": {
    "ExecuteTime": {
     "end_time": "2021-08-24T03:27:48.535191Z",
     "start_time": "2021-08-24T03:26:55.332248Z"
    }
   },
   "outputs": [
    {
     "name": "stdout",
     "output_type": "stream",
     "text": [
      "196000_1577\n",
      "Counter({2: 11, 1: 9, 3: 7, 4: 5})\n",
      "196000_835\n",
      "Counter({2: 11, 3: 7, 1: 5, 4: 5})\n",
      "196000_222\n",
      "Counter({2: 8, 3: 8, 1: 7, 0: 5, 4: 5})\n",
      "196000_1748\n",
      "Counter({2: 12, 1: 8, 3: 7, 0: 5, 4: 5})\n"
     ]
    }
   ],
   "source": [
    "fit_plot_pix(196000)"
   ]
  },
  {
   "cell_type": "code",
   "execution_count": null,
   "metadata": {},
   "outputs": [],
   "source": []
  },
  {
   "cell_type": "code",
   "execution_count": null,
   "metadata": {},
   "outputs": [],
   "source": []
  },
  {
   "cell_type": "code",
   "execution_count": 12,
   "metadata": {
    "ExecuteTime": {
     "end_time": "2021-08-24T03:27:48.551228Z",
     "start_time": "2021-08-24T03:27:48.535191Z"
    },
    "scrolled": true
   },
   "outputs": [],
   "source": [
    "fails = []\n",
    "# for nm in gldrrab[:0]:\n",
    "#     try:\n",
    "#         print(nm)\n",
    "#         print('* * * * * * * * * * *')\n",
    "#         fitter.fit_plot(nm)\n",
    "#     except:\n",
    "#         print('failed on {}'.format(nm))\n",
    "#         print('+ + + + + + + + + + +')\n",
    "#         fails.append(nm)\n",
    "#         continue"
   ]
  },
  {
   "cell_type": "code",
   "execution_count": 13,
   "metadata": {
    "ExecuteTime": {
     "end_time": "2021-08-24T03:27:48.567139Z",
     "start_time": "2021-08-24T03:27:48.553177Z"
    }
   },
   "outputs": [
    {
     "data": {
      "text/plain": [
       "[]"
      ]
     },
     "execution_count": 13,
     "metadata": {},
     "output_type": "execute_result"
    }
   ],
   "source": [
    "fails"
   ]
  },
  {
   "cell_type": "markdown",
   "metadata": {},
   "source": [
    "['107453_1174',\n",
    " '124971_10347',\n",
    " '147091_47354',\n",
    " '148119_78165',\n",
    " '148623_30790',\n",
    " '148630_76049',\n",
    " '148631_115031',\n",
    " '148631_24329',\n",
    " '148631_95231',\n",
    " '149142_91743',\n",
    " '149144_103050',\n",
    " '149144_46718',\n",
    " '149144_94834',\n",
    " '150167_1560',\n",
    " '150167_9176',\n",
    " '150168_1381',\n",
    " '150168_18639',\n",
    " '188977_12448',\n",
    " '188977_16385',\n",
    " '188977_3062',\n",
    " '188978_7752']"
   ]
  },
  {
   "cell_type": "code",
   "execution_count": null,
   "metadata": {},
   "outputs": [],
   "source": []
  },
  {
   "cell_type": "code",
   "execution_count": null,
   "metadata": {},
   "outputs": [],
   "source": []
  },
  {
   "cell_type": "code",
   "execution_count": 14,
   "metadata": {
    "ExecuteTime": {
     "end_time": "2021-08-24T03:27:48.598055Z",
     "start_time": "2021-08-24T03:27:48.571131Z"
    }
   },
   "outputs": [
    {
     "ename": "SyntaxError",
     "evalue": "invalid syntax (<ipython-input-14-7b18d017f89f>, line 1)",
     "output_type": "error",
     "traceback": [
      "\u001b[1;36m  File \u001b[1;32m\"<ipython-input-14-7b18d017f89f>\"\u001b[1;36m, line \u001b[1;32m1\u001b[0m\n\u001b[1;33m    def\u001b[0m\n\u001b[1;37m       ^\u001b[0m\n\u001b[1;31mSyntaxError\u001b[0m\u001b[1;31m:\u001b[0m invalid syntax\n"
     ]
    }
   ],
   "source": [
    "def"
   ]
  },
  {
   "cell_type": "markdown",
   "metadata": {
    "ExecuteTime": {
     "end_time": "2021-08-03T14:34:51.712016Z",
     "start_time": "2021-08-03T14:34:51.698617Z"
    }
   },
   "source": [
    "- - -"
   ]
  },
  {
   "cell_type": "code",
   "execution_count": null,
   "metadata": {},
   "outputs": [],
   "source": []
  },
  {
   "cell_type": "code",
   "execution_count": null,
   "metadata": {},
   "outputs": [],
   "source": []
  },
  {
   "cell_type": "code",
   "execution_count": null,
   "metadata": {},
   "outputs": [],
   "source": []
  },
  {
   "cell_type": "code",
   "execution_count": null,
   "metadata": {
    "ExecuteTime": {
     "end_time": "2021-08-24T03:27:48.601049Z",
     "start_time": "2021-08-24T03:26:37.001Z"
    }
   },
   "outputs": [],
   "source": [
    "objs = []\n",
    "for nm in gldrrab:\n",
    "    df=qc.query(sql=\"\"\"SELECT meas.* \n",
    "                 FROM nsc_dr2.meas\n",
    "                 WHERE objectid='{:s}'\"\"\".format(nm),\n",
    "          fmt='pandas')\n",
    "    ct = collections.Counter(df['filter'])\n",
    "    if ct['Y'] < 40:\n",
    "        continue\n",
    "    if ct['VR'] < 40:\n",
    "        continue\n",
    "    print('')\n",
    "    print(nm)\n",
    "    objs.append(nm)\n",
    "    print(ct)"
   ]
  },
  {
   "cell_type": "code",
   "execution_count": null,
   "metadata": {},
   "outputs": [],
   "source": []
  },
  {
   "cell_type": "code",
   "execution_count": null,
   "metadata": {
    "ExecuteTime": {
     "end_time": "2021-08-24T03:27:48.602046Z",
     "start_time": "2021-08-24T03:26:37.004Z"
    },
    "scrolled": true
   },
   "outputs": [],
   "source": [
    "from scipy.optimize import minimize\n",
    "ratiolist = []\n",
    "for nm in objs:\n",
    "    print(nm)\n",
    "    crvdat,plist = get_data(nm,N=3,bands=['u','g','r','i','z','Y','VR'])\n",
    "    print(plist)\n",
    "    def ratios(*pars):\n",
    "        pars = pars[0]\n",
    "        fittY.ampratio = np.array([1.81480451,1.46104910,1.0,0.79662171,0.74671563,pars[0],pars[1]])\n",
    "        pars, p0, err, tmpind, x2 = fittY.tmpfit(crvdat['mjd'],crvdat['mag'],crvdat['err'],crvdat['fltr'],plist[0])\n",
    "        return x2\n",
    "    \n",
    "    minres = minimize(ratios,[[1.,1.]],bounds = [(.1,2),(.1,2)]).x\n",
    "    \n",
    "    fittY.ampratio = np.array([1.81480451,1.46104910,1.0,0.79662171,0.74671563,minres[0],minres[1]])\n",
    "    print(fittY.ampratio)\n",
    "    ratiolist.append(fittY.ampratio)\n",
    "    fittY.fit_plot(nm,crvdat,plist)"
   ]
  },
  {
   "cell_type": "code",
   "execution_count": null,
   "metadata": {
    "ExecuteTime": {
     "end_time": "2021-08-24T03:27:48.604041Z",
     "start_time": "2021-08-24T03:26:37.006Z"
    }
   },
   "outputs": [],
   "source": [
    "ratioarray = np.array(ratiolist)"
   ]
  },
  {
   "cell_type": "code",
   "execution_count": null,
   "metadata": {
    "ExecuteTime": {
     "end_time": "2021-08-24T03:27:48.608030Z",
     "start_time": "2021-08-24T03:26:37.009Z"
    }
   },
   "outputs": [],
   "source": [
    "objs"
   ]
  },
  {
   "cell_type": "code",
   "execution_count": null,
   "metadata": {
    "ExecuteTime": {
     "end_time": "2021-08-24T03:27:48.611028Z",
     "start_time": "2021-08-24T03:26:37.013Z"
    }
   },
   "outputs": [],
   "source": [
    "ratioarray[4,5]"
   ]
  },
  {
   "cell_type": "code",
   "execution_count": null,
   "metadata": {
    "ExecuteTime": {
     "end_time": "2021-08-24T03:27:48.616009Z",
     "start_time": "2021-08-24T03:26:37.015Z"
    }
   },
   "outputs": [],
   "source": [
    "(ratioarray[1,5]+ratioarray[4,5]+ratioarray[6,5])/3"
   ]
  },
  {
   "cell_type": "code",
   "execution_count": null,
   "metadata": {
    "ExecuteTime": {
     "end_time": "2021-08-24T03:27:48.619997Z",
     "start_time": "2021-08-24T03:26:37.017Z"
    }
   },
   "outputs": [],
   "source": [
    "ratioarray[:,5]"
   ]
  },
  {
   "cell_type": "code",
   "execution_count": null,
   "metadata": {
    "ExecuteTime": {
     "end_time": "2021-08-24T03:27:48.621993Z",
     "start_time": "2021-08-24T03:26:37.019Z"
    }
   },
   "outputs": [],
   "source": [
    "a = ratioarray[:,6]\n",
    "print(a)\n",
    "print(np.mean(a))\n",
    "print(np.median(a))"
   ]
  },
  {
   "cell_type": "code",
   "execution_count": null,
   "metadata": {},
   "outputs": [],
   "source": []
  },
  {
   "cell_type": "code",
   "execution_count": null,
   "metadata": {},
   "outputs": [],
   "source": []
  },
  {
   "cell_type": "code",
   "execution_count": null,
   "metadata": {},
   "outputs": [],
   "source": []
  },
  {
   "cell_type": "code",
   "execution_count": null,
   "metadata": {
    "ExecuteTime": {
     "end_time": "2021-08-24T03:27:48.623988Z",
     "start_time": "2021-08-24T03:26:37.025Z"
    }
   },
   "outputs": [],
   "source": [
    "prop_cycle = plt.rcParams['axes.prop_cycle']\n",
    "colors = prop_cycle.by_key()['color']\n",
    "# display(colors)\n",
    "plt.scatter(crvdat['mjd'],crvdat['mag'],c=colors[1])"
   ]
  },
  {
   "cell_type": "code",
   "execution_count": null,
   "metadata": {},
   "outputs": [],
   "source": []
  },
  {
   "cell_type": "code",
   "execution_count": 26,
   "metadata": {
    "ExecuteTime": {
     "end_time": "2021-08-24T03:33:21.739276Z",
     "start_time": "2021-08-24T03:33:21.608920Z"
    }
   },
   "outputs": [
    {
     "data": {
      "text/html": [
       "<i>Table length=4</i>\n",
       "<table id=\"table2757619420872\" class=\"table-striped table-bordered table-condensed\">\n",
       "<thead><tr><th>name</th><th>redchi2</th></tr></thead>\n",
       "<thead><tr><th>str11</th><th>float64</th></tr></thead>\n",
       "<tr><td>196000_1748</td><td>4.709041934017851</td></tr>\n",
       "<tr><td>196000_835</td><td>17.576266629371663</td></tr>\n",
       "<tr><td>196000_1577</td><td>23.23518836340134</td></tr>\n",
       "<tr><td>196000_222</td><td>54.022420428213536</td></tr>\n",
       "</table>"
      ],
      "text/plain": [
       "<Table length=4>\n",
       "    name         redchi2      \n",
       "   str11         float64      \n",
       "----------- ------------------\n",
       "196000_1748  4.709041934017851\n",
       " 196000_835 17.576266629371663\n",
       "196000_1577  23.23518836340134\n",
       " 196000_222 54.022420428213536"
      ]
     },
     "execution_count": 26,
     "metadata": {},
     "output_type": "execute_result"
    }
   ],
   "source": [
    "from astropy.table import Table, Column, vstack\n",
    "rows = []\n",
    "nms  = []\n",
    "for path in glob('results/*.fits'):\n",
    "    rows.append(Table.read(path))\n",
    "    nms.append(path[8:-9])\n",
    "rrlres = vstack(rows)\n",
    "rrlres['name'] = Column(nms)\n",
    "# rrlres.write('rrlres.fits',format='fits',overwrite=True)\n",
    "rrlres.sort('redchi2')\n",
    "rrlres['name','redchi2']"
   ]
  },
  {
   "cell_type": "code",
   "execution_count": null,
   "metadata": {},
   "outputs": [],
   "source": []
  }
 ],
 "metadata": {
  "kernelspec": {
   "display_name": "Python 3",
   "language": "python",
   "name": "python3"
  },
  "language_info": {
   "codemirror_mode": {
    "name": "ipython",
    "version": 3
   },
   "file_extension": ".py",
   "mimetype": "text/x-python",
   "name": "python",
   "nbconvert_exporter": "python",
   "pygments_lexer": "ipython3",
   "version": "3.7.4"
  }
 },
 "nbformat": 4,
 "nbformat_minor": 2
}
