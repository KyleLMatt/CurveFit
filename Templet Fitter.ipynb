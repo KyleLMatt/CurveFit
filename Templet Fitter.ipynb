{
 "cells": [
  {
   "cell_type": "code",
   "execution_count": 1,
   "metadata": {},
   "outputs": [],
   "source": [
    "from glob import glob\n",
    "import numpy as np\n",
    "import matplotlib.pyplot as plt\n",
    "%matplotlib inline\n",
    "import pandas as pd\n",
    "from scipy.interpolate import interp1d\n",
    "from scipy.signal import gaussian, convolve\n",
    "from statistics import mean, median\n",
    "from scipy.optimize import curve_fit, least_squares\n",
    "import collections\n",
    "\n",
    "import utils"
   ]
  },
  {
   "cell_type": "code",
   "execution_count": 2,
   "metadata": {},
   "outputs": [],
   "source": [
    "from getpass import getpass\n",
    "from glob import glob\n",
    "\n",
    "import numpy as np\n",
    "import pylab as plt\n",
    "from astropy import stats, units as u\n",
    "from mpl_toolkits.axes_grid1.inset_locator import inset_axes, mark_inset\n",
    "from matplotlib.ticker import MaxNLocator\n",
    "\n",
    "\n",
    "import pandas as pd\n",
    "from scipy.interpolate import interp1d\n",
    "from scipy.signal import gaussian, convolve\n",
    "from statistics import mean, median\n",
    "\n",
    "from scipy.optimize import curve_fit, least_squares\n",
    "import collections\n",
    "\n",
    "import utils\n",
    "\n",
    "# Data Lab\n",
    "from dl import authClient as ac, queryClient as qc, storeClient as sc\n",
    "from dl.helpers.utils import convert\n",
    "\n",
    "# plotting setup\n",
    "fontsize = 14\n",
    "plt.rcParams['font.size'] = fontsize\n",
    "plt.rcParams['axes.titlesize'] = fontsize"
   ]
  },
  {
   "cell_type": "code",
   "execution_count": 3,
   "metadata": {},
   "outputs": [],
   "source": [
    "import var\n",
    "from astropy.io import fits"
   ]
  },
  {
   "cell_type": "code",
   "execution_count": 4,
   "metadata": {},
   "outputs": [],
   "source": [
    "def get_fltrs(df):\n",
    "    fs = collections.Counter(star['filter'])\n",
    "    order = ['u','b','v','g','r','i','z','Y','VR']\n",
    "    include = set()\n",
    "    for f in fs:\n",
    "        if fs[f]>25:\n",
    "            include.add(f)\n",
    "    fltrs=[]\n",
    "    for f in order:\n",
    "        if f in include:\n",
    "            fltrs.append(f)\n",
    "    return fltrs\n",
    "\n",
    "def get_tmps(fltrs):\n",
    "    tmps=[]\n",
    "    typs =[]\n",
    "    for fltr in fltrs:\n",
    "        typ = []\n",
    "        templets = glob('templets/*{}.dat'.format(fltr))\n",
    "        tmp = np.zeros((len(templets),501,2))\n",
    "        for i in range(len(templets)):\n",
    "            tmp[i] = np.concatenate((np.array([[0,0]]),\n",
    "                                     np.array(pd.read_csv(templets[i],sep=' ')),\n",
    "                                     np.array([[1,0]])))\n",
    "            #adjust if filepath to templets changes\n",
    "            if len(templets[i])==17:\n",
    "                typ.append('RRab')\n",
    "            elif len(templets[i])==15:\n",
    "                typ.append('RRc')\n",
    "        typs.append(typ)\n",
    "        \n",
    "        tmps.append(tmp)\n",
    "    return tmps, typs\n",
    "\n",
    "def double_tmps(tmps):\n",
    "    tmps2=[]\n",
    "    for f in range(len(tmps)):\n",
    "        tmps2.append(np.tile(tmps[f],(2,1)))\n",
    "        tmps2[f][:,int(len(tmps2[f][0])/2):,0] += 1\n",
    "    return tmps2\n",
    "\n",
    "def get_ls_period(t,y,min_freq=1./1.,max_freq=1./0.1):\n",
    "    \"\"\"Use Lomb-Scargle periodogram to get an estimate on period\"\"\"\n",
    "    \n",
    "    ls = stats.LombScargle(t, y)\n",
    "    frequency, power = ls.autopower(minimum_frequency=min_freq,maximum_frequency=max_freq)\n",
    "    period = 1./frequency # period is the inverse of frequency\n",
    "    \n",
    "    return period[np.argmax(power)]\n",
    "\n",
    "def get_data(df,fltrs):\n",
    "    best_periods = np.zeros(len(fltrs))\n",
    "    crv=[]\n",
    "    for i in range(len(fltrs)):\n",
    "        selfltr = (df['filter'] == fltrs[i])\n",
    "        selfwhm = (df['fwhm'] <= 4.0)\n",
    "        sel = selfltr & selfwhm\n",
    "        t = df['mjd'][sel].values\n",
    "        y = df['mag_auto'][sel].values\n",
    "        dy = df['magerr_auto'][sel].values\n",
    "        \n",
    "        best_periods[i] = get_ls_period(t,y)\n",
    "        crvi = np.vstack((t,y-min(y),dy)).T\n",
    "        crv.append(crvi[np.argsort(crvi[:,0])])\n",
    "        crv[-1]\n",
    "    return mean(best_periods), crv\n",
    "\n",
    "def get_pinit(crv,period):\n",
    "    pinit = ()\n",
    "    for ltcrv in crv:\n",
    "        pinit += ((0.0,max(ltcrv[:,1]),0.0),)\n",
    "    pinit += (period,)\n",
    "    return pinit\n",
    "\n",
    "def RemoveOutliers(crv,tmps,p,pars):\n",
    "    n = pars[:,-1].astype(int)\n",
    "    crv_in = []\n",
    "    for i in range(len(crv)):\n",
    "        f = interp1d(tmps[i][n[i],:,0],tmps[i][n[i],:,1]*pars[i,1]+pars[i,2])\n",
    "        phase = (crv[i][:,0]/p-pars[i,0]) %1\n",
    "        dif = abs(crv[i][:,1]-f(phase))\n",
    "        crv_in.append(crv[i][dif<utils.mad(dif)*5])\n",
    "    return crv_in\n",
    "\n",
    "def double_period(crv,p,pars):\n",
    "    crv2 = []\n",
    "    for i in range(len(crv)):\n",
    "        crv2.append(crv[i].copy())\n",
    "        crv2[i][:,1] -= pars[i,2]\n",
    "        \n",
    "        crv2[i][:,0] = (crv2[i][:,0]/p-pars[i,0])%1\n",
    "        crv2[i] = np.tile(crv2[i].T,2).T\n",
    "        crv2[i][int(len(crv2[i])/2):,0] += 1\n",
    "        crv2[i] = crv2[i][crv2[i][:,0].argsort()]\n",
    "        \n",
    "    return crv2\n",
    "\n"
   ]
  },
  {
   "cell_type": "code",
   "execution_count": 5,
   "metadata": {},
   "outputs": [],
   "source": [
    "class tmpfitter:\n",
    "    def __init__ (self, tmps):\n",
    "        self.fltr=0\n",
    "        self.n=0\n",
    "        self.tmps=tmps\n",
    "\n",
    "    def model(self, t, t0, amplitude, yoffset):\n",
    "        # modify the template using peak-to-peak amplitude, yoffset\n",
    "        # fold input times t by period, phase shift to match template\n",
    "        xtemp = self.tmps[self.fltr][self.n,:,0]\n",
    "        ytemp = self.tmps[self.fltr][self.n,:,1]*amplitude + yoffset\n",
    "        ph = (t - t0) %1\n",
    "        #print((ph[0],period,t0%1))\n",
    "        #print((period,t0,amplitude,yoffset))\n",
    "        # interpolate the modified template to the phase we want\n",
    "        return interp1d(xtemp,ytemp)(ph)\n",
    "\n",
    "\n",
    "def tmpfit(tmps,crv,pinit,w=.1,steps=21,n=1):\n",
    "    fitter = tmpfitter(tmps)\n",
    "    \n",
    "    lsteps = int(steps/2+.5)\n",
    "    rsteps = steps - lsteps\n",
    "    pl = np.linspace(pinit[-1]-w,pinit[-1],lsteps)\n",
    "    pr = np.linspace(pinit[-1]+w,pinit[-1],rsteps,endpoint=False)\n",
    "    plist = np.zeros(pl.size+pr.size)\n",
    "    plist[0::2] = np.flip(pl)\n",
    "    plist[1::2] = np.flip(pr)\n",
    "    plist = plist[plist>0]\n",
    "    \n",
    "    pars = np.zeros((len(tmps),4))\n",
    "    minsumx2 = 10**50\n",
    "    minp = 0\n",
    "    for p in plist:\n",
    "        sumx2=0\n",
    "        ppars=np.zeros((len(tmps),4))\n",
    "        for f in range(len(tmps)):\n",
    "            fitter.fltr = f\n",
    "            phase = crv[f][:,0]/p%n #1 for one period, 2 for two periods\n",
    "            minx2 = 10**50\n",
    "            for i in range(len(tmps[f])):\n",
    "                fitter.n = i\n",
    "                try:\n",
    "                    tpars, cov = curve_fit(fitter.model, phase, crv[f][:,1], \n",
    "                                          bounds = ((-.5,0,-50),(.5,10,50)),\n",
    "                                          sigma=crv[f][:,2], p0=pinit[f], maxfev=1000)\n",
    "                except RuntimeError:\n",
    "                    print('Error: Curve_fit failed on templet={}:{}, p={:.4}'.format(fltr,i,p))\n",
    "                    break\n",
    "                \n",
    "                x2 = sum((fitter.model(phase,tpars[0],tpars[1],tpars[2])-crv[f][:,1])**2/crv[f][:,2])\n",
    "                if x2 < minx2:\n",
    "                    ppars[f,:-1] = tpars\n",
    "                    ppars[f,-1] = i\n",
    "                    minx2 = x2\n",
    "            \n",
    "            sumx2 += minx2\n",
    "            if sumx2 > minsumx2:\n",
    "                break\n",
    "        if sumx2 < minsumx2:\n",
    "            minsumx2 = sumx2\n",
    "            minp = p\n",
    "            pars = ppars\n",
    "    return minp, pars"
   ]
  },
  {
   "cell_type": "code",
   "execution_count": 6,
   "metadata": {},
   "outputs": [
    {
     "name": "stdout",
     "output_type": "stream",
     "text": [
      "Counter({'g': 106, 'r': 51, 'i': 39, 'Y': 2, 'z': 2})\n",
      "period estimate: 0.3371 days\n"
     ]
    }
   ],
   "source": [
    "objname = '150537_4644'\n",
    "star=qc.query(sql=\"\"\"SELECT meas.* \n",
    "                     FROM nsc_dr2.meas\n",
    "                     WHERE objectid='{:s}'\"\"\".format(objname),\n",
    "              fmt='pandas',\n",
    "              profile='db01')\n",
    "\n",
    "fltrs = get_fltrs(star)\n",
    "tmps, typs = get_tmps(fltrs)\n",
    "period,crv = get_data(star,fltrs)\n",
    "print(collections.Counter(star['filter']))\n",
    "print('period estimate: {:.4f} days'.format(period))"
   ]
  },
  {
   "cell_type": "code",
   "execution_count": 7,
   "metadata": {},
   "outputs": [
    {
     "name": "stdout",
     "output_type": "stream",
     "text": [
      "CPU times: user 9.11 s, sys: 4.46 ms, total: 9.11 s\n",
      "Wall time: 9.11 s\n",
      "CPU times: user 9.68 s, sys: 3.97 ms, total: 9.69 s\n",
      "Wall time: 9.69 s\n",
      "Old:\n",
      "Period: 0.337 days\n",
      "g: Templet #13, Phase: -0.0783, Amp: 0.4791,  YOffset: 0.0259\n",
      "r: Templet #12, Phase: -0.0628, Amp: 0.3301,  YOffset: 0.0134\n",
      "i: Templet #12, Phase: -0.0728, Amp: 0.2381,  YOffset: 0.0023\n",
      "New:\n",
      "Period: 0.337 days\n",
      "g: Templet #13, Phase: -0.0788, Amp: 0.4788,  YOffset: 0.0257\n",
      "r: Templet #12, Phase: -0.0621, Amp: 0.3324,  YOffset: 0.0117\n",
      "i: Templet #11, Phase: -0.0504, Amp: 0.2525,  YOffset: 0.0052\n"
     ]
    }
   ],
   "source": [
    "pinit = get_pinit(crv,period)\n",
    "%time p,pars = tmpfit(tmps,crv,pinit,w=.1,steps=25)\n",
    "\n",
    "pinit = ()\n",
    "for i in range(len(pars)):\n",
    "    pinit += (tuple(pars[i,:-1]),)\n",
    "pinit += (p,)\n",
    "crv_in = RemoveOutliers(crv,tmps,p,pars)\n",
    "\n",
    "%time p_in, pars_in = tmpfit(tmps, crv_in, pinit,w=.01,steps=25)\n",
    "print('Old:\\nPeriod: {:.3} days'.format(p))\n",
    "for i in range(len(pars)):\n",
    "    print('{0}: Templet #{4:.0f}, Phase: {1:.4f}, Amp: {2:.4f},  YOffset: {3:.4f}'.format(fltrs[i],*pars[i]))\n",
    "print('New:\\nPeriod: {:.3} days'.format(p_in))\n",
    "for i in range(len(pars)):\n",
    "    print('{0}: Templet #{4:.0f}, Phase: {1:.4f}, Amp: {2:.4f},  YOffset: {3:.4f}'.format(fltrs[i],*pars_in[i]))"
   ]
  },
  {
   "cell_type": "code",
   "execution_count": null,
   "metadata": {},
   "outputs": [],
   "source": []
  },
  {
   "cell_type": "code",
   "execution_count": 8,
   "metadata": {},
   "outputs": [],
   "source": [
    "crv2 = double_period(crv,p_in,pars_in)\n",
    "tmps2= double_tmps(tmps)\n",
    "pars2= pars_in\n",
    "n = pars[:,-1].astype(int)\n",
    "\n",
    "colors = []\n",
    "for f in fltrs:\n",
    "    if f == 'r' or f == 'g':\n",
    "        colors.append(f)\n",
    "    else:\n",
    "        colors.append('black')"
   ]
  },
  {
   "cell_type": "code",
   "execution_count": 9,
   "metadata": {},
   "outputs": [],
   "source": [
    "consistent = True\n",
    "for i in range(len(typs)):\n",
    "    for j in range(i+1,len(typs)):\n",
    "        if typs[i][n[i]] != typs[j][n[j]]:\n",
    "            print('inconsistent RR type')\n",
    "            consistent = False\n",
    "            break\n",
    "if consistent:\n",
    "    typ = typs[0][n[0]]\n",
    "else:\n",
    "    typ = '???'"
   ]
  },
  {
   "cell_type": "code",
   "execution_count": 10,
   "metadata": {},
   "outputs": [
    {
     "data": {
      "text/plain": [
       "Text(0.5, 1.0, 'Object: 150537_4644    Period: 0.337 d    Type:RRc')"
      ]
     },
     "execution_count": 10,
     "metadata": {},
     "output_type": "execute_result"
    },
    {
     "data": {
      "image/png": "[encoded data removed]",
      "text/plain": [
       "<Figure size 720x540 with 3 Axes>"
      ]
     },
     "metadata": {
      "needs_background": "light"
     },
     "output_type": "display_data"
    }
   ],
   "source": [
    "fig, ax = plt.subplots(len(crv2), figsize=(10,7.5), sharex=True, sharey=True)\n",
    "for i in range(len(ax)):\n",
    "    crvmean = mean(crv2[i][:,1])\n",
    "    ax[i].scatter(crv2[i][:,0],crv2[i][:,1]-crvmean,c=colors[i])\n",
    "    ax[i].plot(tmps2[i][n[i],:,0],tmps2[i][n[i],:,1]*pars[i,1]-crvmean,c='black')\n",
    "    ax[i].invert_yaxis()\n",
    "    ax[i].set_ylabel(fltrs[i], fontsize=18)\n",
    "    \n",
    "ax[-1].set_xlabel('Phase', fontsize=16)\n",
    "ax[0].set_title(\"Object: {}    Period: {:.3f} d    Type:{}\".format(objname,p_in,typ), fontsize=20)"
   ]
  },
  {
   "cell_type": "code",
   "execution_count": null,
   "metadata": {},
   "outputs": [],
   "source": []
  },
  {
   "cell_type": "code",
   "execution_count": null,
   "metadata": {},
   "outputs": [],
   "source": []
  },
  {
   "cell_type": "code",
   "execution_count": null,
   "metadata": {},
   "outputs": [],
   "source": []
  }
 ],
 "metadata": {
  "kernelspec": {
   "display_name": "Python 3",
   "language": "python",
   "name": "python3"
  },
  "language_info": {
   "codemirror_mode": {
    "name": "ipython",
    "version": 3
   },
   "file_extension": ".py",
   "mimetype": "text/x-python",
   "name": "python",
   "nbconvert_exporter": "python",
   "pygments_lexer": "ipython3",
   "version": "3.7.6"
  }
 },
 "nbformat": 4,
 "nbformat_minor": 4
}
