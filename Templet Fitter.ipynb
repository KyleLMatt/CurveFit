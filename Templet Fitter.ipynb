{
 "cells": [
  {
   "cell_type": "code",
   "execution_count": 3,
   "metadata": {
    "ExecuteTime": {
     "end_time": "2021-06-22T19:50:25.627872Z",
     "start_time": "2021-06-22T19:50:23.628219Z"
    }
   },
   "outputs": [
    {
     "name": "stderr",
     "output_type": "stream",
     "text": [
      "C:\\Users\\kylem\\Anaconda3\\lib\\site-packages\\numpy\\_distributor_init.py:32: UserWarning: loaded more than 1 DLL from .libs:\n",
      "C:\\Users\\kylem\\Anaconda3\\lib\\site-packages\\numpy\\.libs\\libopenblas.JPIJNSWNNAN3CE6LLI5FWSPHUT2VXMTH.gfortran-win_amd64.dll\n",
      "C:\\Users\\kylem\\Anaconda3\\lib\\site-packages\\numpy\\.libs\\libopenblas.WCDJNK7YVMPZQ2ME2ZZHJJRJ3JIKNDB7.gfortran-win_amd64.dll\n",
      "  stacklevel=1)\n"
     ]
    }
   ],
   "source": [
    "from glob import glob\n",
    "import numpy as np\n",
    "import matplotlib.pyplot as plt\n",
    "%matplotlib inline\n",
    "from astropy import stats\n",
    "import pandas as pd\n",
    "import csv\n",
    "import os\n",
    "from dl import queryClient as qc"
   ]
  },
  {
   "cell_type": "code",
   "execution_count": 4,
   "metadata": {
    "ExecuteTime": {
     "end_time": "2021-06-22T19:50:25.643830Z",
     "start_time": "2021-06-22T19:50:25.629866Z"
    }
   },
   "outputs": [],
   "source": [
    "if not os.path.exists('results'):\n",
    "    os.makedirs('results')\n",
    "outdir = 'results/plots'\n",
    "if not os.path.exists(outdir):\n",
    "    os.makedirs(outdir)"
   ]
  },
  {
   "cell_type": "code",
   "execution_count": 5,
   "metadata": {
    "ExecuteTime": {
     "end_time": "2021-06-22T19:50:26.795750Z",
     "start_time": "2021-06-22T19:50:26.779793Z"
    }
   },
   "outputs": [
    {
     "data": {
      "text/plain": [
       "'D:\\\\msu\\\\DavidNidever\\\\TempletFit'"
      ]
     },
     "execution_count": 5,
     "metadata": {},
     "output_type": "execute_result"
    }
   ],
   "source": [
    "os.getcwd()"
   ]
  },
  {
   "cell_type": "code",
   "execution_count": 6,
   "metadata": {
    "ExecuteTime": {
     "end_time": "2021-06-22T19:50:29.693939Z",
     "start_time": "2021-06-22T19:50:29.670004Z"
    }
   },
   "outputs": [],
   "source": [
    "interesting = np.loadtxt('goldsample\\golden_original.txt',dtype=str)"
   ]
  },
  {
   "cell_type": "code",
   "execution_count": 7,
   "metadata": {
    "ExecuteTime": {
     "end_time": "2021-06-22T19:50:31.479997Z",
     "start_time": "2021-06-22T19:50:31.430129Z"
    }
   },
   "outputs": [
    {
     "data": {
      "text/plain": [
       "(51, 8)"
      ]
     },
     "execution_count": 7,
     "metadata": {},
     "output_type": "execute_result"
    }
   ],
   "source": [
    "tmps = np.loadtxt('templets/LaydenTemplates.txt',delimiter=',')\n",
    "tmps.shape"
   ]
  },
  {
   "cell_type": "code",
   "execution_count": null,
   "metadata": {},
   "outputs": [],
   "source": []
  },
  {
   "cell_type": "code",
   "execution_count": 8,
   "metadata": {
    "ExecuteTime": {
     "end_time": "2021-06-22T19:50:33.172471Z",
     "start_time": "2021-06-22T19:50:33.126593Z"
    },
    "code_folding": [
     0,
     35,
     47,
     64,
     71,
     78,
     88
    ]
   },
   "outputs": [],
   "source": [
    "def get_data(objname):\n",
    "    \"\"\"Query the object by name, extract light curves, estimated period and filters.\"\"\"\n",
    "    df=qc.query(sql=\"\"\"SELECT meas.* \n",
    "                     FROM nsc_dr2.meas\n",
    "                     WHERE objectid='{:s}'\"\"\".format(objname),\n",
    "              fmt='pandas',\n",
    "              profile='db01')\n",
    "    # Always uses this filter order\n",
    "    forder = ['u','g','r','i','z']\n",
    "    crv=[]\n",
    "    best_periods = []\n",
    "    fltrs=[]\n",
    "    for f in forder:\n",
    "        selfltr = (df['filter'] == f)\n",
    "        selfwhm = (df['fwhm'] <= 4.0)\n",
    "        sel = selfltr & selfwhm\n",
    "        t = df['mjd'][sel].values\n",
    "        y = df['mag_auto'][sel].values\n",
    "        dy = df['magerr_auto'][sel].values\n",
    "        if len(t) < 25:\n",
    "            continue\n",
    "        \n",
    "        # get estimated period\n",
    "        pout = get_ls_period(t,y,objname=objname+'_'+f,outdir=outdir)\n",
    "        best_periods.append(pout)\n",
    "        # save light curve\n",
    "        crvi = np.vstack((t,y,dy)).T\n",
    "        crv.append(crvi[np.argsort(crvi[:,0])])\n",
    "        # record which filter this applies to\n",
    "        fltrs.append(f)\n",
    "    \n",
    "    # Find mean period\n",
    "    period = np.mean(best_periods)\n",
    "    return crv, period, fltrs\n",
    "\n",
    "def get_ls_period(t,y,min_freq=1./1.,max_freq=1./0.1,objname='_',outdir='results'):\n",
    "    \"\"\"Use Lomb-Scargle periodogram to get an estimate on period\"\"\"\n",
    "    \n",
    "    ls = stats.LombScargle(t, y)\n",
    "    frequency, power = ls.autopower(minimum_frequency=min_freq,maximum_frequency=max_freq)\n",
    "    period = 1./frequency # period is the inverse of frequency\n",
    "    \n",
    "    best_period = period[np.argmax(power)]\n",
    "    \n",
    "    plot_periodogram(period,power,best_period,objname=objname,outdir=outdir)\n",
    "    return best_period\n",
    "\n",
    "def plot_periodogram(period,power,best_period=None,objname='',ax=None,outdir='results'):\n",
    "   \n",
    "    if ax is None:\n",
    "        fig, ax = plt.subplots(figsize=(10,7))\n",
    "        \n",
    "    ax.plot(period,power,lw=0.1)\n",
    "    ax.set_xlabel('period (days)')\n",
    "    ax.set_ylabel('relative power')\n",
    "    ax.set_title(objname)\n",
    "    \n",
    "    if best_period is not None:\n",
    "        ax.axvline(best_period,color='r');\n",
    "        ax.text(0.03,0.93,'period = {:.3f} days'.format(best_period),transform=ax.transAxes,color='r')\n",
    "    fig.savefig(outdir+'/{}_periodogram.png'.format(objname))\n",
    "    plt.close(fig)\n",
    "    return\n",
    "\n",
    "def double_tmps(tmps):\n",
    "    tmps2=[]\n",
    "    for f in range(len(tmps)):\n",
    "        tmps2.append(np.tile(tmps[f],(2,1)))\n",
    "        tmps2[f][:,int(len(tmps2[f][0])/2):,0] += 1\n",
    "    return tmps2\n",
    "\n",
    "def update_pinit(pars,period):\n",
    "    pinit = ()\n",
    "    for i in range(len(pars)):\n",
    "        pinit += (tuple(pars[i,:-1]),)\n",
    "    pinit += (period,)\n",
    "    return pinit\n",
    "\n",
    "def RemoveOutliers(crv,tmps,pars,period):\n",
    "    n = pars[:,-1].astype(int)\n",
    "    crv_in = []\n",
    "    for i in range(len(crv)):\n",
    "        f = interp1d(tmps[i][n[i],:,0],tmps[i][n[i],:,1]*pars[i,1]+pars[i,2])\n",
    "        phase = (crv[i][:,0]/period-pars[i,0]) %1\n",
    "        dif = abs(crv[i][:,1]-f(phase))\n",
    "        crv_in.append(crv[i][dif<utils.mad(dif)*5])\n",
    "    return crv_in\n",
    "\n",
    "def double_period(crv,pars,period):\n",
    "    crv2 = []\n",
    "    for i in range(len(crv)):\n",
    "        crv2.append(crv[i].copy())\n",
    "        crv2[i][:,1] -= pars[i,2]\n",
    "        \n",
    "        crv2[i][:,0] = (crv2[i][:,0]/period-pars[i,0])%1\n",
    "        crv2[i] = np.tile(crv2[i].T,2).T\n",
    "        crv2[i][int(len(crv2[i])/2):,0] += 1\n",
    "        crv2[i] = crv2[i][crv2[i][:,0].argsort()]\n",
    "        \n",
    "    return crv2"
   ]
  },
  {
   "cell_type": "code",
   "execution_count": 9,
   "metadata": {
    "ExecuteTime": {
     "end_time": "2021-06-22T19:50:34.729711Z",
     "start_time": "2021-06-22T19:50:34.698794Z"
    },
    "code_folding": [
     1,
     6,
     18,
     34
    ]
   },
   "outputs": [],
   "source": [
    "class tmpfitter:\n",
    "    def __init__ (self, tmps):\n",
    "        self.fltr=0\n",
    "        self.n=0\n",
    "        self.tmps=tmps\n",
    "\n",
    "    def model(self, t, t0, amplitude, yoffset):\n",
    "        # modify the template using peak-to-peak amplitude, yoffset\n",
    "        # fold input times t by period, phase shift to match template\n",
    "        xtemp = self.tmps[:,0]\n",
    "        ytemp = self.tmps[:,self.n]*amplitude + yoffset\n",
    "        ph = (t - t0) %1\n",
    "        #print((ph[0],period,t0%1))\n",
    "        #print((period,t0,amplitude,yoffset))\n",
    "        # interpolate the modified template to the phase we want\n",
    "        return interp1d(xtemp,ytemp)(ph)\n",
    "\n",
    "\n",
    "def tmpfit(crv,tmps,p,init,w=.1,steps=21,n=1):\n",
    "    fitter = tmpfitter(tmps)\n",
    "    \n",
    "    # Search periods from center outward\n",
    "    lsteps = int(steps/2+.5)\n",
    "    rsteps = steps - lsteps\n",
    "    pl = np.linspace(p-w,p,lsteps)\n",
    "    pr = np.linspace(p+w,p,rsteps,endpoint=False)\n",
    "    plist = np.zeros(pl.size+pr.size)\n",
    "    plist[0::2] = np.flip(pl)\n",
    "    plist[1::2] = np.flip(pr)\n",
    "    plist = plist[plist>0]\n",
    "    \n",
    "    pars = np.zeros((len(tmps),4))\n",
    "    minsumx2 = 10**50\n",
    "    minp = 0\n",
    "    for p in plist:\n",
    "        sumx2=0\n",
    "        ppars=np.zeros((len(tmps),4))\n",
    "        for f in range(len(tmps)):\n",
    "            fitter.fltr = f\n",
    "            phase = crv[f][:,0]/p%n #1 for one period, 2 for two periods\n",
    "            minx2 = 10**50\n",
    "            for i in range(len(tmps[f])):\n",
    "                fitter.n = i+1\n",
    "                try:\n",
    "                    tpars, cov = curve_fit(fitter.model, phase, crv[f][:,1], \n",
    "                                          bounds = ((-.5,0,-50),(.5,20,50)),\n",
    "                                          sigma=crv[f][:,2], p0=init[f], maxfev=500)\n",
    "                except RuntimeError:\n",
    "                    continue\n",
    "                \n",
    "                x2 = sum((fitter.model(phase,tpars[0],tpars[1],tpars[2])-crv[f][:,1])**2/crv[f][:,2]**2)\n",
    "                if x2 < minx2:\n",
    "                    ppars[f,:-1] = tpars\n",
    "                    ppars[f,-1] = i\n",
    "                    minx2 = x2\n",
    "            \n",
    "            sumx2 += minx2\n",
    "            if sumx2 > minsumx2:\n",
    "                break\n",
    "        if sumx2 < minsumx2:\n",
    "            minsumx2 = sumx2\n",
    "            minp = p\n",
    "            pars = ppars\n",
    "    npoints=0\n",
    "    for i in range(len(crv)):\n",
    "        npoints += len(crv[i])\n",
    "    return pars, minp, minsumx2/npoints"
   ]
  },
  {
   "cell_type": "code",
   "execution_count": 10,
   "metadata": {
    "ExecuteTime": {
     "end_time": "2021-06-22T19:50:38.385550Z",
     "start_time": "2021-06-22T19:50:36.805161Z"
    }
   },
   "outputs": [],
   "source": [
    "c,p,f = get_data(interesting[1])"
   ]
  },
  {
   "cell_type": "code",
   "execution_count": 11,
   "metadata": {
    "ExecuteTime": {
     "end_time": "2021-06-22T19:50:38.432426Z",
     "start_time": "2021-06-22T19:50:38.387545Z"
    },
    "code_folding": [
     0
    ]
   },
   "outputs": [],
   "source": [
    "def fit_plot(objname,file):\n",
    "    crv,p,fltrs = get_data(objname)\n",
    "    if len(fltrs) == 0:\n",
    "        return\n",
    "    \n",
    "    init = ()\n",
    "    for ltcrv in crv:\n",
    "        init += ((0.0,max(ltcrv[:,1])-min(ltcrv[:,1]),0.0),)\n",
    "    \n",
    "    pars, p, x2 = tmpfit(crv,tmps,p,init,w=.1,steps=25)\n",
    "    crv_in = RemoveOutliers(crv,tmps,pars,p)\n",
    "    pinit = update_pinit(pars,p)\n",
    "    pars_in,p_in,x2 = tmpfit(crv_in,tmps, pinit,w=.01,steps=25)\n",
    "    \n",
    "    crv2 = double_period(crv,pars_in,p_in)\n",
    "    tmps2= double_tmps(tmps)\n",
    "    n = pars[:,-1].astype(int)\n",
    "    \n",
    "    colors = []\n",
    "    for f in fltrs:\n",
    "        if f == 'r' or f == 'g':\n",
    "            colors.append(f)\n",
    "        else:\n",
    "            colors.append('black')\n",
    "\n",
    "    #Check if each filter is consistent with RR type (RRab or RRc)\n",
    "    consistent = True\n",
    "    for i in range(len(typs)):\n",
    "        for j in range(i+1,len(typs)):\n",
    "            if typs[i][n[i]] != typs[j][n[j]]:\n",
    "                consistent = False\n",
    "                break\n",
    "        if not consistent:\n",
    "            break\n",
    "    if consistent:\n",
    "        typ = typs[0][n[0]]\n",
    "    else:\n",
    "        typ = '???'\n",
    "    fig, ax = plt.subplots(len(fltrs), figsize=(10,7.5), sharex=True, sharey=True)\n",
    "    if len(fltrs) == 1:\n",
    "        ax = [ax]\n",
    "    for i in range(len(fltrs)):\n",
    "        crvmean = mean(crv2[i][:,1])\n",
    "        ax[i].scatter(crv2[i][:,0],crv2[i][:,1]-crvmean,c=colors[i])\n",
    "        ax[i].plot(tmps2[i][n[i],:,0],tmps2[i][n[i],:,1]*pars_in[i,1]-crvmean,c='black')\n",
    "        ax[i].invert_yaxis()\n",
    "        ax[i].set_ylabel(fltrs[i], fontsize=18)\n",
    "\n",
    "    ax[-1].set_xlabel('Phase', fontsize=16)\n",
    "    ax[0].set_title(\"Object: {}    Period: {:.3f} d    Type: {}\".format(objname,p_in,typ), fontsize=20)\n",
    "    fig.savefig('results/plots/{}.pdf'.format(objname))\n",
    "    \n",
    "    file.write(\"{},{:.3f},{:.3f},\\n\".format(objname,x2,p_in))\n",
    "    for i in range(len(fltrs)):\n",
    "        file.write(\"{:.3f},{:.3f},{:.3f},{}\\n\".format(pars_in[i][0],pars_in[i][1]/2,pars_in[i][2],tmpnames[i][n[i]][9:]))\n",
    "    plt.close(fig)"
   ]
  },
  {
   "cell_type": "code",
   "execution_count": null,
   "metadata": {},
   "outputs": [],
   "source": []
  },
  {
   "cell_type": "code",
   "execution_count": null,
   "metadata": {},
   "outputs": [],
   "source": []
  },
  {
   "cell_type": "code",
   "execution_count": null,
   "metadata": {},
   "outputs": [],
   "source": []
  },
  {
   "cell_type": "code",
   "execution_count": 13,
   "metadata": {
    "ExecuteTime": {
     "end_time": "2021-06-22T19:55:07.224470Z",
     "start_time": "2021-06-22T19:55:07.190561Z"
    }
   },
   "outputs": [],
   "source": [
    "gldorig = np.loadtxt('goldsample\\golden_original.txt',delimiter=',',dtype=str)\n",
    "gldrrab = np.loadtxt('goldsample\\golden_RRab.txt',delimiter=',',dtype=str)"
   ]
  },
  {
   "cell_type": "code",
   "execution_count": 17,
   "metadata": {
    "ExecuteTime": {
     "end_time": "2021-06-22T20:13:24.674975Z",
     "start_time": "2021-06-22T20:13:24.665999Z"
    }
   },
   "outputs": [
    {
     "data": {
      "text/plain": [
       "array(['100047_2267', '100413_6560', '100555_10583', ..., '99770_15284',\n",
       "       '99796_35', '99850_3275'], dtype='<U13')"
      ]
     },
     "execution_count": 17,
     "metadata": {},
     "output_type": "execute_result"
    }
   ],
   "source": [
    "np.union1d(gldorig,gldrrab)"
   ]
  },
  {
   "cell_type": "code",
   "execution_count": 83,
   "metadata": {
    "ExecuteTime": {
     "end_time": "2021-06-22T22:26:21.252589Z",
     "start_time": "2021-06-22T22:26:21.229690Z"
    }
   },
   "outputs": [],
   "source": [
    "from astropy.table import Table\n",
    "ampt=Table([gldrrab],names=['id'])\n",
    "ampt['uamp'] = -99.99\n",
    "ampt['gamp'] = -99.99\n",
    "ampt['ramp'] = -99.99\n",
    "ampt['iamp'] = -99.99\n",
    "ampt['zamp'] = -99.99"
   ]
  },
  {
   "cell_type": "code",
   "execution_count": 84,
   "metadata": {
    "ExecuteTime": {
     "end_time": "2021-06-22T22:56:13.477450Z",
     "start_time": "2021-06-22T22:26:21.493661Z"
    },
    "code_folding": []
   },
   "outputs": [],
   "source": [
    "import csv\n",
    "fdict = {'u':1,'g':2,'r':3,'i':4,'z':5}\n",
    "for i,name in enumerate(gldrrab):\n",
    "    with open('results\\{}_parameters.csv'.format(name), newline='') as csvfile:\n",
    "        b,c,f = get_data(name)\n",
    "        reader = csv.reader(csvfile, delimiter=',')\n",
    "        first = True\n",
    "        amps = []\n",
    "        for row in reader:\n",
    "            if first:\n",
    "                first = False\n",
    "                continue\n",
    "            if row == ['---']:\n",
    "                continue\n",
    "            amps.append(float(row[1]))\n",
    "        for j in range(len(f)):\n",
    "            n = fdict[f[j]]\n",
    "            ampt[i][n] = amps[j]"
   ]
  },
  {
   "cell_type": "code",
   "execution_count": 86,
   "metadata": {
    "ExecuteTime": {
     "end_time": "2021-06-22T23:01:01.918514Z",
     "start_time": "2021-06-22T23:01:01.674264Z"
    }
   },
   "outputs": [],
   "source": [
    "ampt.write(\"amp_rrab.fits\",format='fits')"
   ]
  },
  {
   "cell_type": "code",
   "execution_count": null,
   "metadata": {},
   "outputs": [],
   "source": []
  },
  {
   "cell_type": "code",
   "execution_count": null,
   "metadata": {},
   "outputs": [],
   "source": []
  },
  {
   "cell_type": "code",
   "execution_count": null,
   "metadata": {},
   "outputs": [],
   "source": []
  },
  {
   "cell_type": "code",
   "execution_count": null,
   "metadata": {},
   "outputs": [],
   "source": []
  },
  {
   "cell_type": "code",
   "execution_count": null,
   "metadata": {},
   "outputs": [],
   "source": []
  },
  {
   "cell_type": "code",
   "execution_count": null,
   "metadata": {},
   "outputs": [],
   "source": []
  },
  {
   "cell_type": "code",
   "execution_count": null,
   "metadata": {},
   "outputs": [],
   "source": []
  }
 ],
 "metadata": {
  "kernelspec": {
   "display_name": "Python 3",
   "language": "python",
   "name": "python3"
  },
  "language_info": {
   "codemirror_mode": {
    "name": "ipython",
    "version": 3
   },
   "file_extension": ".py",
   "mimetype": "text/x-python",
   "name": "python",
   "nbconvert_exporter": "python",
   "pygments_lexer": "ipython3",
   "version": "3.7.4"
  }
 },
 "nbformat": 4,
 "nbformat_minor": 2
}
