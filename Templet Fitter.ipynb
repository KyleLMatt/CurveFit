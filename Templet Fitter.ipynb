{
 "cells": [
  {
   "cell_type": "code",
   "execution_count": 1,
   "metadata": {},
   "outputs": [],
   "source": [
    "from getpass import getpass\n",
    "from glob import glob\n",
    "\n",
    "import numpy as np\n",
    "import pylab as plt\n",
    "from astropy import stats, units as u\n",
    "from mpl_toolkits.axes_grid1.inset_locator import inset_axes, mark_inset\n",
    "from matplotlib.ticker import MaxNLocator\n",
    "%matplotlib inline\n",
    "\n",
    "import pandas as pd\n",
    "from scipy.interpolate import interp1d\n",
    "from scipy.signal import gaussian, convolve\n",
    "from statistics import median\n",
    "\n",
    "from scipy.optimize import curve_fit, least_squares\n",
    "\n",
    "import utils\n",
    "\n",
    "# Data Lab\n",
    "from dl import authClient as ac, queryClient as qc, storeClient as sc\n",
    "from dl.helpers.utils import convert\n",
    "\n",
    "# plotting setup\n",
    "fontsize = 14\n",
    "plt.rcParams['font.size'] = fontsize\n",
    "plt.rcParams['axes.titlesize'] = fontsize"
   ]
  },
  {
   "cell_type": "code",
   "execution_count": 2,
   "metadata": {},
   "outputs": [],
   "source": [
    "import var\n",
    "from astropy.io import fits"
   ]
  },
  {
   "cell_type": "markdown",
   "metadata": {},
   "source": [
    "12:24:28.77, -31:55:27.0"
   ]
  },
  {
   "cell_type": "code",
   "execution_count": 3,
   "metadata": {},
   "outputs": [
    {
     "data": {
      "text/html": [
       "<div>\n",
       "<style scoped>\n",
       "    .dataframe tbody tr th:only-of-type {\n",
       "        vertical-align: middle;\n",
       "    }\n",
       "\n",
       "    .dataframe tbody tr th {\n",
       "        vertical-align: top;\n",
       "    }\n",
       "\n",
       "    .dataframe thead th {\n",
       "        text-align: right;\n",
       "    }\n",
       "</style>\n",
       "<table border=\"1\" class=\"dataframe\">\n",
       "  <thead>\n",
       "    <tr style=\"text-align: right;\">\n",
       "      <th></th>\n",
       "      <th>mjd</th>\n",
       "      <th>ra</th>\n",
       "      <th>dec</th>\n",
       "      <th>x</th>\n",
       "      <th>y</th>\n",
       "      <th>raerr</th>\n",
       "      <th>decerr</th>\n",
       "      <th>mag_auto</th>\n",
       "      <th>magerr_auto</th>\n",
       "      <th>mag_aper1</th>\n",
       "      <th>...</th>\n",
       "      <th>theta</th>\n",
       "      <th>thetaerr</th>\n",
       "      <th>fwhm</th>\n",
       "      <th>class_star</th>\n",
       "      <th>ccdnum</th>\n",
       "      <th>flags</th>\n",
       "      <th>measid</th>\n",
       "      <th>objectid</th>\n",
       "      <th>exposure</th>\n",
       "      <th>filter</th>\n",
       "    </tr>\n",
       "  </thead>\n",
       "  <tbody>\n",
       "    <tr>\n",
       "      <th>0</th>\n",
       "      <td>57113.103622</td>\n",
       "      <td>186.119746</td>\n",
       "      <td>-31.924273</td>\n",
       "      <td>259.539</td>\n",
       "      <td>1591.78</td>\n",
       "      <td>0.014489</td>\n",
       "      <td>0.013822</td>\n",
       "      <td>18.1139</td>\n",
       "      <td>0.004857</td>\n",
       "      <td>19.1142</td>\n",
       "      <td>...</td>\n",
       "      <td>105.646000</td>\n",
       "      <td>-16.51380</td>\n",
       "      <td>0.958782</td>\n",
       "      <td>0.989120</td>\n",
       "      <td>37</td>\n",
       "      <td>0</td>\n",
       "      <td>c4d.426837.37.956</td>\n",
       "      <td>150536_22075</td>\n",
       "      <td>c4d_150401_023233_ooi_r_v1</td>\n",
       "      <td>r</td>\n",
       "    </tr>\n",
       "    <tr>\n",
       "      <th>1</th>\n",
       "      <td>57113.056146</td>\n",
       "      <td>186.119742</td>\n",
       "      <td>-31.924269</td>\n",
       "      <td>251.260</td>\n",
       "      <td>1575.52</td>\n",
       "      <td>0.014706</td>\n",
       "      <td>0.015309</td>\n",
       "      <td>17.9624</td>\n",
       "      <td>0.005216</td>\n",
       "      <td>19.1417</td>\n",
       "      <td>...</td>\n",
       "      <td>122.727000</td>\n",
       "      <td>-47.78800</td>\n",
       "      <td>1.081520</td>\n",
       "      <td>0.983450</td>\n",
       "      <td>37</td>\n",
       "      <td>0</td>\n",
       "      <td>c4d.426814.37.1171</td>\n",
       "      <td>150536_22075</td>\n",
       "      <td>c4d_150401_012411_ooi_i_v1</td>\n",
       "      <td>i</td>\n",
       "    </tr>\n",
       "    <tr>\n",
       "      <th>2</th>\n",
       "      <td>57112.054908</td>\n",
       "      <td>186.119746</td>\n",
       "      <td>-31.924269</td>\n",
       "      <td>246.782</td>\n",
       "      <td>1591.39</td>\n",
       "      <td>0.016514</td>\n",
       "      <td>0.014253</td>\n",
       "      <td>17.8523</td>\n",
       "      <td>0.004013</td>\n",
       "      <td>19.0387</td>\n",
       "      <td>...</td>\n",
       "      <td>81.500200</td>\n",
       "      <td>8.04137</td>\n",
       "      <td>1.115210</td>\n",
       "      <td>0.984206</td>\n",
       "      <td>37</td>\n",
       "      <td>0</td>\n",
       "      <td>c4d.426474.37.952</td>\n",
       "      <td>150536_22075</td>\n",
       "      <td>c4d_150331_012224_ooi_r_v1</td>\n",
       "      <td>r</td>\n",
       "    </tr>\n",
       "    <tr>\n",
       "      <th>3</th>\n",
       "      <td>57113.097428</td>\n",
       "      <td>186.119745</td>\n",
       "      <td>-31.924276</td>\n",
       "      <td>477.845</td>\n",
       "      <td>1380.47</td>\n",
       "      <td>0.012342</td>\n",
       "      <td>0.014491</td>\n",
       "      <td>18.0977</td>\n",
       "      <td>0.004922</td>\n",
       "      <td>19.1145</td>\n",
       "      <td>...</td>\n",
       "      <td>137.531000</td>\n",
       "      <td>-50.08020</td>\n",
       "      <td>0.974796</td>\n",
       "      <td>0.983615</td>\n",
       "      <td>37</td>\n",
       "      <td>0</td>\n",
       "      <td>c4d.426834.37.994</td>\n",
       "      <td>150536_22075</td>\n",
       "      <td>c4d_150401_022337_ooi_r_v1</td>\n",
       "      <td>r</td>\n",
       "    </tr>\n",
       "    <tr>\n",
       "      <th>4</th>\n",
       "      <td>56736.267460</td>\n",
       "      <td>186.119746</td>\n",
       "      <td>-31.924270</td>\n",
       "      <td>1123.370</td>\n",
       "      <td>3815.44</td>\n",
       "      <td>0.033782</td>\n",
       "      <td>0.023937</td>\n",
       "      <td>18.0088</td>\n",
       "      <td>0.029908</td>\n",
       "      <td>19.0112</td>\n",
       "      <td>...</td>\n",
       "      <td>0.753738</td>\n",
       "      <td>74.41160</td>\n",
       "      <td>1.005260</td>\n",
       "      <td>0.982433</td>\n",
       "      <td>29</td>\n",
       "      <td>0</td>\n",
       "      <td>c4d.294386.29.68</td>\n",
       "      <td>150536_22075</td>\n",
       "      <td>c4d_140320_062622_ooi_Y_v1</td>\n",
       "      <td>Y</td>\n",
       "    </tr>\n",
       "  </tbody>\n",
       "</table>\n",
       "<p>5 rows × 32 columns</p>\n",
       "</div>"
      ],
      "text/plain": [
       "            mjd          ra        dec         x        y     raerr    decerr  \\\n",
       "0  57113.103622  186.119746 -31.924273   259.539  1591.78  0.014489  0.013822   \n",
       "1  57113.056146  186.119742 -31.924269   251.260  1575.52  0.014706  0.015309   \n",
       "2  57112.054908  186.119746 -31.924269   246.782  1591.39  0.016514  0.014253   \n",
       "3  57113.097428  186.119745 -31.924276   477.845  1380.47  0.012342  0.014491   \n",
       "4  56736.267460  186.119746 -31.924270  1123.370  3815.44  0.033782  0.023937   \n",
       "\n",
       "   mag_auto  magerr_auto  mag_aper1  ...       theta  thetaerr      fwhm  \\\n",
       "0   18.1139     0.004857    19.1142  ...  105.646000 -16.51380  0.958782   \n",
       "1   17.9624     0.005216    19.1417  ...  122.727000 -47.78800  1.081520   \n",
       "2   17.8523     0.004013    19.0387  ...   81.500200   8.04137  1.115210   \n",
       "3   18.0977     0.004922    19.1145  ...  137.531000 -50.08020  0.974796   \n",
       "4   18.0088     0.029908    19.0112  ...    0.753738  74.41160  1.005260   \n",
       "\n",
       "   class_star  ccdnum  flags              measid      objectid  \\\n",
       "0    0.989120      37      0   c4d.426837.37.956  150536_22075   \n",
       "1    0.983450      37      0  c4d.426814.37.1171  150536_22075   \n",
       "2    0.984206      37      0   c4d.426474.37.952  150536_22075   \n",
       "3    0.983615      37      0   c4d.426834.37.994  150536_22075   \n",
       "4    0.982433      29      0    c4d.294386.29.68  150536_22075   \n",
       "\n",
       "                     exposure  filter  \n",
       "0  c4d_150401_023233_ooi_r_v1       r  \n",
       "1  c4d_150401_012411_ooi_i_v1       i  \n",
       "2  c4d_150331_012224_ooi_r_v1       r  \n",
       "3  c4d_150401_022337_ooi_r_v1       r  \n",
       "4  c4d_140320_062622_ooi_Y_v1       Y  \n",
       "\n",
       "[5 rows x 32 columns]"
      ]
     },
     "execution_count": 3,
     "metadata": {},
     "output_type": "execute_result"
    }
   ],
   "source": [
    "objname = '150536_22075'\n",
    "star=qc.query(sql=\"\"\"SELECT meas.* \n",
    "                     FROM nsc_dr2.meas\n",
    "                     WHERE objectid='{:s}'\"\"\".format(objname),\n",
    "              fmt='pandas',\n",
    "              profile='db01')\n",
    "star[:5]"
   ]
  },
  {
   "cell_type": "code",
   "execution_count": 4,
   "metadata": {},
   "outputs": [],
   "source": [
    "def get_data(df,band='r ',aper=1):\n",
    "    fltr = (df['filter'] == band)\n",
    "    fwhm = (df['fwhm'] <= 4.0)\n",
    "    sel = fltr & fwhm\n",
    "    #sel = (df['filter'] == band)\n",
    "    t = df['mjd'][sel].values\n",
    "    y = df['mag_auto'][sel].values\n",
    "    dy = df['magerr_auto'][sel].values\n",
    "    return t,y,dy # return time, magnitudes in one band, uncertainties\n",
    "\n",
    "def get_ls_periodogram(t,y,min_freq=1./1.,max_freq=1./0.1):\n",
    "    \n",
    "    \"\"\"Compute Lomb-Scargle periodogram.\n",
    "    \n",
    "    Parameters\n",
    "    ----------\n",
    "    t : array\n",
    "        Observation time array (e.g. MJD), ordered in ascending order.\n",
    "    \n",
    "    y : array\n",
    "        Magnitude measurements at times ``t``.\n",
    "        \n",
    "    min_freq, max_freq : float or None\n",
    "        The period finder can be guided by providing the min and max frequency\n",
    "        in the ``y`` signal, in units 1/t. \n",
    "          min_freq = 1/longest expected period (in days)\n",
    "          max_freq = 1/shortest expected perdiod (in days)\n",
    "        The defaults are typical for RR Lyrae variability (RR Lyrae usually\n",
    "        have a period of a fraction of one day).\n",
    "        \n",
    "    Returns\n",
    "    -------\n",
    "    period : array\n",
    "        Phased period of the time-variable signal (fraction of the phase).\n",
    "        \n",
    "    power : array\n",
    "        The periodogramm power as function if ``period``.\n",
    "        \n",
    "    \"\"\"\n",
    "    \n",
    "    # Use astropy's LombScargle class\n",
    "    ls = stats.LombScargle(t, y)\n",
    "\n",
    "    # Compute the periodogram\n",
    "    #   We guide the algorithm a bit:\n",
    "    #     min_freq = 1/longest expected period (in days)\n",
    "    #     max_freq = 1/shortest expected perdiod (in days)\n",
    "    #   RR Lyrae usually have a period of a fraction of one day\n",
    "    frequency, power = ls.autopower(minimum_frequency=min_freq,maximum_frequency=max_freq)\n",
    "    period = 1./frequency # period is the inverse of frequency\n",
    "    \n",
    "    return period, power\n",
    "\n",
    "\n",
    "def get_best_period(period,power):\n",
    "    \n",
    "    \"\"\"Return the period with highest power.\"\"\"\n",
    "    \n",
    "    return period[np.argmax(power)]\n",
    "\n",
    "def get_folded_phase(t,best_period,offset=0):\n",
    "    \n",
    "    \"\"\"Fold the observation times with the best period of the variable signal.\"\"\"\n",
    "    \n",
    "    # light curve over period, take the remainder (i.e. the \"phase\" of one period)\n",
    "    phase = t % best_period - offset\n",
    "    \n",
    "    return phase\n",
    "\n",
    "def plot_periodogram(period,power,best_period=None,title='',ax=None):\n",
    "\n",
    "    \"\"\"Plot a periodogram.\n",
    "    \n",
    "    Parameters\n",
    "    ----------\n",
    "    \n",
    "    period, power : array\n",
    "        The period and power 1-d arrays as returned by :func:`get_ls_periodogram()`\n",
    "    \n",
    "    best_period : float or None\n",
    "        If float, the value of this ``best_period`` will be marked in the plot.\n",
    "    \n",
    "    title : str\n",
    "        Title of the figure. Default: ''.\n",
    "    \n",
    "    ax : instance or None\n",
    "        If instance of axis class, will plot to that object. If None, will generate a new figure and axis object.\n",
    "    \"\"\"\n",
    "    \n",
    "    if ax is None:\n",
    "        fig, ax = plt.subplots(figsize=(10,7))\n",
    "        \n",
    "    ax.plot(period,power,lw=0.1)\n",
    "    ax.set_xlabel('period (days)')\n",
    "    ax.set_ylabel('relative power')\n",
    "    ax.set_title(title)\n",
    "    \n",
    "    if best_period is not None:\n",
    "        ax.axvline(best_period,color='r');\n",
    "        ax.text(0.03,0.93,'period = {:.3f} days'.format(best_period),transform=ax.transAxes,color='r')\n",
    "\n",
    "def smooth(x,y,s=80):\n",
    "    \"\"\"\n",
    "    Convolves with a gaussian to create a smoothe line.\n",
    "    \"\"\"\n",
    "    f = interp1d(x,y)\n",
    "    xx = np.linspace(min(x),max(x),2000)\n",
    "    yy = f(xx)\n",
    "    window = gaussian(200,s)\n",
    "    smoothed = convolve(yy, window/window.sum(), mode='same')\n",
    "    return xx,smoothed"
   ]
  },
  {
   "cell_type": "code",
   "execution_count": 5,
   "metadata": {},
   "outputs": [
    {
     "data": {
      "text/plain": [
       "Counter({'r': 117, 'i': 111, 'Y': 2, 'g': 111, 'z': 6, 'VR': 4})"
      ]
     },
     "execution_count": 5,
     "metadata": {},
     "output_type": "execute_result"
    }
   ],
   "source": [
    "import collections\n",
    "collections.Counter(star['filter'])"
   ]
  },
  {
   "cell_type": "code",
   "execution_count": 109,
   "metadata": {},
   "outputs": [
    {
     "data": {
      "text/plain": [
       "0.7082995979520322"
      ]
     },
     "metadata": {},
     "output_type": "display_data"
    },
    {
     "data": {
      "image/png": "[encoded data removed]",
      "text/plain": [
       "<Figure size 720x504 with 1 Axes>"
      ]
     },
     "metadata": {
      "needs_background": "light"
     },
     "output_type": "display_data"
    }
   ],
   "source": [
    "tr,yr,dyr = get_data(star,'r')\n",
    "tg,yg,dyg = get_data(star,'g')\n",
    "ti,yi,dyi = get_data(star,'i')\n",
    "\n",
    "period_r, power_r = get_ls_periodogram(tr,yr)\n",
    "best_period_r = get_best_period(period_r,power_r)\n",
    "\n",
    "period_g, power_g = get_ls_periodogram(tg,yg)\n",
    "best_period_g = get_best_period(period_g,power_g)\n",
    "\n",
    "period_i, power_i = get_ls_periodogram(ti,yi)\n",
    "best_period_i = get_best_period(period_i,power_i)\n",
    "\n",
    "best_period = ( best_period_r + best_period_g + best_period_i ) / 3\n",
    "\n",
    "plot_periodogram(period_r,power_r,best_period_r,title='obj ID:{}'.format(objname))\n",
    "\n",
    "\n",
    "period = best_period\n",
    "display(best_period)\n",
    "\n",
    "gcrv = np.vstack((tg,yg-min(yg),dyg)).T\n",
    "rcrv = np.vstack((tr,yr-min(yr),dyr)).T\n",
    "icrv = np.vstack((ti,yi-min(yi),dyi)).T\n",
    "\n",
    "crv = [gcrv,rcrv,icrv]"
   ]
  },
  {
   "cell_type": "code",
   "execution_count": 7,
   "metadata": {},
   "outputs": [],
   "source": [
    "templets=[glob('templets/*g.dat'),glob('templets/*r.dat'),glob('templets/*i.dat')]\n",
    "gtmps = np.zeros((len(templets[0]),501,2))\n",
    "for i in range(len(templets[0])):\n",
    "    gtmps[i] = np.concatenate((np.array([[0,0]]),\n",
    "                               np.array(pd.read_csv(templets[0][i],sep=' ')),\n",
    "                               np.array([[1,0]])))\n",
    "rtmps = np.zeros((len(templets[1]),501,2))\n",
    "for i in range(len(templets[1])):\n",
    "    rtmps[i] = np.concatenate((np.array([[0,0]]),\n",
    "                               np.array(pd.read_csv(templets[1][i],sep=' ')),\n",
    "                               np.array([[1,0]])))\n",
    "itmps = np.zeros((len(templets[2]),501,2))\n",
    "for i in range(len(templets[2])):\n",
    "    itmps[i] = np.concatenate((np.array([[0,0]]),\n",
    "                               np.array(pd.read_csv(templets[2][i],sep=' ')),\n",
    "                               np.array([[1,0]])))\n",
    "tmps = [gtmps,rtmps,itmps]"
   ]
  },
  {
   "cell_type": "code",
   "execution_count": 145,
   "metadata": {},
   "outputs": [],
   "source": [
    "class tmpfitter:\n",
    "    def __init__ (self, tmps):\n",
    "        self.fltr=0\n",
    "        self.n=0\n",
    "        self.tmps=tmps\n",
    "\n",
    "    def model(self, t, t0, amplitude, yoffset):\n",
    "        # modify the template using peak-to-peak amplitude, yoffset\n",
    "        # fold input times t by period, phase shift to match template\n",
    "        xtemp = self.tmps[self.fltr][self.n,:,0]\n",
    "        ytemp = self.tmps[self.fltr][self.n,:,1]*amplitude + yoffset\n",
    "        ph = (t - t0) %1\n",
    "        #print((ph[0],period,t0%1))\n",
    "        #print((period,t0,amplitude,yoffset))\n",
    "        # interpolate the modified template to the phase we want\n",
    "        return interp1d(xtemp,ytemp)(ph)\n",
    "\n",
    "\n",
    "def tmpfit(tmps,crv,pinit,steps=101):\n",
    "    datfit = np.zeros((steps))\n",
    "    npars = np.zeros((steps,3,4))\n",
    "    fitter = tmpfitter(tmps)\n",
    "    plist = np.linspace(pinit[-1]-.15,pinit[-1]+.15,steps)\n",
    "    piter=0\n",
    "    for p in plist:\n",
    "        for f in range(len(tmps)):\n",
    "            fitter.fltr = f\n",
    "            phase = crv[f][:,0]/p%1\n",
    "            fpars = [0,0,0,0]\n",
    "            minit = 0\n",
    "            minx2 = 10**20\n",
    "            for i in range(len(tmps[f])):\n",
    "                fitter.n = i\n",
    "                pars, cov = curve_fit(fitter.model, phase, crv[f][:,1], \n",
    "                                      bounds = ((-np.inf,0,-np.inf),np.inf),\n",
    "                                      sigma=crv[f][:,2], p0=pinit[f], maxfev=5000)\n",
    "                \n",
    "                x2 = sum((fitter.model(phase,pars[0],pars[1],pars[2])-crv[f][:,1])**2/crv[f][:,2])\n",
    "                if x2 < minx2:\n",
    "                    fpars = pars\n",
    "                    minit = i\n",
    "                    minx2 = x2\n",
    "            npars[piter,f] = np.append(pars,minit)\n",
    "            datfit[piter] += x2\n",
    "        piter += 1\n",
    "    n = datfit.argmin()\n",
    "    return plist[n], npars[n]"
   ]
  },
  {
   "cell_type": "code",
   "execution_count": null,
   "metadata": {},
   "outputs": [],
   "source": []
  },
  {
   "cell_type": "code",
   "execution_count": null,
   "metadata": {},
   "outputs": [],
   "source": []
  },
  {
   "cell_type": "code",
   "execution_count": 146,
   "metadata": {},
   "outputs": [
    {
     "data": {
      "text/plain": [
       "0.6542995979520322"
      ]
     },
     "metadata": {},
     "output_type": "display_data"
    },
    {
     "data": {
      "text/plain": [
       "array([[ 3.05796540e-01,  4.89334741e-01, -1.34748369e-02,\n",
       "         1.70000000e+01],\n",
       "       [ 3.28742115e-01,  3.26646679e-01, -1.82195406e-03,\n",
       "         2.10000000e+01],\n",
       "       [ 3.22295593e-01,  2.78927838e-01,  3.88172062e-02,\n",
       "         1.60000000e+01]])"
      ]
     },
     "metadata": {},
     "output_type": "display_data"
    }
   ],
   "source": [
    "g0=min(gcrv[:,1])\n",
    "g1=max(gcrv[:,1])\n",
    "r0=min(rcrv[:,1])\n",
    "r1=max(rcrv[:,1])\n",
    "i0=min(icrv[:,1])\n",
    "i1=max(icrv[:,1])\n",
    "pinit = ((0,g1-g0,g0),(0,r1-r0,r0),(0,i1-i0,i0),period)\n",
    "p,pars = tmpfit(tmps,crv,pinit)\n",
    "display(p)\n",
    "display(pars)"
   ]
  },
  {
   "cell_type": "code",
   "execution_count": 151,
   "metadata": {},
   "outputs": [
    {
     "data": {
      "text/plain": [
       "[<matplotlib.lines.Line2D at 0x7f9820e9c390>]"
      ]
     },
     "execution_count": 151,
     "metadata": {},
     "output_type": "execute_result"
    },
    {
     "data": {
      "image/png": "[encoded data removed]",
      "text/plain": [
       "<Figure size 432x288 with 1 Axes>"
      ]
     },
     "metadata": {
      "needs_background": "light"
     },
     "output_type": "display_data"
    },
    {
     "data": {
      "image/png": "[encoded data removed]",
      "text/plain": [
       "<Figure size 432x288 with 1 Axes>"
      ]
     },
     "metadata": {
      "needs_background": "light"
     },
     "output_type": "display_data"
    }
   ],
   "source": [
    "fltr = 2\n",
    "n = pars[:,-1].astype(int)\n",
    "f = interp1d(tmps[fltr][n[fltr],:,0],tmps[fltr][n[fltr],:,1]*pars[fltr,1]+pars[fltr,2])\n",
    "phase = (crv[fltr][:,0]/p-pars[fltr,0]) %1\n",
    "dif = abs(crv[fltr][:,1]-f(phase))\n",
    "plt.figure()\n",
    "plt.scatter(phase,dif,c=dif>utils.mad(dif)*3)\n",
    "plt.figure()\n",
    "plt.scatter(phase,crv[fltr][:,1],c=dif>utils.mad(dif)*3)\n",
    "plt.plot(tmps[fltr][n[fltr],:,0],tmps[fltr][n[fltr],:,1]*pars[fltr,1]+pars[fltr,2])"
   ]
  },
  {
   "cell_type": "code",
   "execution_count": 152,
   "metadata": {},
   "outputs": [
    {
     "name": "stdout",
     "output_type": "stream",
     "text": [
      "CPU times: user 2min 2s, sys: 4.17 ms, total: 2min 2s\n",
      "Wall time: 2min 2s\n"
     ]
    },
    {
     "data": {
      "text/plain": [
       "(0.6542995979520322,\n",
       " array([[ 3.05796540e-01,  4.89334741e-01, -1.34748369e-02,\n",
       "          1.70000000e+01],\n",
       "        [ 3.28742115e-01,  3.26646679e-01, -1.82195406e-03,\n",
       "          2.10000000e+01],\n",
       "        [ 3.22295593e-01,  2.78927838e-01,  3.88172062e-02,\n",
       "          1.60000000e+01]]))"
      ]
     },
     "execution_count": 152,
     "metadata": {},
     "output_type": "execute_result"
    }
   ],
   "source": [
    "%time tmpfit(tmps,crv,pinit)"
   ]
  },
  {
   "cell_type": "code",
   "execution_count": null,
   "metadata": {},
   "outputs": [],
   "source": [
    "f = interp1d(tmps[0][gn,:,0],tmps[0][gn,:,1]*gpars[2]+gpars[3])\n",
    "phase_g = (gcrv[:,0]-gpars[1])/gpars[0]%1\n",
    "dif_g = abs(gcrv[:,1]-f(phase_g))\n",
    "plt.scatter(phase_g,dif_g,c=dif_g>utils.mad(dif_g)*5)"
   ]
  },
  {
   "cell_type": "code",
   "execution_count": null,
   "metadata": {},
   "outputs": [],
   "source": [
    "plt.scatter(phase_g,crv[0][:,1],c=dif_g>utils.mad(dif_g)*5)\n",
    "plt.plot(tmps[0][gn,:,0],tmps[0][gn,:,1]*gpars[2]+gpars[3])"
   ]
  },
  {
   "cell_type": "code",
   "execution_count": null,
   "metadata": {},
   "outputs": [],
   "source": [
    "gcrv_in = gcrv[dif_g<utils.mad(dif_g)*5]\n",
    "phase_g_in = phase_g[dif_g<utils.mad(dif_g)*5]\n",
    "plt.scatter(phase_g_in,gcrv_in[:,1])\n",
    "plt.plot(gtemplets[gn,:,0],gtemplets[gn,:,1]*gpars[2]+gpars[3])"
   ]
  },
  {
   "cell_type": "code",
   "execution_count": null,
   "metadata": {},
   "outputs": [],
   "source": [
    "gn_in,gpars_in = tmpfit(gtemplets,gcrv_in,gpars)\n",
    "print('Old:')\n",
    "display(gn)\n",
    "display(gpars)\n",
    "print('New:')\n",
    "display(gn_in)\n",
    "display(gpars_in)\n",
    "#Period, Phase, peak-to-peak Amplitude, yoffset"
   ]
  },
  {
   "cell_type": "code",
   "execution_count": null,
   "metadata": {},
   "outputs": [],
   "source": [
    "f = interp1d(gtemplets[gn_in,:,0],gtemplets[gn_in,:,1]*gpars_in[2]+gpars_in[3])\n",
    "phase_g = (gcrv_in[:,0]-gpars_in[1])/gpars_in[0]%1\n",
    "dif_g_in = abs(gcrv_in[:,1]-f(phase_g_in))\n",
    "plt.scatter(phase_g,dif_g_in,c=dif_g_in>utils.mad(dif_g_in)*5)"
   ]
  },
  {
   "cell_type": "code",
   "execution_count": null,
   "metadata": {},
   "outputs": [],
   "source": [
    "plt.scatter(phase_g_in,gcrv_in[:,1],c=dif_g_in>utils.mad(dif_g_in)*5)\n",
    "plt.plot(gtemplets[gn_in,:,0],gtemplets[gn_in,:,1]*gpars_in[2]+gpars_in[3],c='g')\n",
    "plt.plot(gtemplets[gn,:,0],gtemplets[gn,:,1]*gpars[2]+gpars[3],c='black')"
   ]
  },
  {
   "cell_type": "code",
   "execution_count": null,
   "metadata": {},
   "outputs": [],
   "source": []
  },
  {
   "cell_type": "code",
   "execution_count": null,
   "metadata": {},
   "outputs": [],
   "source": [
    "y0=min(rcrv[:,1])\n",
    "y1=max(rcrv[:,1])\n",
    "t0=rcrv[np.argmin(rcrv[:,1]),0]\n",
    "pinit = (period,t0,y1-y0,y0)\n",
    "rn,rpars = tmpfit(rtemplets,rcrv,pinit)\n",
    "display(rn)\n",
    "display(rpars)\n",
    "#Period, Phase, peak-to-peak Amplitude, yoffset"
   ]
  },
  {
   "cell_type": "code",
   "execution_count": null,
   "metadata": {},
   "outputs": [],
   "source": [
    "f = interp1d(rtemplets[rn,:,0],rtemplets[rn,:,1]*rpars[2]+rpars[3])\n",
    "phase_r = (rcrv[:,0]-rpars[1])/rpars[0]%1\n",
    "dif_r = abs(rcrv[:,1]-f(phase_r))\n",
    "plt.scatter(phase_r,dif_r,c=dif_r>utils.mad(dif_r)*5)"
   ]
  },
  {
   "cell_type": "code",
   "execution_count": null,
   "metadata": {},
   "outputs": [],
   "source": [
    "plt.scatter(phase_r,rcrv[:,1],c=dif_r>utils.mad(dif_r)*5)\n",
    "plt.plot(rtemplets[rn,:,0],rtemplets[rn,:,1]*rpars[2]+rpars[3])"
   ]
  },
  {
   "cell_type": "code",
   "execution_count": null,
   "metadata": {},
   "outputs": [],
   "source": [
    "rcrv_in = rcrv[dif_r<utils.mad(dif_r)*5]\n",
    "phase_r_in = phase_r[dif_r<utils.mad(dif_r)*5]\n",
    "plt.scatter(phase_r_in,rcrv_in[:,1])\n",
    "plt.plot(rtemplets[rn,:,0],rtemplets[rn,:,1]*rpars[2]+rpars[3])"
   ]
  },
  {
   "cell_type": "code",
   "execution_count": null,
   "metadata": {},
   "outputs": [],
   "source": [
    "rn_in,rpars_in = tmpfit(rtemplets,rcrv_in,rpars)\n",
    "print('Old:')\n",
    "display(rn)\n",
    "display(rpars)\n",
    "print('New:')\n",
    "display(rn_in)\n",
    "display(rpars_in)\n",
    "#Period, Phase, peak-to-peak Amplitude, yoffset"
   ]
  },
  {
   "cell_type": "code",
   "execution_count": null,
   "metadata": {},
   "outputs": [],
   "source": [
    "f = interp1d(rtemplets[rn_in,:,0],rtemplets[rn_in,:,1]*rpars_in[2]+rpars_in[3])\n",
    "phase_r = (rcrv_in[:,0]-rpars_in[1])/rpars_in[0]%1\n",
    "dif_r_in = abs(rcrv_in[:,1]-f(phase_r_in))\n",
    "plt.scatter(phase_r,dif_r_in,c=dif_r_in>utils.mad(dif_r_in)*5)"
   ]
  },
  {
   "cell_type": "code",
   "execution_count": null,
   "metadata": {},
   "outputs": [],
   "source": [
    "plt.scatter(phase_r_in,rcrv_in[:,1],c=dif_r_in>utils.mad(dif_r_in)*5)\n",
    "plt.plot(rtemplets[rn_in,:,0],rtemplets[rn_in,:,1]*rpars_in[2]+rpars_in[3],c='r')\n",
    "plt.plot(rtemplets[rn,:,0],rtemplets[rn,:,1]*rpars[2]+rpars[3],c='black')"
   ]
  },
  {
   "cell_type": "code",
   "execution_count": null,
   "metadata": {},
   "outputs": [],
   "source": []
  },
  {
   "cell_type": "code",
   "execution_count": null,
   "metadata": {},
   "outputs": [],
   "source": [
    "y0=min(icrv[:,1])\n",
    "y1=max(icrv[:,1])\n",
    "t0=icrv[np.argmin(icrv[:,1]),0]\n",
    "pinit = (period,t0,y1-y0,y0)\n",
    "ni,ipars = tmpfit(itemplets,icrv,pinit)\n",
    "display(ni)\n",
    "display(ipars)\n",
    "#Period, Phase, peak-to-peak Amplitude, yoffset"
   ]
  },
  {
   "cell_type": "code",
   "execution_count": null,
   "metadata": {},
   "outputs": [],
   "source": [
    "f = interp1d(itemplets[ni,:,0],itemplets[ni,:,1]*ipars[2]+ipars[3])\n",
    "phase_i = (icrv[:,0]-ipars[1])/ipars[0]%1\n",
    "dif_i = abs(icrv[:,1]-f(phase_i))\n",
    "plt.scatter(phase_i,dif_i,c=dif_i>utils.mad(dif_i)*5)"
   ]
  },
  {
   "cell_type": "code",
   "execution_count": null,
   "metadata": {},
   "outputs": [],
   "source": [
    "plt.scatter(phase_i,icrv[:,1],c=dif_i>utils.mad(dif_i)*5)\n",
    "plt.plot(itemplets[ni,:,0],itemplets[ni,:,1]*ipars[2]+ipars[3])"
   ]
  },
  {
   "cell_type": "code",
   "execution_count": null,
   "metadata": {},
   "outputs": [],
   "source": [
    "icrv_in = icrv[dif_i<utils.mad(dif_i)*5]\n",
    "phase_i_in = phase_i[dif_i<utils.mad(dif_i)*5]\n",
    "plt.scatter(phase_i_in,icrv_in[:,1])\n",
    "plt.plot(itemplets[ni,:,0],itemplets[ni,:,1]*ipars[2]+ipars[3])"
   ]
  },
  {
   "cell_type": "code",
   "execution_count": null,
   "metadata": {},
   "outputs": [],
   "source": [
    "ni_in,ipars_in = tmpfit(itemplets,icrv_in,ipars)\n",
    "print('Old:')\n",
    "display(ni)\n",
    "display(ipars)\n",
    "print('New:')\n",
    "display(ni_in)\n",
    "display(ipars_in)\n",
    "#Period, Phase, peak-to-peak Amplitude, yoffset"
   ]
  },
  {
   "cell_type": "code",
   "execution_count": null,
   "metadata": {},
   "outputs": [],
   "source": [
    "f = interp1d(itemplets[ni_in,:,0],itemplets[ni_in,:,1]*ipars_in[2]+ipars_in[3])\n",
    "phase_i = (icrv_in[:,0]-ipars_in[1])/ipars_in[0]%1\n",
    "dif_i_in = abs(icrv_in[:,1]-f(phase_i_in))\n",
    "plt.scatter(phase_i,dif_i_in,c=dif_i_in>utils.mad(dif_i_in)*5)"
   ]
  },
  {
   "cell_type": "code",
   "execution_count": null,
   "metadata": {},
   "outputs": [],
   "source": [
    "plt.scatter(phase_i_in,icrv_in[:,1],c=dif_i_in>utils.mad(dif_i_in)*5)\n",
    "plt.plot(itemplets[ni_in,:,0],itemplets[ni_in,:,1]*ipars_in[2]+ipars_in[3],c='b')\n",
    "plt.plot(itemplets[ni,:,0],itemplets[ni,:,1]*ipars[2]+ipars[3],c='black')"
   ]
  },
  {
   "cell_type": "code",
   "execution_count": null,
   "metadata": {},
   "outputs": [],
   "source": []
  },
  {
   "cell_type": "code",
   "execution_count": null,
   "metadata": {},
   "outputs": [],
   "source": [
    "period"
   ]
  },
  {
   "cell_type": "code",
   "execution_count": null,
   "metadata": {},
   "outputs": [],
   "source": [
    "period2 = (gpars[0]+rpars[0]+ipars[0])/3\n",
    "period2"
   ]
  },
  {
   "cell_type": "code",
   "execution_count": null,
   "metadata": {},
   "outputs": [],
   "source": []
  },
  {
   "cell_type": "code",
   "execution_count": null,
   "metadata": {},
   "outputs": [],
   "source": [
    "gcrv2 = gcrv.copy()\n",
    "rcrv2 = rcrv.copy()\n",
    "icrv2 = icrv.copy()\n",
    "\n",
    "gcrv2[:,0] = (gcrv2[:,0]-gpars[1])/gpars[0]%1\n",
    "gcrv2 = np.tile(gcrv2.T,2).T\n",
    "gcrv2[int(len(gcrv2)/2):,0] += 1\n",
    "gcrv2 = gcrv2[gcrv2[:,0].argsort()]\n",
    "\n",
    "rcrv2[:,0] = (rcrv2[:,0]-rpars[1])/rpars[0]%1\n",
    "rcrv2 = np.tile(rcrv2.T,2).T\n",
    "rcrv2[int(len(rcrv2)/2):,0] += 1\n",
    "rcrv2 = rcrv2[rcrv2[:,0].argsort()]\n",
    "\n",
    "icrv2[:,0] = (icrv2[:,0]-ipars[1])/ipars[0]%1\n",
    "icrv2 = np.tile(icrv2.T,2).T\n",
    "icrv2[int(len(icrv2)/2):,0] += 1\n",
    "icrv2 = icrv2[icrv2[:,0].argsort()]\n",
    "\n",
    "gtemplets2 = np.tile(gtemplets,(2,1))\n",
    "gtemplets2[:,int(len(gtemplets2[0])/2):,0] += 1\n",
    "rtemplets2 = np.tile(rtemplets,(2,1))\n",
    "rtemplets2[:,int(len(rtemplets2[0])/2):,0] += 1\n",
    "itemplets2 = np.tile(itemplets,(2,1))\n",
    "itemplets2[:,int(len(itemplets2[0])/2):,0] += 1\n"
   ]
  },
  {
   "cell_type": "code",
   "execution_count": null,
   "metadata": {},
   "outputs": [],
   "source": [
    "f = interp1d(gtemplets2[gn,:,0],gtemplets2[gn,:,1]*gpars[2]+gpars[3])\n",
    "difg = abs(gcrv2[:,1]-f(gcrv2[:,0]))\n",
    "plt.scatter(gcrv2[:,0],difg,c=difg>utils.mad(difg)*5)"
   ]
  },
  {
   "cell_type": "code",
   "execution_count": null,
   "metadata": {},
   "outputs": [],
   "source": [
    "plt.plot(gtemplets2[gn,:,0],gtemplets2[gn,:,1]*gpars[2]+gpars[3],c='g')\n",
    "plt.scatter(gcrv2[:,0],gcrv2[:,1],c=difg>utils.mad(difg)*5)"
   ]
  },
  {
   "cell_type": "code",
   "execution_count": null,
   "metadata": {},
   "outputs": [],
   "source": [
    "f = interp1d(rtemplets2[rn,:,0],rtemplets2[rn,:,1]*rpars[2]+rpars[3])\n",
    "difr = abs(rcrv2[:,1]-f(rcrv2[:,0]))\n",
    "plt.scatter(rcrv2[:,0],difr,c=difr>utils.mad(difr)*5)"
   ]
  },
  {
   "cell_type": "code",
   "execution_count": null,
   "metadata": {},
   "outputs": [],
   "source": [
    "plt.plot(rtemplets2[rn,:,0],rtemplets2[rn,:,1]*rpars[2]+rpars[3],c='r')\n",
    "plt.scatter(rcrv2[:,0],rcrv2[:,1],c=difr>utils.mad(difr)*5)"
   ]
  },
  {
   "cell_type": "code",
   "execution_count": null,
   "metadata": {},
   "outputs": [],
   "source": [
    "f = interp1d(itemplets2[ni,:,0],itemplets2[ni,:,1]*ipars[2]+ipars[3])\n",
    "difi = abs(icrv2[:,1]-f(icrv2[:,0]))\n",
    "plt.scatter(icrv2[:,0],difi,c=difi>utils.mad(difi)*5)"
   ]
  },
  {
   "cell_type": "code",
   "execution_count": null,
   "metadata": {},
   "outputs": [],
   "source": [
    "plt.plot(itemplets2[ni,:,0],itemplets2[ni,:,1]*ipars[2]+ipars[3],c='b')\n",
    "plt.scatter(icrv2[:,0],icrv2[:,1],c=difi>utils.mad(difi)*5)"
   ]
  },
  {
   "cell_type": "code",
   "execution_count": null,
   "metadata": {},
   "outputs": [],
   "source": [
    "fig, ax = plt.subplots(figsize=(10,7))\n",
    "\n",
    "gshft = 0\n",
    "rshft = .9\n",
    "ishft = 1.6\n",
    "\n",
    "ax.plot(gtemplets2[gn,:,0],gtemplets2[gn,:,1]*gpars[2] + gpars[3]+gshft,c='black')\n",
    "ax.plot(rtemplets2[rn,:,0],rtemplets2[rn,:,1]*rpars[2] + rpars[3]+rshft,c='black')\n",
    "ax.plot(itemplets2[ni,:,0],itemplets2[ni,:,1]*ipars[2] + ipars[3]+ishft,c='black')\n",
    "\n",
    "ax.errorbar(gcrv2[:,0],gcrv2[:,1]+gshft,yerr=gcrv2[:,2],marker='.',ms=10,ls='none',lw=1,color='g',alpha=.6)\n",
    "ax.errorbar(rcrv2[:,0],rcrv2[:,1]+rshft,yerr=rcrv2[:,2],marker='.',ms=10,ls='none',lw=1,color='r',alpha=.6)\n",
    "ax.errorbar(icrv2[:,0],icrv2[:,1]+ishft,yerr=icrv2[:,2],marker='.',ms=10,ls='none',lw=1,color='b',alpha=.6)\n",
    "\n",
    "ax.text(0,gshft+.3,'g',fontsize=18,color='g')\n",
    "ax.text(0,rshft+.3,'r',fontsize=18,color='r')\n",
    "ax.text(0,ishft+.3,'i',fontsize=18,color='b')\n",
    "\n",
    "ax.set_title('Objectid: {}     P: {:.4f} d     Type: RRab'.format(objname,period2), fontsize=20)\n",
    "ax.invert_yaxis()\n",
    "ax.set_xlabel('Phase', fontsize=16)\n",
    "ax.set_ylabel('Relative Magnitude', fontsize=16);"
   ]
  },
  {
   "cell_type": "code",
   "execution_count": null,
   "metadata": {},
   "outputs": [],
   "source": [
    "fig, ax = plt.subplots(figsize=(10,7))\n",
    "\n",
    "gshft = 0\n",
    "rshft = .9\n",
    "ishft = 1.6\n",
    "\n",
    "ax.plot(gtemplets2[gn_in,:,0],gtemplets2[gn_in,:,1]*gpars_in[2] + gpars_in[3]+gshft,c='black')\n",
    "ax.plot(rtemplets2[rn_in,:,0],rtemplets2[rn_in,:,1]*rpars_in[2] + rpars_in[3]+rshft,c='black')\n",
    "ax.plot(itemplets2[ni_in,:,0],itemplets2[ni_in,:,1]*ipars_in[2] + ipars_in[3]+ishft,c='black')\n",
    "\n",
    "ax.errorbar(gcrv2[:,0],gcrv2[:,1]+gshft,yerr=gcrv2[:,2],marker='.',ms=10,ls='none',lw=1,color='g',alpha=.6)\n",
    "ax.errorbar(rcrv2[:,0],rcrv2[:,1]+rshft,yerr=rcrv2[:,2],marker='.',ms=10,ls='none',lw=1,color='r',alpha=.6)\n",
    "ax.errorbar(icrv2[:,0],icrv2[:,1]+ishft,yerr=icrv2[:,2],marker='.',ms=10,ls='none',lw=1,color='b',alpha=.6)\n",
    "\n",
    "ax.text(0,gshft+.3,'g',fontsize=18,color='g')\n",
    "ax.text(0,rshft+.3,'r',fontsize=18,color='r')\n",
    "ax.text(0,ishft+.3,'i',fontsize=18,color='b')\n",
    "\n",
    "ax.set_title('Objectid: {}     P: {:.4f} d     Type: RRab'.format(objname,period2), fontsize=20)\n",
    "ax.invert_yaxis() \n",
    "ax.set_xlabel('Phase', fontsize=16)\n",
    "ax.set_ylabel('Relative Magnitude', fontsize=16);"
   ]
  },
  {
   "cell_type": "code",
   "execution_count": null,
   "metadata": {},
   "outputs": [],
   "source": []
  }
 ],
 "metadata": {
  "kernelspec": {
   "display_name": "Python 3",
   "language": "python",
   "name": "python3"
  },
  "language_info": {
   "codemirror_mode": {
    "name": "ipython",
    "version": 3
   },
   "file_extension": ".py",
   "mimetype": "text/x-python",
   "name": "python",
   "nbconvert_exporter": "python",
   "pygments_lexer": "ipython3",
   "version": "3.7.6"
  }
 },
 "nbformat": 4,
 "nbformat_minor": 4
}
