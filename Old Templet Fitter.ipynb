{
 "cells": [
  {
   "cell_type": "code",
   "execution_count": 24,
   "metadata": {
    "ExecuteTime": {
     "end_time": "2021-06-22T17:27:27.814272Z",
     "start_time": "2021-06-22T17:27:27.804298Z"
    }
   },
   "outputs": [],
   "source": [
    "import warnings\n",
    "warnings.filterwarnings('ignore')"
   ]
  },
  {
   "cell_type": "code",
   "execution_count": 1,
   "metadata": {
    "ExecuteTime": {
     "end_time": "2021-06-21T23:15:01.869941Z",
     "start_time": "2021-06-21T23:14:57.559076Z"
    }
   },
   "outputs": [
    {
     "name": "stderr",
     "output_type": "stream",
     "text": [
      "C:\\Users\\kylem\\Anaconda3\\lib\\site-packages\\numpy\\_distributor_init.py:32: UserWarning: loaded more than 1 DLL from .libs:\n",
      "C:\\Users\\kylem\\Anaconda3\\lib\\site-packages\\numpy\\.libs\\libopenblas.JPIJNSWNNAN3CE6LLI5FWSPHUT2VXMTH.gfortran-win_amd64.dll\n",
      "C:\\Users\\kylem\\Anaconda3\\lib\\site-packages\\numpy\\.libs\\libopenblas.WCDJNK7YVMPZQ2ME2ZZHJJRJ3JIKNDB7.gfortran-win_amd64.dll\n",
      "  stacklevel=1)\n"
     ]
    }
   ],
   "source": [
    "from glob import glob\n",
    "import numpy as np\n",
    "import matplotlib.pyplot as plt\n",
    "%matplotlib inline\n",
    "import pandas as pd\n",
    "from scipy.interpolate import interp1d\n",
    "from scipy.signal import gaussian, convolve\n",
    "from statistics import mean, median\n",
    "from astropy import stats\n",
    "from scipy.optimize import curve_fit, least_squares\n",
    "import collections\n",
    "import os\n",
    "\n",
    "import utils\n",
    "from dl import queryClient as qc"
   ]
  },
  {
   "cell_type": "code",
   "execution_count": 2,
   "metadata": {
    "ExecuteTime": {
     "end_time": "2021-06-21T23:15:02.071856Z",
     "start_time": "2021-06-21T23:15:01.872935Z"
    }
   },
   "outputs": [],
   "source": [
    "if not os.path.exists('results'):\n",
    "    os.makedirs('results')\n",
    "if not os.path.exists('results/plots'):\n",
    "    os.makedirs('results/plots')"
   ]
  },
  {
   "cell_type": "code",
   "execution_count": null,
   "metadata": {},
   "outputs": [],
   "source": []
  },
  {
   "cell_type": "code",
   "execution_count": 3,
   "metadata": {
    "ExecuteTime": {
     "end_time": "2021-06-21T23:15:02.151019Z",
     "start_time": "2021-06-21T23:15:02.082499Z"
    },
    "code_folding": [
     46,
     69,
     81,
     88,
     95,
     105
    ]
   },
   "outputs": [],
   "source": [
    "def get_data(df,objname):\n",
    "    order = ['u','g','r','i','z']\n",
    "    best_periods = []\n",
    "    crv=[]\n",
    "    fltrs=[]\n",
    "    for f in order:\n",
    "        selfltr = (df['filter'] == f)\n",
    "        selfwhm = (df['fwhm'] <= 4.0)\n",
    "        sel = selfltr & selfwhm\n",
    "        t = df['mjd'][sel].values\n",
    "        y = df['mag_auto'][sel].values\n",
    "        dy = df['magerr_auto'][sel].values\n",
    "        if len(t) < 25:\n",
    "            continue\n",
    "\n",
    "        best_periods.append(get_ls_period(t,y,objname=objname))\n",
    "        crvi = np.vstack((t,y,dy)).T\n",
    "        crv.append(crvi[np.argsort(crvi[:,0])])\n",
    "        fltrs.append(f)\n",
    "    period = 0\n",
    "    for p in best_periods:\n",
    "        period += p/len(best_periods)\n",
    "    return crv, period, fltrs\n",
    "\n",
    "def get_tmps(fltrs):\n",
    "    tmps=[]\n",
    "    typs =[]\n",
    "    names=[]\n",
    "    for fltr in fltrs:\n",
    "        typ = []\n",
    "        templets = glob('templets/*{}.dat'.format(fltr))\n",
    "        tmp = np.zeros((len(templets),501,2))\n",
    "        for i in range(len(templets)):\n",
    "            tmp[i] = np.concatenate((np.array([[0,0]]),\n",
    "                                     np.array(pd.read_csv(templets[i],sep=' ')),\n",
    "                                     np.array([[1,0]])))\n",
    "            #adjust if filepath to templets changes\n",
    "            if len(templets[i])==17:\n",
    "                typ.append('RRab')\n",
    "            elif len(templets[i])==15:\n",
    "                typ.append('RRc')\n",
    "        typs.append(typ)\n",
    "        names.append(templets)\n",
    "        tmps.append(tmp)\n",
    "    return tmps, names, typs\n",
    "\n",
    "def double_tmps(tmps):\n",
    "    tmps2=[]\n",
    "    for f in range(len(tmps)):\n",
    "        tmps2.append(np.tile(tmps[f],(2,1)))\n",
    "        tmps2[f][:,int(len(tmps2[f][0])/2):,0] += 1\n",
    "    return tmps2\n",
    "\n",
    "def plot_periodogram(period,power,best_period=None,objname='',ax=None):\n",
    "   \n",
    "    if ax is None:\n",
    "        fig, ax = plt.subplots(figsize=(10,7))\n",
    "        \n",
    "    ax.plot(period,power,lw=0.1)\n",
    "    ax.set_xlabel('period (days)')\n",
    "    ax.set_ylabel('relative power')\n",
    "    ax.set_title(objname)\n",
    "    \n",
    "    if best_period is not None:\n",
    "        ax.axvline(best_period,color='r');\n",
    "        ax.text(0.03,0.93,'period = {:.3f} days'.format(best_period),transform=ax.transAxes,color='r')\n",
    "    fig.savefig('results/plots/{}_periodogram.png'.format(objname))\n",
    "    plt.close(fig)\n",
    "\n",
    "def get_ls_period(t,y,min_freq=1./1.,max_freq=1./0.1,objname='_'):\n",
    "    \"\"\"Use Lomb-Scargle periodogram to get an estimate on period\"\"\"\n",
    "    \n",
    "    ls = stats.LombScargle(t, y)\n",
    "    frequency, power = ls.autopower(minimum_frequency=min_freq,maximum_frequency=max_freq)\n",
    "    period = 1./frequency # period is the inverse of frequency\n",
    "    \n",
    "    best_period = period[np.argmax(power)]\n",
    "    \n",
    "    plot_periodogram(period,power,best_period,objname=objname)\n",
    "    return best_period\n",
    "\n",
    "def get_pinit(crv,period):\n",
    "    pinit = ()\n",
    "    for ltcrv in crv:\n",
    "        pinit += ((0.0,max(ltcrv[:,1])-min(ltcrv[:,1]),0.0),)\n",
    "    pinit += (period,)\n",
    "    return pinit\n",
    "\n",
    "def update_pinit(pars,period):\n",
    "    pinit = ()\n",
    "    for i in range(len(pars)):\n",
    "        pinit += (tuple(pars[i,:-1]),)\n",
    "    pinit += (period,)\n",
    "    return pinit\n",
    "\n",
    "def RemoveOutliers(crv,tmps,pars,period):\n",
    "    n = pars[:,-1].astype(int)\n",
    "    crv_in = []\n",
    "    for i in range(len(crv)):\n",
    "        f = interp1d(tmps[i][n[i],:,0],tmps[i][n[i],:,1]*pars[i,1]+pars[i,2])\n",
    "        phase = (crv[i][:,0]/period-pars[i,0]) %1\n",
    "        dif = abs(crv[i][:,1]-f(phase))\n",
    "        crv_in.append(crv[i][dif<utils.mad(dif)*5])\n",
    "    return crv_in\n",
    "\n",
    "def double_period(crv,pars,period):\n",
    "    crv2 = []\n",
    "    for i in range(len(crv)):\n",
    "        crv2.append(crv[i].copy())\n",
    "        crv2[i][:,1] -= pars[i,2]\n",
    "        \n",
    "        crv2[i][:,0] = (crv2[i][:,0]/period-pars[i,0])%1\n",
    "        crv2[i] = np.tile(crv2[i].T,2).T\n",
    "        crv2[i][int(len(crv2[i])/2):,0] += 1\n",
    "        crv2[i] = crv2[i][crv2[i][:,0].argsort()]\n",
    "        \n",
    "    return crv2\n"
   ]
  },
  {
   "cell_type": "code",
   "execution_count": 4,
   "metadata": {
    "ExecuteTime": {
     "end_time": "2021-06-21T23:15:02.166410Z",
     "start_time": "2021-06-21T23:15:02.152968Z"
    }
   },
   "outputs": [],
   "source": [
    "def get_tmps(fltrs):\n",
    "    tmps=[]\n",
    "    typs =[]\n",
    "    names=[]\n",
    "\n",
    "    for fltr in fltrs:\n",
    "        typ = ['RRab','RRab','RRab','RRab','RRab','RRab','RRc']\n",
    "        tempnames = ['a1','a2','a3','b1','b2','b3','c']\n",
    "        \n",
    "        tmp = np.zeros((len(tempnames),51,2))\n",
    "        tmpmatrix = np.loadtxt('templets/LaydenTemplates.txt',delimiter=',')\n",
    "        tmp[:,:,0] = np.tile(tmpmatrix[:,0],7).reshape(7,51)\n",
    "        tmp[:,:,1] = np.swapaxes(tmpmatrix[:,1:],0,1)\n",
    "        \n",
    "        typs.append(typ)\n",
    "        names.append(tempnames)\n",
    "        tmps.append(tmp)\n",
    "    return tmps, names, typs"
   ]
  },
  {
   "cell_type": "code",
   "execution_count": 5,
   "metadata": {
    "ExecuteTime": {
     "end_time": "2021-06-21T23:15:02.197632Z",
     "start_time": "2021-06-21T23:15:02.168623Z"
    },
    "code_folding": [
     1,
     6,
     18
    ]
   },
   "outputs": [],
   "source": [
    "class tmpfitter:\n",
    "    def __init__ (self, tmps):\n",
    "        self.fltr=0\n",
    "        self.n=0\n",
    "        self.tmps=tmps\n",
    "\n",
    "    def model(self, t, t0, amplitude, yoffset):\n",
    "        # modify the template using peak-to-peak amplitude, yoffset\n",
    "        # fold input times t by period, phase shift to match template\n",
    "        xtemp = self.tmps[self.fltr][self.n,:,0]\n",
    "        ytemp = self.tmps[self.fltr][self.n,:,1]*amplitude + yoffset\n",
    "        ph = (t - t0) %1\n",
    "        #print((ph[0],period,t0%1))\n",
    "        #print((period,t0,amplitude,yoffset))\n",
    "        # interpolate the modified template to the phase we want\n",
    "        return interp1d(xtemp,ytemp)(ph)\n",
    "\n",
    "def tmpfit(crv,tmps,pinit,w=.1,steps=21,n=1):\n",
    "    fitter = tmpfitter(tmps)\n",
    "    \n",
    "    lsteps = int(steps/2+.5)\n",
    "    rsteps = steps - lsteps\n",
    "    pl = np.linspace(pinit[-1]-w,pinit[-1],lsteps)\n",
    "    pr = np.linspace(pinit[-1]+w,pinit[-1],rsteps,endpoint=False)\n",
    "    plist = np.zeros(pl.size+pr.size)\n",
    "    plist[0::2] = np.flip(pl)\n",
    "    plist[1::2] = np.flip(pr)\n",
    "    plist = plist[plist>0]\n",
    "    \n",
    "    pars = np.zeros((len(tmps),4))\n",
    "    minsumx2 = 10**50\n",
    "    minp = 0\n",
    "    for p in plist:\n",
    "        sumx2=0\n",
    "        ppars=np.zeros((len(tmps),4))\n",
    "        for f in range(len(tmps)):\n",
    "            fitter.fltr = f\n",
    "            phase = crv[f][:,0]/p%n #1 for one period, 2 for two periods\n",
    "            minx2 = 10**50\n",
    "            for i in range(len(tmps[f])):\n",
    "                fitter.n = i\n",
    "                try:\n",
    "                    tpars, cov = curve_fit(fitter.model, phase, crv[f][:,1], \n",
    "                                          bounds = ((-.5,0,-50),(.5,10,50)),\n",
    "                                          sigma=crv[f][:,2], p0=pinit[f], maxfev=500)\n",
    "                except RuntimeError:\n",
    "                    #print('Error: Curve_fit failed on templet={}-{}, p={:.4}'.format(f,i,p))\n",
    "                    continue\n",
    "                \n",
    "                x2 = sum((fitter.model(phase,tpars[0],tpars[1],tpars[2])-crv[f][:,1])**2/crv[f][:,2]**2)\n",
    "                if x2 < minx2:\n",
    "                    ppars[f,:-1] = tpars\n",
    "                    ppars[f,-1] = i\n",
    "                    minx2 = x2\n",
    "            \n",
    "            sumx2 += minx2\n",
    "            if sumx2 > minsumx2:\n",
    "                break\n",
    "        if sumx2 < minsumx2:\n",
    "            minsumx2 = sumx2\n",
    "            minp = p\n",
    "            pars = ppars\n",
    "    npoints=0\n",
    "    for i in range(len(crv)):\n",
    "        npoints += len(crv[i])\n",
    "    return pars, minp, minsumx2/npoints"
   ]
  },
  {
   "cell_type": "code",
   "execution_count": null,
   "metadata": {},
   "outputs": [],
   "source": []
  },
  {
   "cell_type": "code",
   "execution_count": 6,
   "metadata": {
    "ExecuteTime": {
     "end_time": "2021-06-21T23:15:02.228308Z",
     "start_time": "2021-06-21T23:15:02.199627Z"
    }
   },
   "outputs": [],
   "source": [
    "def fit_plot(objname,file):\n",
    "    star=qc.query(sql=\"\"\"SELECT meas.* \n",
    "                     FROM nsc_dr2.meas\n",
    "                     WHERE objectid='{:s}'\"\"\".format(objname),\n",
    "              fmt='pandas',\n",
    "              profile='db01')\n",
    "    #print(collections.Counter(star['filter']))\n",
    "    crv,period,fltrs = get_data(star,objname)\n",
    "    if len(fltrs) == 0:\n",
    "        return\n",
    "    tmps, tmpnames, typs = get_tmps(fltrs)\n",
    "    \n",
    "    pinit = get_pinit(crv,period)\n",
    "    pars, p, x2 = tmpfit(crv,tmps,pinit,w=.1,steps=25)\n",
    "    crv_in = RemoveOutliers(crv,tmps,pars,p)\n",
    "    pinit = update_pinit(pars,p)\n",
    "    pars_in,p_in,x2 = tmpfit(crv_in,tmps, pinit,w=.01,steps=25)\n",
    "    \n",
    "    crv2 = double_period(crv,pars_in,p_in)\n",
    "    tmps2= double_tmps(tmps)\n",
    "    n = pars[:,-1].astype(int)\n",
    "    \n",
    "    colors = []\n",
    "    for f in fltrs:\n",
    "        if f == 'r' or f == 'g':\n",
    "            colors.append(f)\n",
    "        else:\n",
    "            colors.append('black')\n",
    "\n",
    "    #Check if each filter is consistent with RR type (RRab or RRc)\n",
    "    consistent = True\n",
    "    for i in range(len(typs)):\n",
    "        for j in range(i+1,len(typs)):\n",
    "            if typs[i][n[i]] != typs[j][n[j]]:\n",
    "                consistent = False\n",
    "                break\n",
    "        if not consistent:\n",
    "            break\n",
    "    if consistent:\n",
    "        typ = typs[0][n[0]]\n",
    "    else:\n",
    "        typ = '???'\n",
    "    fig, ax = plt.subplots(len(fltrs), figsize=(10,7.5), sharex=True, sharey=True)\n",
    "    if len(fltrs) == 1:\n",
    "        ax = [ax]\n",
    "    for i in range(len(fltrs)):\n",
    "        crvmean = mean(crv2[i][:,1])\n",
    "        ax[i].scatter(crv2[i][:,0],crv2[i][:,1]-crvmean,c=colors[i])\n",
    "        ax[i].plot(tmps2[i][n[i],:,0],tmps2[i][n[i],:,1]*pars_in[i,1]-crvmean,c='black')\n",
    "        ax[i].invert_yaxis()\n",
    "        ax[i].set_ylabel(fltrs[i], fontsize=18)\n",
    "\n",
    "    ax[-1].set_xlabel('Phase', fontsize=16)\n",
    "    ax[0].set_title(\"Object: {}    Period: {:.3f} d    Type: {}\".format(objname,p_in,typ), fontsize=20)\n",
    "    fig.savefig('results/plots/{}.png'.format(objname))\n",
    "    \n",
    "    file.write(\"{},{:.3f},{:.3f},\\n\".format(objname,x2,p_in))\n",
    "    for i in range(len(fltrs)):\n",
    "        file.write(\"{:.3f},{:.3f},{:.3f},{}\\n\".format(pars_in[i][0],pars_in[i][1]/2,pars_in[i][2],tmpnames[i][n[i]]))#[9:]))\n",
    "    file.write(\"---\\n\")\n",
    "    plt.close(fig)"
   ]
  },
  {
   "cell_type": "code",
   "execution_count": 71,
   "metadata": {
    "ExecuteTime": {
     "end_time": "2021-06-22T22:11:08.862941Z",
     "start_time": "2021-06-22T22:11:08.847329Z"
    }
   },
   "outputs": [],
   "source": [
    "from astropy.table import Table"
   ]
  },
  {
   "cell_type": "code",
   "execution_count": 12,
   "metadata": {
    "ExecuteTime": {
     "end_time": "2021-06-22T17:00:18.098641Z",
     "start_time": "2021-06-22T17:00:18.070716Z"
    }
   },
   "outputs": [],
   "source": [
    "gldorig = np.loadtxt('goldsample\\golden_original.txt',delimiter=',',dtype=str)\n",
    "gldrrab = np.loadtxt('goldsample\\golden_RRab.txt',delimiter=',',dtype=str)"
   ]
  },
  {
   "cell_type": "code",
   "execution_count": 48,
   "metadata": {
    "ExecuteTime": {
     "end_time": "2021-06-22T18:49:44.213272Z",
     "start_time": "2021-06-22T18:49:44.188342Z"
    }
   },
   "outputs": [],
   "source": [
    "t=Table([gldrrab],names=['id'])\n",
    "t['period'] = -99.99\n",
    "t['type']   = '          '\n",
    "t['utyp']   = '          '\n",
    "t['uprob']  = -99.99\n",
    "t['uflag']  = -1\n",
    "t['undat']  = 0\n",
    "t['uprd']   = -99.99\n",
    "t['gtyp']   = '          '\n",
    "t['gprob']  = -99.99\n",
    "t['gflag']  = -1\n",
    "t['gndat']  = 0\n",
    "t['gprd']   = -99.99\n",
    "t['rtyp']   = '          '\n",
    "t['rprob']  = -99.99\n",
    "t['rflag']  = -1\n",
    "t['rndat']  = 0\n",
    "t['rprd']   = -99.99\n",
    "t['ityp']   = '          '\n",
    "t['iprob']  = -99.99\n",
    "t['iflag']  = -1\n",
    "t['indat']  = 0\n",
    "t['iprd']   = -99.99\n",
    "t['ztyp']   = '          '\n",
    "t['zprob']  = -99.99\n",
    "t['zflag']  = -1\n",
    "t['zndat']  = 0\n",
    "t['zprd']   = -99.99"
   ]
  },
  {
   "cell_type": "code",
   "execution_count": 50,
   "metadata": {
    "ExecuteTime": {
     "end_time": "2021-06-22T18:49:59.121507Z",
     "start_time": "2021-06-22T18:49:59.098611Z"
    }
   },
   "outputs": [
    {
     "data": {
      "text/html": [
       "<i>Table length=5</i>\n",
       "<table id=\"table2456951517064\" class=\"table-striped table-bordered table-condensed\">\n",
       "<thead><tr><th>id</th><th>period</th><th>type</th><th>utyp</th><th>uprob</th><th>uflag</th><th>undat</th><th>uprd</th><th>gtyp</th><th>gprob</th><th>gflag</th><th>gndat</th><th>gprd</th><th>rtyp</th><th>rprob</th><th>rflag</th><th>rndat</th><th>rprd</th><th>ityp</th><th>iprob</th><th>iflag</th><th>indat</th><th>iprd</th><th>ztyp</th><th>zprob</th><th>zflag</th><th>zndat</th><th>zprd</th></tr></thead>\n",
       "<thead><tr><th>str13</th><th>float64</th><th>str10</th><th>str10</th><th>float64</th><th>int32</th><th>int32</th><th>float64</th><th>str10</th><th>float64</th><th>int32</th><th>int32</th><th>float64</th><th>str10</th><th>float64</th><th>int32</th><th>int32</th><th>float64</th><th>str10</th><th>float64</th><th>int32</th><th>int32</th><th>float64</th><th>str10</th><th>float64</th><th>int32</th><th>int32</th><th>float64</th></tr></thead>\n",
       "<tr><td>100047_2267</td><td>-99.99</td><td></td><td></td><td>-99.99</td><td>-1</td><td>0</td><td>-99.99</td><td></td><td>-99.99</td><td>-1</td><td>0</td><td>-99.99</td><td></td><td>-99.99</td><td>-1</td><td>0</td><td>-99.99</td><td></td><td>-99.99</td><td>-1</td><td>0</td><td>-99.99</td><td></td><td>-99.99</td><td>-1</td><td>0</td><td>-99.99</td></tr>\n",
       "<tr><td>100555_10583</td><td>-99.99</td><td></td><td></td><td>-99.99</td><td>-1</td><td>0</td><td>-99.99</td><td></td><td>-99.99</td><td>-1</td><td>0</td><td>-99.99</td><td></td><td>-99.99</td><td>-1</td><td>0</td><td>-99.99</td><td></td><td>-99.99</td><td>-1</td><td>0</td><td>-99.99</td><td></td><td>-99.99</td><td>-1</td><td>0</td><td>-99.99</td></tr>\n",
       "<tr><td>100828_28520</td><td>-99.99</td><td></td><td></td><td>-99.99</td><td>-1</td><td>0</td><td>-99.99</td><td></td><td>-99.99</td><td>-1</td><td>0</td><td>-99.99</td><td></td><td>-99.99</td><td>-1</td><td>0</td><td>-99.99</td><td></td><td>-99.99</td><td>-1</td><td>0</td><td>-99.99</td><td></td><td>-99.99</td><td>-1</td><td>0</td><td>-99.99</td></tr>\n",
       "<tr><td>101825_934</td><td>-99.99</td><td></td><td></td><td>-99.99</td><td>-1</td><td>0</td><td>-99.99</td><td></td><td>-99.99</td><td>-1</td><td>0</td><td>-99.99</td><td></td><td>-99.99</td><td>-1</td><td>0</td><td>-99.99</td><td></td><td>-99.99</td><td>-1</td><td>0</td><td>-99.99</td><td></td><td>-99.99</td><td>-1</td><td>0</td><td>-99.99</td></tr>\n",
       "<tr><td>102849_2399</td><td>-99.99</td><td></td><td></td><td>-99.99</td><td>-1</td><td>0</td><td>-99.99</td><td></td><td>-99.99</td><td>-1</td><td>0</td><td>-99.99</td><td></td><td>-99.99</td><td>-1</td><td>0</td><td>-99.99</td><td></td><td>-99.99</td><td>-1</td><td>0</td><td>-99.99</td><td></td><td>-99.99</td><td>-1</td><td>0</td><td>-99.99</td></tr>\n",
       "</table>"
      ],
      "text/plain": [
       "<Table length=5>\n",
       "     id       period    type       utyp    ...  zprob  zflag zndat   zprd \n",
       "   str13     float64   str10      str10    ... float64 int32 int32 float64\n",
       "------------ ------- ---------- ---------- ... ------- ----- ----- -------\n",
       " 100047_2267  -99.99                       ...  -99.99    -1     0  -99.99\n",
       "100555_10583  -99.99                       ...  -99.99    -1     0  -99.99\n",
       "100828_28520  -99.99                       ...  -99.99    -1     0  -99.99\n",
       "  101825_934  -99.99                       ...  -99.99    -1     0  -99.99\n",
       " 102849_2399  -99.99                       ...  -99.99    -1     0  -99.99"
      ]
     },
     "execution_count": 50,
     "metadata": {},
     "output_type": "execute_result"
    }
   ],
   "source": [
    "t[:5]"
   ]
  },
  {
   "cell_type": "code",
   "execution_count": 22,
   "metadata": {
    "ExecuteTime": {
     "end_time": "2021-06-22T17:22:05.105313Z",
     "start_time": "2021-06-22T17:22:05.045472Z"
    }
   },
   "outputs": [
    {
     "name": "stdout",
     "output_type": "stream",
     "text": [
      "-------------------------------\n",
      "* WARNING: No pyFFTW detected *\n",
      "-------------------------------\n"
     ]
    }
   ],
   "source": [
    "def get_data(objname):\n",
    "    df=qc.query(sql=\"\"\"SELECT meas.* \n",
    "                     FROM nsc_dr2.meas\n",
    "                     WHERE objectid='{:s}'\"\"\".format(objname),\n",
    "              fmt='pandas',\n",
    "              profile='db01')\n",
    "    order = ['u','g','r','i','z']\n",
    "    best_periods = []\n",
    "    crv=[]\n",
    "    fltrs=[]\n",
    "    for f in order:\n",
    "        selfltr = (df['filter'] == f)\n",
    "        selfwhm = (df['fwhm'] <= 4.0)\n",
    "        sel = selfltr & selfwhm\n",
    "        t = df['mjd'][sel].values\n",
    "        y = df['mag_auto'][sel].values\n",
    "        dy = df['magerr_auto'][sel].values\n",
    "        if len(t) < 25:\n",
    "            continue\n",
    "\n",
    "        best_periods.append(get_ls_period(t,y,objname=objname,f=f))\n",
    "        crvi = np.vstack((t,y,dy)).T\n",
    "        crv.append(crvi[np.argsort(crvi[:,0])])\n",
    "        fltrs.append(f)\n",
    "    period = 0\n",
    "    for p in best_periods:\n",
    "        period += p/len(best_periods)\n",
    "    return crv, period, fltrs\n",
    "\n",
    "def get_ls_period(t,y,min_freq=1./1.,max_freq=1./0.1,objname='_',f=''):\n",
    "    \"\"\"Use Lomb-Scargle periodogram to get an estimate on period\"\"\"\n",
    "    \n",
    "    ls = stats.LombScargle(t, y)\n",
    "    frequency, power = ls.autopower(minimum_frequency=min_freq,maximum_frequency=max_freq)\n",
    "    period = 1./frequency # period is the inverse of frequency\n",
    "    \n",
    "    best_period = period[np.argmax(power)]\n",
    "    \n",
    "#     plot_periodogram(period,power,best_period,objname=objname,f=f)\n",
    "    return best_period\n",
    "\n",
    "import upsilon"
   ]
  },
  {
   "cell_type": "code",
   "execution_count": 26,
   "metadata": {
    "ExecuteTime": {
     "end_time": "2021-06-22T17:31:09.560643Z",
     "start_time": "2021-06-22T17:31:00.250337Z"
    }
   },
   "outputs": [],
   "source": [
    "crv,p_est,fltrs = get_data(gldrrab[0])\n",
    "rf_model = upsilon.load_rf_model()\n",
    "i=0\n",
    "efeat = upsilon.ExtractFeatures(crv[i][:,0],crv[i][:,1],crv[i][:,2])\n",
    "efeat.run()\n",
    "feats = efeat.get_features()\n",
    "rf_model = upsilon.load_rf_model()\n",
    "label, probability, flag = upsilon.predict(rf_model, feats)"
   ]
  },
  {
   "cell_type": "code",
   "execution_count": null,
   "metadata": {},
   "outputs": [],
   "source": []
  },
  {
   "cell_type": "code",
   "execution_count": 72,
   "metadata": {
    "ExecuteTime": {
     "end_time": "2021-06-23T05:41:42.338195Z",
     "start_time": "2021-06-23T01:59:02.063609Z"
    }
   },
   "outputs": [],
   "source": [
    "fdict = {'u':0,'g':5,'r':10,'i':15,'z':20}\n",
    "for n in range(len(gldrrab)):\n",
    "    crv,p_est,fltrs = get_data(gldrrab[n])\n",
    "    periods = []\n",
    "    for i in range(len(fltrs)):\n",
    "    \n",
    "        rf_model = upsilon.load_rf_model()\n",
    "        efeat = upsilon.ExtractFeatures(crv[i][:,0],crv[i][:,1],crv[i][:,2])\n",
    "        efeat.run()\n",
    "        feats = efeat.get_features()\n",
    "        rf_model = upsilon.load_rf_model()\n",
    "        label, probability, flag = upsilon.predict(rf_model, feats)\n",
    "                \n",
    "        x = fdict[fltrs[i]]\n",
    "        t[n][t.colnames[3+x]] = label\n",
    "        t[n][t.colnames[4+x]] = probability\n",
    "        t[n][t.colnames[5+x]] = flag\n",
    "        t[n][t.colnames[6+x]] = len(crv[i])\n",
    "        t[n][t.colnames[7+x]] = feats['period']\n",
    "        periods.append(feats['period'])\n",
    "\n",
    "    t[n]['period'] = (np.mean(periods))\n",
    "    \n",
    "    uprob = t[n]['uprob']\n",
    "    utyp  = t[n]['utyp']\n",
    "    gprob = t[n]['gprob']\n",
    "    gtyp  = t[n]['gtyp']\n",
    "    rprob = t[n]['rprob']\n",
    "    rtyp  = t[n]['rtyp']\n",
    "    iprob = t[n]['iprob']\n",
    "    ityp  = t[n]['ityp']\n",
    "    zprob = t[n]['zprob']\n",
    "    ztyp  = t[n]['ztyp']\n",
    "    \n",
    "    m = np.argmax(np.array([[uprob,gprob,rprob,iprob,zprob]]))\n",
    "    maxtyp = [utyp,gtyp,rtyp,ityp,ztyp][m]\n",
    "    \n",
    "    t[n]['type'] = maxtyp"
   ]
  },
  {
   "cell_type": "code",
   "execution_count": null,
   "metadata": {},
   "outputs": [],
   "source": []
  },
  {
   "cell_type": "code",
   "execution_count": 73,
   "metadata": {
    "ExecuteTime": {
     "end_time": "2021-06-23T05:41:42.369441Z",
     "start_time": "2021-06-23T05:41:42.338195Z"
    }
   },
   "outputs": [
    {
     "data": {
      "text/html": [
       "<i>Table length=595</i>\n",
       "<table id=\"table2456951582600\" class=\"table-striped table-bordered table-condensed\">\n",
       "<thead><tr><th>id</th><th>period</th><th>type</th><th>utyp</th><th>uprob</th><th>uflag</th><th>undat</th><th>uprd</th><th>gtyp</th><th>gprob</th><th>gflag</th><th>gndat</th><th>gprd</th><th>rtyp</th><th>rprob</th><th>rflag</th><th>rndat</th><th>rprd</th><th>ityp</th><th>iprob</th><th>iflag</th><th>indat</th><th>iprd</th><th>ztyp</th><th>zprob</th><th>zflag</th><th>zndat</th><th>zprd</th></tr></thead>\n",
       "<thead><tr><th>str13</th><th>float64</th><th>str10</th><th>str10</th><th>float64</th><th>int32</th><th>int32</th><th>float64</th><th>str10</th><th>float64</th><th>int32</th><th>int32</th><th>float64</th><th>str10</th><th>float64</th><th>int32</th><th>int32</th><th>float64</th><th>str10</th><th>float64</th><th>int32</th><th>int32</th><th>float64</th><th>str10</th><th>float64</th><th>int32</th><th>int32</th><th>float64</th></tr></thead>\n",
       "<tr><td>100047_2267</td><td>0.6221811344492266</td><td>RRL_ab</td><td>RRL_ab</td><td>0.86</td><td>1</td><td>70</td><td>0.6221598132668498</td><td>RRL_ab</td><td>0.95</td><td>0</td><td>258</td><td>0.6221890096889295</td><td>RRL_ab</td><td>0.96</td><td>0</td><td>256</td><td>0.6221758132967702</td><td>RRL_ab</td><td>0.97</td><td>0</td><td>267</td><td>0.6221889586416363</td><td>RRL_ab</td><td>1.0</td><td>0</td><td>235</td><td>0.6221920773519475</td></tr>\n",
       "<tr><td>100555_10583</td><td>27.998177478696128</td><td>EB_ED</td><td>EB_ED</td><td>0.84</td><td>1</td><td>32</td><td>0.26383448636087176</td><td>EB_ED</td><td>0.6</td><td>1</td><td>43</td><td>0.3650679692453242</td><td>EB_ED</td><td>0.65</td><td>1</td><td>46</td><td>0.3650522258993856</td><td>EB_ED</td><td>0.6</td><td>1</td><td>56</td><td>0.3714944024749053</td><td>EB_ED</td><td>0.4</td><td>1</td><td>60</td><td>138.62543830950017</td></tr>\n",
       "<tr><td>100828_28520</td><td>0.6283259392486608</td><td>RRL_ab</td><td></td><td>-99.99</td><td>-1</td><td>0</td><td>-99.99</td><td>RRL_ab</td><td>0.8</td><td>1</td><td>91</td><td>0.6283259392486608</td><td></td><td>-99.99</td><td>-1</td><td>0</td><td>-99.99</td><td></td><td>-99.99</td><td>-1</td><td>0</td><td>-99.99</td><td></td><td>-99.99</td><td>-1</td><td>0</td><td>-99.99</td></tr>\n",
       "<tr><td>101825_934</td><td>0.6442550532084984</td><td>RRL_ab</td><td></td><td>-99.99</td><td>-1</td><td>0</td><td>-99.99</td><td>RRL_ab</td><td>0.52</td><td>1</td><td>1130</td><td>0.6442550532084984</td><td></td><td>-99.99</td><td>-1</td><td>0</td><td>-99.99</td><td></td><td>-99.99</td><td>-1</td><td>0</td><td>-99.99</td><td></td><td>-99.99</td><td>-1</td><td>0</td><td>-99.99</td></tr>\n",
       "<tr><td>102849_2399</td><td>0.6488362241200318</td><td>RRL_ab</td><td></td><td>-99.99</td><td>-1</td><td>0</td><td>-99.99</td><td>RRL_ab</td><td>0.69</td><td>1</td><td>1129</td><td>0.6488362241200318</td><td></td><td>-99.99</td><td>-1</td><td>0</td><td>-99.99</td><td></td><td>-99.99</td><td>-1</td><td>0</td><td>-99.99</td><td></td><td>-99.99</td><td>-1</td><td>0</td><td>-99.99</td></tr>\n",
       "<tr><td>102924_1422</td><td>1.7620586722694107</td><td>T2CEPH</td><td></td><td>-99.99</td><td>-1</td><td>0</td><td>-99.99</td><td>DSCT</td><td>0.33</td><td>1</td><td>296</td><td>0.19415561818921295</td><td></td><td>-99.99</td><td>-1</td><td>0</td><td>-99.99</td><td>T2CEPH</td><td>0.51</td><td>1</td><td>30</td><td>3.3299617263496084</td><td></td><td>-99.99</td><td>-1</td><td>0</td><td>-99.99</td></tr>\n",
       "<tr><td>105919_7718</td><td>1.2853866776261773</td><td>T2CEPH</td><td></td><td>-99.99</td><td>-1</td><td>0</td><td>-99.99</td><td>T2CEPH</td><td>0.56</td><td>1</td><td>595</td><td>1.2853866776261773</td><td></td><td>-99.99</td><td>-1</td><td>0</td><td>-99.99</td><td></td><td>-99.99</td><td>-1</td><td>0</td><td>-99.99</td><td></td><td>-99.99</td><td>-1</td><td>0</td><td>-99.99</td></tr>\n",
       "<tr><td>106429_89</td><td>0.622850487439848</td><td>RRL_ab</td><td></td><td>-99.99</td><td>-1</td><td>0</td><td>-99.99</td><td>RRL_ab</td><td>0.89</td><td>1</td><td>590</td><td>0.622850487439848</td><td></td><td>-99.99</td><td>-1</td><td>0</td><td>-99.99</td><td></td><td>-99.99</td><td>-1</td><td>0</td><td>-99.99</td><td></td><td>-99.99</td><td>-1</td><td>0</td><td>-99.99</td></tr>\n",
       "<tr><td>106432_8993</td><td>0.6359748424018525</td><td>RRL_ab</td><td></td><td>-99.99</td><td>-1</td><td>0</td><td>-99.99</td><td>RRL_ab</td><td>0.96</td><td>1</td><td>1017</td><td>0.6359748424018525</td><td></td><td>-99.99</td><td>-1</td><td>0</td><td>-99.99</td><td></td><td>-99.99</td><td>-1</td><td>0</td><td>-99.99</td><td></td><td>-99.99</td><td>-1</td><td>0</td><td>-99.99</td></tr>\n",
       "<tr><td>107453_1174</td><td>0.548078420090605</td><td>RRL_ab</td><td></td><td>-99.99</td><td>-1</td><td>0</td><td>-99.99</td><td>RRL_ab</td><td>0.73</td><td>1</td><td>562</td><td>0.548078420090605</td><td></td><td>-99.99</td><td>-1</td><td>0</td><td>-99.99</td><td></td><td>-99.99</td><td>-1</td><td>0</td><td>-99.99</td><td></td><td>-99.99</td><td>-1</td><td>0</td><td>-99.99</td></tr>\n",
       "<tr><td>...</td><td>...</td><td>...</td><td>...</td><td>...</td><td>...</td><td>...</td><td>...</td><td>...</td><td>...</td><td>...</td><td>...</td><td>...</td><td>...</td><td>...</td><td>...</td><td>...</td><td>...</td><td>...</td><td>...</td><td>...</td><td>...</td><td>...</td><td>...</td><td>...</td><td>...</td><td>...</td><td>...</td></tr>\n",
       "<tr><td>77515_2568</td><td>0.4657400909668213</td><td>RRL_ab</td><td></td><td>-99.99</td><td>-1</td><td>0</td><td>-99.99</td><td>RRL_ab</td><td>0.71</td><td>1</td><td>36</td><td>0.6652394837155793</td><td>RRL_ab</td><td>0.69</td><td>1</td><td>43</td><td>0.39605243519087324</td><td>RRL_ab</td><td>0.63</td><td>1</td><td>46</td><td>0.40082643896376363</td><td>RRL_ab</td><td>0.66</td><td>1</td><td>46</td><td>0.40084200599706893</td></tr>\n",
       "<tr><td>77515_6115</td><td>0.5854317921771679</td><td>RRL_ab</td><td>RRL_ab</td><td>0.76</td><td>1</td><td>28</td><td>0.6377816550260536</td><td>RRL_ab</td><td>0.8</td><td>1</td><td>40</td><td>0.6289937574751968</td><td>RRL_ab</td><td>0.5</td><td>1</td><td>40</td><td>0.3883622301108868</td><td>RRL_ab</td><td>0.62</td><td>1</td><td>45</td><td>0.6374102859741339</td><td>RRL_ab</td><td>0.51</td><td>1</td><td>48</td><td>0.6346110322995684</td></tr>\n",
       "<tr><td>77516_8215</td><td>0.9221251830957092</td><td>CEPH_Other</td><td></td><td>-99.99</td><td>-1</td><td>0</td><td>-99.99</td><td>CEPH_Other</td><td>0.58</td><td>1</td><td>31</td><td>1.7850224115689959</td><td>RRL_ab</td><td>0.41</td><td>1</td><td>35</td><td>0.6374834773756023</td><td>CEPH_1O</td><td>0.31</td><td>1</td><td>44</td><td>0.6329974455327745</td><td>CEPH_Other</td><td>0.35</td><td>1</td><td>47</td><td>0.6329973979054642</td></tr>\n",
       "<tr><td>93142_19513</td><td>0.5482259355823946</td><td>RRL_ab</td><td></td><td>-99.99</td><td>-1</td><td>0</td><td>-99.99</td><td>RRL_ab</td><td>0.74</td><td>1</td><td>289</td><td>0.6052944314975607</td><td>RRL_ab</td><td>0.36</td><td>1</td><td>79</td><td>0.3770534373773615</td><td>RRL_ab</td><td>0.58</td><td>1</td><td>62</td><td>0.6052679679293401</td><td>RRL_ab</td><td>0.77</td><td>1</td><td>63</td><td>0.6052879055253162</td></tr>\n",
       "<tr><td>93766_1276</td><td>0.46487875704488824</td><td>EB_ESD</td><td>RRL_d</td><td>0.4</td><td>1</td><td>43</td><td>0.36785632453421696</td><td>RRL_ab</td><td>0.57</td><td>1</td><td>52</td><td>0.8261311679905192</td><td>CEPH_Other</td><td>0.55</td><td>1</td><td>78</td><td>0.37232881413078167</td><td>EB_ESD</td><td>0.62</td><td>1</td><td>44</td><td>0.3800891068556626</td><td>EB_ESD</td><td>0.32</td><td>1</td><td>46</td><td>0.37798837171326055</td></tr>\n",
       "<tr><td>96825_89</td><td>0.49826042072153937</td><td>RRL_ab</td><td>RRL_ab</td><td>0.91</td><td>1</td><td>78</td><td>0.4982813905546581</td><td>RRL_ab</td><td>0.86</td><td>1</td><td>188</td><td>0.49826879571892807</td><td>RRL_ab</td><td>0.93</td><td>1</td><td>203</td><td>0.4982392340654815</td><td>RRL_ab</td><td>0.94</td><td>1</td><td>209</td><td>0.4982738056377092</td><td>RRL_ab</td><td>0.79</td><td>1</td><td>170</td><td>0.4982388776309201</td></tr>\n",
       "<tr><td>97486_430</td><td>0.5370378132882117</td><td>RRL_ab</td><td>RRL_ab</td><td>0.92</td><td>0</td><td>99</td><td>0.5370447417042874</td><td>RRL_ab</td><td>0.92</td><td>0</td><td>275</td><td>0.5370386136550254</td><td>RRL_ab</td><td>0.92</td><td>0</td><td>276</td><td>0.5370359651614227</td><td>RRL_ab</td><td>0.9</td><td>0</td><td>290</td><td>0.5370385695938684</td><td>RRL_ab</td><td>0.96</td><td>0</td><td>255</td><td>0.5370311763264546</td></tr>\n",
       "<tr><td>97768_2913</td><td>0.8864309475599406</td><td>RRL_ab</td><td>CEPH_F</td><td>0.54</td><td>1</td><td>45</td><td>1.8434027074891122</td><td>RRL_ab</td><td>0.78</td><td>0</td><td>118</td><td>0.6471890408951925</td><td>RRL_ab</td><td>0.81</td><td>1</td><td>98</td><td>0.6471890238030085</td><td>RRL_ab</td><td>0.73</td><td>0</td><td>100</td><td>0.6471843761063172</td><td>RRL_ab</td><td>0.95</td><td>1</td><td>82</td><td>0.647189589506072</td></tr>\n",
       "<tr><td>98251_225</td><td>0.6183231946541341</td><td>RRL_ab</td><td>RRL_ab</td><td>0.6</td><td>1</td><td>43</td><td>0.6183184399912854</td><td>RRL_ab</td><td>0.93</td><td>0</td><td>148</td><td>0.6183183200401258</td><td>RRL_ab</td><td>0.82</td><td>0</td><td>146</td><td>0.6183190011502534</td><td>RRL_ab</td><td>0.85</td><td>0</td><td>129</td><td>0.6183181326541951</td><td>RRL_ab</td><td>0.95</td><td>0</td><td>139</td><td>0.6183420794348109</td></tr>\n",
       "<tr><td>99796_35</td><td>0.561374004276587</td><td>RRL_ab</td><td>RRL_ab</td><td>0.68</td><td>1</td><td>38</td><td>0.5613649825813875</td><td>RRL_ab</td><td>0.71</td><td>0</td><td>124</td><td>0.5613864089016752</td><td>RRL_ab</td><td>0.72</td><td>0</td><td>127</td><td>0.561388455734522</td><td>RRL_ab</td><td>0.91</td><td>0</td><td>127</td><td>0.561356628397588</td><td>RRL_ab</td><td>0.89</td><td>0</td><td>120</td><td>0.5613735457677621</td></tr>\n",
       "</table>"
      ],
      "text/plain": [
       "<Table length=595>\n",
       "     id             period          type    ... zflag zndat         zprd       \n",
       "   str13           float64         str10    ... int32 int32       float64      \n",
       "------------ ------------------- ---------- ... ----- ----- -------------------\n",
       " 100047_2267  0.6221811344492266     RRL_ab ...     0   235  0.6221920773519475\n",
       "100555_10583  27.998177478696128      EB_ED ...     1    60  138.62543830950017\n",
       "100828_28520  0.6283259392486608     RRL_ab ...    -1     0              -99.99\n",
       "  101825_934  0.6442550532084984     RRL_ab ...    -1     0              -99.99\n",
       " 102849_2399  0.6488362241200318     RRL_ab ...    -1     0              -99.99\n",
       " 102924_1422  1.7620586722694107     T2CEPH ...    -1     0              -99.99\n",
       " 105919_7718  1.2853866776261773     T2CEPH ...    -1     0              -99.99\n",
       "   106429_89   0.622850487439848     RRL_ab ...    -1     0              -99.99\n",
       " 106432_8993  0.6359748424018525     RRL_ab ...    -1     0              -99.99\n",
       " 107453_1174   0.548078420090605     RRL_ab ...    -1     0              -99.99\n",
       "         ...                 ...        ... ...   ...   ...                 ...\n",
       "  77515_2568  0.4657400909668213     RRL_ab ...     1    46 0.40084200599706893\n",
       "  77515_6115  0.5854317921771679     RRL_ab ...     1    48  0.6346110322995684\n",
       "  77516_8215  0.9221251830957092 CEPH_Other ...     1    47  0.6329973979054642\n",
       " 93142_19513  0.5482259355823946     RRL_ab ...     1    63  0.6052879055253162\n",
       "  93766_1276 0.46487875704488824     EB_ESD ...     1    46 0.37798837171326055\n",
       "    96825_89 0.49826042072153937     RRL_ab ...     1   170  0.4982388776309201\n",
       "   97486_430  0.5370378132882117     RRL_ab ...     0   255  0.5370311763264546\n",
       "  97768_2913  0.8864309475599406     RRL_ab ...     1    82   0.647189589506072\n",
       "   98251_225  0.6183231946541341     RRL_ab ...     0   139  0.6183420794348109\n",
       "    99796_35   0.561374004276587     RRL_ab ...     0   120  0.5613735457677621"
      ]
     },
     "execution_count": 73,
     "metadata": {},
     "output_type": "execute_result"
    }
   ],
   "source": [
    "t"
   ]
  },
  {
   "cell_type": "code",
   "execution_count": 74,
   "metadata": {
    "ExecuteTime": {
     "end_time": "2021-06-23T05:41:42.438437Z",
     "start_time": "2021-06-23T05:41:42.369441Z"
    }
   },
   "outputs": [],
   "source": [
    "import os\n",
    "if os.path.exists(\"res.fits\"):\n",
    "    os.remove(\"res.fits\")\n",
    "t.write(\"res.fits\",format='fits')"
   ]
  },
  {
   "cell_type": "code",
   "execution_count": 78,
   "metadata": {
    "ExecuteTime": {
     "end_time": "2021-06-23T14:53:23.975461Z",
     "start_time": "2021-06-23T14:53:23.961496Z"
    }
   },
   "outputs": [
    {
     "data": {
      "text/plain": [
       "Counter({'RRL_ab': 446,\n",
       "         'EB_ED': 10,\n",
       "         'T2CEPH': 33,\n",
       "         'EB_EC': 17,\n",
       "         'DSCT': 16,\n",
       "         'CEPH_F': 18,\n",
       "         'CEPH_Other': 17,\n",
       "         'RRL_c': 15,\n",
       "         'CEPH_1O': 5,\n",
       "         'RRL_d': 2,\n",
       "         'EB_ESD': 16})"
      ]
     },
     "execution_count": 78,
     "metadata": {},
     "output_type": "execute_result"
    }
   ],
   "source": [
    "collections.Counter(t['type'])"
   ]
  },
  {
   "cell_type": "code",
   "execution_count": 79,
   "metadata": {
    "ExecuteTime": {
     "end_time": "2021-06-23T14:54:43.220910Z",
     "start_time": "2021-06-23T14:54:43.215925Z"
    }
   },
   "outputs": [
    {
     "data": {
      "text/plain": [
       "0.7495798319327731"
      ]
     },
     "execution_count": 79,
     "metadata": {},
     "output_type": "execute_result"
    }
   ],
   "source": [
    "446/595"
   ]
  },
  {
   "cell_type": "code",
   "execution_count": null,
   "metadata": {},
   "outputs": [],
   "source": []
  },
  {
   "cell_type": "code",
   "execution_count": null,
   "metadata": {},
   "outputs": [],
   "source": []
  },
  {
   "cell_type": "code",
   "execution_count": 7,
   "metadata": {
    "ExecuteTime": {
     "end_time": "2021-06-21T23:15:02.243724Z",
     "start_time": "2021-06-21T23:15:02.231305Z"
    }
   },
   "outputs": [
    {
     "ename": "SyntaxError",
     "evalue": "invalid syntax (<ipython-input-7-7b18d017f89f>, line 1)",
     "output_type": "error",
     "traceback": [
      "\u001b[1;36m  File \u001b[1;32m\"<ipython-input-7-7b18d017f89f>\"\u001b[1;36m, line \u001b[1;32m1\u001b[0m\n\u001b[1;33m    def\u001b[0m\n\u001b[1;37m       ^\u001b[0m\n\u001b[1;31mSyntaxError\u001b[0m\u001b[1;31m:\u001b[0m invalid syntax\n"
     ]
    }
   ],
   "source": [
    "def"
   ]
  },
  {
   "cell_type": "code",
   "execution_count": null,
   "metadata": {
    "ExecuteTime": {
     "end_time": "2021-06-21T23:15:02.247311Z",
     "start_time": "2021-06-21T23:14:57.576Z"
    }
   },
   "outputs": [],
   "source": [
    "gldorig = np.loadtxt('goldsample\\golden_original.txt',delimiter=',',dtype=str)\n",
    "gldrrab = np.loadtxt('goldsample\\golden_RRab.txt',delimiter=',',dtype=str)\n",
    "\n",
    "for name in set(gldorig)-set(gldrrab):\n",
    "    file = open(\"results/{}_parameters.csv\".format(name),'a')\n",
    "    fit_plot(name,file)\n",
    "    file.close()"
   ]
  },
  {
   "cell_type": "code",
   "execution_count": null,
   "metadata": {
    "ExecuteTime": {
     "end_time": "2021-06-21T23:15:02.249307Z",
     "start_time": "2021-06-21T23:14:57.580Z"
    }
   },
   "outputs": [],
   "source": [
    "names = ['150536_22075','150023_1179','151047_5422','150537_4644']\n",
    "file = open(\"results/parameters.csv\",'a')\n",
    "for name in names:\n",
    "    fit_plot(name,file)\n",
    "    print(name)"
   ]
  },
  {
   "cell_type": "code",
   "execution_count": null,
   "metadata": {
    "ExecuteTime": {
     "end_time": "2021-06-21T23:15:02.251301Z",
     "start_time": "2021-06-21T23:14:57.582Z"
    }
   },
   "outputs": [],
   "source": [
    "file = open(\"results/parameters.csv\",'a')\n",
    "fit_plot('77516_8215',file)"
   ]
  },
  {
   "cell_type": "code",
   "execution_count": null,
   "metadata": {
    "ExecuteTime": {
     "end_time": "2021-06-21T23:15:02.252300Z",
     "start_time": "2021-06-21T23:14:57.584Z"
    }
   },
   "outputs": [],
   "source": [
    "file.close()"
   ]
  },
  {
   "cell_type": "code",
   "execution_count": null,
   "metadata": {
    "ExecuteTime": {
     "end_time": "2021-06-21T23:15:02.253294Z",
     "start_time": "2021-06-21T23:14:57.587Z"
    }
   },
   "outputs": [],
   "source": [
    "reslist=qc.query(sql=\"\"\"SELECT id FROM nsc_dr2.object\n",
    "                        WHERE variable10sig=1 AND\n",
    "                        gmag-rmag>0.1 AND gmag-rmag<0.5\n",
    "                        AND ndet>100\"\"\",\n",
    "              fmt='table',\n",
    "              profile='db01')"
   ]
  },
  {
   "cell_type": "code",
   "execution_count": null,
   "metadata": {
    "ExecuteTime": {
     "end_time": "2021-06-21T23:15:02.255290Z",
     "start_time": "2021-06-21T23:14:57.589Z"
    }
   },
   "outputs": [],
   "source": [
    "from tqdm import tqdm\n",
    "file = open(\"results/parameters.csv\",'a')\n",
    "for i in tqdm(range(20)):#len(reslist))):\n",
    "    fit_plot(reslist[i][0],file)\n",
    "file.close()"
   ]
  },
  {
   "cell_type": "code",
   "execution_count": null,
   "metadata": {
    "ExecuteTime": {
     "end_time": "2021-06-21T23:15:02.256288Z",
     "start_time": "2021-06-21T23:14:57.591Z"
    }
   },
   "outputs": [],
   "source": [
    "file.close()"
   ]
  },
  {
   "cell_type": "code",
   "execution_count": null,
   "metadata": {
    "ExecuteTime": {
     "end_time": "2021-06-21T23:15:02.258281Z",
     "start_time": "2021-06-21T23:14:57.594Z"
    }
   },
   "outputs": [],
   "source": [
    "#res = qc.query(sql=\"\"\"SELECT * from nsc_dr2.meas\n",
    "#                      JOIN nsc_dr2.object as obj\n",
    "#                      ON meas.objectid=obj.id\n",
    "#                      where obj.variable10sig=1 and \n",
    "#                      obj.gmag-obj.rmag>.1 and \n",
    "#                      obj.gmag-obj.rmag<0.5 and\n",
    "#                      obj.ndet>100\"\"\",\n",
    "#              fmt='table')"
   ]
  },
  {
   "cell_type": "code",
   "execution_count": null,
   "metadata": {
    "ExecuteTime": {
     "end_time": "2021-06-21T23:15:02.259278Z",
     "start_time": "2021-06-21T23:14:57.596Z"
    }
   },
   "outputs": [],
   "source": [
    "a=\"templets/103g.dat\"\n",
    "a"
   ]
  },
  {
   "cell_type": "code",
   "execution_count": null,
   "metadata": {
    "ExecuteTime": {
     "end_time": "2021-06-21T23:15:02.261276Z",
     "start_time": "2021-06-21T23:14:57.598Z"
    }
   },
   "outputs": [],
   "source": [
    "a[9:]"
   ]
  },
  {
   "cell_type": "code",
   "execution_count": null,
   "metadata": {},
   "outputs": [],
   "source": []
  }
 ],
 "metadata": {
  "kernelspec": {
   "display_name": "Python 3",
   "language": "python",
   "name": "python3"
  },
  "language_info": {
   "codemirror_mode": {
    "name": "ipython",
    "version": 3
   },
   "file_extension": ".py",
   "mimetype": "text/x-python",
   "name": "python",
   "nbconvert_exporter": "python",
   "pygments_lexer": "ipython3",
   "version": "3.7.4"
  }
 },
 "nbformat": 4,
 "nbformat_minor": 4
}
