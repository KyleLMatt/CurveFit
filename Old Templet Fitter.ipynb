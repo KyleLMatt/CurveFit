{
 "cells": [
  {
   "cell_type": "code",
   "execution_count": 1,
   "metadata": {
    "ExecuteTime": {
     "end_time": "2021-06-18T21:29:43.417761Z",
     "start_time": "2021-06-18T21:29:40.421831Z"
    }
   },
   "outputs": [
    {
     "name": "stderr",
     "output_type": "stream",
     "text": [
      "C:\\Users\\kylem\\Anaconda3\\lib\\site-packages\\numpy\\_distributor_init.py:32: UserWarning: loaded more than 1 DLL from .libs:\n",
      "C:\\Users\\kylem\\Anaconda3\\lib\\site-packages\\numpy\\.libs\\libopenblas.JPIJNSWNNAN3CE6LLI5FWSPHUT2VXMTH.gfortran-win_amd64.dll\n",
      "C:\\Users\\kylem\\Anaconda3\\lib\\site-packages\\numpy\\.libs\\libopenblas.WCDJNK7YVMPZQ2ME2ZZHJJRJ3JIKNDB7.gfortran-win_amd64.dll\n",
      "  stacklevel=1)\n"
     ]
    }
   ],
   "source": [
    "from glob import glob\n",
    "import numpy as np\n",
    "import matplotlib.pyplot as plt\n",
    "%matplotlib inline\n",
    "import pandas as pd\n",
    "from scipy.interpolate import interp1d\n",
    "from scipy.signal import gaussian, convolve\n",
    "from statistics import mean, median\n",
    "from astropy import stats\n",
    "from scipy.optimize import curve_fit, least_squares\n",
    "import collections\n",
    "import os\n",
    "\n",
    "import utils\n",
    "from dl import queryClient as qc"
   ]
  },
  {
   "cell_type": "code",
   "execution_count": 2,
   "metadata": {
    "ExecuteTime": {
     "end_time": "2021-06-18T21:29:43.448718Z",
     "start_time": "2021-06-18T21:29:43.423752Z"
    }
   },
   "outputs": [],
   "source": [
    "if not os.path.exists('results'):\n",
    "    os.makedirs('results')\n",
    "if not os.path.exists('results/plots'):\n",
    "    os.makedirs('results/plots')"
   ]
  },
  {
   "cell_type": "code",
   "execution_count": null,
   "metadata": {},
   "outputs": [],
   "source": []
  },
  {
   "cell_type": "code",
   "execution_count": 3,
   "metadata": {
    "ExecuteTime": {
     "end_time": "2021-06-18T21:29:43.495610Z",
     "start_time": "2021-06-18T21:29:43.452673Z"
    },
    "code_folding": [
     0,
     46,
     69,
     81,
     88,
     95,
     105
    ]
   },
   "outputs": [],
   "source": [
    "def get_data(df,objname):\n",
    "    order = ['u','g','r','i','z']\n",
    "    best_periods = []\n",
    "    crv=[]\n",
    "    fltrs=[]\n",
    "    for f in order:\n",
    "        selfltr = (df['filter'] == f)\n",
    "        selfwhm = (df['fwhm'] <= 4.0)\n",
    "        sel = selfltr & selfwhm\n",
    "        t = df['mjd'][sel].values\n",
    "        y = df['mag_auto'][sel].values\n",
    "        dy = df['magerr_auto'][sel].values\n",
    "        if len(t) < 25:\n",
    "            continue\n",
    "\n",
    "        best_periods.append(get_ls_period(t,y,objname=objname))\n",
    "        crvi = np.vstack((t,y,dy)).T\n",
    "        crv.append(crvi[np.argsort(crvi[:,0])])\n",
    "        fltrs.append(f)\n",
    "    period = 0\n",
    "    for p in best_periods:\n",
    "        period += p/len(best_periods)\n",
    "    return crv, period, fltrs\n",
    "\n",
    "def get_tmps(fltrs):\n",
    "    tmps=[]\n",
    "    typs =[]\n",
    "    names=[]\n",
    "    for fltr in fltrs:\n",
    "        typ = []\n",
    "        templets = glob('templets/*{}.dat'.format(fltr))\n",
    "        tmp = np.zeros((len(templets),501,2))\n",
    "        for i in range(len(templets)):\n",
    "            tmp[i] = np.concatenate((np.array([[0,0]]),\n",
    "                                     np.array(pd.read_csv(templets[i],sep=' ')),\n",
    "                                     np.array([[1,0]])))\n",
    "            #adjust if filepath to templets changes\n",
    "            if len(templets[i])==17:\n",
    "                typ.append('RRab')\n",
    "            elif len(templets[i])==15:\n",
    "                typ.append('RRc')\n",
    "        typs.append(typ)\n",
    "        names.append(templets)\n",
    "        tmps.append(tmp)\n",
    "    return tmps, names, typs\n",
    "\n",
    "def double_tmps(tmps):\n",
    "    tmps2=[]\n",
    "    for f in range(len(tmps)):\n",
    "        tmps2.append(np.tile(tmps[f],(2,1)))\n",
    "        tmps2[f][:,int(len(tmps2[f][0])/2):,0] += 1\n",
    "    return tmps2\n",
    "\n",
    "def plot_periodogram(period,power,best_period=None,objname='',ax=None):\n",
    "   \n",
    "    if ax is None:\n",
    "        fig, ax = plt.subplots(figsize=(10,7))\n",
    "        \n",
    "    ax.plot(period,power,lw=0.1)\n",
    "    ax.set_xlabel('period (days)')\n",
    "    ax.set_ylabel('relative power')\n",
    "    ax.set_title(objname)\n",
    "    \n",
    "    if best_period is not None:\n",
    "        ax.axvline(best_period,color='r');\n",
    "        ax.text(0.03,0.93,'period = {:.3f} days'.format(best_period),transform=ax.transAxes,color='r')\n",
    "    fig.savefig('results/plots/{}_periodogram.png'.format(objname))\n",
    "    plt.close(fig)\n",
    "\n",
    "def get_ls_period(t,y,min_freq=1./1.,max_freq=1./0.1,objname='_'):\n",
    "    \"\"\"Use Lomb-Scargle periodogram to get an estimate on period\"\"\"\n",
    "    \n",
    "    ls = stats.LombScargle(t, y)\n",
    "    frequency, power = ls.autopower(minimum_frequency=min_freq,maximum_frequency=max_freq)\n",
    "    period = 1./frequency # period is the inverse of frequency\n",
    "    \n",
    "    best_period = period[np.argmax(power)]\n",
    "    \n",
    "    plot_periodogram(period,power,best_period,objname=objname)\n",
    "    return best_period\n",
    "\n",
    "def get_pinit(crv,period):\n",
    "    pinit = ()\n",
    "    for ltcrv in crv:\n",
    "        pinit += ((0.0,max(ltcrv[:,1])-min(ltcrv[:,1]),0.0),)\n",
    "    pinit += (period,)\n",
    "    return pinit\n",
    "\n",
    "def update_pinit(pars,period):\n",
    "    pinit = ()\n",
    "    for i in range(len(pars)):\n",
    "        pinit += (tuple(pars[i,:-1]),)\n",
    "    pinit += (period,)\n",
    "    return pinit\n",
    "\n",
    "def RemoveOutliers(crv,tmps,pars,period):\n",
    "    n = pars[:,-1].astype(int)\n",
    "    crv_in = []\n",
    "    for i in range(len(crv)):\n",
    "        f = interp1d(tmps[i][n[i],:,0],tmps[i][n[i],:,1]*pars[i,1]+pars[i,2])\n",
    "        phase = (crv[i][:,0]/period-pars[i,0]) %1\n",
    "        dif = abs(crv[i][:,1]-f(phase))\n",
    "        crv_in.append(crv[i][dif<utils.mad(dif)*5])\n",
    "    return crv_in\n",
    "\n",
    "def double_period(crv,pars,period):\n",
    "    crv2 = []\n",
    "    for i in range(len(crv)):\n",
    "        crv2.append(crv[i].copy())\n",
    "        crv2[i][:,1] -= pars[i,2]\n",
    "        \n",
    "        crv2[i][:,0] = (crv2[i][:,0]/period-pars[i,0])%1\n",
    "        crv2[i] = np.tile(crv2[i].T,2).T\n",
    "        crv2[i][int(len(crv2[i])/2):,0] += 1\n",
    "        crv2[i] = crv2[i][crv2[i][:,0].argsort()]\n",
    "        \n",
    "    return crv2\n"
   ]
  },
  {
   "cell_type": "code",
   "execution_count": 4,
   "metadata": {
    "ExecuteTime": {
     "end_time": "2021-06-18T21:29:43.511516Z",
     "start_time": "2021-06-18T21:29:43.497553Z"
    }
   },
   "outputs": [],
   "source": [
    "def get_tmps(fltrs):\n",
    "    tmps=[]\n",
    "    typs =[]\n",
    "    names=[]\n",
    "\n",
    "    for fltr in fltrs:\n",
    "        typ = ['RRab','RRab','RRab','RRab','RRab','RRab','RRc']\n",
    "        tempnames = ['a1','a2','a3','b1','b2','b3','c']\n",
    "        \n",
    "        tmp = np.zeros((len(tempnames),51,2))\n",
    "        tmpmatrix = np.loadtxt('templets/LaydenTemplates.txt',delimiter=',')\n",
    "        tmp[:,:,0] = np.tile(tmpmatrix[:,0],7).reshape(7,51)\n",
    "        tmp[:,:,1] = np.swapaxes(tmpmatrix[:,1:],0,1)\n",
    "        \n",
    "        typs.append(typ)\n",
    "        names.append(tempnames)\n",
    "        tmps.append(tmp)\n",
    "    return tmps, names, typs"
   ]
  },
  {
   "cell_type": "code",
   "execution_count": 5,
   "metadata": {
    "ExecuteTime": {
     "end_time": "2021-06-18T21:29:43.541437Z",
     "start_time": "2021-06-18T21:29:43.513511Z"
    },
    "code_folding": [
     1,
     6,
     18
    ]
   },
   "outputs": [],
   "source": [
    "class tmpfitter:\n",
    "    def __init__ (self, tmps):\n",
    "        self.fltr=0\n",
    "        self.n=0\n",
    "        self.tmps=tmps\n",
    "\n",
    "    def model(self, t, t0, amplitude, yoffset):\n",
    "        # modify the template using peak-to-peak amplitude, yoffset\n",
    "        # fold input times t by period, phase shift to match template\n",
    "        xtemp = self.tmps[self.fltr][self.n,:,0]\n",
    "        ytemp = self.tmps[self.fltr][self.n,:,1]*amplitude + yoffset\n",
    "        ph = (t - t0) %1\n",
    "        #print((ph[0],period,t0%1))\n",
    "        #print((period,t0,amplitude,yoffset))\n",
    "        # interpolate the modified template to the phase we want\n",
    "        return interp1d(xtemp,ytemp)(ph)\n",
    "\n",
    "def tmpfit(crv,tmps,pinit,w=.1,steps=21,n=1):\n",
    "    fitter = tmpfitter(tmps)\n",
    "    \n",
    "    lsteps = int(steps/2+.5)\n",
    "    rsteps = steps - lsteps\n",
    "    pl = np.linspace(pinit[-1]-w,pinit[-1],lsteps)\n",
    "    pr = np.linspace(pinit[-1]+w,pinit[-1],rsteps,endpoint=False)\n",
    "    plist = np.zeros(pl.size+pr.size)\n",
    "    plist[0::2] = np.flip(pl)\n",
    "    plist[1::2] = np.flip(pr)\n",
    "    plist = plist[plist>0]\n",
    "    \n",
    "    pars = np.zeros((len(tmps),4))\n",
    "    minsumx2 = 10**50\n",
    "    minp = 0\n",
    "    for p in plist:\n",
    "        sumx2=0\n",
    "        ppars=np.zeros((len(tmps),4))\n",
    "        for f in range(len(tmps)):\n",
    "            fitter.fltr = f\n",
    "            phase = crv[f][:,0]/p%n #1 for one period, 2 for two periods\n",
    "            minx2 = 10**50\n",
    "            for i in range(len(tmps[f])):\n",
    "                fitter.n = i\n",
    "                try:\n",
    "                    tpars, cov = curve_fit(fitter.model, phase, crv[f][:,1], \n",
    "                                          bounds = ((-.5,0,-50),(.5,10,50)),\n",
    "                                          sigma=crv[f][:,2], p0=pinit[f], maxfev=500)\n",
    "                except RuntimeError:\n",
    "                    #print('Error: Curve_fit failed on templet={}-{}, p={:.4}'.format(f,i,p))\n",
    "                    continue\n",
    "                \n",
    "                x2 = sum((fitter.model(phase,tpars[0],tpars[1],tpars[2])-crv[f][:,1])**2/crv[f][:,2]**2)\n",
    "                if x2 < minx2:\n",
    "                    ppars[f,:-1] = tpars\n",
    "                    ppars[f,-1] = i\n",
    "                    minx2 = x2\n",
    "            \n",
    "            sumx2 += minx2\n",
    "            if sumx2 > minsumx2:\n",
    "                break\n",
    "        if sumx2 < minsumx2:\n",
    "            minsumx2 = sumx2\n",
    "            minp = p\n",
    "            pars = ppars\n",
    "    npoints=0\n",
    "    for i in range(len(crv)):\n",
    "        npoints += len(crv[i])\n",
    "    return pars, minp, minsumx2/npoints"
   ]
  },
  {
   "cell_type": "code",
   "execution_count": null,
   "metadata": {},
   "outputs": [],
   "source": []
  },
  {
   "cell_type": "code",
   "execution_count": 6,
   "metadata": {
    "ExecuteTime": {
     "end_time": "2021-06-18T21:29:43.587314Z",
     "start_time": "2021-06-18T21:29:43.544429Z"
    }
   },
   "outputs": [],
   "source": [
    "def fit_plot(objname,file):\n",
    "    star=qc.query(sql=\"\"\"SELECT meas.* \n",
    "                     FROM nsc_dr2.meas\n",
    "                     WHERE objectid='{:s}'\"\"\".format(objname),\n",
    "              fmt='pandas',\n",
    "              profile='db01')\n",
    "    #print(collections.Counter(star['filter']))\n",
    "    crv,period,fltrs = get_data(star,objname)\n",
    "    if len(fltrs) == 0:\n",
    "        return\n",
    "    tmps, tmpnames, typs = get_tmps(fltrs)\n",
    "    \n",
    "    pinit = get_pinit(crv,period)\n",
    "    pars, p, x2 = tmpfit(crv,tmps,pinit,w=.1,steps=25)\n",
    "    crv_in = RemoveOutliers(crv,tmps,pars,p)\n",
    "    pinit = update_pinit(pars,p)\n",
    "    pars_in,p_in,x2 = tmpfit(crv_in,tmps, pinit,w=.01,steps=25)\n",
    "    \n",
    "    crv2 = double_period(crv,pars_in,p_in)\n",
    "    tmps2= double_tmps(tmps)\n",
    "    n = pars[:,-1].astype(int)\n",
    "    \n",
    "    colors = []\n",
    "    for f in fltrs:\n",
    "        if f == 'r' or f == 'g':\n",
    "            colors.append(f)\n",
    "        else:\n",
    "            colors.append('black')\n",
    "\n",
    "    #Check if each filter is consistent with RR type (RRab or RRc)\n",
    "    consistent = True\n",
    "    for i in range(len(typs)):\n",
    "        for j in range(i+1,len(typs)):\n",
    "            if typs[i][n[i]] != typs[j][n[j]]:\n",
    "                consistent = False\n",
    "                break\n",
    "        if not consistent:\n",
    "            break\n",
    "    if consistent:\n",
    "        typ = typs[0][n[0]]\n",
    "    else:\n",
    "        typ = '???'\n",
    "    fig, ax = plt.subplots(len(fltrs), figsize=(10,7.5), sharex=True, sharey=True)\n",
    "    if len(fltrs) == 1:\n",
    "        ax = [ax]\n",
    "    for i in range(len(fltrs)):\n",
    "        crvmean = mean(crv2[i][:,1])\n",
    "        ax[i].scatter(crv2[i][:,0],crv2[i][:,1]-crvmean,c=colors[i])\n",
    "        ax[i].plot(tmps2[i][n[i],:,0],tmps2[i][n[i],:,1]*pars_in[i,1]-crvmean,c='black')\n",
    "        ax[i].invert_yaxis()\n",
    "        ax[i].set_ylabel(fltrs[i], fontsize=18)\n",
    "\n",
    "    ax[-1].set_xlabel('Phase', fontsize=16)\n",
    "    ax[0].set_title(\"Object: {}    Period: {:.3f} d    Type: {}\".format(objname,p_in,typ), fontsize=20)\n",
    "    fig.savefig('results/plots/{}.png'.format(objname))\n",
    "    \n",
    "    file.write(\"{},{:.3f},{:.3f},\\n\".format(objname,x2,p_in))\n",
    "    for i in range(len(fltrs)):\n",
    "        file.write(\"{:.3f},{:.3f},{:.3f},{}\\n\".format(pars_in[i][0],pars_in[i][1]/2,pars_in[i][2],tmpnames[i][n[i]]))#[9:]))\n",
    "    file.write(\"---\\n\")\n",
    "    plt.close(fig)"
   ]
  },
  {
   "cell_type": "code",
   "execution_count": null,
   "metadata": {},
   "outputs": [],
   "source": []
  },
  {
   "cell_type": "code",
   "execution_count": 7,
   "metadata": {
    "ExecuteTime": {
     "end_time": "2021-06-18T21:30:13.932752Z",
     "start_time": "2021-06-18T21:29:43.590306Z"
    }
   },
   "outputs": [
    {
     "name": "stdout",
     "output_type": "stream",
     "text": [
      "150536_22075\n",
      "150023_1179\n",
      "151047_5422\n",
      "150537_4644\n"
     ]
    }
   ],
   "source": [
    "names = ['150536_22075','150023_1179','151047_5422','150537_4644']\n",
    "file = open(\"results/parameters.csv\",'a')\n",
    "for name in names:\n",
    "    fit_plot(name,file)\n",
    "    print(name)"
   ]
  },
  {
   "cell_type": "code",
   "execution_count": 8,
   "metadata": {
    "ExecuteTime": {
     "end_time": "2021-06-18T21:30:25.477978Z",
     "start_time": "2021-06-18T21:30:13.951695Z"
    }
   },
   "outputs": [],
   "source": [
    "file = open(\"results/parameters.csv\",'a')\n",
    "fit_plot('77516_8215',file)"
   ]
  },
  {
   "cell_type": "code",
   "execution_count": 10,
   "metadata": {
    "ExecuteTime": {
     "end_time": "2021-06-18T21:32:44.013946Z",
     "start_time": "2021-06-18T21:32:43.995996Z"
    }
   },
   "outputs": [],
   "source": [
    "file.close()"
   ]
  },
  {
   "cell_type": "code",
   "execution_count": 9,
   "metadata": {
    "ExecuteTime": {
     "end_time": "2021-06-18T21:30:25.508851Z",
     "start_time": "2021-06-18T21:30:25.484917Z"
    }
   },
   "outputs": [
    {
     "ename": "SyntaxError",
     "evalue": "invalid syntax (<ipython-input-9-7b18d017f89f>, line 1)",
     "output_type": "error",
     "traceback": [
      "\u001b[1;36m  File \u001b[1;32m\"<ipython-input-9-7b18d017f89f>\"\u001b[1;36m, line \u001b[1;32m1\u001b[0m\n\u001b[1;33m    def\u001b[0m\n\u001b[1;37m       ^\u001b[0m\n\u001b[1;31mSyntaxError\u001b[0m\u001b[1;31m:\u001b[0m invalid syntax\n"
     ]
    }
   ],
   "source": [
    "def"
   ]
  },
  {
   "cell_type": "code",
   "execution_count": null,
   "metadata": {
    "ExecuteTime": {
     "end_time": "2021-06-18T21:30:25.513841Z",
     "start_time": "2021-06-18T21:29:40.480Z"
    }
   },
   "outputs": [],
   "source": [
    "reslist=qc.query(sql=\"\"\"SELECT id FROM nsc_dr2.object\n",
    "                        WHERE variable10sig=1 AND\n",
    "                        gmag-rmag>0.1 AND gmag-rmag<0.5\n",
    "                        AND ndet>100\"\"\",\n",
    "              fmt='table',\n",
    "              profile='db01')"
   ]
  },
  {
   "cell_type": "code",
   "execution_count": null,
   "metadata": {
    "ExecuteTime": {
     "end_time": "2021-06-18T21:30:25.516832Z",
     "start_time": "2021-06-18T21:29:40.484Z"
    }
   },
   "outputs": [],
   "source": [
    "from tqdm import tqdm\n",
    "file = open(\"results/parameters.csv\",'a')\n",
    "for i in tqdm(range(20)):#len(reslist))):\n",
    "    fit_plot(reslist[i][0],file)\n",
    "file.close()"
   ]
  },
  {
   "cell_type": "code",
   "execution_count": null,
   "metadata": {
    "ExecuteTime": {
     "end_time": "2021-06-18T21:30:25.518826Z",
     "start_time": "2021-06-18T21:29:40.486Z"
    }
   },
   "outputs": [],
   "source": [
    "file.close()"
   ]
  },
  {
   "cell_type": "code",
   "execution_count": null,
   "metadata": {
    "ExecuteTime": {
     "end_time": "2021-06-18T21:30:25.520820Z",
     "start_time": "2021-06-18T21:29:40.488Z"
    }
   },
   "outputs": [],
   "source": [
    "#res = qc.query(sql=\"\"\"SELECT * from nsc_dr2.meas\n",
    "#                      JOIN nsc_dr2.object as obj\n",
    "#                      ON meas.objectid=obj.id\n",
    "#                      where obj.variable10sig=1 and \n",
    "#                      obj.gmag-obj.rmag>.1 and \n",
    "#                      obj.gmag-obj.rmag<0.5 and\n",
    "#                      obj.ndet>100\"\"\",\n",
    "#              fmt='table')"
   ]
  },
  {
   "cell_type": "code",
   "execution_count": null,
   "metadata": {
    "ExecuteTime": {
     "end_time": "2021-06-18T21:30:25.524809Z",
     "start_time": "2021-06-18T21:29:40.491Z"
    }
   },
   "outputs": [],
   "source": [
    "a=\"templets/103g.dat\"\n",
    "a"
   ]
  },
  {
   "cell_type": "code",
   "execution_count": null,
   "metadata": {
    "ExecuteTime": {
     "end_time": "2021-06-18T21:30:25.527803Z",
     "start_time": "2021-06-18T21:29:40.494Z"
    }
   },
   "outputs": [],
   "source": [
    "a[9:]"
   ]
  },
  {
   "cell_type": "code",
   "execution_count": null,
   "metadata": {},
   "outputs": [],
   "source": []
  }
 ],
 "metadata": {
  "kernelspec": {
   "display_name": "Python 3",
   "language": "python",
   "name": "python3"
  },
  "language_info": {
   "codemirror_mode": {
    "name": "ipython",
    "version": 3
   },
   "file_extension": ".py",
   "mimetype": "text/x-python",
   "name": "python",
   "nbconvert_exporter": "python",
   "pygments_lexer": "ipython3",
   "version": "3.7.4"
  }
 },
 "nbformat": 4,
 "nbformat_minor": 4
}
