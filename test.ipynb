{
 "cells": [
  {
   "cell_type": "code",
   "execution_count": 1,
   "metadata": {
    "ExecuteTime": {
     "end_time": "2021-03-05T18:02:45.793106Z",
     "start_time": "2021-03-05T18:02:40.158576Z"
    }
   },
   "outputs": [
    {
     "name": "stdout",
     "output_type": "stream",
     "text": [
      "-------------------------------\n",
      "* WARNING: No pyFFTW detected *\n",
      "-------------------------------\n"
     ]
    },
    {
     "name": "stderr",
     "output_type": "stream",
     "text": [
      "2021-03-05 11:02:41,463 INFO - Read a light curve\n",
      "2021-03-05 11:02:41,471 INFO -    Before sigma-clipping: 551 data points\n",
      "2021-03-05 11:02:41,473 INFO -    After sigma-clipping: 551 data points\n",
      "2021-03-05 11:02:42,078 INFO - Feature extracting time: 0.6034 seconds\n",
      "2021-03-05 11:02:42,079 INFO - Extracted features. 16 of these, marked with (+) are used to predict a class:\n",
      "2021-03-05 11:02:42,079 INFO -    (+) amplitude: 0.097430\n",
      "2021-03-05 11:02:42,081 INFO -    (-) cusum: 0.070156\n",
      "2021-03-05 11:02:42,082 INFO -    (-) eta: 2.428789\n",
      "2021-03-05 11:02:42,083 INFO -    (+) hl_amp_ratio: 0.703306\n",
      "2021-03-05 11:02:42,084 INFO -    (+) kurtosis: -1.197611\n",
      "2021-03-05 11:02:42,085 INFO -    (-) n_points: 551\n",
      "2021-03-05 11:02:42,086 INFO -    (+) period: 4.190441\n",
      "2021-03-05 11:02:42,087 INFO -    (-) period_SNR: 148.150908\n",
      "2021-03-05 11:02:42,088 INFO -    (-) period_log10FAP: -99.703013\n",
      "2021-03-05 11:02:42,089 INFO -    (-) period_uncertainty: 0.007102\n",
      "2021-03-05 11:02:42,092 INFO -    (+) phase_cusum: 0.222157\n",
      "2021-03-05 11:02:42,094 INFO -    (+) phase_eta: 0.173238\n",
      "2021-03-05 11:02:42,095 INFO -    (+) phi21: 0.935883\n",
      "2021-03-05 11:02:42,097 INFO -    (+) phi31: -1.362437\n",
      "2021-03-05 11:02:42,098 INFO -    (+) quartile31: 0.134000\n",
      "2021-03-05 11:02:42,099 INFO -    (+) r21: 0.187627\n",
      "2021-03-05 11:02:42,100 INFO -    (+) r31: 0.073064\n",
      "2021-03-05 11:02:42,101 INFO -    (+) shapiro_w: 0.944696\n",
      "2021-03-05 11:02:42,102 INFO -    (+) skewness: -0.222401\n",
      "2021-03-05 11:02:42,103 INFO -    (+) slope_per10: -2.349005\n",
      "2021-03-05 11:02:42,104 INFO -    (+) slope_per90: 2.166852\n",
      "2021-03-05 11:02:42,104 INFO -    (+) stetson_k: 0.854120\n",
      "2021-03-05 11:02:42,105 INFO -    (-) weighted_mean: 14.815209\n",
      "2021-03-05 11:02:42,106 INFO -    (-) weighted_std: 0.073511\n",
      "2021-03-05 11:02:42,107 INFO - Load the UPSILoN classifier\n",
      "2021-03-05 11:02:45,579 INFO - Classify the light curve\n",
      "2021-03-05 11:02:45,699 INFO -    Classified as CEPH_1O with the class probability 0.96\n",
      "2021-03-05 11:02:45,701 INFO -    Classification flag: 0\n"
     ]
    }
   ],
   "source": [
    "import numpy as np\n",
    "import upsilon\n",
    "import pylab as pl\n",
    "upsilon.test_predict()"
   ]
  },
  {
   "cell_type": "code",
   "execution_count": null,
   "metadata": {},
   "outputs": [],
   "source": []
  },
  {
   "cell_type": "code",
   "execution_count": 50,
   "metadata": {
    "ExecuteTime": {
     "end_time": "2021-03-05T18:36:54.710057Z",
     "start_time": "2021-03-05T18:36:48.593316Z"
    }
   },
   "outputs": [
    {
     "data": {
      "text/plain": [
       "'label:RRL_ab prob:0.51 flag:1'"
      ]
     },
     "metadata": {},
     "output_type": "display_data"
    },
    {
     "data": {
      "text/plain": [
       "<matplotlib.collections.PathCollection at 0x1ce02ca7e88>"
      ]
     },
     "execution_count": 50,
     "metadata": {},
     "output_type": "execute_result"
    },
    {
     "data": {
      "image/png": "[encoded data removed]",
      "text/plain": [
       "<Figure size 432x288 with 1 Axes>"
      ]
     },
     "metadata": {
      "needs_background": "light"
     },
     "output_type": "display_data"
    }
   ],
   "source": [
    "data = np.genfromtxt('data_150536_22075_0.csv',delimiter=',')\n",
    "period = .657\n",
    "data = data[:int(len(data)/2)]*pl.array([period,1,1])\n",
    "rf_model = upsilon.load_rf_model()\n",
    "efeat = upsilon.ExtractFeatures(data[:,0],data[:,1],data[:,2])\n",
    "efeat.run()\n",
    "feats = efeat.get_features()\n",
    "rf_model = upsilon.load_rf_model()\n",
    "label, probability, flag = upsilon.predict(rf_model, feats)\n",
    "display('label:{} prob:{} flag:{}'.format(label, probability, flag))\n",
    "pl.scatter(data[:,0],data[:,1])"
   ]
  },
  {
   "cell_type": "code",
   "execution_count": 54,
   "metadata": {
    "ExecuteTime": {
     "end_time": "2021-03-05T18:37:34.972918Z",
     "start_time": "2021-03-05T18:37:27.790900Z"
    }
   },
   "outputs": [
    {
     "data": {
      "text/plain": [
       "'label:RRL_c prob:0.61 flag:1'"
      ]
     },
     "metadata": {},
     "output_type": "display_data"
    },
    {
     "data": {
      "text/plain": [
       "<matplotlib.collections.PathCollection at 0x1ce02fb0ac8>"
      ]
     },
     "execution_count": 54,
     "metadata": {},
     "output_type": "execute_result"
    },
    {
     "data": {
      "image/png": "[encoded data removed]",
      "text/plain": [
       "<Figure size 432x288 with 1 Axes>"
      ]
     },
     "metadata": {
      "needs_background": "light"
     },
     "output_type": "display_data"
    }
   ],
   "source": [
    "data = np.genfromtxt('data_150537_4644_0.csv',delimiter=',')\n",
    "period = .337\n",
    "data = data[:int(len(data)/2)]*pl.array([period,1,1])\n"
   ]
  },
  {
   "cell_type": "code",
   "execution_count": 51,
   "metadata": {
    "ExecuteTime": {
     "end_time": "2021-03-05T18:37:01.546359Z",
     "start_time": "2021-03-05T18:36:54.712051Z"
    }
   },
   "outputs": [
    {
     "name": "stderr",
     "output_type": "stream",
     "text": [
      "C:\\Users\\kylem\\Anaconda3\\lib\\site-packages\\upsilon\\extract_features\\extract_features.py:61: UserWarning: The number of data points are less than 80.\n",
      "  % min_n_data)\n"
     ]
    },
    {
     "data": {
      "text/plain": [
       "'label:CEPH_Other prob:0.42 flag:1'"
      ]
     },
     "metadata": {},
     "output_type": "display_data"
    },
    {
     "data": {
      "text/plain": [
       "<matplotlib.collections.PathCollection at 0x1ce02ce3548>"
      ]
     },
     "execution_count": 51,
     "metadata": {},
     "output_type": "execute_result"
    },
    {
     "data": {
      "image/png": "[encoded data removed]",
      "text/plain": [
       "<Figure size 432x288 with 1 Axes>"
      ]
     },
     "metadata": {
      "needs_background": "light"
     },
     "output_type": "display_data"
    }
   ],
   "source": [
    "data = np.genfromtxt('data_150023_1179_0.csv',delimiter=',')\n",
    "period = .598\n",
    "data = data[:int(len(data)/2)]*pl.array([period,1,1])\n",
    "rf_model = upsilon.load_rf_model()\n",
    "efeat = upsilon.ExtractFeatures(data[:,0],data[:,1],data[:,2])\n",
    "efeat.run()\n",
    "feats = efeat.get_features()\n",
    "rf_model = upsilon.load_rf_model()\n",
    "label, probability, flag = upsilon.predict(rf_model, feats)\n",
    "display('label:{} prob:{} flag:{}'.format(label, probability, flag))\n",
    "pl.scatter(data[:,0],data[:,1])"
   ]
  },
  {
   "cell_type": "code",
   "execution_count": 56,
   "metadata": {
    "ExecuteTime": {
     "end_time": "2021-03-05T18:38:12.667039Z",
     "start_time": "2021-03-05T18:38:06.889996Z"
    }
   },
   "outputs": [
    {
     "name": "stderr",
     "output_type": "stream",
     "text": [
      "C:\\Users\\kylem\\Anaconda3\\lib\\site-packages\\upsilon\\extract_features\\extract_features.py:61: UserWarning: The number of data points are less than 80.\n",
      "  % min_n_data)\n"
     ]
    },
    {
     "data": {
      "text/plain": [
       "'label:CEPH_Other prob:0.42 flag:1'"
      ]
     },
     "metadata": {},
     "output_type": "display_data"
    },
    {
     "data": {
      "text/plain": [
       "<matplotlib.collections.PathCollection at 0x1ce02e47ac8>"
      ]
     },
     "execution_count": 56,
     "metadata": {},
     "output_type": "execute_result"
    },
    {
     "data": {
      "image/png": "[encoded data removed]",
      "text/plain": [
       "<Figure size 432x288 with 1 Axes>"
      ]
     },
     "metadata": {
      "needs_background": "light"
     },
     "output_type": "display_data"
    }
   ],
   "source": [
    "data = np.genfromtxt('data_151047_5422_0.csv',delimiter=',')\n",
    "period = .533\n",
    "data = data[:int(len(data)/2)]*pl.array([period,1,1])\n",
    "rf_model = upsilon.load_rf_model()\n",
    "efeat = upsilon.ExtractFeatures(data[:,0],data[:,1],data[:,2])\n",
    "efeat.run()\n",
    "feats = efeat.get_features()\n",
    "rf_model = upsilon.load_rf_model()\n",
    "label, probability, flag = upsilon.predict(rf_model, feats)\n",
    "display('label:{} prob:{} flag:{}'.format(label, probability, flag))\n",
    "pl.scatter(data[:,0],data[:,1])"
   ]
  },
  {
   "cell_type": "code",
   "execution_count": null,
   "metadata": {},
   "outputs": [],
   "source": []
  },
  {
   "cell_type": "code",
   "execution_count": null,
   "metadata": {},
   "outputs": [],
   "source": []
  },
  {
   "cell_type": "code",
   "execution_count": null,
   "metadata": {},
   "outputs": [],
   "source": []
  },
  {
   "cell_type": "code",
   "execution_count": null,
   "metadata": {},
   "outputs": [],
   "source": []
  },
  {
   "cell_type": "code",
   "execution_count": 39,
   "metadata": {
    "ExecuteTime": {
     "end_time": "2021-03-05T18:20:35.973993Z",
     "start_time": "2021-03-05T18:20:30.331281Z"
    }
   },
   "outputs": [
    {
     "data": {
      "text/plain": [
       "'label:RRL_ab prob:0.73 flag:0'"
      ]
     },
     "metadata": {},
     "output_type": "display_data"
    },
    {
     "data": {
      "text/plain": [
       "<matplotlib.collections.PathCollection at 0x1ce018a7e88>"
      ]
     },
     "execution_count": 39,
     "metadata": {},
     "output_type": "execute_result"
    },
    {
     "data": {
      "image/png": "[encoded data removed]",
      "text/plain": [
       "<Figure size 432x288 with 1 Axes>"
      ]
     },
     "metadata": {
      "needs_background": "light"
     },
     "output_type": "display_data"
    }
   ],
   "source": [
    "data = np.genfromtxt('ltcrvs/data_93142_19513_0.csv',delimiter=',')\n",
    "period = .605\n",
    "data = data[:int(len(data)/2)]*pl.array([period,1,1])\n",
    "rf_model = upsilon.load_rf_model()\n",
    "efeat = upsilon.ExtractFeatures(data[:,0],data[:,1],data[:,2])\n",
    "efeat.run()\n",
    "feats = efeat.get_features()\n",
    "rf_model = upsilon.load_rf_model()\n",
    "label, probability, flag = upsilon.predict(rf_model, feats)\n",
    "display('label:{} prob:{} flag:{}'.format(label, probability, flag))\n",
    "pl.scatter(data[:,0],data[:,1])"
   ]
  },
  {
   "cell_type": "code",
   "execution_count": 44,
   "metadata": {
    "ExecuteTime": {
     "end_time": "2021-03-05T18:21:36.146939Z",
     "start_time": "2021-03-05T18:21:30.413488Z"
    }
   },
   "outputs": [
    {
     "name": "stderr",
     "output_type": "stream",
     "text": [
      "C:\\Users\\kylem\\Anaconda3\\lib\\site-packages\\upsilon\\extract_features\\extract_features.py:61: UserWarning: The number of data points are less than 80.\n",
      "  % min_n_data)\n"
     ]
    },
    {
     "data": {
      "text/plain": [
       "'label:EB_EC prob:0.57 flag:1'"
      ]
     },
     "metadata": {},
     "output_type": "display_data"
    },
    {
     "data": {
      "text/plain": [
       "<matplotlib.collections.PathCollection at 0x1ce01a6e6c8>"
      ]
     },
     "execution_count": 44,
     "metadata": {},
     "output_type": "execute_result"
    },
    {
     "data": {
      "image/png": "[encoded data removed]",
      "text/plain": [
       "<Figure size 432x288 with 1 Axes>"
      ]
     },
     "metadata": {
      "needs_background": "light"
     },
     "output_type": "display_data"
    }
   ],
   "source": [
    "data = np.genfromtxt('ltcrvs/data_147051_5319_2.csv',delimiter=',')\n",
    "period = .355\n",
    "data = data[:int(len(data)/2)]*pl.array([period,1,1])\n",
    "rf_model = upsilon.load_rf_model()\n",
    "efeat = upsilon.ExtractFeatures(data[:,0],data[:,1],data[:,2])\n",
    "efeat.run()\n",
    "feats = efeat.get_features()\n",
    "rf_model = upsilon.load_rf_model()\n",
    "label, probability, flag = upsilon.predict(rf_model, feats)\n",
    "display('label:{} prob:{} flag:{}'.format(label, probability, flag))\n",
    "pl.scatter(data[:,0],data[:,1])"
   ]
  },
  {
   "cell_type": "code",
   "execution_count": 41,
   "metadata": {
    "ExecuteTime": {
     "end_time": "2021-03-05T18:20:49.827109Z",
     "start_time": "2021-03-05T18:20:44.211485Z"
    }
   },
   "outputs": [
    {
     "data": {
      "text/plain": [
       "'label:RRL_ab prob:0.75 flag:0'"
      ]
     },
     "metadata": {},
     "output_type": "display_data"
    },
    {
     "data": {
      "text/plain": [
       "<matplotlib.collections.PathCollection at 0x1ce0306b648>"
      ]
     },
     "execution_count": 41,
     "metadata": {},
     "output_type": "execute_result"
    },
    {
     "data": {
      "image/png": "[encoded data removed]",
      "text/plain": [
       "<Figure size 432x288 with 1 Axes>"
      ]
     },
     "metadata": {
      "needs_background": "light"
     },
     "output_type": "display_data"
    }
   ],
   "source": [
    "data = np.genfromtxt('ltcrvs/data_146570_154526_1.csv',delimiter=',')\n",
    "period = .442\n",
    "data = data[:int(len(data)/2)]*pl.array([period,1,1])\n",
    "rf_model = upsilon.load_rf_model()\n",
    "efeat = upsilon.ExtractFeatures(data[:,0],data[:,1],data[:,2])\n",
    "efeat.run()\n",
    "feats = efeat.get_features()\n",
    "rf_model = upsilon.load_rf_model()\n",
    "label, probability, flag = upsilon.predict(rf_model, feats)\n",
    "display('label:{} prob:{} flag:{}'.format(label, probability, flag))\n",
    "pl.scatter(data[:,0],data[:,1])"
   ]
  },
  {
   "cell_type": "code",
   "execution_count": 48,
   "metadata": {
    "ExecuteTime": {
     "end_time": "2021-03-05T18:26:41.369021Z",
     "start_time": "2021-03-05T18:26:36.002944Z"
    }
   },
   "outputs": [
    {
     "name": "stderr",
     "output_type": "stream",
     "text": [
      "C:\\Users\\kylem\\Anaconda3\\lib\\site-packages\\upsilon\\extract_features\\extract_features.py:61: UserWarning: The number of data points are less than 80.\n",
      "  % min_n_data)\n"
     ]
    },
    {
     "data": {
      "text/plain": [
       "'label:RRL_ab prob:0.9 flag:1'"
      ]
     },
     "metadata": {},
     "output_type": "display_data"
    },
    {
     "data": {
      "text/plain": [
       "<matplotlib.collections.PathCollection at 0x1ce01bbce88>"
      ]
     },
     "execution_count": 48,
     "metadata": {},
     "output_type": "execute_result"
    },
    {
     "data": {
      "image/png": "[encoded data removed]",
      "text/plain": [
       "<Figure size 432x288 with 1 Axes>"
      ]
     },
     "metadata": {
      "needs_background": "light"
     },
     "output_type": "display_data"
    }
   ],
   "source": [
    "data = np.genfromtxt('ltcrvs/data_147051_64629_1.csv',delimiter=',')\n",
    "period = .581\n",
    "data = data[:int(len(data)/2)]*pl.array([period,1,1])\n",
    "rf_model = upsilon.load_rf_model()\n",
    "efeat = upsilon.ExtractFeatures(data[:,0],data[:,1],data[:,2])\n",
    "efeat.run()\n",
    "feats = efeat.get_features()\n",
    "rf_model = upsilon.load_rf_model()\n",
    "label, probability, flag = upsilon.predict(rf_model, feats)\n",
    "display('label:{} prob:{} flag:{}'.format(label, probability, flag))\n",
    "pl.scatter(data[:,0],data[:,1])"
   ]
  },
  {
   "cell_type": "code",
   "execution_count": 42,
   "metadata": {
    "ExecuteTime": {
     "end_time": "2021-03-05T18:20:58.728654Z",
     "start_time": "2021-03-05T18:20:49.831093Z"
    }
   },
   "outputs": [
    {
     "data": {
      "text/plain": [
       "'label:EB_EC prob:0.78 flag:0'"
      ]
     },
     "metadata": {},
     "output_type": "display_data"
    },
    {
     "data": {
      "text/plain": [
       "<matplotlib.collections.PathCollection at 0x1ce01944308>"
      ]
     },
     "execution_count": 42,
     "metadata": {},
     "output_type": "execute_result"
    },
    {
     "data": {
      "image/png": "[encoded data removed]",
      "text/plain": [
       "<Figure size 432x288 with 1 Axes>"
      ]
     },
     "metadata": {
      "needs_background": "light"
     },
     "output_type": "display_data"
    }
   ],
   "source": [
    "data = np.genfromtxt('ltcrvs/data_101313_10442_0.csv',delimiter=',')\n",
    "period = .132\n",
    "data = data[:int(len(data)/2)]*pl.array([period,1,1])\n",
    "rf_model = upsilon.load_rf_model()\n",
    "efeat = upsilon.ExtractFeatures(data[:,0],data[:,1],data[:,2])\n",
    "efeat.run()\n",
    "feats = efeat.get_features()\n",
    "rf_model = upsilon.load_rf_model()\n",
    "label, probability, flag = upsilon.predict(rf_model, feats)\n",
    "display('label:{} prob:{} flag:{}'.format(label, probability, flag))\n",
    "pl.scatter(data[:,0],data[:,1])"
   ]
  },
  {
   "cell_type": "code",
   "execution_count": null,
   "metadata": {},
   "outputs": [],
   "source": []
  }
 ],
 "metadata": {
  "kernelspec": {
   "display_name": "Python 3",
   "language": "python",
   "name": "python3"
  },
  "language_info": {
   "codemirror_mode": {
    "name": "ipython",
    "version": 3
   },
   "file_extension": ".py",
   "mimetype": "text/x-python",
   "name": "python",
   "nbconvert_exporter": "python",
   "pygments_lexer": "ipython3",
   "version": "3.7.4"
  }
 },
 "nbformat": 4,
 "nbformat_minor": 2
}
